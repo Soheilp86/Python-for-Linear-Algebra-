{
 "cells": [
  {
   "cell_type": "markdown",
   "id": "03971628",
   "metadata": {},
   "source": [
    "# 4. Eigenvalues and Eigenvectors"
   ]
  },
  {
   "cell_type": "code",
   "execution_count": 15,
   "id": "1211eea6",
   "metadata": {},
   "outputs": [],
   "source": [
    "import numpy as np\n",
    "from numpy import linalg"
   ]
  },
  {
   "cell_type": "markdown",
   "id": "c87470d6",
   "metadata": {},
   "source": [
    "## 4.1 Eigenvalues and Eigenvectors\n",
    "\n",
    "This section introduces eigenvalues and eigenvectors of a square matrix and explore some of its applications. \n",
    "The goal of this section is to dissect the action of linear maps into elements that are easiy to visualize. "
   ]
  },
  {
   "cell_type": "markdown",
   "id": "53ba07a9",
   "metadata": {},
   "source": [
    "## Motivation"
   ]
  },
  {
   "cell_type": "markdown",
   "id": "47bf8f4d",
   "metadata": {},
   "source": [
    "Consider a linear map $T: \\mathbb{R}^n\\to \\mathbb{R}^m$ defined by $\\vec{x} \\mapsto A\\vec{x}$. Although $T$ moves $\\vec{x}$ in veraity of directions but there are some vectors on which the action of $T$ is easy to underestand. For example, suppose $A = \\begin{bmatrix} 3 & -2 \\\\ 1 & 0\\\\ \\end{bmatrix}$, $\\vec{u\n",
    "} = \\begin{bmatrix} 2 \\\\ 1 \\end{bmatrix}$. Let's compute $A\\vec{u}$"
   ]
  },
  {
   "cell_type": "code",
   "execution_count": 2,
   "id": "0e622563",
   "metadata": {},
   "outputs": [
    {
     "data": {
      "text/plain": [
       "array([4, 2])"
      ]
     },
     "execution_count": 2,
     "metadata": {},
     "output_type": "execute_result"
    }
   ],
   "source": [
    "A = np.array([[3,-2], [1,0]])\n",
    "u = np.array([2,1])\n",
    "\n",
    "A @ u\n"
   ]
  },
  {
   "cell_type": "markdown",
   "id": "7bdc2d68",
   "metadata": {},
   "source": [
    "We can see that the image of $\\vec{u\n",
    "} = \\begin{bmatrix} 2 \\\\ 1 \\end{bmatrix}$ is \n",
    "$$\n",
    "A\\vec{u\n",
    "} = \\begin{bmatrix} 4 \\\\ 2 \\end{bmatrix} = 2 \\begin{bmatrix} 2 \\\\ 1 \\end{bmatrix} = 2 \\vec{u}$$\n",
    "\n",
    "In fact, $A$ _streches_ $\\vec{u}$. "
   ]
  },
  {
   "cell_type": "code",
   "execution_count": 3,
   "id": "bb48a429",
   "metadata": {},
   "outputs": [
    {
     "data": {
      "image/png": "[encoded data removed]",
      "text/plain": [
       "<Figure size 640x480 with 1 Axes>"
      ]
     },
     "metadata": {},
     "output_type": "display_data"
    }
   ],
   "source": [
    "import matplotlib.pyplot as plt\n",
    "\n",
    "\n",
    "def plot_map(vector, matrix):\n",
    "    x1 = vector[0]\n",
    "    y1 = vector[1]\n",
    "    \n",
    "    x2 = (A @ vector)[0]\n",
    "    y2 = (A @ vector)[1]\n",
    "\n",
    "    ax = plt.axes()\n",
    "    \n",
    "    ax.arrow(0, 0, x1, y1, head_width = 0.2,head_length = 0.2, fc ='b', ec ='b')\n",
    "    ax.arrow(0, 0, x2, y2, head_width = 0.2,head_length = 0.2, fc ='r', ec ='r')\n",
    "\n",
    "    ax.text(x1,y1 - 0.5,'$X$')\n",
    "    ax.text(x2,y2-0.5,'$AX$')\n",
    "\n",
    "    z = max(np.abs(x1), np.abs(x2), np.abs(y1),np.abs(y2))\n",
    "            \n",
    "    ax.set_xticks(np.arange(-z-2, z+2, step = 1))\n",
    "    ax.set_yticks(np.arange(-z-2, z+2, step = 1))\n",
    "    ax.set_aspect('equal')\n",
    "\n",
    "    ax.set_xlabel(\"X\")\n",
    "    ax.set_ylabel(\"Y\")\n",
    "    \n",
    "    plt.grid()\n",
    "    plt.show()\n",
    "\n",
    "\n",
    "plot_map(u, A)"
   ]
  },
  {
   "cell_type": "markdown",
   "id": "e05dfcc9",
   "metadata": {},
   "source": [
    "We are interested in such special vectors that, when transformed by matrix $A$, result in a scalar multiple of themselves. More generally, let $A$ be an $n\\times n$ matrix. We seek non-trivial solutions to equations of the form:\n",
    "\n",
    "$$\n",
    "A\\vec{x} = \\lambda \\vec{x} \\quad \\text{for some }\\quad \\lambda\\in \\mathbb{R}\n",
    "$$\n",
    "\n",
    "If $\\vec{u}\\neq 0$ is a solution for some $\\lambda$, we call $\\lambda$ an __eigenvalue__ and $\\vec{u}$ an __eigenvector__ of $A$ corresponding to $\\lambda$.\n",
    "\n",
    "```{admonition} Example 1\n",
    "\n",
    "Consider the matrix equation:\n",
    "\n",
    "$$\n",
    "A\\vec{u} = \\begin{bmatrix} 4 \\\\ 2 \\end{bmatrix} = 2 \\begin{bmatrix} 2 \\\\ 1 \\end{bmatrix} = 2 \\vec{u}\n",
    "$$\n",
    "\n",
    "Observe that $\\lambda = 2$ is an eigenvalue of $A$ and $\\vec{u}$ is the corresponding eigenvector.\n",
    "\n",
    "a. Is $\\vec{v} = \\begin{bmatrix} 1 \\\\ -1 \\end{bmatrix}$ also an eigenvector of $A$?\n",
    "\n",
    "b. Is $\\lambda = 4$ an eigenvalue?\n",
    "\n",
    "c. Show that $\\lambda = 1$ is an eigenvalue and find an eigenvector for it.\n",
    "\n",
    "```\n",
    "\n",
    "__Solution__:\n",
    "\n",
    "(a) Let's compute $A\\vec{v}$:"
   ]
  },
  {
   "cell_type": "code",
   "execution_count": 5,
   "id": "3eabd29a",
   "metadata": {},
   "outputs": [
    {
     "data": {
      "text/plain": [
       "array([5, 1])"
      ]
     },
     "execution_count": 5,
     "metadata": {},
     "output_type": "execute_result"
    }
   ],
   "source": [
    "v = np.array([1, -1])\n",
    "\n",
    "A @ v"
   ]
  },
  {
   "cell_type": "markdown",
   "id": "be49921f",
   "metadata": {},
   "source": [
    "If there were a $\\lambda$ such that $A\\vec{v} = \\lambda \\vec{v}$, we would have obtained:\n",
    "\n",
    "$$\n",
    "\\begin{bmatrix} 1 \\\\ -1 \\end{bmatrix} = \\lambda \\begin{bmatrix} 5 \\\\ 1 \\end{bmatrix}\n",
    "$$\n",
    "\n",
    "Which is not possible for any value of $\\lambda$, and as can be seen in the figure below, the vector $\\vec{v}$ does not satisfy the eigenvalue equation. "
   ]
  },
  {
   "cell_type": "code",
   "execution_count": 6,
   "id": "87c544ac",
   "metadata": {},
   "outputs": [
    {
     "data": {
      "image/png": "[encoded data removed]",
      "text/plain": [
       "<Figure size 640x480 with 1 Axes>"
      ]
     },
     "metadata": {},
     "output_type": "display_data"
    }
   ],
   "source": [
    "plot_map(v, A)"
   ]
  },
  {
   "cell_type": "markdown",
   "id": "b87e5804",
   "metadata": {},
   "source": [
    "\n",
    "(b) No.  $\\lambda = 4$ is a eigenvalue for $A$ if and only if $A\\vec{x} = 4 \\vec{x}$ has a non-trivial solution. Let's reformulate this problem in terms of a homogenous equation which is easier to deal with:\n",
    "\n",
    "$$\n",
    "A\\vec{x} = 4 \\vec{x}  \\quad \\iff \\quad (A - 4 I_2) \\vec{x} = 0\n",
    "$$\n",
    "\n",
    "The homogeneous equation $(A - 4 I_2) \\vec{x} = 0$ has a non-trivial solution if and only if it has a free variable (a non-pivot column)."
   ]
  },
  {
   "cell_type": "code",
   "execution_count": 8,
   "id": "2faa3f39",
   "metadata": {},
   "outputs": [
    {
     "data": {
      "text/plain": [
       "array([[-1., -2.],\n",
       "       [ 1., -4.]])"
      ]
     },
     "execution_count": 8,
     "metadata": {},
     "output_type": "execute_result"
    }
   ],
   "source": [
    "# identity matrix I_2\n",
    "I_2 = np.eye(2)\n",
    "\n",
    "A - 4*I_2"
   ]
  },
  {
   "cell_type": "markdown",
   "id": "284aefbf",
   "metadata": {},
   "source": [
    "Clearly, the columns of $A -4I$ are linearly independent; as a result, there is no free variable and the system has only trivial solution $\\vec{x} = 0$. \n",
    "\n",
    "\n",
    "(c) $\\lambda = 1$ is a eigenvalue for $A$ if and only if $A\\vec{x} = 1 \\vec{x}$ has a non-trivial solution. \n",
    "$$\n",
    "A\\vec{x} = \\vec{x} \\quad \\iff \\quad (A - I_2) \\vec{x} = \\vec{0}\n",
    "$$\n"
   ]
  },
  {
   "cell_type": "code",
   "execution_count": 9,
   "id": "12d4d9f1",
   "metadata": {},
   "outputs": [
    {
     "data": {
      "text/plain": [
       "array([[ 2., -2.],\n",
       "       [ 1., -1.]])"
      ]
     },
     "execution_count": 9,
     "metadata": {},
     "output_type": "execute_result"
    }
   ],
   "source": [
    "A - I_2"
   ]
  },
  {
   "cell_type": "markdown",
   "id": "c84acffd",
   "metadata": {},
   "source": [
    "Since the columns of $(A - I_2)$ are linearly independent, there is a free variable and $\\lambda = 1$ is an eigenvalue of $A$. To find a correponding eigenvector $\\vec{u}$ we solve\n",
    "$$(A - I_2)\\vec{x} = 0$$ \n",
    "\n",
    "Let's set up the augmented matrix: "
   ]
  },
  {
   "cell_type": "code",
   "execution_count": 10,
   "id": "7d80dfbb",
   "metadata": {},
   "outputs": [
    {
     "data": {
      "text/plain": [
       "array([[ 2., -2.,  0.],\n",
       "       [ 1., -1.,  0.]])"
      ]
     },
     "execution_count": 10,
     "metadata": {},
     "output_type": "execute_result"
    }
   ],
   "source": [
    "# the augmented vector\n",
    "b = np.array([[0],[0]])\n",
    "\n",
    "# add to the matrix\n",
    "M = np.concatenate((A - I_2, b), axis = 1) \n",
    "M"
   ]
  },
  {
   "cell_type": "markdown",
   "id": "bca01fe8",
   "metadata": {},
   "source": [
    "Let's recall the row operations: "
   ]
  },
  {
   "cell_type": "code",
   "execution_count": 11,
   "id": "466f46ee",
   "metadata": {},
   "outputs": [],
   "source": [
    "def swap(matrix, row1, row2):\n",
    "    \n",
    "    copy_matrix=np.copy(matrix).astype('float64') \n",
    "  \n",
    "    copy_matrix[row1,:] = matrix[row2,:]\n",
    "    copy_matrix[row2,:] = matrix[row1,:]\n",
    "    \n",
    "    return copy_matrix\n",
    "\n",
    "# Replacing a row by the sum of itself and a multiple of another \n",
    "\n",
    "def replace(matrix, row1, row2, scalar):\n",
    "    copy_matrix=np.copy(matrix).astype('float64')\n",
    "    copy_matrix[row1] = matrix[row1]+ scalar * matrix[row2] \n",
    "    return copy_matrix"
   ]
  },
  {
   "cell_type": "code",
   "execution_count": 12,
   "id": "327da1f3",
   "metadata": {},
   "outputs": [
    {
     "data": {
      "text/plain": [
       "array([[ 1., -1.,  0.],\n",
       "       [ 2., -2.,  0.]])"
      ]
     },
     "execution_count": 12,
     "metadata": {},
     "output_type": "execute_result"
    }
   ],
   "source": [
    "M1 = swap(M, 0, 1)\n",
    "M1"
   ]
  },
  {
   "cell_type": "code",
   "execution_count": 13,
   "id": "8b3d568d",
   "metadata": {},
   "outputs": [
    {
     "data": {
      "text/plain": [
       "array([[ 1., -1.,  0.],\n",
       "       [ 0.,  0.,  0.]])"
      ]
     },
     "execution_count": 13,
     "metadata": {},
     "output_type": "execute_result"
    }
   ],
   "source": [
    "M2 = replace(M1, 1, 0, -2)\n",
    "M2"
   ]
  },
  {
   "cell_type": "markdown",
   "id": "a508d96e",
   "metadata": {},
   "source": [
    "A general solution for $(A - I_2)\\vec{x} = 0$ is \n",
    "\n",
    "$$\n",
    "\\begin{bmatrix} x_1 \\\\ x_2 \\end{bmatrix} = \\begin{bmatrix} x_2 \\\\ x_2 \\end{bmatrix} = x_2 \\begin{bmatrix} 1 \\\\ 1 \\end{bmatrix}, \n",
    "$$\n",
    "\n",
    "and the set of all solutions is \n",
    "\n",
    "$$\n",
    "\\text{span}\\left( \\ \\begin{bmatrix} 1 \\\\ 1 \\end{bmatrix} \\ \\right)\n",
    "$$\n",
    "\n",
    "each non-zero element of this set is an eigenvector corresponding to $\\lambda = 1$. \n",
    "\n",
    "\n",
    "The above simple example leads to a general case:\n",
    "\n",
    "\n",
    "```{admonition} Theorem 17\n",
    ":class: tip\n",
    "\n",
    "Let $A$ be an $n\\times n$ matrix and $\\lambda$ be a scalar. The following statements are equivalent:\n",
    "\n",
    "1. $\\lambda$ is an eigenvalue of $A$.\n",
    "\n",
    "2. $(A - \\lambda I_n) \\vec{x} = 0 $ has non-trivial solution.\n",
    "\n",
    "3. $det(A - \\lambda I_n) = 0$\n",
    "```"
   ]
  },
  {
   "cell_type": "markdown",
   "id": "0e7d3597",
   "metadata": {},
   "source": [
    "## Eigenspace and characteristic polynomial"
   ]
  },
  {
   "cell_type": "markdown",
   "id": "e198e65b",
   "metadata": {},
   "source": [
    "$null(A - \\lambda I_n)$ is a subspace of $\\mathbb{R}^n$ and contains the zero vector and all eigenvectors corresponding to $\\lambda$. This subspace is known as the __eigenspace__ of $A$ corresponding to $\\lambda$, and is denoted by $E_{\\lambda}$. Intuitively, a matrix acts as dilations on its eigenspaces.\n",
    "\n",
    "```{admonition} Example 2\n",
    "\n",
    "The set\n",
    "\n",
    "$$\n",
    "\\text{span}\\left( \\ \\begin{bmatrix} 1 \\\\ 1 \\end{bmatrix} \\ \\right)\n",
    "$$\n",
    "\n",
    "Which we found in Example 1, is in fact the eigenspace $E_1$ of $A$ corresponding to $\\lambda =1$. And any vector $\\vec{u} \\in E_1$ is preserved under the action of $A$ (dilations factor = 1): \n",
    "\n",
    "$$\n",
    "A\\vec{u} = \\vec{u}\n",
    "$$\n",
    "\n",
    "\n",
    "The _polynomial_ $P(\\lambda) = \\det(A - \\lambda I_n)$ is called the __characteristic polynomial__ of $A$. The zeros of this polynomial are precisely the eigenvalues of $A$. Thus, the polynomial can be factorized as:\n",
    "\n",
    "$$\n",
    "P(\\lambda) = (\\lambda - \\lambda_0)^{m_0} (\\lambda - \\lambda_1)^{m_1} \\dots (\\lambda - \\lambda_k)^{m_k}\n",
    "$$\n",
    "\n",
    "For each $\\lambda_i$, where $0 \\leq i \\leq k$, the power $m_i$ is known as __the algebraic multiplicity__ of $\\lambda_i$.\n",
    "```\n",
    "\n",
    "```{admonition} Example 3\n",
    "\n",
    "Suppose \n",
    "\n",
    "$$\n",
    "A = \\begin{bmatrix} 4 & -1 & 6 \\\\ 0 & 1 & 6 \\\\ 0 & 0 & 8 \\end{bmatrix}.\n",
    "$$$\n",
    "\n",
    "We will find all eigenvalues and their multiplicities of $A$ by finding its characteristic polynomial.\n",
    "\n",
    "```\n",
    "\n",
    "__Solution:__\n",
    "\n",
    "The characteristic polynomial is given by:\n",
    "\n",
    "$$\n",
    "\\det(A - \\lambda I_3) = \\begin{vmatrix} 4-\\lambda & -1 & 6 \\\\ 0 & 1-\\lambda & 6\\\\ 0 & 0 & 8-\\lambda \\end{vmatrix} = 0\n",
    "$$\n",
    "\n",
    "Expanding the determinant, we obtain the characteristic polynomial:\n",
    "\n",
    "$$\n",
    "P(\\lambda) = (4 - \\lambda)(1 - \\lambda)(8 -\\lambda),\n",
    "$$\n",
    "\n",
    "The zeros of this polynomial (the eigenvalues of $A$) are $\\lambda = 4$ with multiplicity $1$, $\\lambda = 1$ with multiplicity $1$, and $\\lambda = 8$ with multiplicity $1$.\n",
    "\n",
    "\n",
    "```{admonition} Example 4\n",
    "\n",
    "Let $A$ be the matrix given in Example 2. For each eigenvalue that we found in Example 2, find the corresponding eigenspace together with its dimention.\n",
    "\n",
    "```\n",
    "__Solution:__\n",
    "\n",
    "The eigenspace coresponding to $\\lambda = 4$:\n",
    "\n",
    "$$\n",
    "E_4 = null(A - 4I) = \\{ \\vec{x}: \\ \\ \\ (A - 4I)\\vec{x} = 0 \\} =\n",
    "$$\n",
    "\n",
    "$$\n",
    " \\left\\{\\  \\begin{bmatrix} x\\\\ y\\\\ z  \\end{bmatrix}: \\ \\ \\ \\begin{bmatrix} 0 & -1 & 6 \\\\ 0 & -3 & 6\\\\ 0 & 0 & 4 \\end{bmatrix} \\begin{bmatrix} x\\\\ y\\\\ z  \\end{bmatrix} = 0 \\  \\right\\} = \\left\\{  \\  \\begin{bmatrix} x\\\\ y\\\\ z  \\end{bmatrix}: \\ \\ \\ \\begin{bmatrix} - y + 6z \\\\ -3y +6z\\\\ 4z \\end{bmatrix} = \\begin{bmatrix} 0\\\\ 0\\\\ 0  \\end{bmatrix} \\  \\right\\} \n",
    "$$\n",
    "\n",
    "Therefore, \n",
    "\n",
    "$$\n",
    "E_4 = \\left\\{ \\ \\begin{bmatrix} x\\\\ 0\\\\ 0  \\end{bmatrix}:  x\\in \\mathbb{R}\\ \\right\\} = span\\left( \\ \\begin{bmatrix} 1 \\\\ 0 \\\\ 0  \\end{bmatrix} \\ \\right) \\quad \\text{and} \\quad dim(E_4) = 1\n",
    "$$\n",
    "\n",
    "\n",
    "The eigenspace coresponding to $\\lambda = 1$:\n",
    "\n",
    "\n",
    "$$\n",
    "E_1 = null(A - I) = \\{ \\vec{x}: \\ \\ \\ (A - I)\\vec{x} = 0 \\} = \n",
    "$$\n",
    "\n",
    "$$\n",
    "\\left\\{\\  \\begin{bmatrix} x\\\\ y\\\\ z  \\end{bmatrix}: \\ \\ \\ \\begin{bmatrix} 3 & -1 & 6 \\\\ 0 & 0 & 6\\\\ 0 & 0 & 7 \\end{bmatrix} \\begin{bmatrix} x\\\\ y\\\\ z  \\end{bmatrix} = 0 \\  \\right\\} = \\left\\{  \\  \\begin{bmatrix} x\\\\ y\\\\ z  \\end{bmatrix}: \\ \\ \\ \\begin{bmatrix} 3x - y + 6z \\\\ 6z\\\\ 7z \\end{bmatrix} = \\begin{bmatrix} 0\\\\ 0\\\\ 0  \\end{bmatrix} \\  \\right\\} \n",
    "$$\n",
    "\n",
    "Therefore, \n",
    "\n",
    "$$\n",
    "E_1 = \\left\\{\\begin{bmatrix} x\\\\ 3x\\\\ 0  \\end{bmatrix}:  x\\in \\mathbb{R} \\right\\} = span\\left(  \\begin{bmatrix} 1 \\\\ 3 \\\\ 0  \\end{bmatrix} \\right) \\quad \\text{and} \\quad dim(E_1) = 1\n",
    "$$\n",
    "\n",
    "The eigenspace coresponding to $\\lambda = 8$\n",
    "\n",
    "$$\n",
    "E_8 = null(A - 8I) = \\{ \\vec{x}: \\ \\ \\ (A - 8I)\\vec{x} = 0 \\} =\n",
    "$$\n",
    "\n",
    "$$\n",
    "\\left\\{\\  \\begin{bmatrix} x\\\\ y\\\\ z  \\end{bmatrix}: \\ \\ \\ \\begin{bmatrix} -4 & -1 & 6 \\\\ 0 & -7 & 6\\\\ 0 & 0 & 0 \\end{bmatrix} \\begin{bmatrix} x\\\\ y\\\\ z  \\end{bmatrix} = 0 \\  \\right\\} = \\left\\{  \\  \\begin{bmatrix} x\\\\ y\\\\ z  \\end{bmatrix}: \\ \\ \\ \\begin{bmatrix} -4x - y + 6z \\\\ -7y + 6z\\\\ 0 \\end{bmatrix} = \\begin{bmatrix} 0\\\\ 0\\\\ 0  \\end{bmatrix} \\  \\right\\} \n",
    "$$\n",
    "\n",
    "Therefore, \n",
    "\n",
    "$$\n",
    "E_8 = \\left\\{\\begin{bmatrix} \\frac{6}{4}\\\\ 1 \\\\ \\frac{7}{6}  \\end{bmatrix}:  y\\in \\mathbb{R} \\right\\} = span\\left(  \\begin{bmatrix} 9 \\\\ 6\\\\ 7  \\end{bmatrix} \\right) \\quad \\text{and} \\quad dim(E_8) = 1\n",
    "$$\n"
   ]
  },
  {
   "cell_type": "markdown",
   "id": "4ed34993",
   "metadata": {},
   "source": [
    "Before we move on to the nect tpoic, let us check our calculation using `numpy.linalg.eig` from NumPy linear algebra:"
   ]
  },
  {
   "cell_type": "code",
   "execution_count": 79,
   "id": "0de80c1e",
   "metadata": {},
   "outputs": [
    {
     "name": "stdout",
     "output_type": "stream",
     "text": [
      "4.0  is an eigenvector with  [1. 0. 0.]  as the coresponding eigenvectors\n",
      "1.0  is an eigenvector with  [0.31622777 0.9486833  0.        ]  as the coresponding eigenvectors\n",
      "8.0  is an eigenvector with  [0.69853547 0.46569032 0.54330537]  as the coresponding eigenvectors\n"
     ]
    }
   ],
   "source": [
    "A = np.array([[4, -1, 6], [0, 1, 6], [0, 0, 8]])\n",
    "\n",
    "evalues , evectors = np.linalg.eig(A)\n",
    "\n",
    "for i in range(evalues.shape[0]):\n",
    "    print(evalues[i], ' is an eigenvector with ', evectors[:,i], ' as the coresponding eigenvectors')"
   ]
  },
  {
   "cell_type": "markdown",
   "id": "2e5f46eb",
   "metadata": {},
   "source": [
    "Note that `numpy.linalg.eig` returns the unit vector of eigenvalues, and that is why we see different eigen vectors. To check that let's normalize the eigenvector $\\begin{bmatrix} 9\\\\6\\\\7 \\end{bmatrix}$ coresponding to $\\lambda = 8$: "
   ]
  },
  {
   "cell_type": "code",
   "execution_count": 80,
   "id": "af97d447",
   "metadata": {},
   "outputs": [
    {
     "data": {
      "text/plain": [
       "array([0.69853547, 0.46569032, 0.54330537])"
      ]
     },
     "execution_count": 80,
     "metadata": {},
     "output_type": "execute_result"
    }
   ],
   "source": [
    "v = np.array([9,6,7])\n",
    "\n",
    "#normalizing v \n",
    "e_v = v/np.linalg.norm(v)\n",
    "e_v"
   ]
  },
  {
   "cell_type": "markdown",
   "id": "4f800e83",
   "metadata": {},
   "source": [
    "Let's have another look at Example 2. The eigenvalues are the entries on the main diagonal. This is always true for triangular matrices and can be proved by induction:\n",
    "\n",
    "`````{admonition} Theorem 3 \n",
    ":class: tip\n",
    "Let $A$ be a square triangular matrix. Then the eigenvalues of $A$ are the entries on the diagonal.\n",
    "```\n"
   ]
  },
  {
   "cell_type": "markdown",
   "id": "b69aefd0",
   "metadata": {},
   "source": [
    "__Numerical Notes__\n",
    "\n",
    "\n",
    "1. Example 3 provides a method for manually computating eigenvectors in simple cases. In practical situations, using matrix program and row reduction method to find an eigenspace (for a specified eigenvalue) may not be entirely reliable. Roundoff error can occasionally lead to a reduced echelon form with the wrong number of pivots. The best computer programs compute approximations for eigenvalues and eigenvectors simultaneously, to any desired degree of accuracy, for matrices that are not too large.\n",
    "\n",
    "\n",
    "2. Some software such as Mathematica and Maple can use symbolic calculations to find the characteristic polynomial of a moderate-sized matrix. But there is no formula or finite algorithm to solve the characteristic equation of a general  matrix $n\\times n$ for $n\\geq 5$. The best numerical methods for finding eigenvalues avoid the characteristic polynomial entirely. In fact, MATLAB finds the characteristic polynomial of a matrix $A$ by first computing the eigenvalues $\\lambda_1, \\lambda_2, \\dots, \\lambda_n$ of $A$ and then expanding the product \n",
    "\n",
    "$$\n",
    "(\\lambda -\\lambda_1)(\\lambda -\\lambda_2)\\dots (\\lambda -\\lambda_n)\n",
    "$$\n",
    "\n"
   ]
  },
  {
   "cell_type": "markdown",
   "id": "591cea9c",
   "metadata": {},
   "source": [
    "#### Exercies\n",
    "\n",
    "```{admonition} Exercises\n",
    "    \n",
    "1. If $\\vec{v}$ is an eigenvector of $A$ corresponding to $\\lambda$, what is $A^3 \\vec{v}$?   \n",
    "\n",
    "\n",
    "2. If A is an $n\\times n$ matrix and $2$ is an eigenvalue of $A$, show that $4$ is an eigenvalue of $2A$.\n",
    "\n",
    "3. If $A$ is an invertible matrix with eigenvalue $\\lambda$ show that $A^{-1}$ has eigenvalue $1/\\lambda.$ \n",
    "    \n",
    "4.  Let \n",
    "\n",
    "$$\n",
    "A = \\begin{bmatrix} 1 & 3 & 3\\\\ -3 & -5 &-3\\\\ 3 & 3 & 1 \\end{bmatrix}.\n",
    "$$$. \n",
    "\n",
    "    a. Find the eigenvalues of $A$ and their multiplicities.\n",
    "    \n",
    "    b. For each eigenvalue in part (a) find the corresponding eigenspace. \n",
    "    \n",
    "    c. Find the dimension of each eigenspace in part (b) by finding a basis for it. How this result is related to your answer to part (a)?   \n",
    "\n",
    "````"
   ]
  },
  {
   "cell_type": "markdown",
   "id": "105d629f",
   "metadata": {},
   "source": [
    "## 4.2 Diagonalization\n",
    "\n",
    "This section introduces diagonalization and characterizes diagonalizability. Diagonalization is a useful factorization of a matrix $A$ based on its eigenvalue–eigenvector information. This factorization allows us to quickly access properties that are invariant under similarity, such as rank, invertibility, and eigenvalues. It also enables us to calculate powers of $A$ for large $k$, which is a fundamental concept in various applications, including discrete dynamical systems."
   ]
  },
  {
   "cell_type": "markdown",
   "id": "cea4209a",
   "metadata": {},
   "source": [
    "### Computing powers of a matrix "
   ]
  },
  {
   "cell_type": "markdown",
   "id": "25fcf3b5",
   "metadata": {},
   "source": [
    "Let's consider the matrix $A = \\begin{bmatrix} 7 & 2\\\\ -4 & 1 \\end{bmatrix}$. We wish to compute $A^{k}$ for an arbitrary $k\\in \\mathbb{N}$, given that $A= PAP^{-1}$, where $P = \\begin{bmatrix} 1 & 1\\\\ -1 & -2 \\end{bmatrix}$, and $D = \\begin{bmatrix} 5 & 0\\\\ 0 & 3 \\end{bmatrix}$.\n",
    "\n",
    "Using this decomposition, we have:\n",
    "\n",
    "$$\n",
    "A^{k} = (PDP^{-1})(PDP^{-1})\\dots (PDP^{-1}) = PD^{k}P.\n",
    "$$\n",
    "\n",
    "Since $D$ is diagonal, $D^{k} = \\begin{bmatrix} 5^{k} & 0\\\\ 0 & 3^{k} \\end{bmatrix}$. Additionally, $P^{-1} = \\begin{bmatrix} 2 & 1\\\\ -1 & -1 \\end{bmatrix}$. Therefore,\n",
    "\n",
    "$$\n",
    "A^{k} = \\begin{bmatrix} 1 & 1\\\\ -1 & -2 \\end{bmatrix} \\begin{bmatrix} 5^{k} & 0\\\\ 0 & 3^{k}\\end{bmatrix} \\begin{bmatrix} 2 & 1\\\\ -1 & -1 \\end{bmatrix} = \\begin{bmatrix}  2\\times 5^{k} -3^{k}& 5^{k}- 3^{k}\\\\ 2\\times 3^{k} - 2\\times 5^{k} & 2 \\times3^{k} -5^{k}\\end{bmatrix}.\n",
    "$$\n",
    "\n",
    "This decomposition, known as diagonalization, enables us to compute $A^k$ easily for large values of $k$. Without such factorization, computing $A^k$ for large matrices and large $k$ can be a time-consuming task. Therefore, it is beneficial to find such decomposition before calculating the power of $A$. \n",
    "\n",
    "Unfortunately, this decomposition doesn't exist for all matrices. The goal of this section is to characterize matrices that admit such a factorization."
   ]
  },
  {
   "cell_type": "markdown",
   "id": "540df104",
   "metadata": {},
   "source": [
    "### Diagonalization"
   ]
  },
  {
   "cell_type": "markdown",
   "id": "0e9dc76e",
   "metadata": {},
   "source": [
    "An $n \\times n$ matrix $A$ is called __diagonalizable__ if it is _similar_ to a diagonal matrix. More precisely, there exists an invertible $n \\times n$ matrix $P$ and an $n \\times n$ diagonal matrix $D$ such that $A = PDP^{-1}$.\n",
    "\n",
    "It turns out an $n\\times n$ matrix is diagonalizable if we can form a basis $\\mathbb{R}^n$ using eigenvectors of $A$:\n",
    "\n",
    "`````{admonition} Theorem 18\n",
    ":class: tip\n",
    "An $n \\times n$ matrix $A$ is diagonalizable if and only if $A$ has $n$ linearly independent eigenvectors.\n",
    "\n",
    "`````\n",
    "\n",
    "In fact, suppose $\\lambda_1, \\lambda_2, \\dots, \\lambda_n$ are eigenvalues of $A$, and $\\{\\vec{v_1}, \\vec{v}_2, \\dots, \\vec{v}_n\\}$ is the linearly independent set of eigenvectors of $A$. If we form the matrix $P$ by taking the eigenvectors as columns, and $D$ is a diagonal matrix with eigenvalues $\\lambda_1, \\lambda_2, \\dots, \\lambda_n$ on the diagonal, then we have $A = PDP^{-1}$.\n",
    "\n",
    "\n",
    "Finding eigenvectors in general is not an easy task, and is not clear how to check which $n \\times n$ matrices have $n$ linearly independent eigenvectors. The next theorem partially addresses this issue.\n",
    "\n",
    "\n",
    "`````{admonition} Theorem 19\n",
    ":class: tip\n",
    "\n",
    "The eigenvectors corresponding to distinct eigenvalues are linearly independent.\n",
    "\n",
    "`````\n",
    "\n",
    "Combining Theorem 18 and Theorem 19, we obtain the following corollary:\n",
    "\n",
    "`````{admonition} Corollary 1 \n",
    ":class tip\n",
    "An $n \\times n$ matrix with $n$ distinct eigenvalues is diagonalizable.\n",
    "`````\n",
    "\n",
    "\n",
    "```{admonition} Example 1 \n",
    "\n",
    "Is\n",
    "\n",
    "$$\n",
    "A = \\begin{bmatrix} 1 & 3 & 2 \\\\ -3 & -5 & 3 \\\\ 3 & 3 & 1 \\end{bmatrix}\n",
    "$$\n",
    "\n",
    "diagonalizable? If yes find a diagonalization for it. \n",
    "```\n",
    "__Solution__\n",
    "\n",
    "To determine if $A$ is diagonalizable we need to find eigenvalues and to check if it admits $3$ linearly independent eigenvectors. \n",
    "\n",
    "- Step 1 \n",
    "\n",
    "we use _linalg.eigvas_ to find the eigenvalues and eigenvectors of $A$:\n"
   ]
  },
  {
   "cell_type": "code",
   "execution_count": 14,
   "id": "48c64a00",
   "metadata": {},
   "outputs": [
    {
     "name": "stdout",
     "output_type": "stream",
     "text": [
      "eigenvalues =  [-5. -2.  4.]\n"
     ]
    }
   ],
   "source": [
    "A = np.array([[1,3,3],[-3,-5,3],[3,3,1]])\n",
    "# find evalues and evectors\n",
    "evalues, evectors = linalg.eig(A)\n",
    "\n",
    "print(\"eigenvalues = \",  evalues)"
   ]
  },
  {
   "cell_type": "markdown",
   "id": "1c56116a",
   "metadata": {},
   "source": [
    "$A$ has three distinct eigenvalues and therefore it is diagonalizable by Corollary 1.\n",
    "\n",
    "- Step 2: Constructing the diagonal matrix $D$"
   ]
  },
  {
   "cell_type": "code",
   "execution_count": 16,
   "id": "bcba15fb",
   "metadata": {},
   "outputs": [
    {
     "data": {
      "text/plain": [
       "array([[-5.,  0.,  0.],\n",
       "       [ 0., -2.,  0.],\n",
       "       [ 0.,  0.,  4.]])"
      ]
     },
     "execution_count": 16,
     "metadata": {},
     "output_type": "execute_result"
    }
   ],
   "source": [
    "lambda_1 = evalues[0]\n",
    "lambda_2 = evalues[1]\n",
    "lambda_3 = evalues[2]\n",
    "\n",
    "D = np.array([[lambda_1, 0, 0], [0, lambda_2, 0], [0, 0, lambda_3]]) \n",
    "D"
   ]
  },
  {
   "cell_type": "markdown",
   "id": "6ad5e067",
   "metadata": {},
   "source": [
    "- Step 3 : Finding the matrix $P$ whose $i$th column is an eigenvector corresponding to $\\lambda_{i}$ for $i\\in \\{1,\\ 2,\\ 3\\}$:"
   ]
  },
  {
   "cell_type": "code",
   "execution_count": 17,
   "id": "98f08498",
   "metadata": {},
   "outputs": [],
   "source": [
    "# set up the invirtible matrix P\n",
    "P = evectors"
   ]
  },
  {
   "cell_type": "markdown",
   "id": "6b9c9c88",
   "metadata": {},
   "source": [
    "- Step 4: compute the inverse of matrix P"
   ]
  },
  {
   "cell_type": "code",
   "execution_count": 19,
   "id": "7dd1aa6d",
   "metadata": {},
   "outputs": [],
   "source": [
    "# compute the inverse of P\n",
    "\n",
    "Q = linalg.inv(P)"
   ]
  },
  {
   "cell_type": "markdown",
   "id": "e7273461",
   "metadata": {},
   "source": [
    "- Step 5 (sanity check): Now that we have $D$, $P$, $Q = P^{-1}$, lets check if $A = PDQ$"
   ]
  },
  {
   "cell_type": "code",
   "execution_count": 20,
   "id": "a3a4fb1b",
   "metadata": {},
   "outputs": [
    {
     "data": {
      "text/plain": [
       "array([[ 1.,  3.,  3.],\n",
       "       [-3., -5.,  3.],\n",
       "       [ 3.,  3.,  1.]])"
      ]
     },
     "execution_count": 20,
     "metadata": {},
     "output_type": "execute_result"
    }
   ],
   "source": [
    "P @ D @ Q"
   ]
  },
  {
   "cell_type": "markdown",
   "id": "63c4ecad",
   "metadata": {},
   "source": [
    "```{admonition} Example 2\n",
    "\n",
    "Is\n",
    "\n",
    "$$\n",
    "A = \\begin{bmatrix} 1 & 3 & 2 \\\\ -3 & -5 & -3 \\\\ 3 & 3 & 1 \\end{bmatrix}\n",
    "$$\n",
    "\n",
    "diagonalizable? If yes find a diagonalization for it. \n",
    "```\n",
    "__Solution:__ \n",
    "\n",
    "- Step 1:  Finding eigenvalues and eigenvectors of $A$:"
   ]
  },
  {
   "cell_type": "code",
   "execution_count": 21,
   "id": "21c396b8",
   "metadata": {},
   "outputs": [
    {
     "name": "stdout",
     "output_type": "stream",
     "text": [
      "eigenvalues =  [ 1. -2. -2.]\n"
     ]
    }
   ],
   "source": [
    "A = np.array([[1,3,3],[-3,-5,-3],[3,3,1]])\n",
    "\n",
    "# find evalues and evectors\n",
    "evalues, evectors = linalg.eig(A)\n",
    "\n",
    "print(\"eigenvalues = \",  evalues)"
   ]
  },
  {
   "cell_type": "markdown",
   "id": "5371b377",
   "metadata": {},
   "source": [
    "$A$ has 2 eigenvalues: $\\lambda_1 = 1$ with multiplicity 1 and $\\lambda_2 = -2$ with multiplicity 2. Note that we cannot use Corollary 1 anymore because eigenvalues are not distinct. To check if $A$ is diagonalizable, we need to find three linearly independet eigenvectors of $A$. Lets have a look at our eigenvectors:"
   ]
  },
  {
   "cell_type": "code",
   "execution_count": 22,
   "id": "a279c38d",
   "metadata": {},
   "outputs": [
    {
     "data": {
      "text/plain": [
       "3"
      ]
     },
     "execution_count": 22,
     "metadata": {},
     "output_type": "execute_result"
    }
   ],
   "source": [
    "# A matrix whose columns are eigenvectors:\n",
    "P = evectors\n",
    "\n",
    "# computes the rank of P\n",
    "np.linalg.matrix_rank(P)"
   ]
  },
  {
   "cell_type": "markdown",
   "id": "ffe62dda",
   "metadata": {},
   "source": [
    "Since $rank(P) = 3$ the columns of $P$ are linearly independents. Thus, $A$ is diagonalizable by Theorem 1. \n",
    "\n",
    "- Step 2: Finding the diagonal matrix $D$ "
   ]
  },
  {
   "cell_type": "code",
   "execution_count": 23,
   "id": "10e5f714",
   "metadata": {},
   "outputs": [
    {
     "data": {
      "text/plain": [
       "array([[ 1.,  0.,  0.],\n",
       "       [ 0., -2.,  0.],\n",
       "       [ 0.,  0., -2.]])"
      ]
     },
     "execution_count": 23,
     "metadata": {},
     "output_type": "execute_result"
    }
   ],
   "source": [
    "lambda_1 = evalues[0]\n",
    "lambda_2 = evalues[1]\n",
    "lambda_3 = evalues[2]\n",
    "\n",
    "D = np.array([[lambda_1, 0, 0], [0, lambda_2, 0], [0, 0, lambda_3]]) \n",
    "D"
   ]
  },
  {
   "cell_type": "markdown",
   "id": "3095b536",
   "metadata": {},
   "source": [
    "- Step 3: Finding the matrix $P$ whose $i$th column is an eigenvector corresponding to $\\lambda_{i}$ for $i\\in \\{1,\\ 2,\\ 3\\}$. We already have this matrix so we go to the next step.\n",
    "\n",
    "- Step 4: Computing the inverse of $P$"
   ]
  },
  {
   "cell_type": "code",
   "execution_count": 24,
   "id": "b32c7088",
   "metadata": {},
   "outputs": [
    {
     "data": {
      "text/plain": [
       "array([[-1.73205081, -1.73205081, -1.73205081],\n",
       "       [ 0.89919543,  2.75763333,  1.8584379 ],\n",
       "       [-0.6541932 ,  0.5254512 ,  1.1796444 ]])"
      ]
     },
     "execution_count": 24,
     "metadata": {},
     "output_type": "execute_result"
    }
   ],
   "source": [
    "# computing the inverse of P\n",
    "\n",
    "Q = np.linalg.inv(P)\n",
    "Q"
   ]
  },
  {
   "cell_type": "markdown",
   "id": "f1629045",
   "metadata": {},
   "source": [
    "- Step 5 (sanity check): lets check if $A = PDQ$"
   ]
  },
  {
   "cell_type": "code",
   "execution_count": 25,
   "id": "3db3618c",
   "metadata": {},
   "outputs": [
    {
     "data": {
      "text/plain": [
       "array([[ 1.,  3.,  3.],\n",
       "       [-3., -5., -3.],\n",
       "       [ 3.,  3.,  1.]])"
      ]
     },
     "execution_count": 25,
     "metadata": {},
     "output_type": "execute_result"
    }
   ],
   "source": [
    "# check A = PDQ \n",
    "P @ D @ Q"
   ]
  },
  {
   "cell_type": "markdown",
   "id": "8141bdd0",
   "metadata": {},
   "source": [
    "The next theorem provides another way to characterize the diagonalizability of matrices based on the multiplicity of eigenvalues. Before stating the theorem, we need the following definition:\n",
    "\n",
    "Suppose $A$ is a square matrix and $\\lambda$ is an eigenvalue of $A$. The dimension of the corresponding eigenspace $E_{\\lambda} = null(A -\\lambda I)$ is called the __geometric multiplicity of $\\lambda$__.\n",
    "\n",
    "`````{admonition} Theorem 20\n",
    ":class: tip\n",
    "\n",
    "A square matrix $A$ is diagonalizable if and only if the algebraic multiplicity of each eigenvalue is equal to its geometric multiplicity. More formally, if $\\lambda_1, \\lambda_2, \\dots, \\lambda_p$ are eigenvalues of $A$ with algebraic multiplicities $m_1, m_2, \\dots, m_p$, respectively, then \n",
    "\n",
    "$$\n",
    "m_i = \\text{dim}(E_{\\lambda_i}) \\quad \\forall i \\in \\{1, 2, \\dots, p\\}\n",
    "$$\n",
    "`````\n",
    "\n",
    "Recall that dim($E_{\\lambda_i}$) = dim null$(A-\\lambda_i I)$ = the number of non-pivot columns in $(A-\\lambda_{i} I)$"
   ]
  },
  {
   "cell_type": "markdown",
   "id": "68094674",
   "metadata": {},
   "source": [
    "```{admonition} Example 3\n",
    "\n",
    "Is \n",
    "$$\n",
    "M = \\begin{bmatrix} 1 & 1 & 0 \\\\ 0 & 1 & 1 \\\\ 0 & 0 & 2 \\end{bmatrix}\n",
    "$$ \n",
    "\n",
    "diagonalizable? If yes, find a diagonalization for it.\n",
    "```\n",
    "\n",
    "__Solution:__\n",
    "\n",
    "$M$ is an upper triangular matrix, and its eigenvalues are on the diagonal: $\\lambda_1 = 1$ with algebraic multiplicity 2 and $\\lambda_2 = 2$ with algebraic multiplicity 1.\n",
    "\n",
    "Since we don't have distinct eigenvalues, Corollary 1 doesn't apply here. Let's take a look at our eigenvectors:"
   ]
  },
  {
   "cell_type": "code",
   "execution_count": 26,
   "id": "35274f2b",
   "metadata": {},
   "outputs": [
    {
     "data": {
      "text/plain": [
       "2"
      ]
     },
     "execution_count": 26,
     "metadata": {},
     "output_type": "execute_result"
    }
   ],
   "source": [
    "import numpy as np\n",
    "from numpy import linalg\n",
    "\n",
    "\n",
    "M = np.array([[1, 1, 0], [0, 1, 1], [0, 0, 2]])\n",
    "\n",
    "evalues, evectors  = np.linalg.eig(M)\n",
    "p = evectors\n",
    "\n",
    "np.linalg.matrix_rank(p)"
   ]
  },
  {
   "cell_type": "markdown",
   "id": "def4f02b",
   "metadata": {},
   "source": [
    "Observe that the rank of matrix $P$ is two, which means we don't have three linearly independent eigenvectors in $M$. However, using Theorem 3, we can confirm that this is not the case, and consequently, $M$ is not diagonalizable. In fact, it is straightforward to check that the geometric multiplicity of $\\lambda = 1$ is 1 ($\\text{dim}(E_1) = 1$), while the algebraic multiplicity is 2. Thus, $M$ is not diagonalizable.\n"
   ]
  },
  {
   "cell_type": "markdown",
   "id": "eb0137c9",
   "metadata": {},
   "source": [
    "### Diagonalization as a change of basis "
   ]
  },
  {
   "cell_type": "markdown",
   "id": "6f776a74",
   "metadata": {},
   "source": [
    "Recall that similar matrices represent the same linear map under two different choices of a pair of bases for $\\mathbb{R}^n$ and $\\mathbb{R}^m$. More precisely, suppose $A = PCP^{-1}$ ($C$ is not necessarily diagonal), then the matrix representation of $T$ with respect to the basis $B$ (formed by the columns of $P$) is $C$. Conversely, changing the basis of $\\mathbb{R}^n$ leads to a matrix representation of $T$ that is similar to $A$ (section 3.4). This particularly applies to diagonalizable matrices because a matrix is diagonalizable if it is similar to a diagonal matrix.\n",
    "\n",
    "`````{admonition} Theorem 20 (Diagonal Matrix Representation)\n",
    ":class: tip\n",
    "\n",
    "Suppose $T: \\mathbb{R}^n \\to \\mathbb{R}^n$ and $A$ is the standard matrix representation of $T$ that is diagonalizable. Let $A = PDP^{-1}$ be a diagonalization of $A$ where $D$ is an $n\\times n$ diagonal matrix, and $P$ is an invertible $n\\times n$ matrix. If $B$ is the basis for $\\mathbb{R}^n$ formed by the columns of $P$, then $D$ is the matrix representation of the transformation $T: (\\mathbb{R}^n, B) \\to (\\mathbb{R}^n, B)$.\n",
    "`````\n",
    "\n",
    "```{admonition} Example 3 Let $T: \\mathbb{R}^2 \\to \\mathbb{R}^2$ and\n",
    "\n",
    "$$\n",
    "A = \\begin{bmatrix} 7 & 2 \\\\ -4 & 2 \\end{bmatrix}\n",
    "$$ \n",
    "\n",
    "be the standard matrix representation of $T$. Find a basis $B$ for $T$ such that the matrix representation of $T$ with respect to $B$ is diagonal.\n",
    "```\n",
    "\n",
    "__Solution:__\n",
    "\n",
    "From Example 1, we know that $A = PAP^{-1}$ where $P = \\begin{bmatrix} 1 & 1 \\\\ -1 & -2 \\end{bmatrix}$ and $D = \\begin{bmatrix} 5 & 0 \\\\ 0 & 3 \\end{bmatrix}$.\n",
    "\n",
    "The columns of $P$ are eigenvectors of $A$, and they form a basis $B$ for $\\mathbb{R}^2$. By Theorem 2, $D$ is the matrix representation of $T$ with respect to $B$. In fact, the mappings $\\vec{x} \\to A\\vec{x}$ and $\\vec{x} \\to D\\vec{x}$ describe the same linear transformation, relative to different bases.\n"
   ]
  },
  {
   "cell_type": "markdown",
   "id": "d21ec661",
   "metadata": {},
   "source": [
    "### Exercises"
   ]
  },
  {
   "cell_type": "markdown",
   "id": "7e7d3231",
   "metadata": {},
   "source": [
    "\n",
    "1. Suppose\n",
    "\n",
    "$$\n",
    "M = \\begin{bmatrix} 2 & 4 & 3 \\\\ -4 & -6 & -3 \\\\ 3 & 3 & 1 \\end{bmatrix}.\n",
    "$$\n",
    "\n",
    "    a. Is M diagonalizable? If yes find a diagonalization for it.\n",
    "    \n",
    "    b. Use this diagonalization to compute $M^{100}$\n",
    "\n",
    "\n",
    "\n",
    "\n",
    "2. Suppose \n",
    "\n",
    "$$\n",
    "C=\\begin{bmatrix}\n",
    "3 & 0 & 1 & 0 & 0\\\\\n",
    "0 & 3 & 0 & 0 & 0\\\\\n",
    "0 & 0 & 3 & 0 & 0\\\\\n",
    "0 & 0 & 3 & 2 & 0\\\\\n",
    "0 & 0 & 0 & 0 & 2\n",
    "\\end{bmatrix}\n",
    "$$. \n",
    "\n",
    "Is $C$ diagonalizable?\n",
    "\n",
    "\n",
    "3. Let $A$ be a $5\\times 5$ matrix, with two eigenvalues. One eigenspace is three-dimensional, the other is two dimensional. Is $A$ diagonalizable?\n",
    "\n",
    "\n",
    "4. Compute $A^{200}$ where \n",
    "\n",
    "$$\n",
    "A = \\begin{bmatrix} 4 & -3\\\\ 2 & -1 \\end{bmatrix}.\n",
    "$$"
   ]
  },
  {
   "cell_type": "markdown",
   "id": "b3484971",
   "metadata": {},
   "source": [
    "## 4.3 Discrete Dynamical Systems \n",
    "\n",
    "In this section, we will explore the application of diagonalization to discrete dynamical systems, focusing on their long-term behavior."
   ]
  },
  {
   "cell_type": "markdown",
   "id": "9040875e",
   "metadata": {},
   "source": [
    "### Modeling Dynamical Systems as sequence of linear systems"
   ]
  },
  {
   "cell_type": "markdown",
   "id": "502a734f",
   "metadata": {},
   "source": [
    "In many fields (e.g., ecology, biology, economics, etc.), we wish to mathematically model and study a dynamic system that changes over time. We are usually given several feature of the system that are measured at (discrete) different time intervals which can be viewd as a sequence of vectors \n",
    "\n",
    "$$\n",
    "\\vec{x_0}, \\vec{x_1}, \\vec{x_2}, \\dots \n",
    "$$\n",
    "\n",
    "We interpret $\\vec{x_i}$ as the state of system at time $t = i$. We also assume that there is a matrix $A$ such that\n",
    "\n",
    "$$\n",
    "\\vec{x_n} = A\\vec{x_{n-1}} \\quad \\forall n = 1, 2, 3, \\dots   \\quad (*)\n",
    "$$\n",
    "\n",
    "Our goal is to develop a formula for $x_n$ and describe what can happen when $n$ approaches to infinity. \n",
    "\n",
    "\n",
    "Lets consider the movement of populations or groups of people from one region to another. We want a simple model that considers the changes in the population of a city and its surrounding suburbs over a period of years. Let's say the intial year is 2020 and denote the population of of the city and suburbs by $c_0$ and $s_0$, respectievely. Now we can form the intial _vector population_ $\\vec{x_0} = \\begin{bmatrix} c_0\\\\ r_0\\\\ \\end{bmatrix}$. Similarly, for 2021 and subsequent years, denote the populations of the city and suburbs by the vectors\n",
    "\n",
    "\n",
    "$$\n",
    "\\vec{x_1} = \\begin{bmatrix} c_1\\\\ s_1\\\\ \\end{bmatrix}, \\ \\vec{x_2} = \\begin{bmatrix} c_2\\\\ s_2\\\\ \\end{bmatrix}, \\ \\vec{x_3} = \\begin{bmatrix} c_3\\\\ s_3\\\\ \\end{bmatrix}, \\  \\dots\n",
    "$$\n",
    "\n",
    "__How can be these vectors mathematically related?__ \n",
    "\n",
    "Suppose demographic studies show that each year about $5\\%$ of the city’s population moves to the suburbs (and $95\\%$ remains in the city), while $3\\%$ of the suburban population moves to the city (and $97\\%$ remains in the suburbs). With this information we can find the vector population $\\vec{x_1}$ based on the intial population $\\vec{x_0}$. After the first year $c_0 95\\%$ remain in the city and $c_0 0.05$ move to suburb. Additionally $s_0.97\\%$ remain to in suburbs and $s_0 0.03$ move to city. Therefore, \n",
    "\n",
    "\n",
    "$$\n",
    "\\begin{bmatrix} c_1\\\\ s_1\\\\ \\end{bmatrix} = c_0\\begin{bmatrix} 0.95\\\\ 0.05\\\\ \\end{bmatrix} + s_0\\begin{bmatrix} 0.03\\\\ 0.97\\\\ \\end{bmatrix} = \\begin{bmatrix} 0.95  & 0.03 \\\\ 0.97 & 0.05 \\\\ \\end{bmatrix} \\begin{bmatrix} c_0\\\\ s_0\\\\ \\end{bmatrix}.\n",
    "$$\n",
    "\n",
    "\n",
    "The matrix $M = \\begin{bmatrix} 0.95  & 0.03 \\\\ 0.97 & 0.05 \\\\ \\end{bmatrix}$ is called the __migration matrix__. Consequently, we can write\n",
    "\n",
    "$$\n",
    "\\vec{x_n} = M\\vec{x_{n-1}} \\quad \\forall n = 1, 2, 3, \\dots \n",
    "$$\n",
    "\n",
    "and the sequence \n",
    "$$\n",
    "\\vec{x_0}, \\vec{x_1}, \\vec{x_2}, \\dots \n",
    "$$\n",
    "describe the population of city/suburbs over a period of years.\n",
    "\n",
    "\n",
    "\n",
    "```{admonition} Example 1\n",
    "\n",
    "Compute the population of the region just described for the years 2021 and 2022, given that the intial population in 2020 was $600,000$ in the city and $40,000$ in suburbs.\n",
    "```\n",
    "\n",
    "__Solution:__"
   ]
  },
  {
   "cell_type": "code",
   "execution_count": 27,
   "id": "019b45c7",
   "metadata": {},
   "outputs": [
    {
     "name": "stdout",
     "output_type": "stream",
     "text": [
      "the population of city in 2021 was =  571200.0 \n",
      "\n",
      "the population of suburbs in 2021 was =  33880.0 \n",
      "\n",
      "\n",
      "the population of the city in 2022 was =  543656.4 \n",
      "\n",
      "the population of suburbs in 2022 was =  33880.0 \n",
      "\n",
      "\n"
     ]
    }
   ],
   "source": [
    "import numpy as np\n",
    "\n",
    "# migration matrix\n",
    "M = np.array([[0.95, 0.03] ,[0.05, 0.097]])\n",
    "\n",
    "\n",
    "# initial population vector x_0\n",
    "x_0 = np.array([600000, 40000])\n",
    "\n",
    "# population vector x_1\n",
    "x_1 = M @ x_0\n",
    "\n",
    "print('the population of city in 2021 was = ', x_1[0],'\\n')\n",
    "print('the population of suburbs in 2021 was = ', x_1[1], '\\n\\n')\n",
    "\n",
    "# population vector x_2\n",
    "\n",
    "x_2 = M @ x_1\n",
    "\n",
    "print('the population of the city in 2022 was = ', x_2[0],'\\n')\n",
    "print('the population of suburbs in 2022 was = ', x_1[1], '\\n\\n')"
   ]
  },
  {
   "cell_type": "markdown",
   "id": "cebd93be",
   "metadata": {},
   "source": [
    "### Long-term behavior of dynamical systems"
   ]
  },
  {
   "cell_type": "markdown",
   "id": "9e2e76f0",
   "metadata": {},
   "source": [
    "Eigenvalues and eigenvectors can be used to understand the long-term behavior or evolution of a dynamical system described by an equation in the form of $\\vec{x}_{k+1} = A \\vec{x}_{k}$. We assume that $A$ is diagonalizable with $n$ linearly independent eigenvectors $\\{\\vec{v_1}, \\vec{v}_2, \\dots, \\vec{v}_n\\}$ and corresponding eigenvalues $\\lambda_1, \\lambda_2, \\dots, \\lambda_n$. For convenience, let's assume the eigenvectors are arranged such that $|\\lambda_1| \\geq |\\lambda_2| \\geq \\dots \\geq |\\lambda_n|$. Since $\\{\\vec{v_1}, \\vec{v}_2, \\dots, \\vec{v}_n\\}$ forms a basis for $\\mathbb{R}^n$, any initial vector $\\vec{x}_0$ can be expressed uniquely as:\n",
    "\n",
    "$$\n",
    "\\vec{x}_0 = c_1\\vec{v_1} + c_{2}\\vec{v_{2}} + \\dots + c_n\\vec{v_n}\n",
    "$$\n",
    "\n",
    "By applying $A$ to both sides, we have:\n",
    "\n",
    "$$\n",
    "\\vec{x}_1 = A \\vec{x}_{0} = c_1\\lambda_1\\vec{v_1} + c_{2}\\lambda_2\\vec{v_{2}} + \\dots + c_n\\lambda_n\\vec{v_n}\n",
    "$$\n",
    "\n",
    "And in general:\n",
    "\n",
    "$$\n",
    "\\vec{x}_k = A \\vec{x}_{k-1} = c_1(\\lambda_1)^{k}\\vec{v_1} + c_{2}(\\lambda_2)^{k}\\vec{v_{2}} + \\dots + c_n(\\lambda_n)^{k}\\vec{v_n} \\quad (**)\n",
    "$$\n",
    "\n",
    "The above equation represents the evolution of the system over time. It shows that each component of the vector $\\vec{x}_k$ is a linear combination of the eigenvectors $\\vec{v_i}$, scaled by the corresponding eigenvalues $\\lambda_i$ raised to the power of $k$.\n",
    "\n",
    "As an example, let's consider a predator-prey system involving owls and wood rats. The population vectors $\\vec{x}_k$ at time $k$ are given by:\n",
    "\n",
    "$$\n",
    "\\vec{x}_k = \\begin{bmatrix} O_k \\\\ R_k \\end{bmatrix}\n",
    "$$\n",
    "\n",
    "where $O_k$ is the population of owls and $R_k$ is the population of rats (measured in thousands). The populations evolve according to the following equations:\n",
    "\n",
    "$$\n",
    "\\begin{align*}\n",
    "O_{k+1} &= (0.5) O_k + (0.4) R_k \\\\\n",
    "R_{k+1} &= -p O_k + (1.1) R_k \\\\\n",
    "\\end{align*}\n",
    "$$\n",
    "\n",
    "Here, the coefficient $0.5$ in the first equation says that, without wood rats for food, only half of the owls will survive each month. The coefficient $1.1$ in the second equation says that, in the absence of owls as predators, the rat population will grow by 10% each month. The parameter $p$ is a positive value to be specified.\n",
    "\n",
    "To determine the evolution of this system, we can compute the eigenvalues and eigenvectors of the coefficient matrix $A$, and then apply equation $(**)$. For $p = 0.104$, lets find the evolution of this system:"
   ]
  },
  {
   "cell_type": "code",
   "execution_count": 28,
   "id": "b4e41530",
   "metadata": {},
   "outputs": [
    {
     "data": {
      "text/plain": [
       "array([0.58, 1.02])"
      ]
     },
     "execution_count": 28,
     "metadata": {},
     "output_type": "execute_result"
    }
   ],
   "source": [
    "# coefficient matrix\n",
    "A = np.array([[0.5, 0.4],[-0.104, 1.1]])\n",
    "\n",
    "# Computing the eigenvalues and eigenvectors of A\n",
    "np.linalg.eigvals(A)"
   ]
  },
  {
   "cell_type": "markdown",
   "id": "9d3bfcde",
   "metadata": {},
   "source": [
    "Note that $|\\lambda_1| \\leq 1$ and $|\\lambda_2| \\geq 1$. A straightforward calculation shows that the corresponding eigenvectors are $\\vec{v_1} = \\begin{bmatrix} 5\\\\1 \\end{bmatrix}$ and $\\vec{v_2} = \\begin{bmatrix}10 \\\\ 13 \\end{bmatrix}$, respectively. The initial vector $\\vec{x_0}$ can be expressed as a linear combination of the eigenvectors:\n",
    "\n",
    "$$\n",
    "\\vec{x_0} = d_1 \\vec{v_1} + d_2 \\vec{v_2} = [\\vec{v_1}, \\vec{v_2}]\\begin{bmatrix} d_1\\\\ d_2\\end{bmatrix}\n",
    "$$\n",
    "\n",
    "Therefore, according to equation $(**)$, we have:\n",
    "\n",
    "$$\n",
    "\\vec{x_k} = d_1 (\\lambda_1)^{k} \\vec{v_1} + d_2 (\\lambda_2)^{k}\\vec{v_2}\n",
    "$$\n",
    "\n",
    "As $k \\to \\infty$, the term $(\\lambda_1)^{k} \\vec{v_1}$ approaches zero, allowing us to approximate:\n",
    "\n",
    "$$\n",
    "x_k \\approx d_2 (\\lambda_2)^{k}\\vec{v_2}\n",
    "$$\n",
    "\n",
    "Furthermore, observe that:\n",
    "\n",
    "$$\n",
    "x_{k+1} \\approx d_2 (\\lambda_2)^{k+1}\\vec{v_2} = \\lambda_2 \\vec{x_k} = 1.02 \\vec{x_k}\n",
    "$$\n",
    "\n",
    "The above approximation shows that both the number of owls and rats grow by an approximate factor of 1.02 each month.\n",
    "\n",
    "let's calculate some population vectors, assuming the initial population vector is $\\begin{bmatrix} 10\\\\20 \\end{bmatrix}$."
   ]
  },
  {
   "cell_type": "code",
   "execution_count": 29,
   "id": "24361044",
   "metadata": {},
   "outputs": [
    {
     "name": "stdout",
     "output_type": "stream",
     "text": [
      "At month 1 the owl population is 3.2727272727272725  and  the rat population is 42.54545454545454 \n",
      "\n",
      "At month 2 the owl population is 65.45454545454545  and  the rat population is 850.9090909090909 \n",
      "\n",
      "At month 3 the owl population is 1309.090909090909  and  the rat population is 17018.181818181816 \n",
      "\n",
      "At month 4 the owl population is 26181.81818181818  and  the rat population is 340363.63636363635 \n",
      "\n",
      "At month 5 the owl population is 523636.36363636365  and  the rat population is 6807272.7272727275 \n",
      "\n",
      "At month 6 the owl population is 10472727.272727273  and  the rat population is 136145454.54545456 \n",
      "\n",
      "At month 7 the owl population is 209454545.45454547  and  the rat population is 2722909090.909091 \n",
      "\n",
      "At month 8 the owl population is -27786072.436363637  and  the rat population is -361218941.6727273 \n",
      "\n",
      "At month 9 the owl population is 147091381.52727273  and  the rat population is 1912187959.8545456 \n",
      "\n",
      "At month 10 the owl population is 130576309.52727273  and  the rat population is 1697492023.8545456 \n",
      "\n"
     ]
    }
   ],
   "source": [
    "import numpy as np\n",
    "\n",
    "# A matrix whose columns are eigenvectors\n",
    "evectors = np.array([[5, 10], [1, 13]])\n",
    "\n",
    "# Initial vector\n",
    "x_0 = np.array([1, 2])\n",
    "\n",
    "# Solving the equation for d_1 and d_2\n",
    "d = np.linalg.solve(evectors, x_0)\n",
    "\n",
    "# Extracting d_2\n",
    "d_2 = d[1]\n",
    "\n",
    "# Eigenvalues corresponding to the eigenvectors\n",
    "evalues = np.array([10, 20])  # Replace with the actual eigenvalues\n",
    "\n",
    "# Iterating over the range\n",
    "for k in range(10):\n",
    "    # Calculating the population using the eigenvalues, eigenvectors, and d_2\n",
    "    population = d_2 * pow(evalues[1], k+1) * evectors[1]\n",
    "    print('At month', k+1, 'the owl population is', population[0],' and ', 'the rat population is', population[1],'\\n')\n"
   ]
  },
  {
   "cell_type": "markdown",
   "id": "01256b97",
   "metadata": {},
   "source": [
    "Note that if the absolute values of both eigenvalues are less than 1, then both populations will tend towards zero for large values of $k$. If $\\lambda_1 = 1$ and $\\lambda2 < 1$, then \n",
    "\n",
    "$$\n",
    "x_k \\approx d_1 (\\lambda_1)\\vec{v_1} \n",
    "$$\n",
    "\n",
    "Finally, if $\\lambda_1 = 1$ and $\\lambda2 \\geq 1$, then  \n",
    "\n",
    "$$\n",
    "x_k = d_1 (\\lambda_1)\\vec{v_1} + d_2 (\\lambda_2)^{k}\\vec{v_2}\n",
    "$$\n"
   ]
  },
  {
   "cell_type": "markdown",
   "id": "3efe0afe",
   "metadata": {},
   "source": [
    "### Exercise"
   ]
  },
  {
   "cell_type": "markdown",
   "id": "38bab62e",
   "metadata": {},
   "source": [
    "```{admonition} Exercise\n",
    "1. Let $A$ be a $2\\times 2$ matrix with eigenvalues $5$ and $\\frac{1}{5}$ and corresponding eigenvectors \n",
    "\n",
    "$$\n",
    "\\begin{bmatrix} 1 \\\\ 1 \\end{bmatrix}$ and $\\begin{bmatrix} -1 \\\\ 1 \\end{bmatrix}.\n",
    "$$ \n",
    "\n",
    "Let $\\vec{x}_k$ be a solution of $\\vec{x}_{k+1} = A \\vec{x}_{k}$, $\\vec{x}_0 = \\begin{bmatrix} 9 \\\\ 1 \\end{bmatrix}$ .\n",
    "\n",
    "a. Compute $\\vec{x}_1 = A\\vec{x}_0$\n",
    "\n",
    "b. Find a formula for $\\vec{x}_k$ involving $k$ and the eigenvectors of $A$.\n",
    "\n",
    "c. Describe what happens when $k\\to \\infty$. \n",
    "```"
   ]
  }
 ],
 "metadata": {
  "kernelspec": {
   "display_name": "Python 3",
   "language": "python",
   "name": "python3"
  },
  "language_info": {
   "codemirror_mode": {
    "name": "ipython",
    "version": 3
   },
   "file_extension": ".py",
   "mimetype": "text/x-python",
   "name": "python",
   "nbconvert_exporter": "python",
   "pygments_lexer": "ipython3",
   "version": "3.8.8"
  }
 },
 "nbformat": 4,
 "nbformat_minor": 5
}
