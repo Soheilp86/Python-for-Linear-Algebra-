{
 "cells": [
  {
   "cell_type": "markdown",
   "id": "5033bf46",
   "metadata": {},
   "source": [
    "# 1.3 Solution set of linear Systems.\n",
    "\n",
    "In this section, we study and analyze the solution set of linear systems."
   ]
  },
  {
   "cell_type": "markdown",
   "id": "4559b9f1",
   "metadata": {},
   "source": [
    "## Homogenous Linear Systems"
   ]
  },
  {
   "cell_type": "markdown",
   "id": "93ba6ef0",
   "metadata": {},
   "source": [
    "We start with describing the solution set of a simpler linear systems where the right side of equalities are zeros. In matrix form, $A\\vec{x}=\\vec{0}$; such system is called __homogeneous__. Homogeneous systems are always consistent since $\\vec{x}=\\vec{0}$ is always a solution. We call $\\vec{0}$ the trivial solution of $A\\vec{x}=\\vec{0}$. \n",
    "\n",
    "__Theorem 2:__\n",
    "\n",
    "The homogenous system $A\\vec{x}=\\vec{0}$ has a nontrivial solution if and only if it has a non-pivot column. \n",
    "\n",
    "Non-pivot columns correspond to __free variables__; all other variables can be expressed in terms of free variables. \n",
    "\n",
    "__Example 1__\n",
    "\n",
    "Describe the solution set of $10x -4y+ 7z=0$\n",
    "\n",
    "__Solution__: consider the augmented matrix of the system: $ \\begin{bmatrix} 10& -4& 7&& 0\\\\ \\end{bmatrix}$. There is only one pivot columns and y and z are free variables.\n",
    "\n",
    "\n",
    "\n",
    "$$\n",
    "\\vec{x} = \\begin{bmatrix} x \\\\ y \\\\z \\end{bmatrix} = \\begin{bmatrix} 0.4y - 0.7z \\\\y\\\\z \\end{bmatrix}= \\begin{bmatrix} 0.4y \\\\ y \\\\0 \\end{bmatrix} + \\begin{bmatrix} - 0.7z \\\\ 0 \\\\ z \\end{bmatrix}= \n",
    "y \\begin{bmatrix} 0.4 \\\\ 1 \\\\ 0\\end{bmatrix} + z \\begin{bmatrix} 0.7 \\\\0\\\\1 \\end{bmatrix}\n",
    "$$\n",
    "\n",
    "Thus, the solution set is span ( $\\ \\begin{bmatrix} 0.4 \\\\ 1 \\\\ 0\\end{bmatrix},\\, \\begin{bmatrix} 0.7 \\\\0\\\\1 \\end{bmatrix}\\ $)\n",
    "\n",
    "\n",
    "__Example 2__\n",
    "\n",
    "Determine if the following system has a nontrivial solution. Then describe the solution set.\n",
    "\n",
    "$$\n",
    "\\begin{align*}\n",
    "3x +5y - 4z &= 0 \\\\\n",
    "-3x -2y +4z &= 0 \\\\\n",
    "6x + y -8 z &= 0\n",
    "\\end{align*}\n",
    "$$\n",
    " \n",
    "We first setup the augmented matrix, and then, we find its REF:"
   ]
  },
  {
   "cell_type": "code",
   "execution_count": 87,
   "id": "68462205",
   "metadata": {},
   "outputs": [
    {
     "data": {
      "text/plain": [
       "array([[ 3,  5, -4,  0],\n",
       "       [-3, -2,  4,  0],\n",
       "       [ 6,  1, -8,  0]])"
      ]
     },
     "execution_count": 87,
     "metadata": {},
     "output_type": "execute_result"
    }
   ],
   "source": [
    "import numpy as np\n",
    "\n",
    "A= np.array([[3,5,-4, 0], [-3, -2, 4, 0], [6, 1, -8, 0]])\n",
    "A"
   ]
  },
  {
   "cell_type": "code",
   "execution_count": 88,
   "id": "cffa9271",
   "metadata": {},
   "outputs": [],
   "source": [
    "# Swap two rows\n",
    "\n",
    "def swap(matrix, row1, row2):\n",
    "    \n",
    "    copy_matrix=np.copy(matrix).astype('float64') \n",
    "  \n",
    "    copy_matrix[row1,:] = matrix[row2,:]\n",
    "    copy_matrix[row2,:] = matrix[row1,:]\n",
    "    \n",
    "    return copy_matrix\n",
    "\n",
    "\n",
    "# Multiple all entries in a row by a nonzero number\n",
    "\n",
    "\n",
    "def scale(matrix, row, scalar):\n",
    "    copy_matrix=np.copy(matrix).astype('float64') \n",
    "    copy_matrix[row,:] = scalar*matrix[row,:]  \n",
    "    return copy_matrix\n",
    "\n",
    "# Replacing a row1 by the sum of itself and a multiple of row2 \n",
    "\n",
    "def replace(matrix, row1, row2, scalar):\n",
    "    copy_matrix=np.copy(matrix).astype('float64')\n",
    "    copy_matrix[row1] = matrix[row1]+ scalar * matrix[row2] \n",
    "    return copy_matrix"
   ]
  },
  {
   "cell_type": "code",
   "execution_count": 89,
   "id": "54d4ccd4",
   "metadata": {},
   "outputs": [
    {
     "data": {
      "text/plain": [
       "array([[ 3.,  5., -4.,  0.],\n",
       "       [ 0.,  3.,  0.,  0.],\n",
       "       [ 6.,  1., -8.,  0.]])"
      ]
     },
     "execution_count": 89,
     "metadata": {},
     "output_type": "execute_result"
    }
   ],
   "source": [
    "A_1 = replace(A, 1,0, 1)\n",
    "A_1"
   ]
  },
  {
   "cell_type": "code",
   "execution_count": 90,
   "id": "399c6db7",
   "metadata": {},
   "outputs": [
    {
     "data": {
      "text/plain": [
       "array([[ 3.,  5., -4.,  0.],\n",
       "       [ 0.,  3.,  0.,  0.],\n",
       "       [ 0., -9.,  0.,  0.]])"
      ]
     },
     "execution_count": 90,
     "metadata": {},
     "output_type": "execute_result"
    }
   ],
   "source": [
    "A_2 = replace(A_1, 2,0, -2)\n",
    "A_2"
   ]
  },
  {
   "cell_type": "code",
   "execution_count": 91,
   "id": "f3f05484",
   "metadata": {},
   "outputs": [
    {
     "data": {
      "text/plain": [
       "array([[ 3.,  5., -4.,  0.],\n",
       "       [ 0.,  3.,  0.,  0.],\n",
       "       [ 0.,  0.,  0.,  0.]])"
      ]
     },
     "execution_count": 91,
     "metadata": {},
     "output_type": "execute_result"
    }
   ],
   "source": [
    "A_3 = replace(A_2, 2, 1, 3)\n",
    "A_3"
   ]
  },
  {
   "cell_type": "markdown",
   "id": "63c573ea",
   "metadata": {},
   "source": [
    "We can see that the third column is a non-pivot column and therefore $z$ is a free variable. Thus, $A\\vec{x}=0$ has (infinitely many) one for each choice of $z$. To find the solution set we write back the linear system coresponding to REF of A: \n",
    "\n",
    "$$\n",
    "\\begin{align*}\n",
    "3x +5y - 4z &= 0 \\\\\n",
    "3y &= 0 \\\\\n",
    " 0&= 0\n",
    "\\end{align*}\n",
    "$$\n",
    "\n",
    "Therefore, $x= \\frac{-4}{3}z$, and the slution set contains vectors of the foloowing form:\n",
    "\n",
    "\n",
    "$$\n",
    "\\vec{x} = \\begin{bmatrix} x\\\\y\\\\z \\end{bmatrix} = \\begin{bmatrix} \\frac{-4}{3}z\\\\0\\\\z \\end{bmatrix}= z \\begin{bmatrix} \\frac{-4}{3}\\\\0\\\\1 \\end{bmatrix}\n",
    "$$\n",
    "\n",
    "for $z\\in \\mathbb{R}$.\n",
    "\n",
    "In other words, the solution set is $\\text{span}\\ (\\ \\begin{bmatrix} \\frac{-4}{3}\\\\0\\\\1 \\end{bmatrix}\\ )$\n",
    "\n",
    "\n",
    "\n"
   ]
  },
  {
   "cell_type": "markdown",
   "id": "15aab837",
   "metadata": {},
   "source": [
    "We can represnt a linear independence equation\n",
    "\n",
    "$$ x_1 \\vec{v_1} + x_2 \\vec{v_2} + \\dots + x_p \\vec{v_p} = 0$$\n",
    "\n",
    "by a homogenous system $A\\vec{x} = 0$ where $A$ is a matrix whose columns are $\\vec{v_i}s$. In fact, we have:\n",
    "\n",
    "__Theorem 3__\n",
    "\n",
    "The columns of a matrix $A$ form a linearly independent set if and only if $A\\vec{x}=0$ has only trivial solution.\n",
    "\n",
    "__Example 3__ \n",
    "\n",
    "Determine if the columns of the matrix $A = \\begin{bmatrix} 2 & 3 & 5\\\\ -1 & 1 & 1\\\\ 5 & 4 & 5    \\end{bmatrix}$ form a linearly independent set. \n",
    "\n",
    "__Solution:__\n",
    "\n",
    "We show $A\\vec{x}= 0$ has a nontrivial solution, and therefore, by Theorem 3, the columns of $A$ are linearly indendent. "
   ]
  },
  {
   "cell_type": "code",
   "execution_count": 92,
   "id": "85f42c36",
   "metadata": {},
   "outputs": [
    {
     "data": {
      "text/plain": [
       "array([[ 2,  3,  5,  0],\n",
       "       [-1,  1,  1,  0],\n",
       "       [ 5,  4,  5,  0]])"
      ]
     },
     "execution_count": 92,
     "metadata": {},
     "output_type": "execute_result"
    }
   ],
   "source": [
    "A = np.array([[2,3,5,0], [-1,1,1,0], [5, 4, 5,0]])\n",
    "A"
   ]
  },
  {
   "cell_type": "code",
   "execution_count": 93,
   "id": "83372be0",
   "metadata": {},
   "outputs": [
    {
     "data": {
      "text/plain": [
       "array([[-1.,  1.,  1.,  0.],\n",
       "       [ 2.,  3.,  5.,  0.],\n",
       "       [ 5.,  4.,  5.,  0.]])"
      ]
     },
     "execution_count": 93,
     "metadata": {},
     "output_type": "execute_result"
    }
   ],
   "source": [
    "A1 = swap(A, 1,0) \n",
    "A1"
   ]
  },
  {
   "cell_type": "code",
   "execution_count": 94,
   "id": "180bc6ed",
   "metadata": {},
   "outputs": [
    {
     "data": {
      "text/plain": [
       "array([[ 1., -1., -1., -0.],\n",
       "       [ 2.,  3.,  5.,  0.],\n",
       "       [ 5.,  4.,  5.,  0.]])"
      ]
     },
     "execution_count": 94,
     "metadata": {},
     "output_type": "execute_result"
    }
   ],
   "source": [
    "A2 = scale(A1 , 0, -1)\n",
    "A2"
   ]
  },
  {
   "cell_type": "code",
   "execution_count": 95,
   "id": "58981e3b",
   "metadata": {},
   "outputs": [
    {
     "data": {
      "text/plain": [
       "array([[ 1., -1., -1., -0.],\n",
       "       [ 0.,  5.,  7.,  0.],\n",
       "       [ 5.,  4.,  5.,  0.]])"
      ]
     },
     "execution_count": 95,
     "metadata": {},
     "output_type": "execute_result"
    }
   ],
   "source": [
    "A3 = replace(A2, 1,0,-2)\n",
    "A3"
   ]
  },
  {
   "cell_type": "code",
   "execution_count": 96,
   "id": "db9df850",
   "metadata": {},
   "outputs": [
    {
     "data": {
      "text/plain": [
       "array([[ 1., -1., -1., -0.],\n",
       "       [ 0.,  5.,  7.,  0.],\n",
       "       [ 0.,  9., 10.,  0.]])"
      ]
     },
     "execution_count": 96,
     "metadata": {},
     "output_type": "execute_result"
    }
   ],
   "source": [
    "A4 = replace(A3, 2,0,-5)\n",
    "A4"
   ]
  },
  {
   "cell_type": "code",
   "execution_count": 97,
   "id": "219961f0",
   "metadata": {},
   "outputs": [
    {
     "data": {
      "text/plain": [
       "array([[ 1. , -1. , -1. , -0. ],\n",
       "       [ 0. ,  1. ,  1.4,  0. ],\n",
       "       [ 0. ,  9. , 10. ,  0. ]])"
      ]
     },
     "execution_count": 97,
     "metadata": {},
     "output_type": "execute_result"
    }
   ],
   "source": [
    "A5 = scale(A4, 1, 1/5)\n",
    "A5"
   ]
  },
  {
   "cell_type": "code",
   "execution_count": 98,
   "id": "91d165de",
   "metadata": {},
   "outputs": [
    {
     "data": {
      "text/plain": [
       "array([[ 1. , -1. , -1. , -0. ],\n",
       "       [ 0. ,  1. ,  1.4,  0. ],\n",
       "       [ 0. ,  0. , -2.6,  0. ]])"
      ]
     },
     "execution_count": 98,
     "metadata": {},
     "output_type": "execute_result"
    }
   ],
   "source": [
    "A6 = replace(A5, 2,1, -9)\n",
    "A6"
   ]
  },
  {
   "cell_type": "markdown",
   "id": "55f4af3e",
   "metadata": {},
   "source": [
    "Representing this as a linear system, the last row of $A_6$ shows that $z = 0$, and thefore, $y = x= 0$. In other words, the only solution to this system is zero."
   ]
  },
  {
   "cell_type": "markdown",
   "id": "6ee9ec1b",
   "metadata": {},
   "source": [
    "## General Case: the solution set of non-homogenoues linear system:"
   ]
  },
  {
   "cell_type": "markdown",
   "id": "12247c4e",
   "metadata": {},
   "source": [
    "__Theorem 3__ \n",
    "\n",
    "Let $A\\vec{x}=\\vec{b}$ be a consistent system, and let $\\vec{p}$ be a solution. Then the solution set of $A\\vec{x}=\\vec{b}$ is the set of all vectors of the form $\\vec{p}+\\vec{h}$ where $\\vec{h}$ is any solution to the homogenoues system $A\\vec{x}=0$.\n",
    "\n",
    "\n",
    "\n",
    "__Example 4__ Describe the solution set of $A\\vec{x}=\\vec{b}$ where \n",
    "\n",
    "\n",
    "$A=\\begin{bmatrix} 3& 5& -4\\\\ -3& -2& 4\\\\ 6& 1& -8 \\end{bmatrix}$ and $\\vec{b}= \\begin{bmatrix} 7\\\\ -1\\\\ -4\\\\  \\end{bmatrix}$.\n",
    "\n",
    "__Solution__ :"
   ]
  },
  {
   "cell_type": "code",
   "execution_count": 99,
   "id": "48da223b",
   "metadata": {},
   "outputs": [
    {
     "data": {
      "text/plain": [
       "array([[ 3,  5, -4,  7],\n",
       "       [-3, -2,  4, -1],\n",
       "       [ 6,  1, -8, -4]])"
      ]
     },
     "execution_count": 99,
     "metadata": {},
     "output_type": "execute_result"
    }
   ],
   "source": [
    "# set up the augemented matrix [A|b]\n",
    "A = np.array([[3,5,-4,7], [-3,-2, 4,-1], [6,1,-8,-4]])\n",
    "A"
   ]
  },
  {
   "cell_type": "code",
   "execution_count": 100,
   "id": "1714a57e",
   "metadata": {},
   "outputs": [
    {
     "data": {
      "text/plain": [
       "array([[ 3.,  5., -4.,  7.],\n",
       "       [ 0.,  3.,  0.,  6.],\n",
       "       [ 6.,  1., -8., -4.]])"
      ]
     },
     "execution_count": 100,
     "metadata": {},
     "output_type": "execute_result"
    }
   ],
   "source": [
    "# Row reduce the augmented matrix to reduced echelon form:\n",
    "\n",
    "A1 = replace(A, 1,0,1)\n",
    "A1"
   ]
  },
  {
   "cell_type": "code",
   "execution_count": 101,
   "id": "f603af94",
   "metadata": {},
   "outputs": [
    {
     "data": {
      "text/plain": [
       "array([[  3.,   5.,  -4.,   7.],\n",
       "       [  0.,   3.,   0.,   6.],\n",
       "       [  0.,  -9.,   0., -18.]])"
      ]
     },
     "execution_count": 101,
     "metadata": {},
     "output_type": "execute_result"
    }
   ],
   "source": [
    "A2 = replace(A1, 2, 0, -2)\n",
    "A2"
   ]
  },
  {
   "cell_type": "code",
   "execution_count": 102,
   "id": "f8299d52",
   "metadata": {},
   "outputs": [
    {
     "data": {
      "text/plain": [
       "array([[ 3.,  5., -4.,  7.],\n",
       "       [ 0.,  3.,  0.,  6.],\n",
       "       [ 0.,  0.,  0.,  0.]])"
      ]
     },
     "execution_count": 102,
     "metadata": {},
     "output_type": "execute_result"
    }
   ],
   "source": [
    "A3 = replace(A2, 2, 1, 3)\n",
    "A3"
   ]
  },
  {
   "cell_type": "code",
   "execution_count": 103,
   "id": "b67d42cb",
   "metadata": {},
   "outputs": [
    {
     "data": {
      "text/plain": [
       "array([[ 3.,  0., -4., -3.],\n",
       "       [ 0.,  3.,  0.,  6.],\n",
       "       [ 0.,  0.,  0.,  0.]])"
      ]
     },
     "execution_count": 103,
     "metadata": {},
     "output_type": "execute_result"
    }
   ],
   "source": [
    "A4 = replace(A3, 0, 1, -5/3)\n",
    "A4"
   ]
  },
  {
   "cell_type": "code",
   "execution_count": 104,
   "id": "444598af",
   "metadata": {},
   "outputs": [
    {
     "data": {
      "text/plain": [
       "array([[ 1.        ,  0.        , -1.33333333, -1.        ],\n",
       "       [ 0.        ,  3.        ,  0.        ,  6.        ],\n",
       "       [ 0.        ,  0.        ,  0.        ,  0.        ]])"
      ]
     },
     "execution_count": 104,
     "metadata": {},
     "output_type": "execute_result"
    }
   ],
   "source": [
    "A5 = scale(A4, 0, 1/3)\n",
    "A5"
   ]
  },
  {
   "cell_type": "code",
   "execution_count": 105,
   "id": "c5ac290e",
   "metadata": {},
   "outputs": [
    {
     "data": {
      "text/plain": [
       "array([[ 1.        ,  0.        , -1.33333333, -1.        ],\n",
       "       [ 0.        ,  1.        ,  0.        ,  2.        ],\n",
       "       [ 0.        ,  0.        ,  0.        ,  0.        ]])"
      ]
     },
     "execution_count": 105,
     "metadata": {},
     "output_type": "execute_result"
    }
   ],
   "source": [
    "A6 = scale(A5, 1, 1/3)\n",
    "A6"
   ]
  },
  {
   "cell_type": "markdown",
   "id": "777b2643",
   "metadata": {},
   "source": [
    "Now we can express each dependent variable in terms of free variables:\n",
    "\n",
    "We have $x_1 - \\frac{4}{3} x_3 = -1$, $x_2= 2$, and $x_3$ is free. As a vector, the general solution of $A\\vec{x}=\\vec{b}$ is \n",
    "\n",
    "$$\\begin{bmatrix} x_1 \\\\ x_2 \\\\ x_3 \\\\ \\end{bmatrix} = \\begin{bmatrix} -1 + \\frac{4}{3} x_3\\\\ 2\\\\ x_3\\end{bmatrix} = \\begin{bmatrix} -1 \\\\ 2 \\\\ 0 \\end{bmatrix} + x_3 \\begin{bmatrix} \\frac{4}{3} \\\\ 0 \\\\ 1 \\end{bmatrix}$$"
   ]
  },
  {
   "cell_type": "markdown",
   "id": "b2c37224",
   "metadata": {},
   "source": [
    "## Exercises"
   ]
  },
  {
   "cell_type": "markdown",
   "id": "c532aeec",
   "metadata": {},
   "source": [
    "1.  Is $\\left\\lbrace\\ \\  \\begin{bmatrix} 1 \\\\ 2  \\\\3 \\end{bmatrix},  \n",
    "\\begin{bmatrix} 4 \\\\ 5  \\\\6 \\end{bmatrix}, \\begin{bmatrix} 7 \\\\ 8 \\\\9 \\end{bmatrix}\\ \\ \\right\\rbrace$ linearly independent or dependent?\n",
    "\n",
    "2. Describe the solution set of $A\\vec{x}=\\vec{b}$ where \n",
    "\n",
    "$$\n",
    "A = \\begin{bmatrix}\n",
    "1 & 4 & 7 \\\\\n",
    "2 & 5 & 8 \\\\\n",
    "3 & 6 & 9 \\\\\n",
    "\\end{bmatrix},\n",
    "\\quad\n",
    "\\vec{b} = \\begin{bmatrix}\n",
    "1 \\\\\n",
    "2 \\\\\n",
    "3 \\\\\n",
    "\\end{bmatrix},\n",
    "$$"
   ]
  }
 ],
 "metadata": {
  "kernelspec": {
   "display_name": "Python 3",
   "language": "python",
   "name": "python3"
  },
  "language_info": {
   "codemirror_mode": {
    "name": "ipython",
    "version": 3
   },
   "file_extension": ".py",
   "mimetype": "text/x-python",
   "name": "python",
   "nbconvert_exporter": "python",
   "pygments_lexer": "ipython3",
   "version": "3.8.5"
  }
 },
 "nbformat": 4,
 "nbformat_minor": 5
}
