{
 "cells": [
  {
   "cell_type": "markdown",
   "metadata": {},
   "source": [
    "# 3.2  Introduction to Linear Transformation\n",
    "\n",
    "This section introduces linear transformations (sometimes referred to as linear maps) and explores their relationship with linear systems. We discuss how the existence and uniqueness of solutions to linear systems can be reformulated in terms of linear transformations."
   ]
  },
  {
   "cell_type": "markdown",
   "metadata": {},
   "source": [
    "## Motivation"
   ]
  },
  {
   "cell_type": "markdown",
   "metadata": {},
   "source": [
    " \n",
    " In many applications, the matrix equation arises in a way that is not directly connected to linear combinations of vectors. In fact, we think of an $m \\times n$ matrix $A$ as a function that transforms $\\vec{x}\\in \\mathbb{R}^m$ to $A\\vec{x}\\in \\mathbb{R}^n$. With this perspective, finding the solution set of a linear system $A\\vec{x}=\\vec{b}$ is the same as finding the set of all $\\vec{x}$ that $A$ transforms into $\\vec{b}$. Theorem 1 in the previous section states that:\n",
    "\n",
    "1. $A(\\vec{u}+ \\vec{v}) = A \\vec{u} + A \\vec{v}$\n",
    "2. $A(c\\vec{u}) = c A\\vec{u}$\n",
    "\n",
    "In general any function with these properties is called  a _linear trasformation_. More precisely, a function $T: \\mathbb{R}^m \\to \\mathbb{R}^n$ is a linear transformation if it satisfies the following conditions:\n",
    "\n",
    "$$ T(\\vec{u} + \\vec{v}) = T(\\vec{u}) + T(\\vec{v}) \\quad \\forall \\vec{u}, \\vec{v} \\in \\mathbb{R}^m$$\n",
    "\n",
    "\n",
    "$$T(c \\vec{u}) = cT(\\vec{u}) \\quad \\forall \\vec{u}\\in \\mathbb{R}^m \\quad \\text{and} \\quad \\forall c\\in \\mathbb{R}$$\n",
    "\n",
    "\n",
    "These two conditions lead to the following useful fact:\n",
    "\n",
    "$T: \\mathbb{R}^m \\to \\mathbb{R}^n$ is a linear transformation if and only if \n",
    "\n",
    "1. $T(\\vec{0}) = \\vec{0}$ \n",
    "2. $T(c\\vec{u} + d\\vec{v}) = cT(\\vec{u}) + dT(\\vec{v}) \\quad \\forall \\vec{u}, \\vec{v} \\in \\mathbb{R}^m \\quad \\text{and}\\quad  \\forall c\\in \\mathbb{R}$\n",
    "\n",
    "\n",
    "The last property can also be generalized to $n$ vectors:\n",
    "\n",
    "$$\n",
    "T(c_1\\vec{u}_1 + c_2\\vec{u}_2 + \\dots + c_p\\vec{u}_p) = c_1T(\\vec{u}_1) + c_2T(\\vec{u}_2) + \\dots + c_pT(\\vec{u}_p) \\quad \\text{where} \\quad 1 \\leq i \\leq p\n",
    "$$\n",
    "\n",
    "\n",
    "\n",
    "This property states that $T$ preserves linear combinations of vectors.\n",
    "\n",
    "\n",
    "__Example 1:__\n",
    "\n",
    "Show that\n",
    "\n",
    "$T: \\mathbb{R}^2 \\rightarrow \\mathbb{R}^3$ given by\n",
    "\n",
    "$$\n",
    "T\\left( \\begin{bmatrix}\n",
    "x_1 \\\\ x_2\n",
    "\\end{bmatrix} \\right) = \\begin{bmatrix}\n",
    "2x_2 \\\\ 0 \\\\ 3x_1\n",
    "\\end{bmatrix}.\n",
    "$$\n",
    "\n",
    "is a linear transfornation.\n",
    "\n",
    "__Solution:__\n",
    "\n",
    " T is linear as shown below:\n",
    "\n",
    "1. $T\\left( \\begin{bmatrix}\n",
    "x_1 \\\\ x_2\n",
    "\\end{bmatrix} + \\begin{bmatrix}\n",
    "y_1 \\\\ y_2\n",
    "\\end{bmatrix} \\right) = T\\left( \\begin{bmatrix}\n",
    "x_1+y_1 \\\\ x_2+y_2\n",
    "\\end{bmatrix}  \\right) =  \\begin{bmatrix}\n",
    "2(x_2+y_2) \\\\ 0 \\\\ 3(x_1+y_1)\n",
    "\\end{bmatrix} =  \\begin{bmatrix}\n",
    "2x_2+2y_2 \\\\ 0 \\\\ 3x_1+3x_2\n",
    "\\end{bmatrix}.$\n",
    "\n",
    "\n",
    "\n",
    "$T\\left( \\begin{bmatrix}\n",
    "x_1 \\\\ x_2\n",
    "\\end{bmatrix}\\right) + T\\left(\\begin{bmatrix}\n",
    "y_1 \\\\ y_2\n",
    "\\end{bmatrix} \\right)  =  \\begin{bmatrix}\n",
    "2x_2 \\\\ 0 \\\\ 3x_1\n",
    "\\end{bmatrix} +\\begin{bmatrix}\n",
    "2y_2 \\\\ 0 \\\\ 3y_1\n",
    "\\end{bmatrix} =  \\begin{bmatrix}\n",
    "2x_2+2y_2 \\\\ 0 \\\\ 3x_1+3x_2\n",
    "\\end{bmatrix}.$\n",
    "\n",
    "\n",
    "2. $T\\left( c\\begin{bmatrix}\n",
    "x_1 \\\\ x_2\n",
    "\\end{bmatrix} \\right)  = T\\left( \\begin{bmatrix}\n",
    "c x_1 \\\\ c x_2\n",
    "\\end{bmatrix} \\right)     = \\begin{bmatrix}\n",
    "2cx_2 \\\\ 0 \\\\ 3cx_1\n",
    "\\end{bmatrix}.$\n",
    "\n",
    "$cT\\left( \\begin{bmatrix}\n",
    "x_1 \\\\ x_2\n",
    "\\end{bmatrix} \\right) = c\\begin{bmatrix}\n",
    "2x_2 \\\\ 0 \\\\ 3x_1\n",
    "\\end{bmatrix} = \\begin{bmatrix}\n",
    "c2x_2 \\\\ 0 \\\\ c3x_1\n",
    "\\end{bmatrix}.$\n",
    "\n",
    "Let's write a Python function for $T$:"
   ]
  },
  {
   "cell_type": "code",
   "execution_count": 2,
   "metadata": {},
   "outputs": [],
   "source": [
    "import numpy as np\n",
    "\n",
    "def T(V):\n",
    "    W = np.zeros((3, 1))  # return the zero vector in R^3\n",
    "    W[0, 0] = 2 * V[1, 0]  # change the first component to 2*x_2\n",
    "    W[2, 0] = 3 * V[0, 0]  # change the third component to 3*x_1\n",
    "    return W\n"
   ]
  },
  {
   "cell_type": "markdown",
   "metadata": {},
   "source": [
    "Now, let's plug in some vectors:"
   ]
  },
  {
   "cell_type": "code",
   "execution_count": 3,
   "metadata": {},
   "outputs": [
    {
     "name": "stdout",
     "output_type": "stream",
     "text": [
      "T(V): \n",
      " \n",
      " [[2.]\n",
      " [0.]\n",
      " [3.]]\n",
      "**********\n",
      "\n",
      " T(U):  \n",
      "\n",
      " [[0.]\n",
      " [0.]\n",
      " [0.]]\n"
     ]
    }
   ],
   "source": [
    "# input vectors\n",
    "V = np.array([[1], [1]])\n",
    "\n",
    "U = np.array([[0], [0]])\n",
    "\n",
    "#output vectors\n",
    "W1 = T(V)\n",
    "W2 = T(U)\n",
    "\n",
    "print('T(V): \\n \\n', W1)\n",
    "\n",
    "print(10*'*')\n",
    "\n",
    "print('\\n T(U):  \\n\\n', W2)"
   ]
  },
  {
   "cell_type": "markdown",
   "metadata": {},
   "source": [
    "__Example 2__\n",
    "\n",
    "\n",
    "\n",
    "Determine if $T: \\mathbb{R}^2 \\rightarrow \\mathbb{R}^3$ given by\n",
    "\n",
    "$$\n",
    "T\\left( \\begin{bmatrix}\n",
    "x_1 \\\\ x_2\n",
    "\\end{bmatrix} \\right) = \\begin{bmatrix}\n",
    "2x_2 \\\\ 1 \\\\ 3x_1\n",
    "\\end{bmatrix}.\n",
    "$$\n",
    "\n",
    "is a linear transformation.\n",
    "\n",
    "__Solutin:__ T is not linear, since\n",
    "\n",
    "$\n",
    "T \\left( \\begin{bmatrix} 0 \\\\ 0 \\end{bmatrix} \\right) = \\begin{bmatrix} 0 \\\\ 1 \\\\ 0 \\end{bmatrix} \\neq \\begin{bmatrix} 0 \\\\ 0 \\\\ 0 \\end{bmatrix}\n",
    "$\n",
    "\n",
    "__Example 3__\n",
    "\n",
    "Let $A=\\begin{bmatrix} 1 & 0 & 0 \\\\ 0 & 1 & 0 \\\\ 0 & 0 & 0 \\end{bmatrix}$. Prove that the transformation $T: \\mathbb{R}^3 \\rightarrow \\mathbb{R}^3$ defined by $T(\\vec{x})= A\\vec{x}$ is a linear transformation. $T$ is called the __projection__ onto the $xy$-plane.\n",
    "\n",
    "__Solution:__\n",
    "\n",
    "The transformation $T$ is defined by a matrix multiplication. According to Theorem 1 in the previous section, the matrix product satisfies the linearity property. $T$ is called a projection because when applied to $\\vec{u} = \\begin{bmatrix} x\\\\ y\\\\ z \\end{bmatrix}$, it doesn't affect the first two components and replaces $z$ with zero. Let's verify this by evaluating it for $\\vec{u} = \\begin{bmatrix} 1\\\\ 3\\\\ 5 \\end{bmatrix}$:"
   ]
  },
  {
   "cell_type": "code",
   "execution_count": 6,
   "metadata": {
    "scrolled": true
   },
   "outputs": [
    {
     "name": "stdout",
     "output_type": "stream",
     "text": [
      "T maps \n",
      "\n",
      " [[1]\n",
      " [3]\n",
      " [5]] \n",
      "\n",
      " to \n",
      "\n",
      " [[1]\n",
      " [3]\n",
      " [0]]\n"
     ]
    }
   ],
   "source": [
    "# matrix A\n",
    "A = np.array([[1,0,0],[0,1,0],[0,0,0]])\n",
    "\n",
    "# vector U\n",
    "U = np.array([[1,3,5]]).T\n",
    "\n",
    "\n",
    "print('T maps \\n\\n', U,'\\n\\n to \\n\\n', A @ U)"
   ]
  },
  {
   "cell_type": "markdown",
   "metadata": {},
   "source": [
    "__Example 4__\n",
    "\n",
    "Let $A=\\begin{bmatrix} 1 & \\lambda \\\\ 0 & 1 \\end{bmatrix}$. Then, the transformation $T: \\mathbb{R}^2 \\rightarrow \\mathbb{R}^2$ defined by $T(\\vec{x})= A\\vec{x}$ is a linear transformation and is called a __shear transformation__. \n",
    "\n",
    "For $\\lambda = 2$, we have:"
   ]
  },
  {
   "cell_type": "code",
   "execution_count": 8,
   "metadata": {},
   "outputs": [
    {
     "name": "stdout",
     "output_type": "stream",
     "text": [
      "T maps \n",
      "\n",
      " [1 0] \n",
      "\n",
      " to \n",
      "\n",
      " [1 0]\n",
      "**********\n",
      "T maps \n",
      "\n",
      " [0 1] \n",
      "\n",
      " to \n",
      "\n",
      " [2 1]\n"
     ]
    }
   ],
   "source": [
    "# matrix A\n",
    "A = np.array([[1,2],[0,1]])  \n",
    "\n",
    "# inpout data \n",
    "e1 = np.array([1,0])\n",
    "e2 = np.array([0,1])\n",
    "\n",
    "#output \n",
    "w1 = A @ e1\n",
    "w2 = A @ e2\n",
    "\n",
    "\n",
    "print('T maps \\n\\n', e1,'\\n\\n to \\n\\n', w1)\n",
    "\n",
    "print(10*'*')\n",
    "\n",
    "print('T maps \\n\\n', e2,'\\n\\n to \\n\\n', w2)"
   ]
  },
  {
   "cell_type": "markdown",
   "metadata": {},
   "source": [
    "Lets plot these vectors:"
   ]
  },
  {
   "cell_type": "code",
   "execution_count": 10,
   "metadata": {},
   "outputs": [
    {
     "data": {
      "image/png": "[encoded data removed]",
      "text/plain": [
       "<Figure size 432x288 with 1 Axes>"
      ]
     },
     "metadata": {
      "needs_background": "light"
     },
     "output_type": "display_data"
    }
   ],
   "source": [
    "import matplotlib.pyplot as plt\n",
    "\n",
    "ax = plt.axes()\n",
    "\n",
    "ax.arrow(0, 0, 1, 0, head_width = 0.2,head_length = 0.2, fc ='b', ec ='b')\n",
    "ax.arrow(0, 0, 1, 0, head_width = 0.2,head_length = 0.2, fc ='r', ec ='r')\n",
    "\n",
    "ax.arrow(0, 0, 0, 1, head_width = 0.2,head_length = 0.2, fc ='b', ec ='b')\n",
    "ax.arrow(0, 0, 2, 1, head_width = 0.2,head_length = 0.2, fc ='r', ec ='r')\n",
    "\n",
    "ax.text(0.8,0 - 0.5,'$e1 = w1$')\n",
    "ax.text(0,1.3,'$e2$')\n",
    "ax.text(2.2,1.2,'$w2$')\n",
    "            \n",
    "ax.set_xticks(np.arange( -1, 5, step = 1))\n",
    "ax.set_yticks(np.arange( -1, 5, step = 1))\n",
    "ax.set_aspect('equal')\n",
    "\n",
    "ax.set_xlabel(\"X\")\n",
    "ax.set_ylabel(\"Y\")\n",
    "    \n",
    "plt.grid()\n",
    "plt.show()\n"
   ]
  },
  {
   "cell_type": "markdown",
   "metadata": {},
   "source": [
    "Observe that all points along $y$-axis remain fixed while other points are shifted parallel to $y$-axis by a distance proportional to their perpendicular distance from $x$-axis; more perciesley, $T(\\begin{bmatrix} x \\\\ y \\end{bmatrix}) = \\begin{bmatrix} x+2y \\\\ y \\end{bmatrix}$. \n",
    "\n",
    "\n",
    "Shearing a plane figure does not change its area. The shear transformation can also be generalized to three dimensions:\n",
    "\n",
    "Let $A=\\begin{bmatrix} 1 & 0 & \\lambda \\\\ 0 & 1 & 0 \\\\ 0 & 0 & 1 \\end{bmatrix}$. Then, the transformation $T: \\mathbb{R}^3 \\rightarrow \\mathbb{R}^3$ defined by $T(\\vec{x})= A\\vec{x}$ is a shear transformation.\n"
   ]
  },
  {
   "cell_type": "markdown",
   "metadata": {},
   "source": [
    "## The standard matrix representation of a linear transformation"
   ]
  },
  {
   "cell_type": "markdown",
   "metadata": {},
   "source": [
    "As we have seen previously, any $m \\times n$ matrix $A$ defines a linear transformation $T: \\mathbb{R}^n \\rightarrow \\mathbb{R}^m$ given by $\\vec{x} \\mapsto A\\vec{x}$. The converse of this statement is also true, as stated in the following theorem:\n",
    "\n",
    "__Theorem 1:__ \n",
    "\n",
    "Let $T: \\mathbb{R}^n \\rightarrow \\mathbb{R}^m$ be a linear transformation. There exists a unique $m \\times n$ matrix $A$ such that $T(\\vec{x}) = A\\vec{x}$ for all $\\vec{x} \\in \\mathbb{R}^n$. In fact, the $i$th column of matrix $A$ is given by $T(\\vec{e_i})$, where $\\vec{e_i} \\in \\mathbb{R}^n$ represents the $i$th column of the identity matrix $I_n$.\n",
    "\n",
    "The matrix $A$ is called __the standard matrix representation__ of $T$. The name is motivated by the fact that we are using the standard basis of $\\mathbb{R}^n$, $\\vec{e_i}$s, to contruct $A$.\n",
    "\n",
    "__Example 5__\n",
    "\n",
    "Find the standard matrix representation of the linear transformation in Example 1.\n",
    "\n",
    "__Solution:__ \n",
    "\n",
    "We apply $T$ to the standard basis vectors $\\vec{e_1} = \\begin{bmatrix} 1 \\\\ 0 \\end{bmatrix}$ and $\\vec{e_2} = \\begin{bmatrix} 0 \\\\ 1 \\end{bmatrix}$ to obtain the columns of the matrix representation $D$ of $T$:\n",
    "\n",
    "$T(\\vec{e_1}) = \\begin{bmatrix} 2(0) \\\\ 0 \\\\ 3(1) \\end{bmatrix} = \\begin{bmatrix} 0 \\\\ 0 \\\\ 3 \\end{bmatrix}$\n",
    "\n",
    "$T(\\vec{e_2}) = \\begin{bmatrix} 2(1) \\\\ 0 \\\\ 3(0) \\end{bmatrix} = \\begin{bmatrix} 2 \\\\ 0 \\\\ 0 \\end{bmatrix}$\n",
    "\n",
    "Thus, the standard matrix representation $D$ of $T$ is:\n",
    "\n",
    "$$ \n",
    "D = \\begin{bmatrix} 0 & 2 \\\\ 0 & 0 \\\\ 3 & 0\\end{bmatrix}\n",
    "$$\n",
    "\n",
    "Lets write a python code for this example and verify our solution:"
   ]
  },
  {
   "cell_type": "code",
   "execution_count": 11,
   "metadata": {},
   "outputs": [
    {
     "data": {
      "text/plain": [
       "array([[0., 2.],\n",
       "       [0., 0.],\n",
       "       [3., 0.]])"
      ]
     },
     "execution_count": 11,
     "metadata": {},
     "output_type": "execute_result"
    }
   ],
   "source": [
    "def T(V):\n",
    "    W = np.zeros((3,1)) #returns the zero vector in R^3 \n",
    "    W[0,0] = 2*V[1,0]   #changes the first component to 2*x_1\n",
    "    W[2,0] = 3*V[0,0]   #changes the third component to 3*x_2\n",
    "    return W\n",
    "\n",
    "e1 = np.array([[1],[0]])\n",
    "e2 = np.array([[0],[1]])\n",
    "\n",
    "#the first column of A\n",
    "\n",
    "c1 = T(e1)\n",
    "\n",
    "#the second column of A\n",
    "\n",
    "c2 = T(e2)\n",
    "\n",
    "# formaing D\n",
    "\n",
    "D = np.concatenate((c1,c2), axis =1)\n",
    "\n",
    "D"
   ]
  },
  {
   "cell_type": "markdown",
   "metadata": {},
   "source": [
    "In Example 1, we saw that $T(\\begin{bmatrix} 1\\\\1\\\\ \\end{bmatrix})= \\begin{bmatrix} 2\\\\0\\\\3\\\\ \\end{bmatrix}$.\n",
    "Let's verify that $D\\begin{bmatrix} 1\\\\1\\\\ \\end{bmatrix} = \\begin{bmatrix} 2\\\\0\\\\3\\\\ \\end{bmatrix}$:"
   ]
  },
  {
   "cell_type": "code",
   "execution_count": 12,
   "metadata": {},
   "outputs": [
    {
     "data": {
      "text/plain": [
       "array([[2.],\n",
       "       [0.],\n",
       "       [3.]])"
      ]
     },
     "execution_count": 12,
     "metadata": {},
     "output_type": "execute_result"
    }
   ],
   "source": [
    "v = np.array([[1],[1]])\n",
    "\n",
    "D @ v "
   ]
  },
  {
   "cell_type": "markdown",
   "metadata": {},
   "source": [
    "__Example 6:__\n",
    "\n",
    "Consider the linear transformation $T: \\mathbb{R}^2 \\rightarrow \\mathbb{R}^2$ defined as follows: $T\\left(\\vec{x}\\right)$ first reflects $\\vec{x}$ across the $x$-axis and then rotates it $90^\\circ$ counterclockwise. Find the standard matrix representation of $T$.\n",
    "\n",
    "__Solution:__\n",
    "\n",
    "To find the standard matrix representation of $T$ we apply $T$ to the standard basis vectors of $\\mathbb{R}^2$:\n",
    "\n",
    "$T$ reflects $\\begin{bmatrix} 1 \\\\ 0 \\end{bmatrix}$ to itself and then rotates it to $\\begin{bmatrix} 0 \\\\ 1 \\end{bmatrix}$.\n",
    "\n",
    "$T$ reflects $\\begin{bmatrix} 0 \\\\ 1 \\end{bmatrix}$ to $\\begin{bmatrix} 0 \\\\ -1 \\end{bmatrix}$ and then rotates it to $\\begin{bmatrix} 1 \\\\ 0 \\end{bmatrix}$.\n",
    "\n",
    "Therefore, the standard matrix of $T$ is $\\begin{bmatrix} 0 & 1 \\\\ 1 & 0 \\end{bmatrix}$.\n",
    "\n"
   ]
  },
  {
   "cell_type": "code",
   "execution_count": 43,
   "metadata": {},
   "outputs": [
    {
     "data": {
      "image/png": "[encoded data removed]",
      "text/plain": [
       "<Figure size 432x288 with 1 Axes>"
      ]
     },
     "metadata": {
      "needs_background": "light"
     },
     "output_type": "display_data"
    }
   ],
   "source": [
    "import matplotlib.pyplot as plt\n",
    "\n",
    "ax = plt.axes()\n",
    "\n",
    "ax.arrow(0, 0, 1, 0, head_width = 0.2,head_length = 0.2, fc ='b', ec ='b')\n",
    "ax.arrow(0, 0, 0, 1, head_width = 0.2,head_length = 0.2, fc ='r', ec ='r')\n",
    "\n",
    "\n",
    "ax.text(1,0 - 0.5,'e1')\n",
    "ax.text(0,1 + 0.5,'T(e1)')\n",
    "\n",
    "\n",
    "            \n",
    "ax.set_xticks(np.arange( -1, 5, step = 1))\n",
    "ax.set_yticks(np.arange( -1, 5, step = 1))\n",
    "ax.set_aspect('equal')\n",
    "\n",
    "ax.set_xlabel(\"X\")\n",
    "ax.set_ylabel(\"Y\")\n",
    "    \n",
    "plt.grid()\n",
    "plt.show()"
   ]
  },
  {
   "cell_type": "code",
   "execution_count": 13,
   "metadata": {},
   "outputs": [
    {
     "data": {
      "image/png": "[encoded data removed]",
      "text/plain": [
       "<Figure size 432x288 with 1 Axes>"
      ]
     },
     "metadata": {
      "needs_background": "light"
     },
     "output_type": "display_data"
    }
   ],
   "source": [
    "ax = plt.axes()\n",
    "\n",
    "ax.arrow(0, 0, 0, 1, head_width = 0.2,head_length = 0.2, fc ='b', ec ='b')\n",
    "ax.arrow(0, 0, 1, 0, head_width = 0.2,head_length = 0.2, fc ='r', ec ='r')\n",
    "\n",
    "\n",
    "ax.text(0,1 + 0.5,'$e2$')\n",
    "ax.text(1,0 - 0.5,'$T(e2)$')\n",
    "\n",
    "            \n",
    "ax.set_xticks(np.arange( -1, 5, step = 1))\n",
    "ax.set_yticks(np.arange( -1, 5, step = 1))\n",
    "ax.set_aspect('equal')\n",
    "\n",
    "ax.set_xlabel(\"X\")\n",
    "ax.set_ylabel(\"Y\")\n",
    "    \n",
    "plt.grid()\n",
    "plt.show()"
   ]
  },
  {
   "cell_type": "markdown",
   "metadata": {},
   "source": [
    "## Exercise"
   ]
  },
  {
   "cell_type": "markdown",
   "metadata": {},
   "source": [
    "\n",
    "1. Determine if each transformation is linear\n",
    "\n",
    "\n",
    "   a. $T: \\mathbb{R}^2 \\rightarrow \\mathbb{R}^2$ given by\n",
    "\n",
    "$$\n",
    "T\\left( \\begin{bmatrix} x_1 \\\\ x_2  \\end{bmatrix} \\right) = \\begin{bmatrix} x_2 \\\\ -x_1\n",
    "\\end{bmatrix}.\n",
    "$$\n",
    "\n",
    "\n",
    "\n",
    "   b. $T: \\mathbb{R}^2 \\rightarrow \\mathbb{R}^2$ given by \n",
    "    \n",
    "$$\n",
    "T\\left( \\begin{bmatrix} x_1 \\\\ x_2  \\end{bmatrix} \\right) = \\begin{bmatrix} (x_1)^2 \\\\ 0 \\end{bmatrix}.\n",
    "$$\n",
    "\n",
    "\n",
    "\n",
    "\n",
    "2. Find the standard matrix of $T: \\mathbb{R}^2 \\rightarrow \\mathbb{R}^2$ given by $T(\\vec{x}) =$ first reflect $\\vec{x}$ across the $x$-axis and then rotate $45^\\circ$ counterclockwise.\n",
    "\n",
    "\n",
    "\n",
    "\n",
    "\n",
    "3. Suppose $T: \\mathbb{R}^2 \\rightarrow \\mathbb{R}^3$ is a linear map and \n",
    "\n",
    "$$\n",
    "T\\left( \\begin{bmatrix} 1 \\\\ 0 \\end{bmatrix} \\right) = \\begin{bmatrix} 1 \\\\ 2 \\\\ 3\n",
    "\\end{bmatrix} \\quad \\text{and} \\quad  T\\left( \\begin{bmatrix}\n",
    "0 \\\\ 1 \\end{bmatrix} \\right) = \\begin{bmatrix} 0 \\\\ 1 \\\\ -1 \\end{bmatrix}.\n",
    "$$\n",
    "\n",
    "Find \n",
    "$T \\begin{bmatrix}\n",
    "2 \\\\ 3\n",
    "\\end{bmatrix}$. \n",
    "\n"
   ]
  },
  {
   "cell_type": "code",
   "execution_count": null,
   "metadata": {},
   "outputs": [],
   "source": []
  }
 ],
 "metadata": {
  "kernelspec": {
   "display_name": "Python 3",
   "language": "python",
   "name": "python3"
  },
  "language_info": {
   "codemirror_mode": {
    "name": "ipython",
    "version": 3
   },
   "file_extension": ".py",
   "mimetype": "text/x-python",
   "name": "python",
   "nbconvert_exporter": "python",
   "pygments_lexer": "ipython3",
   "version": "3.8.5"
  }
 },
 "nbformat": 4,
 "nbformat_minor": 4
}
