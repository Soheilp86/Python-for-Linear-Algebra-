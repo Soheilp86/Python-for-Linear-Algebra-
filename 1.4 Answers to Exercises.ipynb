{
 "cells": [
  {
   "cell_type": "markdown",
   "id": "b979137c",
   "metadata": {},
   "source": [
    "# 1.3 Answers to Exercises"
   ]
  },
  {
   "cell_type": "markdown",
   "id": "7bfb9178",
   "metadata": {},
   "source": [
    "## 1.1 Linear Systems"
   ]
  },
  {
   "cell_type": "markdown",
   "id": "21f1a21a",
   "metadata": {},
   "source": [
    "1. Find a linear system containing two equations in two unknowns that has infinitely many solutions. Verify your answer by plotting the lines of these equations on the same plane.\n",
    "\n",
    "__Solution__:\n",
    "\n",
    "The following system is consistent and has infinitely many solutions:\n",
    "\n",
    "\\begin{align*}\n",
    "    2x_1 - x_2 &= 1 \\\\ \n",
    "    4x_1 - 2x_2 &= 2 \\\\ \n",
    "\\end{align*}\n",
    "\n",
    "We expect that the graph of these two lines coincide. Lets plot the graph of these lines on the same plane:"
   ]
  },
  {
   "cell_type": "code",
   "execution_count": 8,
   "id": "73e97d60",
   "metadata": {},
   "outputs": [
    {
     "data": {
      "image/png": "[encoded data removed]",
      "text/plain": [
       "<Figure size 432x288 with 1 Axes>"
      ]
     },
     "metadata": {
      "needs_background": "light"
     },
     "output_type": "display_data"
    }
   ],
   "source": [
    "import matplotlib.pyplot as plt\n",
    "import numpy as np\n",
    "\n",
    "# Data for plotting\n",
    "\n",
    "x = range(-5, 5)\n",
    "y1 = [ 2*k-1 for k in x]\n",
    "y2 = [ 2*k-1 for k in x]\n",
    "\n",
    "fig, ax = plt.subplots()\n",
    "\n",
    "# Specify the length of each axis\n",
    "ax.set_xlim(-5,5)\n",
    "ax.set_ylim(-5,5)\n",
    "\n",
    "#Plot x and y1 using blue color\n",
    "ax.plot(x, y1, color = 'b')\n",
    "ax.text(-4,-4.5,'$2x_1 - x_2 = 1$', color = 'b')\n",
    "\n",
    "#Plot x and y2 using red color\n",
    "ax.plot(x, y2, color = 'r')\n",
    "ax.text(3,4,'$2x_1 -4x_2 = 2$', color = 'r')\n",
    "\n",
    "\n",
    "# Add labels and a title to the graph\n",
    "ax.set(xlabel=' x', ylabel='y',\n",
    "       title=' This linear system is consistent')\n",
    "ax.grid()\n",
    "\n",
    "plt.show()"
   ]
  },
  {
   "cell_type": "markdown",
   "id": "450fb55d",
   "metadata": {},
   "source": [
    "2. Find a linear system that is equivalent to the linear system in Example 1.\n",
    "\n",
    "__Solution:__\n",
    "\n",
    "Any system that has the same solution set as the linear system in Example 1 is considered equivalent. Since the solution set is $\\{(0, -1)\\}$, the following system is an example of such a system:\n",
    "\n",
    "\\begin{align*}\n",
    "    x_1 &= 0 \\\\ \n",
    "    x_2 &= -1 \\\\ \n",
    "\\end{align*}"
   ]
  },
  {
   "cell_type": "code",
   "execution_count": 9,
   "id": "b2fe0926",
   "metadata": {},
   "outputs": [
    {
     "data": {
      "image/png": "[encoded data removed]",
      "text/plain": [
       "<Figure size 432x288 with 1 Axes>"
      ]
     },
     "metadata": {
      "needs_background": "light"
     },
     "output_type": "display_data"
    }
   ],
   "source": [
    "# Data for plotting\n",
    "\n",
    "r = range(-5, 5)\n",
    "x1 = [ 0 for k in r]\n",
    "y1 = [-1 for k in r]\n",
    "\n",
    "fig, ax = plt.subplots()\n",
    "\n",
    "# Specify the length of each axis\n",
    "ax.set_xlim(-4,4)\n",
    "ax.set_ylim(-4,4)\n",
    "\n",
    "#Plot x and y1 using blue color\n",
    "ax.plot(x1, r, color = 'b')\n",
    "ax.text(-1.2,-3,'$x_1 = 0$', color = 'b')\n",
    "\n",
    "#Plot x and y2 using red color\n",
    "ax.plot(x, y1, color = 'r')\n",
    "ax.text(0.5,-0.5, '$x_2 = -1$', color = 'r')\n",
    "\n",
    "\n",
    "# Add labels and a title to the graph\n",
    "ax.set(xlabel=' x', ylabel='y',\n",
    "       title=' This linear system is consistent')\n",
    "ax.grid()\n",
    "\n",
    "plt.show()"
   ]
  },
  {
   "cell_type": "markdown",
   "id": "dc99dc27",
   "metadata": {},
   "source": [
    "3. Determine which of the following matrices are in REF. For those that are, identify their pivot columns. Are any in RREF?\n",
    "\n",
    "\n",
    "$A = \\begin{bmatrix} 0 & 0 & 4 &-1 && 0\\\\ 0 & 0 & 0 &0 && 0 \\\\ 0 & 0& 0 & 0 &&3\\end{bmatrix}$\n",
    "\n",
    "$B = \\begin{bmatrix} 1 & 1 & 0 && 1\\\\  0 & 1 & 1 &&0\\\\ 0 & 0 & 1 &&1 \\end{bmatrix}$\n",
    "\n",
    "$C = \\begin{bmatrix} 1 & 0 & 3 && 0\\\\  0 & 1 & 0 &&0\\\\ 0 & 0 & 0 &&1 \\end{bmatrix}$\n",
    "\n",
    "$D = \\begin{bmatrix} 0 & 1 & 2\\\\ 1 & 0 & 3\\\\ 4 & -3 & 8 \\end{bmatrix}$"
   ]
  },
  {
   "cell_type": "markdown",
   "id": "babcb9a6",
   "metadata": {},
   "source": [
    "A matrix is in row echelon form (REF) if it satisfies the following conditions:\n",
    "\n",
    "1. The rows with all zeros must be at the bottom.\n",
    "\n",
    "2. Every leading term of a row must be in a column to the right of the leading entry.\n",
    "\n",
    "3. Entries below a leading entry must be zero.\n",
    "\n",
    "Let's analyze each matrix and determine if they are in REF:\n",
    "\n",
    "- Matrix A is not in REF because it does not satisfy the first condition (rows with all zeros must be at the bottom).\n",
    "\n",
    "- Matrix B is in REF as it satisfies all the conditions.\n",
    "\n",
    "- Matrix C is in REF as it satisfies all the conditions.\n",
    "\n",
    "None of the matrices A, B, or C are in reduced row echelon form (RREF) because the conditions for RREF include having a pivot of 1 in every row, and both matrix A and matrix C have nonzero pivots other than 1."
   ]
  },
  {
   "cell_type": "markdown",
   "id": "e1cc3085",
   "metadata": {},
   "source": [
    "4. For the above matrices, write the corresponding linear systems and find their solutions.\n",
    "\n",
    "__Solution:__\n",
    "\n",
    "$A:$\n",
    "\n",
    "\\begin{align*}\n",
    "    4x_3 - 5x_4 &= 0 \\\\ \n",
    "    0 &= 0 \\\\\n",
    "    0 &= 3 \\\\\n",
    "\\end{align*}\n",
    "\n",
    "Clearly, because of the last equation, this system is inconsistent.\n",
    "\n",
    "$B:$\n",
    "\n",
    "\\begin{align*}\n",
    "    x_1 + x_2 &= 1 \\\\ \n",
    "    x_2 + x_3 &= 0 \\\\\n",
    "    x_3 &= 1 \\\\\n",
    "\\end{align*}\n",
    "\n",
    "By back substitution, we can see that $x_1 = -x_2 = x_3 = 1$.\n",
    "\n",
    "$C:$\n",
    "\n",
    "\\begin{align*}\n",
    "    x_1 + 3x_3 &= 0 \\\\ \n",
    "    x_2 &= 0 \\\\\n",
    "    0 &= 1 \\\\\n",
    "\\end{align*}\n",
    "\n",
    "Clearly, because of the last equation, this system is inconsistent."
   ]
  },
  {
   "cell_type": "markdown",
   "id": "4dd631ac",
   "metadata": {},
   "source": [
    "5. Find the REF of $D = \\begin{bmatrix} 0 & 1 & 2\\\\ 1 & 0 & 3\\\\ 4 & -3 & 8 \\end{bmatrix}$.\n",
    "\n",
    "__Solution__"
   ]
  },
  {
   "cell_type": "code",
   "execution_count": 11,
   "id": "d5fbc46b",
   "metadata": {},
   "outputs": [],
   "source": [
    "D = np.array([[0,1,2],[1,0,3],[4,-3,8]])\n",
    "\n",
    "# Elementry row operations:\n",
    "\n",
    "# Swap two rows\n",
    "\n",
    "def swap(matrix, row1, row2):\n",
    "    \n",
    "    copy_matrix=np.copy(matrix).astype('float64') \n",
    "  \n",
    "    copy_matrix[row1,:] = matrix[row2,:]\n",
    "    copy_matrix[row2,:] = matrix[row1,:]\n",
    "    \n",
    "    return copy_matrix\n",
    "\n",
    "\n",
    "# Multiple all entries in a row by a nonzero number\n",
    "\n",
    "\n",
    "def scale(matrix, row, scalar):\n",
    "    copy_matrix=np.copy(matrix).astype('float64') \n",
    "    copy_matrix[row,:] = scalar*matrix[row,:]  \n",
    "    return copy_matrix\n",
    "\n",
    "# Replacing a row by the sum of itself and a multiple of another \n",
    "\n",
    "def replace(matrix, row1, row2, scalar):\n",
    "    copy_matrix=np.copy(matrix).astype('float64')\n",
    "    copy_matrix[row1] = matrix[row1]+ scalar * matrix[row2] \n",
    "    return copy_matrix"
   ]
  },
  {
   "cell_type": "code",
   "execution_count": 12,
   "id": "2e6018c8",
   "metadata": {},
   "outputs": [
    {
     "data": {
      "text/plain": [
       "array([[ 1.,  0.,  3.],\n",
       "       [ 0.,  1.,  2.],\n",
       "       [ 4., -3.,  8.]])"
      ]
     },
     "execution_count": 12,
     "metadata": {},
     "output_type": "execute_result"
    }
   ],
   "source": [
    "D1 = swap(D, 0, 1)\n",
    "D1"
   ]
  },
  {
   "cell_type": "code",
   "execution_count": 13,
   "id": "0e3d9a72",
   "metadata": {},
   "outputs": [
    {
     "data": {
      "text/plain": [
       "array([[ 1.,  0.,  3.],\n",
       "       [ 0.,  1.,  2.],\n",
       "       [ 0., -3., -4.]])"
      ]
     },
     "execution_count": 13,
     "metadata": {},
     "output_type": "execute_result"
    }
   ],
   "source": [
    "D2 = replace(D1, 2, 0, -4)\n",
    "D2"
   ]
  },
  {
   "cell_type": "code",
   "execution_count": 14,
   "id": "573567fe",
   "metadata": {},
   "outputs": [
    {
     "data": {
      "text/plain": [
       "array([[1., 0., 3.],\n",
       "       [0., 1., 2.],\n",
       "       [0., 0., 2.]])"
      ]
     },
     "execution_count": 14,
     "metadata": {},
     "output_type": "execute_result"
    }
   ],
   "source": [
    "D3 = replace(D2, 2, 1, 3)\n",
    "D3"
   ]
  },
  {
   "cell_type": "markdown",
   "id": "cc044e5f",
   "metadata": {},
   "source": [
    "## 1.2 Solution set of linear systems "
   ]
  },
  {
   "cell_type": "markdown",
   "id": "c9e25356",
   "metadata": {},
   "source": [
    "1. Given the system of equations:\n",
    "\\begin{align*}\n",
    "3x + 2y &= 1 \\\\\n",
    "x - 2y + z &= 5 \\\\\n",
    "2x - z &= 0\n",
    "\\end{align*}\n",
    "\n",
    "Write this system as:\n",
    "   1. a vector equation.\n",
    "   2. a matrix equation.\n",
    "   \n",
    "   \n",
    "   \n",
    "__Solution:__\n",
    "\n",
    "-Vector Equation:\n",
    "\n",
    "$$\n",
    "x\\begin{bmatrix} 3 \\\\ 1 \\\\ 2 \\end{bmatrix} + y \\begin{bmatrix} 2 \\\\ -2 \\\\ 0 \\end{bmatrix} + z \\begin{bmatrix} 0 \\\\ 1 \\\\ -1 \\end{bmatrix} =  \\begin{bmatrix} 1 \\\\ 5 \\\\ 0 \\end{bmatrix}\n",
    "$$\n",
    "\n",
    "-Matrix Equation: \n",
    "\n",
    "$$\n",
    "\\begin{bmatrix} 3 & 2 & 0 \\\\ 1 & -2 & 1 \\\\ 2 & 0 & -1 \\\\\\end{bmatrix} \\begin{bmatrix} x \\\\ y \\\\ z \\end{bmatrix} = \\begin{bmatrix} 1 \\\\ 5 \\\\ 0 \\end{bmatrix}\n",
    "$$   "
   ]
  },
  {
   "cell_type": "markdown",
   "id": "d670e226",
   "metadata": {},
   "source": [
    "2. True or False?\n",
    "\n",
    "   (a). $\\vec{0} \\in \\text{span} \\{\\vec{v}_1, \\vec{v}_2, \\vec{v}_3\\}$.\n",
    "   \n",
    "   (b). $\\vec{v}_1 \\in \\text{span} \\{\\vec{v}_1, \\vec{v}_2, \\vec{v}_3\\}$.\n",
    "   \n",
    "   (c). $\\text{span} \\{\\vec{v}_1, \\vec{v}_2\\} \\subseteq \\text{span} \\{\\vec{v}_1, \\vec{v}_2, \\vec{v}_3\\}$.\n",
    "   \n",
    "   (d). A set 4 vectors must be linearly DEPENDENT in $\\mathbb{R}^3$.\n",
    "\n",
    "__Solution:__\n",
    "\n",
    "(a) \n",
    "\n",
    "True. The zero vector is always in the span of any set of vectors. This is because the span of a set of vectors includes all possible linear combinations of those vectors, and \n",
    "\n",
    "\n",
    "$$\n",
    "\\vec{0} = 0\\vec{v_1} + 0 \\vec{v_2} + 0\\vec{v_3}\n",
    "$$\n",
    "\n",
    "is a linear combination of $\\vec{v_1}, \\vec{v_2}$ and $\\vec{v_3}$.\n",
    "\n",
    "\n",
    "\n",
    "(b) \n",
    "\n",
    "$\\vec{v}_1 \\in \\text{span} \\{\\vec{v}_1, \\vec{v}_2, \\vec{v}_3\\}$: \n",
    "\n",
    "True. Since $\\vec{v}_1$ is a linear combination of  $\\vec{v}_1, \\vec{v}_2$ and  $\\vec{v}_3\\}$:\n",
    "\n",
    "\n",
    "$$\n",
    "\\vec{v_1} = 1\\vec{v_1} + 0 \\vec{v_2} + 0\\vec{v_3}\n",
    "$$\n",
    "\n",
    "\n",
    "(c)\n",
    "\n",
    "$\\text{span} \\{\\vec{v}_1, \\vec{v}_2\\} \\subseteq \\text{span} \\{\\vec{v}_1, \\vec{v}_2, \\vec{v}_3\\}$:\n",
    "\n",
    "\n",
    "True. Any linear combination of $\\vec{v}_1$ and $\\vec{v}_2$ is also a linear combination of $\\vec{v}_1$, $\\vec{v}_2$, and $\\vec{v}_3$:\n",
    "\n",
    "$$\n",
    "c_1 \\vec{v_1} + c_2 \\vec{v_2} = c_1 \\vec{v_1} + c_2 \\vec{v_2} + 0 \\vec{v_3} \\in span{\\vec{v_1}, \\vec{v_2}, \\vec{v_3}}\n",
    "$$\n",
    "\n",
    "\n",
    "(d) \n",
    "\n",
    "A set of 4 vectors must be linearly dependent in $\\mathbb{R}^3$:\n",
    "\n",
    "True. If we use the four vectors as columns of a matrix $A$, then $A$ will be $3 \\times 4$ which cannot have a pivot in every column. So the homogeneous system $A\\vec{x}= 0$ has nontrivial solutions making the columns DEPENDENT"
   ]
  },
  {
   "cell_type": "markdown",
   "id": "584333a1",
   "metadata": {},
   "source": [
    "# 1.3 Solution set of linear Systems.\n"
   ]
  },
  {
   "cell_type": "markdown",
   "id": "726a3810",
   "metadata": {},
   "source": [
    "1.  Is $\\left\\lbrace\\ \\  \\begin{bmatrix} 1 \\\\ 2  \\\\3 \\end{bmatrix},  \n",
    "\\begin{bmatrix} 4 \\\\ 5  \\\\6 \\end{bmatrix}, \\begin{bmatrix} 7 \\\\ 8 \\\\9 \\end{bmatrix}\\ \\ \\right\\rbrace$ linearly independent or dependent?\n",
    "\n",
    "__Solution:__\n",
    "\n",
    "Let's denote the given vectors as:\n",
    "\n",
    "$$\n",
    "\\vec{v}_1 = \\begin{bmatrix} 1 \\\\ 2 \\\\ 3 \\end{bmatrix}, \\quad \\vec{v}_2 = \\begin{bmatrix} 4 \\\\ 5 \\\\ 6 \\end{bmatrix}, \\quad \\vec{v}_3 = \\begin{bmatrix} 7 \\\\ 8 \\\\ 9 \\end{bmatrix}\n",
    "$$\n",
    "\n",
    "Now, we'll set up the following linear combination and solve for the coefficients:\n",
    "\n",
    "$$\n",
    "c_1 \\vec{v}_1 + c_2 \\vec{v}_2 + c_3 \\vec{v}_3 = \\vec{0}\n",
    "$$\n",
    "\n",
    "Substituting the given vectors and equating the resulting components to zero, we have the following linear system:\n",
    "\n",
    "$$\n",
    "\\begin{align*}\n",
    "c_1 + 4c_2 + 7c_3 &= 0 \\\\\n",
    "2c_1 + 5c_2 + 8c_3 &= 0 \\\\\n",
    "3c_1 + 6c_2 + 9c_3 &= 0\n",
    "\\end{align*}\n",
    "$$\n",
    "\n",
    "$\\{\\vec{v_1}, \\vec{v_2} \\vec{v_3}\\}$ is a linearly independent set is and only if this system has only the trivial solution. To verify this we set up the augmented matrix of this system and apply the row operations:"
   ]
  },
  {
   "cell_type": "code",
   "execution_count": 15,
   "id": "b19404d0",
   "metadata": {},
   "outputs": [
    {
     "data": {
      "text/plain": [
       "array([[1, 4, 7, 0],\n",
       "       [2, 5, 8, 0],\n",
       "       [3, 6, 9, 0]])"
      ]
     },
     "execution_count": 15,
     "metadata": {},
     "output_type": "execute_result"
    }
   ],
   "source": [
    "import numpy as np \n",
    "\n",
    "A = np.array([[1, 4, 7, 0], [2, 5, 8, 0], [3, 6, 9, 0]])\n",
    "A"
   ]
  },
  {
   "cell_type": "code",
   "execution_count": 16,
   "id": "c5a90a25",
   "metadata": {},
   "outputs": [
    {
     "data": {
      "text/plain": [
       "array([[ 1.,  4.,  7.,  0.],\n",
       "       [ 0., -3., -6.,  0.],\n",
       "       [ 3.,  6.,  9.,  0.]])"
      ]
     },
     "execution_count": 16,
     "metadata": {},
     "output_type": "execute_result"
    }
   ],
   "source": [
    "A1 = replace(A, 1, 0, -2)\n",
    "A1"
   ]
  },
  {
   "cell_type": "code",
   "execution_count": 17,
   "id": "44e77431",
   "metadata": {},
   "outputs": [
    {
     "data": {
      "text/plain": [
       "array([[  1.,   4.,   7.,   0.],\n",
       "       [  0.,  -3.,  -6.,   0.],\n",
       "       [  0.,  -6., -12.,   0.]])"
      ]
     },
     "execution_count": 17,
     "metadata": {},
     "output_type": "execute_result"
    }
   ],
   "source": [
    "A2 = replace(A1, 2, 0, -3)\n",
    "A2"
   ]
  },
  {
   "cell_type": "code",
   "execution_count": 18,
   "id": "3836df7f",
   "metadata": {},
   "outputs": [
    {
     "data": {
      "text/plain": [
       "array([[ 1.,  4.,  7.,  0.],\n",
       "       [ 0., -3., -6.,  0.],\n",
       "       [ 0.,  0.,  0.,  0.]])"
      ]
     },
     "execution_count": 18,
     "metadata": {},
     "output_type": "execute_result"
    }
   ],
   "source": [
    "A3 = replace(A2, 2, 1, -2)\n",
    "A3"
   ]
  },
  {
   "cell_type": "code",
   "execution_count": 19,
   "id": "d15439fb",
   "metadata": {},
   "outputs": [
    {
     "data": {
      "text/plain": [
       "array([[ 1.,  4.,  7.,  0.],\n",
       "       [-0.,  1.,  2., -0.],\n",
       "       [ 0.,  0.,  0.,  0.]])"
      ]
     },
     "execution_count": 19,
     "metadata": {},
     "output_type": "execute_result"
    }
   ],
   "source": [
    "A4 = scale(A3, 1, -1/3)\n",
    "A4"
   ]
  },
  {
   "cell_type": "markdown",
   "id": "5ca0ca37",
   "metadata": {},
   "source": [
    "From see this we can see that $c_3$ is a free variable and the system has infinitely many solutions, and thus, $\\{\\vec{v_1}, \\vec{v_2} \\vec{v_3}\\}$ is linearly dependent."
   ]
  },
  {
   "cell_type": "markdown",
   "id": "7f3d94b0",
   "metadata": {},
   "source": [
    "2. Describe the solution set of $A\\vec{x}=\\vec{b}$ where \n",
    "\n",
    "$$\n",
    "A = \\begin{bmatrix}\n",
    "1 & 4 & 7 \\\\\n",
    "2 & 5 & 8 \\\\\n",
    "3 & 6 & 9 \\\\\n",
    "\\end{bmatrix},\n",
    "\\quad\n",
    "\\vec{b} = \\begin{bmatrix}\n",
    "1 \\\\\n",
    "2 \\\\\n",
    "3 \\\\\n",
    "\\end{bmatrix},\n",
    "$$\n",
    "\n",
    "__Solution:__"
   ]
  },
  {
   "cell_type": "code",
   "execution_count": 20,
   "id": "2bf83b1e",
   "metadata": {},
   "outputs": [],
   "source": [
    "Ab = np.array([[1,4,7,1],[2,5,8,2],[3,6,9,3]])\n",
    "Ab\n",
    "\n",
    "# Swap two rows\n",
    "\n",
    "def swap(matrix, row1, row2):\n",
    "    \n",
    "    copy_matrix=np.copy(matrix).astype('float64') \n",
    "  \n",
    "    copy_matrix[row1,:] = matrix[row2,:]\n",
    "    copy_matrix[row2,:] = matrix[row1,:]\n",
    "    \n",
    "    return copy_matrix\n",
    "\n",
    "\n",
    "# Multiple all entries in a row by a nonzero number\n",
    "\n",
    "\n",
    "def scale(matrix, row, scalar):\n",
    "    copy_matrix=np.copy(matrix).astype('float64') \n",
    "    copy_matrix[row,:] = scalar*matrix[row,:]  \n",
    "    return copy_matrix\n",
    "\n",
    "# Replacing a row1 by the sum of itself and a multiple of row2 \n",
    "\n",
    "def replace(matrix, row1, row2, scalar):\n",
    "    copy_matrix=np.copy(matrix).astype('float64')\n",
    "    copy_matrix[row1] = matrix[row1]+ scalar * matrix[row2] \n",
    "    return copy_matrix"
   ]
  },
  {
   "cell_type": "code",
   "execution_count": 21,
   "id": "61aa008d",
   "metadata": {},
   "outputs": [
    {
     "data": {
      "text/plain": [
       "array([[ 1.,  4.,  7.,  1.],\n",
       "       [ 0., -3., -6.,  0.],\n",
       "       [ 3.,  6.,  9.,  3.]])"
      ]
     },
     "execution_count": 21,
     "metadata": {},
     "output_type": "execute_result"
    }
   ],
   "source": [
    "B1 = replace(Ab, 1 , 0, -2)\n",
    "B1"
   ]
  },
  {
   "cell_type": "code",
   "execution_count": 22,
   "id": "ccf10b9e",
   "metadata": {},
   "outputs": [
    {
     "data": {
      "text/plain": [
       "array([[  1.,   4.,   7.,   1.],\n",
       "       [  0.,  -3.,  -6.,   0.],\n",
       "       [  0.,  -6., -12.,   0.]])"
      ]
     },
     "execution_count": 22,
     "metadata": {},
     "output_type": "execute_result"
    }
   ],
   "source": [
    "B2 = replace(B1, 2 , 0, -3)\n",
    "B2"
   ]
  },
  {
   "cell_type": "code",
   "execution_count": 23,
   "id": "ee69079b",
   "metadata": {},
   "outputs": [
    {
     "data": {
      "text/plain": [
       "array([[ 1.,  4.,  7.,  1.],\n",
       "       [ 0., -3., -6.,  0.],\n",
       "       [ 0.,  0.,  0.,  0.]])"
      ]
     },
     "execution_count": 23,
     "metadata": {},
     "output_type": "execute_result"
    }
   ],
   "source": [
    "B3 = replace(B2, 2, 1 , -2)\n",
    "B3"
   ]
  },
  {
   "cell_type": "code",
   "execution_count": 24,
   "id": "2725a5bb",
   "metadata": {},
   "outputs": [
    {
     "data": {
      "text/plain": [
       "array([[ 1.,  4.,  7.,  1.],\n",
       "       [-0.,  1.,  2., -0.],\n",
       "       [ 0.,  0.,  0.,  0.]])"
      ]
     },
     "execution_count": 24,
     "metadata": {},
     "output_type": "execute_result"
    }
   ],
   "source": [
    "B4 = scale(B3, 1 , -1/3)\n",
    "B4"
   ]
  },
  {
   "cell_type": "markdown",
   "id": "43c5f081",
   "metadata": {},
   "source": [
    "From this we see that for any $z \\in \\mathbb{R}$ we have a unique solution. A general solution for this system is:\n",
    "\n",
    "$$\n",
    "\\begin{bmatrix} x \\\\ y \\\\ z \\end{bmatrix} = \\begin{bmatrix}  1 + z\\\\ -2 z \\\\ z \\end{bmatrix} = \\begin{bmatrix}  1 \\\\ 0 \\\\ 0 \\end{bmatrix} + \\begin{bmatrix}   z\\\\ -2 z \\\\ z \\end{bmatrix} = \\begin{bmatrix}  1 \\\\ 0 \\\\ 0 \\end{bmatrix} + z \\begin{bmatrix}   1\\\\ -2  \\\\ 1 \\end{bmatrix} \n",
    "$$\n"
   ]
  }
 ],
 "metadata": {
  "kernelspec": {
   "display_name": "Python 3",
   "language": "python",
   "name": "python3"
  },
  "language_info": {
   "codemirror_mode": {
    "name": "ipython",
    "version": 3
   },
   "file_extension": ".py",
   "mimetype": "text/x-python",
   "name": "python",
   "nbconvert_exporter": "python",
   "pygments_lexer": "ipython3",
   "version": "3.8.5"
  }
 },
 "nbformat": 4,
 "nbformat_minor": 5
}
