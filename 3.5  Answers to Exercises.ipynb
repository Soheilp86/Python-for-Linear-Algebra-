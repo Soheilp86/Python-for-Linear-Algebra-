{
 "cells": [
  {
   "cell_type": "markdown",
   "id": "b99dcfe9",
   "metadata": {},
   "source": [
    "# 3.5  Answers to Exercises"
   ]
  },
  {
   "cell_type": "markdown",
   "id": "72dd60bd",
   "metadata": {},
   "source": [
    "## 3.1 Subspaces of $\\mathbb{R}^n$"
   ]
  },
  {
   "cell_type": "markdown",
   "id": "787c4ac2",
   "metadata": {},
   "source": [
    "1. Determine which one of the follwing sets is a subspace:\n",
    "\n",
    "    a.   $H = \\left\\lbrace \\  \\begin{bmatrix} x \\\\ y \\\\ z \\end{bmatrix} \\in \\mathbb{R}^3 \\mbox{ with } x \\geq 0, \\right\\rbrace.$\n",
    "    \n",
    "    b. $H = \\left\\lbrace \\ \\begin{bmatrix}\n",
    "x \\\\ 1 \\\\2x \n",
    "\\end{bmatrix} \\in \\mathbb{R}^3 \\right\\rbrace.$\n",
    "\n",
    "\n",
    "__Solution__\n",
    "\n",
    "a. is not a subspace because it is not closed under taking sum. For example, let\n",
    "\n",
    "$$\n",
    " \\vec{u} = \\begin{bmatrix} 1 \\\\ 0 \\\\ 0 \\end{bmatrix}, \\quad\\text{and} \\quad  \\vec{v} = \\begin{bmatrix} -2 \\\\ 0 \\\\ 0 \\end{bmatrix}\n",
    "$$\n",
    "\n",
    "Then $\\vec{u}+ \\vec{v}$ is not in $H$.\n",
    "\n",
    "b. $H$ is not a subspace because $\\vec{o}$ is not in $H$. "
   ]
  },
  {
   "cell_type": "markdown",
   "id": "2066e4f1",
   "metadata": {},
   "source": [
    " 2. Let $A = \\begin{bmatrix} 1 & 2 &-9 \\\\ -2 & -2 & 2 \\\\ 2 & 3 &0 \\end{bmatrix}$.  Find a basis for $col(A)$ and $null(A)$.\n",
    " \n",
    "__Solution:__ \n",
    "\n",
    "We use row operation to find the pivot columns of $A$:"
   ]
  },
  {
   "cell_type": "code",
   "execution_count": 1,
   "id": "b2e7439f",
   "metadata": {},
   "outputs": [],
   "source": [
    "import numpy as np\n",
    "\n",
    "A = np.array([[1,2,-9], [-2,-2,2],[2,3,0]])\n",
    "\n",
    "# Elementry row operations:\n",
    "\n",
    "# Swap two rows\n",
    "\n",
    "def swap(matrix, row1, row2):\n",
    "    \n",
    "    copy_matrix=np.copy(matrix).astype('float64') \n",
    "  \n",
    "    copy_matrix[row1,:] = matrix[row2,:]\n",
    "    copy_matrix[row2,:] = matrix[row1,:]\n",
    "    \n",
    "    return copy_matrix\n",
    "\n",
    "\n",
    "# Multiple all entries in a row by a nonzero number\n",
    "\n",
    "\n",
    "def scale(matrix, row, scalar):\n",
    "    copy_matrix=np.copy(matrix).astype('float64') \n",
    "    copy_matrix[row,:] = scalar*matrix[row,:]  \n",
    "    return copy_matrix\n",
    "\n",
    "# Replacing a row1 by the sum of itself and a multiple of row2 \n",
    "\n",
    "def replace(matrix, row1, row2, scalar):\n",
    "    copy_matrix=np.copy(matrix).astype('float64')\n",
    "    copy_matrix[row1] = matrix[row1]+ scalar * matrix[row2] \n",
    "    return copy_matrix"
   ]
  },
  {
   "cell_type": "code",
   "execution_count": 2,
   "id": "5e561e46",
   "metadata": {},
   "outputs": [
    {
     "data": {
      "text/plain": [
       "array([[ 1,  2, -9],\n",
       "       [-2, -2,  2],\n",
       "       [ 2,  3,  0]])"
      ]
     },
     "execution_count": 2,
     "metadata": {},
     "output_type": "execute_result"
    }
   ],
   "source": [
    "A"
   ]
  },
  {
   "cell_type": "code",
   "execution_count": 3,
   "id": "6752660f",
   "metadata": {},
   "outputs": [
    {
     "data": {
      "text/plain": [
       "array([[  1.,   2.,  -9.],\n",
       "       [  0.,   2., -16.],\n",
       "       [  2.,   3.,   0.]])"
      ]
     },
     "execution_count": 3,
     "metadata": {},
     "output_type": "execute_result"
    }
   ],
   "source": [
    "A1 = replace(A, 1, 0, 2)\n",
    "A1"
   ]
  },
  {
   "cell_type": "code",
   "execution_count": 4,
   "id": "9a3f3315",
   "metadata": {},
   "outputs": [
    {
     "data": {
      "text/plain": [
       "array([[  1.,   2.,  -9.],\n",
       "       [  0.,   2., -16.],\n",
       "       [  0.,  -1.,  18.]])"
      ]
     },
     "execution_count": 4,
     "metadata": {},
     "output_type": "execute_result"
    }
   ],
   "source": [
    "A2 = replace(A1, 2, 0, -2)\n",
    "A2"
   ]
  },
  {
   "cell_type": "code",
   "execution_count": 5,
   "id": "47fb9434",
   "metadata": {},
   "outputs": [
    {
     "data": {
      "text/plain": [
       "array([[ 1.,  2., -9.],\n",
       "       [ 0.,  1., -8.],\n",
       "       [ 0., -1., 18.]])"
      ]
     },
     "execution_count": 5,
     "metadata": {},
     "output_type": "execute_result"
    }
   ],
   "source": [
    "A3 = scale(A2, 1, 0.5)\n",
    "A3"
   ]
  },
  {
   "cell_type": "code",
   "execution_count": 6,
   "id": "27cde011",
   "metadata": {},
   "outputs": [
    {
     "data": {
      "text/plain": [
       "array([[ 1.,  2., -9.],\n",
       "       [ 0.,  1., -8.],\n",
       "       [ 0.,  0., 10.]])"
      ]
     },
     "execution_count": 6,
     "metadata": {},
     "output_type": "execute_result"
    }
   ],
   "source": [
    "A4 = replace(A3, 2, 1, 1)\n",
    "A4"
   ]
  },
  {
   "cell_type": "markdown",
   "id": "5bd5db90",
   "metadata": {},
   "source": [
    "From this we can see that all columns are pivots and the columns of $A$ form a basis for $\\text{col}(A)$:\n",
    "\n",
    "$$\n",
    "\\left\\{ \\ \\begin{bmatrix} 1 \\\\ 2 \\\\ -9 \\end{bmatrix}, \\begin{bmatrix}  -2 \\\\ -2 \\\\ 2 \\end{bmatrix}, \\begin{bmatrix} 2 \\\\ 3 \\\\ 0 \\end{bmatrix}   \\  \\right\\}\n",
    "$$\n",
    "\n",
    "Therefore, $dim(\\text{col}(A) = 3)$. By Rank-Nulity Theorem, $dim(\\text{null}(A) = 0)$, or in other words, $\\text{null}(A) = \\vec{o}$. We could also form the augmented matrix $[A|0]$ and find the RREF of it:"
   ]
  },
  {
   "cell_type": "code",
   "execution_count": 7,
   "id": "9b51aa77",
   "metadata": {},
   "outputs": [
    {
     "data": {
      "text/plain": [
       "array([[0.],\n",
       "       [0.],\n",
       "       [0.]])"
      ]
     },
     "execution_count": 7,
     "metadata": {},
     "output_type": "execute_result"
    }
   ],
   "source": [
    "# zero vector\n",
    "O = np.array([np.zeros(3)]).T\n",
    "O"
   ]
  },
  {
   "cell_type": "code",
   "execution_count": 8,
   "id": "967cc26d",
   "metadata": {},
   "outputs": [
    {
     "data": {
      "text/plain": [
       "array([[ 1.,  2., -9.,  0.],\n",
       "       [-2., -2.,  2.,  0.],\n",
       "       [ 2.,  3.,  0.,  0.]])"
      ]
     },
     "execution_count": 8,
     "metadata": {},
     "output_type": "execute_result"
    }
   ],
   "source": [
    "# Augmented matrix [A|0]\n",
    "\n",
    "B = np.concatenate((A, O) , axis = 1)\n",
    "B"
   ]
  },
  {
   "cell_type": "code",
   "execution_count": 9,
   "id": "9eb0b9ad",
   "metadata": {},
   "outputs": [
    {
     "data": {
      "text/plain": [
       "array([[  1.,   2.,  -9.,   0.],\n",
       "       [  0.,   2., -16.,   0.],\n",
       "       [  2.,   3.,   0.,   0.]])"
      ]
     },
     "execution_count": 9,
     "metadata": {},
     "output_type": "execute_result"
    }
   ],
   "source": [
    "B1 = replace(B, 1, 0 , 2)\n",
    "B1"
   ]
  },
  {
   "cell_type": "code",
   "execution_count": 10,
   "id": "eb5f43f4",
   "metadata": {},
   "outputs": [
    {
     "data": {
      "text/plain": [
       "array([[  1.,   2.,  -9.,   0.],\n",
       "       [  0.,   2., -16.,   0.],\n",
       "       [  0.,  -1.,  18.,   0.]])"
      ]
     },
     "execution_count": 10,
     "metadata": {},
     "output_type": "execute_result"
    }
   ],
   "source": [
    "B2 = replace(B1, 2, 0, -2)\n",
    "B2"
   ]
  },
  {
   "cell_type": "code",
   "execution_count": 11,
   "id": "a7778c00",
   "metadata": {},
   "outputs": [
    {
     "data": {
      "text/plain": [
       "array([[ 1.,  2., -9.,  0.],\n",
       "       [ 0.,  1., -8.,  0.],\n",
       "       [ 0., -1., 18.,  0.]])"
      ]
     },
     "execution_count": 11,
     "metadata": {},
     "output_type": "execute_result"
    }
   ],
   "source": [
    "B3 = scale(B2, 1, 0.5)\n",
    "B3"
   ]
  },
  {
   "cell_type": "code",
   "execution_count": 12,
   "id": "851bca8a",
   "metadata": {},
   "outputs": [
    {
     "data": {
      "text/plain": [
       "array([[ 1.,  2., -9.,  0.],\n",
       "       [ 0.,  1., -8.,  0.],\n",
       "       [ 0.,  0., 10.,  0.]])"
      ]
     },
     "execution_count": 12,
     "metadata": {},
     "output_type": "execute_result"
    }
   ],
   "source": [
    "B4 = replace(B3, 2, 1, 1)\n",
    "B4"
   ]
  },
  {
   "cell_type": "code",
   "execution_count": 13,
   "id": "cf6265a5",
   "metadata": {},
   "outputs": [
    {
     "data": {
      "text/plain": [
       "array([[ 1.,  2., -9.,  0.],\n",
       "       [ 0.,  1., -8.,  0.],\n",
       "       [ 0.,  0.,  1.,  0.]])"
      ]
     },
     "execution_count": 13,
     "metadata": {},
     "output_type": "execute_result"
    }
   ],
   "source": [
    "B5 = scale(B4, 2, 1/10)\n",
    "B5"
   ]
  },
  {
   "cell_type": "code",
   "execution_count": 14,
   "id": "9a4b0208",
   "metadata": {},
   "outputs": [
    {
     "data": {
      "text/plain": [
       "array([[ 1.,  0.,  7.,  0.],\n",
       "       [ 0.,  1., -8.,  0.],\n",
       "       [ 0.,  0.,  1.,  0.]])"
      ]
     },
     "execution_count": 14,
     "metadata": {},
     "output_type": "execute_result"
    }
   ],
   "source": [
    "B6 = replace(B5, 0, 1, -2)\n",
    "B6"
   ]
  },
  {
   "cell_type": "code",
   "execution_count": 15,
   "id": "103ffb2d",
   "metadata": {},
   "outputs": [
    {
     "data": {
      "text/plain": [
       "array([[ 1.,  0.,  0.,  0.],\n",
       "       [ 0.,  1., -8.,  0.],\n",
       "       [ 0.,  0.,  1.,  0.]])"
      ]
     },
     "execution_count": 15,
     "metadata": {},
     "output_type": "execute_result"
    }
   ],
   "source": [
    "B7 = replace(B6, 0, 2, -7)\n",
    "B7"
   ]
  },
  {
   "cell_type": "code",
   "execution_count": 16,
   "id": "5ae67061",
   "metadata": {},
   "outputs": [
    {
     "data": {
      "text/plain": [
       "array([[1., 0., 0., 0.],\n",
       "       [0., 1., 0., 0.],\n",
       "       [0., 0., 1., 0.]])"
      ]
     },
     "execution_count": 16,
     "metadata": {},
     "output_type": "execute_result"
    }
   ],
   "source": [
    "B8 = replace(B7, 1, 2, 8)\n",
    "B8"
   ]
  },
  {
   "cell_type": "markdown",
   "id": "a9504a17",
   "metadata": {},
   "source": [
    "3. Suppose $A$ is a $5 \\times 5$ matrix, and $A$ has 3 pivot columns. \n",
    "\n",
    "    a. Prove that $A\\vec{x}=\\vec{0}$ must have nontrivial solutions.\n",
    "    \n",
    "    b. Is there an example of $A$ where $col(A)= null(A)$?\n",
    "    \n",
    "__Solution:__ \n",
    "\n",
    "\n",
    "a. By Rank-Nullity Theorem, $dim(\\text{null}(A) = 2)$ so it is not trivial.  \n",
    "\n",
    "b. No it is not. Because in such a matrix we would have \n",
    "\n",
    "$$\n",
    "dim(col(A)) + dim(null(A)) = 5 \\quad \\text{which implies} \\quad dim(col(A)) + dim(col(A)) = 5 \\quad \\text{or} \\quad dim(col(A)) = 2.5\n",
    "$$\n",
    "which is not possible.\n",
    "\n"
   ]
  },
  {
   "cell_type": "markdown",
   "id": "efbbcc64",
   "metadata": {},
   "source": [
    "4. Find an explicit example of a $4\\times 4$ matrix $A$ which has $colA = null(A)$ \n",
    "\n",
    "\n",
    "__Solution:__\n",
    "\n",
    "Let \n",
    "$$\n",
    "A = \\begin{bmatrix}\n",
    "0 & 0 & 0 & 0 \\\\\n",
    "0 & 0 & 0 & 0 \\\\\n",
    "1 & 0 & 0 & 0 \\\\\n",
    "0 & 1 & 0 & 0 \\\\\n",
    "\\end{bmatrix}\n",
    "$$\n",
    "\n",
    "Clearly, $\\vec{u} = \\begin{bmatrix} 0 \\\\ 0 \\\\ 1 \\\\ 0 \\end{bmatrix}$ and $\\vec{v} = \\begin{bmatrix} 0 \\\\ 0 \\\\ 0 \\\\ 1 \\end{bmatrix}$ form a basis for $\\text{col}(A)$. We can easily verify that $A\\vec{u} = A\\vec{v} = \\vec{0}$, indicating that $\\vec{u}$ and $\\vec{v}$ are in $null(A)$. Now, we will show that they also form a basis for $null(A)$.\n",
    "\n",
    "According to the rank-nullity theorem, we know that $\\text{dim}(null(A)) = 2$. Thus, if we show that $\\vec{u}$ and $\\vec{v}$ are linearly independent, we are done! Fortunately, they are linearly independent because they are not multiples of each other."
   ]
  },
  {
   "cell_type": "markdown",
   "id": "81c786d1",
   "metadata": {},
   "source": [
    "## 3.2  Introduction to Linear Transformation"
   ]
  },
  {
   "cell_type": "markdown",
   "id": "43029b5b",
   "metadata": {},
   "source": [
    "\n",
    "1. Determine if each transformation is linear\n",
    "\n",
    "\n",
    "   a. $T: \\mathbb{R}^2 \\rightarrow \\mathbb{R}^2$ given by\n",
    "\n",
    "$$\n",
    "T\\left( \\begin{bmatrix} x_1 \\\\ x_2  \\end{bmatrix} \\right) = \\begin{bmatrix} x_2 \\\\ -x_1\n",
    "\\end{bmatrix}.\n",
    "$$\n",
    "\n",
    "\n",
    "\n",
    "   b. $H: \\mathbb{R}^2 \\rightarrow \\mathbb{R}^2$ given by \n",
    "    \n",
    "$$\n",
    "T\\left( \\begin{bmatrix} x_1 \\\\ x_2  \\end{bmatrix} \\right) = \\begin{bmatrix} (x_1)^2 \\\\ 0 \\end{bmatrix}.\n",
    "$$\n",
    "\n",
    "__Solution:__\n",
    "\n",
    "\n",
    "(a): $T$ is a linear transformation since\n",
    "\n",
    "$$\n",
    "T\\left( \\begin{bmatrix}\n",
    "x_1 \\\\ x_2\n",
    "\\end{bmatrix} + \\begin{bmatrix}\n",
    "y_1 \\\\ y_2\n",
    "\\end{bmatrix} \\right) = T\\left( \\begin{bmatrix}\n",
    "x_1+y_1 \\\\ x_2+y_2\n",
    "\\end{bmatrix}  \\right) =  \\begin{bmatrix}\n",
    "x_2+y_2 \\\\ -(x_1+y_1)\n",
    "\\end{bmatrix} =  \\begin{bmatrix}\n",
    "x_2+y_2 \\\\ -x_1-y_1\n",
    "\\end{bmatrix} = \\begin{bmatrix}\n",
    "x_2  \\\\ -x_1\n",
    "\\end{bmatrix} +\\begin{bmatrix}\n",
    "y_2  \\\\ -y_1\n",
    "\\end{bmatrix} =  T\\left( \\begin{bmatrix}\n",
    "x_1 \\\\ x_2\n",
    "\\end{bmatrix}\\right) + T\\left(\\begin{bmatrix}\n",
    "y_1 \\\\ y_2\n",
    "\\end{bmatrix} \\right)\n",
    "$$\n",
    "\n",
    " and \n",
    "\n",
    "$$\n",
    "T\\left( c\\begin{bmatrix}\n",
    "x_1 \\\\ x_2\n",
    "\\end{bmatrix} \\right)  = T\\left( \\begin{bmatrix}\n",
    "c x_1 \\\\ c x_2\n",
    "\\end{bmatrix} \\right)  = \\begin{bmatrix}\n",
    "-cx_2 \\\\ cx_1\n",
    "\\end{bmatrix} = c\\begin{bmatrix}\n",
    "-x_2 \\\\ x_1\n",
    "\\end{bmatrix} = cT\\left( \\begin{bmatrix}\n",
    "x_1 \\\\ x_2\n",
    "\\end{bmatrix} \\right)\n",
    "$$\n",
    "\n",
    "\n",
    "\n",
    "(b) $H$ is not a linear transformation because\n",
    "\n",
    "\n",
    "$$\n",
    "cT\\left( \\begin{bmatrix}\n",
    "x_1 \\\\ x_2\n",
    "\\end{bmatrix} \\right) = c\\begin{bmatrix}\n",
    "(x_1)^2 \\\\ 0 \n",
    "\\end{bmatrix} =\\begin{bmatrix}\n",
    "c(x_1)^2\\\\ 0 \n",
    "\\end{bmatrix}\n",
    "$$\n",
    "\n",
    "but\n",
    "\n",
    "$$\n",
    "T\\left( c\\begin{bmatrix}\n",
    "x_1 \\\\ x_2\n",
    "\\end{bmatrix} \\right) = T\\left( \\begin{bmatrix}\n",
    "cx_1 \\\\ cx_2\n",
    "\\end{bmatrix} \\right) =\n",
    "\\begin{bmatrix}\n",
    "(cx_1)^2 \\\\ 0\n",
    "\\end{bmatrix}= \\begin{bmatrix}\n",
    "(c^2(x_1)^2 \\\\ 0\n",
    "\\end{bmatrix}.\n",
    "$$"
   ]
  },
  {
   "cell_type": "markdown",
   "id": "fbd9d6e0",
   "metadata": {},
   "source": [
    "2. Find the standard matrix of $T: \\mathbb{R}^2 \\rightarrow \\mathbb{R}^2$ given by $T(\\vec{x}) =$ first reflect $\\vec{x}$ across the $x$-axis and then rotate $45^\\circ$ counterclockwise.\n",
    "\n",
    "__Solution:__\n",
    "\n",
    "\n",
    "To find the standard matrix representation of $T$ we apply $T$ to the standard basis vectors of $\\mathbb{R}^2$:\n",
    "\n",
    "$T$ reflects $\\begin{bmatrix} 1 \\\\ 0 \\end{bmatrix}$ to itself and then rotates it to $\\begin{bmatrix} \\frac{\\sqrt{2}}{2} \\\\ \\frac{\\sqrt{2}}{2} \\end{bmatrix}$.\n",
    "\n",
    "$T$ reflects $\\begin{bmatrix} 0 \\\\ 1 \\end{bmatrix}$ to $\\begin{bmatrix} 0 \\\\ -1 \\end{bmatrix}$ and then rotates it to $\\begin{bmatrix} \\frac{\\sqrt{2}}{2} \\\\ -\\frac{\\sqrt{2}}{2} \\end{bmatrix}$.\n",
    "\n",
    "Therefore, the standard matrix of $T$ is $\\begin{bmatrix} \\frac{\\sqrt{2}}{2} & \\frac{\\sqrt{2}}{2} \\\\ \\frac{\\sqrt{2}}{2} & - \\frac{\\sqrt{2}}{2} \\end{bmatrix}$.\n",
    "\n",
    "\n"
   ]
  },
  {
   "cell_type": "markdown",
   "id": "3f7bd465",
   "metadata": {},
   "source": [
    "3. Suppose $T: \\mathbb{R}^2 \\rightarrow \\mathbb{R}^3$ is a linear map and \n",
    "\n",
    "$$\n",
    "T\\left( \\begin{bmatrix} 1 \\\\ 0 \\end{bmatrix} \\right) = \\begin{bmatrix} 1 \\\\ 2 \\\\ 3\n",
    "\\end{bmatrix} \\quad \\text{and} \\quad  T\\left( \\begin{bmatrix}\n",
    "0 \\\\ 1 \\end{bmatrix} \\right) = \\begin{bmatrix} 0 \\\\ 1 \\\\ -1 \\end{bmatrix}.\n",
    "$$\n",
    "\n",
    "Find \n",
    "$T \\begin{bmatrix}\n",
    "2 \\\\ 3\n",
    "\\end{bmatrix}$. \n",
    "\n",
    "__Solution__\n",
    "\n",
    "Note that\n",
    "$$\n",
    "\\begin{bmatrix}2 \\\\ 3 \\end{bmatrix} = 2 \\begin{bmatrix} 1\\\\ 0 \\end{bmatrix} + 3 \\begin{bmatrix} 0 \\\\ 1 \\end{bmatrix}.\n",
    "$$\n",
    "\n",
    "Now \n",
    "\n",
    "$$\n",
    "T \\begin{bmatrix}2 \\\\ 3 \\end{bmatrix} = T \\left( 2 \\begin{bmatrix} 1\\\\ 0 \\end{bmatrix} + 3 \\begin{bmatrix} 0 \\\\ 1 \\end{bmatrix} \\right) = 2 T\\left(\\begin{bmatrix} 1\\\\ 0 \\end{bmatrix}\\right) + 3 T\\left (\\begin{bmatrix} 1\\\\ 0 \\end{bmatrix}\\right) = 2 \\begin{bmatrix} 1 \\\\ 2 \\\\ 3\n",
    "\\end{bmatrix} + 3 \\begin{bmatrix} 0 \\\\ 1 \\\\ -1 \\end{bmatrix} = \\begin{bmatrix} 2 \\\\ 7 \\\\ 3 \\end{bmatrix}\n",
    "$$"
   ]
  },
  {
   "cell_type": "markdown",
   "id": "8f710214",
   "metadata": {},
   "source": [
    "## 3.3 Kernel and Image of linear transformations"
   ]
  },
  {
   "cell_type": "markdown",
   "id": "bda104b1",
   "metadata": {},
   "source": [
    "1. Let $T: \\mathbb{R}^2 \\rightarrow \\mathbb{R}^2$ be a linear map given by $T(\\vec{x}) =$ first reflect $\\vec{x}$ across the $x$-axis and then rotate it $45^\\circ$ counterclockwise.\n",
    "\n",
    "   a. Compute $T \\left(T\\left(\\begin{bmatrix} 1 \\\\ 2 \\end{bmatrix}\\right)\\right)$.\n",
    "   \n",
    "   b. Is $T$ one-to-one?\n",
    "   \n",
    "   c. Is $T$ onto?\n",
    "   \n",
    "   d. Is $T$ invertible?\n",
    "   \n",
    "   e. Solve the equation $T(\\vec{x}) = \\begin{bmatrix} 1 \\\\ 2 \\end{bmatrix}$.\n",
    "   \n",
    "   \n",
    "   \n",
    "__Solution:__\n",
    "\n",
    "The standard matrix of $T$ is $A = \\begin{bmatrix} \\frac{\\sqrt{2}}{2} & \\frac{\\sqrt{2}}{2} \\\\ \\frac{\\sqrt{2}}{2} & - \\frac{\\sqrt{2}}{2} \\end{bmatrix}$ (see Exercise 2 in the previous section). Since the columns of $A$ are linearly independent $A$, and equivalently $T$, is invirtible and both one-to-one and onto. Note that \n",
    "\n",
    "\n",
    "$$\n",
    "T(\\vec{x}) = \\begin{bmatrix} 1 \\\\ 2 \\end{bmatrix} \\quad \\iff \\quad \\vec{x} = A^{-1} \\begin{bmatrix} 1 \\\\ 2 \\end{bmatrix}\n",
    "$$\n",
    "\n",
    "We claim $A^{-1} = A$ and therfore \n",
    "\n",
    "$\\vec{x} = A \\begin{bmatrix} 1 \\\\ 2 \\end{bmatrix} = \\begin{bmatrix}  2.12132034\\\\ -0.70710678 \\end{bmatrix}$ as computed below:"
   ]
  },
  {
   "cell_type": "code",
   "execution_count": 17,
   "id": "ee7bbffe",
   "metadata": {},
   "outputs": [
    {
     "data": {
      "text/plain": [
       "array([[ 2.12132034],\n",
       "       [-0.70710678]])"
      ]
     },
     "execution_count": 17,
     "metadata": {},
     "output_type": "execute_result"
    }
   ],
   "source": [
    "x = np.array([[1],[2]])\n",
    "A = np.array([[np.sqrt(2)/2, np.sqrt(2)/2],[np.sqrt(2)/2, - np.sqrt(2)/2]])\n",
    "A @ x"
   ]
  },
  {
   "cell_type": "markdown",
   "id": "cb048e94",
   "metadata": {},
   "source": [
    "Now let us show $A^{-1} = A$. To do so, we show $A^{2} = I_2$"
   ]
  },
  {
   "cell_type": "code",
   "execution_count": 18,
   "id": "cf17784f",
   "metadata": {},
   "outputs": [
    {
     "data": {
      "text/plain": [
       "array([[1., 0.],\n",
       "       [0., 1.]])"
      ]
     },
     "execution_count": 18,
     "metadata": {},
     "output_type": "execute_result"
    }
   ],
   "source": [
    "A @ A"
   ]
  },
  {
   "cell_type": "markdown",
   "id": "79773c4c",
   "metadata": {},
   "source": [
    "We could also compute the inverse directly:"
   ]
  },
  {
   "cell_type": "code",
   "execution_count": 19,
   "id": "09bdefd1",
   "metadata": {},
   "outputs": [
    {
     "data": {
      "text/plain": [
       "array([[ 0.70710678,  0.70710678],\n",
       "       [ 0.70710678, -0.70710678]])"
      ]
     },
     "execution_count": 19,
     "metadata": {},
     "output_type": "execute_result"
    }
   ],
   "source": [
    "# Compute the inverse\n",
    "def inverse_matrix(matrix):\n",
    "    a, b = matrix[0]\n",
    "    c, d = matrix[1]\n",
    "    \n",
    "    det = a * d - b * c\n",
    "\n",
    "    if det == 0:\n",
    "        print(matrix, \"is not invertible\")\n",
    "    else:\n",
    "        D = 1 / det    \n",
    "        inverse = np.zeros((2, 2))\n",
    "        inverse[0, 0] = D * d\n",
    "        inverse[0, 1] = -D * b\n",
    "        inverse[1, 0] = -D * c\n",
    "        inverse[1, 1] = D * a\n",
    "\n",
    "        return(inverse)\n",
    "    \n",
    "inverse_matrix(A)    "
   ]
  },
  {
   "cell_type": "markdown",
   "id": "ae96707a",
   "metadata": {},
   "source": [
    "2. Let $S$  be the shear transformation given by\n",
    "\n",
    "$$\n",
    "S(\\vec{x}) = B \\vec{x} \\quad \\text{where} \\quad B = \\begin{bmatrix} 1 & 2 \\\\ 0 & 1 \\end{bmatrix}\n",
    "$$ \n",
    "\n",
    "and $T$ be the linear transformation described in Exercise 1 above\n",
    "\n",
    "   a. Compute $(S\\circ T)(\\begin{bmatrix} 1 \\\\ -2 \\end{bmatrix}))$.\n",
    "   \n",
    "   b. Compute $(S \\circ T)^{-1} (\\begin{bmatrix} 1 \\\\ -2 \\end{bmatrix})$.\n",
    "   \n",
    "   \n",
    "__Solution__ \n",
    "\n",
    "(a): \n",
    "\n",
    "From Exercise 1 above, we know that the standard matrix representation of $T$ is $A = \\begin{bmatrix} \\frac{\\sqrt{2}}{2} & \\frac{\\sqrt{2}}{2} \\\\ \\frac{\\sqrt{2}}{2} & - \\frac{\\sqrt{2}}{2} \\end{bmatrix}$. Note that\n",
    "\n",
    "$$\n",
    "S(T(\\vec{x})) = BA \\vec{x}\n",
    "$$\n",
    "\n",
    "So we compute $BA\\vec{x}$:"
   ]
  },
  {
   "cell_type": "code",
   "execution_count": 22,
   "id": "8e5b00d4",
   "metadata": {},
   "outputs": [
    {
     "data": {
      "text/plain": [
       "array([[3.53553391],\n",
       "       [2.12132034]])"
      ]
     },
     "execution_count": 22,
     "metadata": {},
     "output_type": "execute_result"
    }
   ],
   "source": [
    "# vector x\n",
    "x = np.array([[1],[-2]])\n",
    "\n",
    "# matrix A\n",
    "A = np.array([[np.sqrt(2)/2, np.sqrt(2)/2],[np.sqrt(2)/2, - np.sqrt(2)/2]])\n",
    "\n",
    "# matrix B\n",
    "\n",
    "B = np.array([[1,2],[0,1]])\n",
    "\n",
    "# computing AB\n",
    "\n",
    "B @ A @ x"
   ]
  },
  {
   "cell_type": "markdown",
   "id": "8457a533",
   "metadata": {},
   "source": [
    "(b):\n",
    "\n",
    "$$(S \\circ T)^{-1}) (\\vec{x}) = (BA)^{-1} \\vec{x}$$\n",
    "\n",
    "So we compute $A^{-1} B^{-1} \\vec{x}$. We already know that $A^{-1} = A$ (from the previous exercise). Lets compute $B^{-1}$ "
   ]
  },
  {
   "cell_type": "code",
   "execution_count": 24,
   "id": "cb0a1749",
   "metadata": {},
   "outputs": [
    {
     "data": {
      "text/plain": [
       "array([[2.12132034],\n",
       "       [4.94974747]])"
      ]
     },
     "execution_count": 24,
     "metadata": {},
     "output_type": "execute_result"
    }
   ],
   "source": [
    "# inverse of B    \n",
    "B_inverse = inverse_matrix(B) \n",
    "\n",
    "# computing B^{-1} A^{-1} x\n",
    "\n",
    "A @ B_inverse @ x"
   ]
  },
  {
   "cell_type": "markdown",
   "id": "bc42d587",
   "metadata": {},
   "source": [
    "## 3.4 Change of basis\n"
   ]
  },
  {
   "cell_type": "markdown",
   "id": "bf9166d3",
   "metadata": {},
   "source": [
    "1. Let \n",
    "\n",
    "$$\n",
    "P = \\begin{bmatrix} 1 & 2 & -1 \\\\ -3 & -5 & 0 \\\\ 4 & 6 & 1 \\end{bmatrix}\n",
    "$$\n",
    "\n",
    "and $B$ be a basis of $\\mathbb{R}^3$ containing \n",
    "\n",
    "$$\n",
    "\\vec{b_1} = \\begin{bmatrix} -2 \\\\ 2 \\\\ 3 \\end{bmatrix}, \\vec{b_2}\\begin{bmatrix} -8 \\\\ 5 \\\\ 2 \\end{bmatrix}, \\vec{b_3} = \\begin{bmatrix} -7 \\\\ 2 \\\\ 6 \\end{bmatrix}.\n",
    "$$\n",
    "\n",
    "Find a basis $G = \\{\\vec{g_1}, \\vec{g_2}, \\vec{g_3}\\}$ such that $P$ becomes the transition of basis from $G$ to $B$.\n",
    "\n",
    "__Solution__\n",
    "\n",
    "By Theorem 1, the columns of the transition matrix $P_{G\\to B}$ are the coordinates of each of the basis vectors in $G$ with respect to the basis $B$:\n",
    "\n",
    "$$\n",
    "P_{G\\to B} = \\begin{bmatrix} 1 & 2 & -1 \\\\ -3 & -5 & 0 \\\\ 4 & 6 & 1 \\end{bmatrix} = \\left[ [\\vec{g_1}]_B,\\, [\\vec{g_2}]_B,\\,[\\vec{g_3}]_B\\right]$$\n",
    "\n",
    "We know that $\\vec{g_i}$s and $[\\vec{g_i}]_B$s are related by equation\n",
    "\n",
    "$$\n",
    "\\vec{g_i} = P_B\\ [\\vec{g_i}]_B \\quad i \\leq 3\n",
    "$$\n",
    "\n",
    "where $P_B$ is a matrix whose columns are elements of $B$\n",
    "\n",
    "$$\n",
    "P_B = \\begin{bmatrix} -2 & -8 & -7 \\\\ 2 & 5 & 2 \\\\ 3 & 2 & 6 \\end{bmatrix}\n",
    "$$\n",
    "\n"
   ]
  },
  {
   "cell_type": "code",
   "execution_count": 25,
   "id": "06b73a08",
   "metadata": {},
   "outputs": [
    {
     "name": "stdout",
     "output_type": "stream",
     "text": [
      "g 1 = [-6 -5 21]\n",
      "g 2 = [-6 -9 32]\n",
      "g 3 = [-5  0  3]\n"
     ]
    }
   ],
   "source": [
    "# P_B\n",
    "P_B = np.array([[-2,-8,-7], [2,5,2], [3,2,6]])\n",
    "\n",
    "#P_{GtoB}\n",
    "P_GtoB = np.array([[1,2,-1],[-3,-5,0],[4,6,1]])\n",
    "\n",
    "#computing g_1\n",
    "for i in range(3):\n",
    "    print('g', i+1, '=', P_B @  P_GtoB[:,i] )"
   ]
  },
  {
   "cell_type": "markdown",
   "id": "d5e6951e",
   "metadata": {},
   "source": [
    "2. Consider the following bases of $\\mathbb{R}^2$: \n",
    "\n",
    "$$\n",
    "B = \\left\\lbrace \\begin{bmatrix}\n",
    "3 \\\\ 2\n",
    "\\end{bmatrix}, \\begin{bmatrix}\n",
    "1 \\\\ 1\n",
    "\\end{bmatrix}\\right\\rbrace \\quad \\text {and} \\quad G = \\left\\lbrace \\begin{bmatrix}\n",
    "-2 \\\\ -5\n",
    "\\end{bmatrix}, \\begin{bmatrix}\n",
    "1 \\\\ 2\n",
    "\\end{bmatrix}\\right\\rbrace\n",
    "$$ \n",
    "\n",
    "   a. For $\\vec{x} = \\begin{bmatrix} 3 \\\\ -1 \\end{bmatrix}$  compute $[\\vec{x}]_{B}.$\n",
    "   \n",
    "   b. Let $A = \\begin{bmatrix} 1 & 2 \\\\ 0 & 1 \\end{bmatrix}$ be the standard matrix representation of $T: \\mathbb{R}^2 \\to \\mathbb{R}^2$. Find the matrix representation for $T: (\\mathbb{R}^2,B) \\to (\\mathbb{R}^2, G)$.\n",
    "   \n",
    "   \n",
    "\n",
    "__Solution:__"
   ]
  },
  {
   "cell_type": "code",
   "execution_count": 20,
   "id": "5fcd0b86",
   "metadata": {},
   "outputs": [
    {
     "data": {
      "text/plain": [
       "array([[ 4.],\n",
       "       [-9.]])"
      ]
     },
     "execution_count": 20,
     "metadata": {},
     "output_type": "execute_result"
    }
   ],
   "source": [
    "#(a)\n",
    "\n",
    "x = np.array([[3],[-1]])\n",
    "\n",
    "# Basis B\n",
    "B = np.array([[3,2],[1,1]])\n",
    "P_B = B.T\n",
    "\n",
    "# compute [x]_B\n",
    "\n",
    "x_B = np.linalg.inv(P_B) @ x\n",
    "x_B"
   ]
  },
  {
   "cell_type": "code",
   "execution_count": 21,
   "id": "6d607491",
   "metadata": {},
   "outputs": [
    {
     "data": {
      "text/plain": [
       "array([[12.,  5.],\n",
       "       [31., 13.]])"
      ]
     },
     "execution_count": 21,
     "metadata": {},
     "output_type": "execute_result"
    }
   ],
   "source": [
    "# (b)\n",
    "\n",
    "# Standard basis in R^2:\n",
    "S = np.array([[1,0], [0,1]]) \n",
    "P_S = np.transpose(S)\n",
    "\n",
    "# Basis B\n",
    "B = np.array([[3,2],[1,1]])\n",
    "P_B = B.T\n",
    "\n",
    "# Basis G\n",
    "G = np.array([[-2,-5],[1,2]])\n",
    "P_G = G.T\n",
    "\n",
    "\n",
    "\n",
    "# matrix representation of T with rspect to B1 and G1\n",
    "A = np.array([[1,2], [0,1]])\n",
    "\n",
    "\n",
    "#create transtion matrix from B2 to B1\n",
    "P_BtoS = np.linalg.inv(P_S) @ P_B \n",
    "\n",
    "#create the transtion matrix from G1 to G2\n",
    "P_St0G = np.linalg.inv(P_G) @ P_S \n",
    "\n",
    "#computes the representation with respect to new bases\n",
    "D = P_St0G @ A @ P_BtoS\n",
    "D"
   ]
  }
 ],
 "metadata": {
  "kernelspec": {
   "display_name": "Python 3",
   "language": "python",
   "name": "python3"
  },
  "language_info": {
   "codemirror_mode": {
    "name": "ipython",
    "version": 3
   },
   "file_extension": ".py",
   "mimetype": "text/x-python",
   "name": "python",
   "nbconvert_exporter": "python",
   "pygments_lexer": "ipython3",
   "version": "3.8.5"
  }
 },
 "nbformat": 4,
 "nbformat_minor": 5
}
