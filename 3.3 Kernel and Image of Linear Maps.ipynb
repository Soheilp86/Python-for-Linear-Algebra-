{
 "cells": [
  {
   "cell_type": "markdown",
   "id": "51a0b9e8",
   "metadata": {},
   "source": [
    "# 3.3 Kernel and Image of linear transformations\n",
    "\n",
    "In this section we show that how existence and uniqueness of solutions for a linear system can be redefined in terms of linear transformations. "
   ]
  },
  {
   "cell_type": "markdown",
   "id": "55ad6c78",
   "metadata": {},
   "source": [
    "## Kernel and Image"
   ]
  },
  {
   "cell_type": "markdown",
   "id": "d7216cd7",
   "metadata": {},
   "source": [
    "Every linear map $T: \\mathbb{R}^n \\to \\mathbb{R}^m$ has two important associated subspaces:\n",
    "\n",
    "1. __Kernel of $T$:__ It is the set of all vectors $\\vec{x} \\in \\mathbb{R}^n$ that are mapped to the zero vector by $T$:\n",
    "\n",
    "$$\n",
    "\\text{Ker}(T) := \\{\\vec{x} \\in \\mathbb{R}^n : T(\\vec{x}) = 0 \\} \\subset \\mathbb{R}^n.\n",
    "$$\n",
    "\n",
    "2. __Image of $T$:__ It is the set of all possible vectors $\\vec{y} \\in \\mathbb{R}^m$ that can be produced by applying $T$ to some vector $\\vec{x} \\in \\mathbb{R}^n$:\n",
    "\n",
    "$$\n",
    "\\text{Im}(T) := \\{\\vec{y} \\in \\mathbb{R}^m : \\exists \\vec{x} \\in \\mathbb{R}^n \\text{ such that } T(\\vec{x}) = \\vec{y} \\}.\n",
    "$$\n",
    "\n",
    "Moreover, if $A$ is the standard matrix representation of $T$, then the kernel of $T$ is equal to the null space of matrix $A$, and the image of $T$ is equal to the column space of matrix $A$:\n",
    "\n",
    "\n",
    "$$\n",
    "Ker(T) := null(A) \\quad \\text{and} \\quad Im(T) = col(A).\n",
    "$$\n",
    "\n",
    "\n",
    "A mapping $T: \\mathbb{R}^n\\to \\mathbb{R}^m$ is called:\n",
    "\n",
    "- __onto__ if each $\\vec{b}\\in \\mathbb{R}^m$ is the image of at least one $\\vec{x}\\in \\mathbb{R}^n$.\n",
    "- __one-to-one__ if each $\\vec{b}\\in \\mathbb{R}^m$ is the image of at most one $\\vec{x}\\in \\mathbb{R}^n$.\n",
    "\n",
    "\n",
    "\n",
    "\n",
    "Now we are ready to state the main theorems of this section:\n",
    "\n",
    "\n",
    "__Theorem 1:__ \n",
    "\n",
    "A linear transformation $T: \\mathbb{R}^n \\to \\mathbb{R}^m$ is one-to-one if and only if the equation $T(\\vec{x}) = \\vec{0}$ has only the trivial solution (i.e., $\\vec{x} = \\vec{0}$).\n",
    "\n",
    "\n",
    "\n",
    "\n",
    "__Theorem 2:__ \n",
    "\n",
    "Let $T: \\mathbb{R}^n\\to \\mathbb{R}^m$ be a linear transformation, and let $A$ be its standard matrix representation. Then:\n",
    "\n",
    "1. $T$ is one-to-one if and only if the columns of $A$ form a linearly independent set (i.e., every column is a pivot column). This implies that the equation $Ax=b$ has either no solution or a unique solution.\n",
    "\n",
    "2. $T$ is onto if and only if the columns of $A$ span the entire $\\mathbb{R}^m$ space (i.e., $A$ has a pivot in every row). This implies that the equation $A\\vec{x} = \\vec{b}$ has a solution for every $\\vec{b} \\in \\mathbb{R}^m$.\n",
    "\n",
    "3. $T$ is both one-to-one and onto if and only if the equation $A\\vec{x} = \\vec{b}$ has a unique solution for every $\\vec{b}\\in \\mathbb{R}^m$.\n",
    "\n",
    "__Example 6:__\n",
    "\n",
    "Consider the linear transformation $T: \\mathbb{R}^2 \\rightarrow \\mathbb{R}^2$ defined as follows: $T\\left(\\vec{x}\\right)$ first reflects $\\vec{x}$ across the $x$-axis and then rotates it $90^\\circ$ counterclockwise.\n",
    "\n",
    "1. Determine if $T$ is one-to-one.\n",
    "\n",
    "2. Determine if $T$ is onto.\n",
    "\n",
    "3. Compute $T\\left(\\begin{bmatrix} 1 \\\\ 2 \\end{bmatrix}\\right)$.\n",
    "\n",
    "__Solution:__\n",
    "\n",
    "(1) \n",
    "\n",
    "We first find the standard matrix representation of $T$:\n",
    "\n",
    "$T$ reflects $\\begin{bmatrix} 1 \\\\ 0 \\end{bmatrix}$ to itself and then rotates it to $\\begin{bmatrix} 0 \\\\ 1 \\end{bmatrix}$.\n",
    "\n",
    "$T$ reflects $\\begin{bmatrix} 0 \\\\ 1 \\end{bmatrix}$ to $\\begin{bmatrix} 0 \\\\ -1 \\end{bmatrix}$ and then rotates it to $\\begin{bmatrix} 1 \\\\ 0 \\end{bmatrix}$.\n",
    "\n",
    "Therefore, the standard matrix of $T$ is $\\begin{bmatrix} 0 & 1 \\\\ 1 & 0 \\end{bmatrix}$. Since the columns of $A$ form a linearly independent set, $T$ is both one-to-one and onto."
   ]
  },
  {
   "cell_type": "code",
   "execution_count": 20,
   "id": "5a155b80",
   "metadata": {},
   "outputs": [
    {
     "name": "stdout",
     "output_type": "stream",
     "text": [
      "[[2]\n",
      " [1]]\n"
     ]
    }
   ],
   "source": [
    "#(4):\n",
    "\n",
    "import numpy as np\n",
    "\n",
    "# the standard matrix of  𝑇 \n",
    "D = np.array([[0,1],[1,0]]) \n",
    "\n",
    "v = np.array([[1],[2]])\n",
    "w = D @ v \n",
    "\n",
    "print(w)"
   ]
  },
  {
   "cell_type": "markdown",
   "id": "9fd6fe04",
   "metadata": {},
   "source": [
    "## Composition of Linear Maps"
   ]
  },
  {
   "cell_type": "markdown",
   "id": "776fa4da",
   "metadata": {},
   "source": [
    "The composition of functions is the process of combining two or more functions into a single function. For example, suppose $f: X\\to Y$ and $g: Y\\to Z$ are two functions. The composition of $f$ and $g$ is a function $h: X \\to Z$ defined as $h(x) = g(f(x))$.\n",
    "\n",
    "Interestingly, when it comes to linear maps, the composition of two linear maps is also a linear map. The following theorem establishes the relationship between matrix product and the composition of linear maps\n",
    "\n",
    "\n",
    "__Theorem 3__\n",
    "\n",
    "Let $T: \\mathbb{R}^n \\to \\mathbb{R}^m$ and $S: \\mathbb{R}^m \\to \\mathbb{R}^p$ be linear maps with matrix representations $A$ and $B$, respectively. Then, the composition of $S$ and $T$, denoted as $S \\circ T$, is a linear map from $\\mathbb{R}^n$ to $\\mathbb{R}^p$, and its matrix representation is given by the matrix product $BA$.\n",
    "\n",
    "In other words, for any vector $\\vec{x}$ in $\\mathbb{R}^n$, applying $T$ to $\\vec{x}$ and subsequently applying $S$ to the result is equivalent to applying the composite map $S \\circ T$ to $\\vec{x}$. Mathematically, this can be expressed as:\n",
    "\n",
    "$$ \n",
    "S(T(\\mathbf{x})) = BA\\mathbf{x}\n",
    "$$\n",
    "\n",
    "Here, the matrix product $BA$ represents the composite map $S \\circ T$ and the original linear maps $T$ and $S$.\n",
    "\n",
    "__Example 7__\n",
    "\n",
    "Let $T: \\mathbb{R^{3}}\\to \\mathbb{R}^3$ be the linear map defined in Example 3. \n",
    "\n",
    "   a. Show that $T(T(\\vec{x})) = T(\\vec{x})$ for any $\\vec{x}\\in \\mathbb{R}^3$. \n",
    "\n",
    "   b. Compute $T^4(\\ \\begin{bmatrix} 1 \\\\ 2 \\\\ 3\\\\ \\end{bmatrix}\\ )$ (where $T^4$ is composition of $T$ with itself 4 times).\n",
    "\n",
    "__Solution__\n",
    "\n",
    "a. Intuitively, $T$ does not change points lying on the $xy$-plane and projects the rest onto the $xy$-plane. Therefore, applying $T$ twice to $\\mathbf{x}$ should result in the same vector as applying $T$ once. More precisely,\n",
    "\n",
    "$ T(T(\\ \\begin{bmatrix} x \\\\ y \\\\ z \\end{bmatrix}\\ )) = T(\\ \\begin{bmatrix} x \\\\ y \\\\ 0 \\end{bmatrix}\\ ) = \\begin{bmatrix} x \\\\ y \\\\ 0 \\end{bmatrix} = T(\\ \\begin{bmatrix} x \\\\ y \\\\ z \\end{bmatrix}\\ )$.\n",
    "\n",
    "\n",
    "b. Using part(a), we can deduce that $T^4 = T^2. Therefore,  T^4(\\begin{bmatrix} 1 \\\\ 2 \\\\ 3\\\\ \\end{bmatrix}) = T(\\begin{bmatrix} 1 \\\\ 2 \\\\ 3\\\\ \\end{bmatrix}) = \\begin{bmatrix} 1 \\\\ 2 \\\\ 0\\\\ \\end{bmatrix}$ \n",
    "\n",
    "\n",
    "A linear map $T: \\mathbb{R}^n\\to \\mathbb{R}^n$  is called _invirtible_ if there is a linear transformation $S: \\mathbb{R}^n\\to \\mathbb{R}^n$ such that \n",
    "\n",
    "$$\n",
    "T (S (\\vec{x}) = S(T(\\vec{x})) = \\vec{x} \\quad \\forall \\vec{x}\\in \\mathbb{R}^n  \n",
    "$$\n",
    "\n",
    "\n",
    "__Theorem 4__\n",
    "\n",
    "For a linear map $T: \\mathbb{R}^n \\to \\mathbb{R}^n$ with $A$ as the standard matrix representation of $T$, the following statements are equivalent:\n",
    "\n",
    "- $T$ is invertible.\n",
    "- $T$ is both one-to-one and onto.\n",
    "- $A$ is invertible and $T^{-1}(\\vec{x}) = A^{-1}(\\vec{x})$.\n",
    "\n",
    "\n",
    "\n",
    "__Example 8__\n",
    "\n",
    "Let $T: \\mathbb{R}^3 \\to \\mathbb{R}^3$ be a linear map defined by:\n",
    "\n",
    "$$\n",
    "T(\\vec{e}_1) = 2\\vec{e}_1 - 3\\vec{e}_3, \\quad T(\\vec{e}_2) = \\vec{e}_1 - 2\\vec{e}_2 + \\vec{e}_3, \\quad T(\\vec{e}_3) = \\vec{e}_2.\n",
    "$$\n",
    "\n",
    "\n",
    "1. Show that $\\vec{b} = \\begin{bmatrix} 1 \\\\ -2 \\\\ 3 \\end{bmatrix} \\in Im(T)$.\n",
    "\n",
    "2. Compute $T^{-1}(\\vec{b})$.\n",
    "\n",
    "\n",
    "__Solution__\n",
    "\n",
    "Clearly the matrix representation of $T$ is:\n",
    "\n",
    "$$\n",
    "A = \\begin{bmatrix} 2 & 1 & 0 \\\\ 0 & -2 & 1 \\\\ -3 & 1 & 0 \\end{bmatrix}\n",
    "$$\n",
    "\n",
    "From this we can see that every column of $A$ is a pivot column and they spann $\\mathbb{R}^3$. In other words, $\\vec{b}\\in col(A) = Im(T)$. To find $T^{-1}(\\vec{b})$, we find the inverse of $A$ using row reduction method. Lets set up the augmented matrix $\\left[A\\ | \\ I_3 \\right]$"
   ]
  },
  {
   "cell_type": "code",
   "execution_count": 21,
   "id": "741ec48a",
   "metadata": {},
   "outputs": [],
   "source": [
    "M = np.array([[2,1,0, 1, 0, 0],[0, -2, 1, 0, 1, 0],[-3, 1, 0, 0, 0, 1]])\n",
    "\n",
    "# Elementry row operations:\n",
    "\n",
    "# Swap two rows\n",
    "\n",
    "def swap(matrix, row1, row2):\n",
    "    \n",
    "    copy_matrix=np.copy(matrix).astype('float64') \n",
    "  \n",
    "    copy_matrix[row1,:] = matrix[row2,:]\n",
    "    copy_matrix[row2,:] = matrix[row1,:]\n",
    "    \n",
    "    return copy_matrix\n",
    "\n",
    "\n",
    "# Multiple all entries in a row by a nonzero number\n",
    "\n",
    "\n",
    "def scale(matrix, row, scalar):\n",
    "    copy_matrix=np.copy(matrix).astype('float64') \n",
    "    copy_matrix[row,:] = scalar*matrix[row,:]  \n",
    "    return copy_matrix\n",
    "\n",
    "# Replacing a row by the sum of itself and a multiple of another \n",
    "\n",
    "def replace(matrix, row1, row2, scalar):\n",
    "    copy_matrix=np.copy(matrix).astype('float64')\n",
    "    copy_matrix[row1] = matrix[row1]+ scalar * matrix[row2] \n",
    "    return copy_matrix"
   ]
  },
  {
   "cell_type": "code",
   "execution_count": 22,
   "id": "efad9cbc",
   "metadata": {},
   "outputs": [
    {
     "data": {
      "text/plain": [
       "array([[ 2,  1,  0,  1,  0,  0],\n",
       "       [ 0, -2,  1,  0,  1,  0],\n",
       "       [-3,  1,  0,  0,  0,  1]])"
      ]
     },
     "execution_count": 22,
     "metadata": {},
     "output_type": "execute_result"
    }
   ],
   "source": [
    "M"
   ]
  },
  {
   "cell_type": "code",
   "execution_count": 23,
   "id": "b0712bb2",
   "metadata": {},
   "outputs": [
    {
     "data": {
      "text/plain": [
       "array([[ 1. ,  0.5,  0. ,  0.5,  0. ,  0. ],\n",
       "       [ 0. , -2. ,  1. ,  0. ,  1. ,  0. ],\n",
       "       [-3. ,  1. ,  0. ,  0. ,  0. ,  1. ]])"
      ]
     },
     "execution_count": 23,
     "metadata": {},
     "output_type": "execute_result"
    }
   ],
   "source": [
    "M1 = scale(M, 0, 1/2)\n",
    "M1"
   ]
  },
  {
   "cell_type": "code",
   "execution_count": 24,
   "id": "25bab723",
   "metadata": {},
   "outputs": [
    {
     "data": {
      "text/plain": [
       "array([[ 1. ,  0.5,  0. ,  0.5,  0. ,  0. ],\n",
       "       [ 0. , -2. ,  1. ,  0. ,  1. ,  0. ],\n",
       "       [ 0. ,  2.5,  0. ,  1.5,  0. ,  1. ]])"
      ]
     },
     "execution_count": 24,
     "metadata": {},
     "output_type": "execute_result"
    }
   ],
   "source": [
    "M2 = replace(M1, 2, 0, 3)\n",
    "M2"
   ]
  },
  {
   "cell_type": "code",
   "execution_count": 25,
   "id": "ebb51d42",
   "metadata": {},
   "outputs": [
    {
     "data": {
      "text/plain": [
       "array([[ 1. ,  0.5,  0. ,  0.5,  0. ,  0. ],\n",
       "       [-0. ,  1. , -0.5, -0. , -0.5, -0. ],\n",
       "       [ 0. ,  2.5,  0. ,  1.5,  0. ,  1. ]])"
      ]
     },
     "execution_count": 25,
     "metadata": {},
     "output_type": "execute_result"
    }
   ],
   "source": [
    "M3 = scale(M2, 1, -1/2)\n",
    "M3"
   ]
  },
  {
   "cell_type": "code",
   "execution_count": 26,
   "id": "229aca3f",
   "metadata": {},
   "outputs": [
    {
     "data": {
      "text/plain": [
       "array([[ 1.  ,  0.5 ,  0.  ,  0.5 ,  0.  ,  0.  ],\n",
       "       [-0.  ,  1.  , -0.5 , -0.  , -0.5 , -0.  ],\n",
       "       [ 0.  ,  0.  ,  1.25,  1.5 ,  1.25,  1.  ]])"
      ]
     },
     "execution_count": 26,
     "metadata": {},
     "output_type": "execute_result"
    }
   ],
   "source": [
    "M4 = replace(M3, 2, 1, -2.5)\n",
    "M4"
   ]
  },
  {
   "cell_type": "code",
   "execution_count": 27,
   "id": "a27750e3",
   "metadata": {},
   "outputs": [
    {
     "data": {
      "text/plain": [
       "array([[ 1. ,  0.5,  0. ,  0.5,  0. ,  0. ],\n",
       "       [-0. ,  1. , -0.5, -0. , -0.5, -0. ],\n",
       "       [ 0. ,  0. ,  1. ,  1.2,  1. ,  0.8]])"
      ]
     },
     "execution_count": 27,
     "metadata": {},
     "output_type": "execute_result"
    }
   ],
   "source": [
    "M5 = scale(M4, 2, 1/1.25)\n",
    "M5"
   ]
  },
  {
   "cell_type": "code",
   "execution_count": 28,
   "id": "6fc3bdc2",
   "metadata": {},
   "outputs": [
    {
     "data": {
      "text/plain": [
       "array([[ 1.  ,  0.  ,  0.25,  0.5 ,  0.25,  0.  ],\n",
       "       [-0.  ,  1.  , -0.5 , -0.  , -0.5 , -0.  ],\n",
       "       [ 0.  ,  0.  ,  1.  ,  1.2 ,  1.  ,  0.8 ]])"
      ]
     },
     "execution_count": 28,
     "metadata": {},
     "output_type": "execute_result"
    }
   ],
   "source": [
    "M6 = replace(M5, 0, 1, -0.5)\n",
    "M6"
   ]
  },
  {
   "cell_type": "code",
   "execution_count": 29,
   "id": "62c889b4",
   "metadata": {},
   "outputs": [
    {
     "data": {
      "text/plain": [
       "array([[ 1. ,  0. ,  0. ,  0.2,  0. , -0.2],\n",
       "       [-0. ,  1. , -0.5, -0. , -0.5, -0. ],\n",
       "       [ 0. ,  0. ,  1. ,  1.2,  1. ,  0.8]])"
      ]
     },
     "execution_count": 29,
     "metadata": {},
     "output_type": "execute_result"
    }
   ],
   "source": [
    "M7 = replace(M6, 0, 2, -0.25)\n",
    "M7"
   ]
  },
  {
   "cell_type": "code",
   "execution_count": 30,
   "id": "7cb2ed86",
   "metadata": {},
   "outputs": [
    {
     "data": {
      "text/plain": [
       "array([[ 1. ,  0. ,  0. ,  0.2,  0. , -0.2],\n",
       "       [ 0. ,  1. ,  0. ,  0.6,  0. ,  0.4],\n",
       "       [ 0. ,  0. ,  1. ,  1.2,  1. ,  0.8]])"
      ]
     },
     "execution_count": 30,
     "metadata": {},
     "output_type": "execute_result"
    }
   ],
   "source": [
    "M8 = replace(M7, 1,2 , 0.5)\n",
    "M8"
   ]
  },
  {
   "cell_type": "markdown",
   "id": "41699d57",
   "metadata": {},
   "source": [
    "We can see $A^{-1} = \\begin{bmatrix} 0.2 & 0 & -0.2 \\\\ 0.6 & 0 & 0.4 \\\\ 1.2 & 1 & 0.8 \\end{bmatrix}$. To find $T^{-1} (\\vec{b})$, we compute $A^{-1}\\vec{b}$. For simplicity we show $A^{-1}$ by $B$:"
   ]
  },
  {
   "cell_type": "code",
   "execution_count": 31,
   "id": "04717e41",
   "metadata": {},
   "outputs": [
    {
     "data": {
      "text/plain": [
       "array([[-0.4],\n",
       "       [ 1.8],\n",
       "       [ 1.6]])"
      ]
     },
     "execution_count": 31,
     "metadata": {},
     "output_type": "execute_result"
    }
   ],
   "source": [
    "A_inverse = np.array([[0.2, 0, -0.2], [0.6, 0 , 0.4], [1.2, 1, 0.8]])\n",
    "\n",
    "b = np.array ([[1], [-2], [3]])\n",
    "\n",
    "#compute Bb\n",
    "x = A_inverse @ b\n",
    "x"
   ]
  },
  {
   "cell_type": "markdown",
   "id": "f39ec7f9",
   "metadata": {},
   "source": [
    "## Exercise"
   ]
  },
  {
   "cell_type": "markdown",
   "id": "a8dcfd24",
   "metadata": {},
   "source": [
    "1. Let $T: \\mathbb{R}^2 \\rightarrow \\mathbb{R}^2$ be a linear map given by $T(\\vec{x}) =$ first reflect $\\vec{x}$ across the $x$-axis and then rotate it $45^\\circ$ counterclockwise.\n",
    "\n",
    "   a. Compute $T \\left(T\\left(\\begin{bmatrix} 1 \\\\ 2 \\end{bmatrix}\\right)\\right)$.\n",
    "   \n",
    "   b. Is $T$ one-to-one?\n",
    "   \n",
    "   c. Is $T$ onto?\n",
    "   \n",
    "   d. Is $T$ invertible?\n",
    "   \n",
    "   e. Solve the equation $T(\\vec{x}) = \\begin{bmatrix} 1 \\\\ 2 \\end{bmatrix}$.\n",
    "   \n",
    "   \n",
    "   \n",
    "   \n",
    "   \n",
    "2. Let $S$  be the shear transformation given by\n",
    "\n",
    "$$\n",
    "S(\\vec{x}) = B \\vec{x} \\quad \\text{where} \\quad B = \\begin{bmatrix} 1 & 2 \\\\ 0 & 1 \\end{bmatrix}\n",
    "$$ \n",
    "\n",
    "and $T$ be the linear transformation described in Exercise 1 above\n",
    "\n",
    "   a. Compute $(S\\circ T)(\\begin{bmatrix} 1 \\\\ -2 \\end{bmatrix}))$.\n",
    "   \n",
    "   b. Compute $(S \\circ T)^{-1} (\\begin{bmatrix} 1 \\\\ -2 \\end{bmatrix})$.\n",
    "   "
   ]
  },
  {
   "cell_type": "code",
   "execution_count": null,
   "id": "de28052f",
   "metadata": {},
   "outputs": [],
   "source": [
    "\n",
    "\n"
   ]
  }
 ],
 "metadata": {
  "kernelspec": {
   "display_name": "Python 3",
   "language": "python",
   "name": "python3"
  },
  "language_info": {
   "codemirror_mode": {
    "name": "ipython",
    "version": 3
   },
   "file_extension": ".py",
   "mimetype": "text/x-python",
   "name": "python",
   "nbconvert_exporter": "python",
   "pygments_lexer": "ipython3",
   "version": "3.8.5"
  }
 },
 "nbformat": 4,
 "nbformat_minor": 5
}
