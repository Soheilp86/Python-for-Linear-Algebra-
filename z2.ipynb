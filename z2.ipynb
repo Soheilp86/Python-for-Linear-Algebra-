{
 "cells": [
  {
   "cell_type": "code",
   "execution_count": 2,
   "metadata": {},
   "outputs": [],
   "source": [
    "import numpy as np"
   ]
  },
  {
   "cell_type": "markdown",
   "metadata": {},
   "source": [
    "# 3. Linear Transformations"
   ]
  },
  {
   "cell_type": "markdown",
   "metadata": {},
   "source": [
    "## 3.1 Subspaces of $\\mathbb{R}^n$\n",
    "\n",
    "This section focuses on subsets of $\\mathbb{R}^n$ that preserve $\\mathbb{R}^n$'s linear structure. We will see that any matrix $m\\times n$ matrix $A$ admits two important subspaces that contain useful information about the solution set of $A\\vec{x} = \\vec{b}$ for some $\\vec{b}\\in \\mathbb{R}^m$ "
   ]
  },
  {
   "cell_type": "markdown",
   "metadata": {},
   "source": [
    "### Column space and null space"
   ]
  },
  {
   "cell_type": "markdown",
   "metadata": {},
   "source": [
    "A __subspace__ of $\\mathbb{R}^n$ is a subset $H \\subset \\mathbb{R}^n$ that is closed under addition and scalar multiplication in the following sense:\n",
    "\n",
    "1. $\\vec{u} + \\vec{v} \\in H \\quad \\forall \\vec{u}, \\vec{v} \\in H$.\n",
    "2. $r\\vec{u} \\in H \\quad \\forall \\vec{u} \\in H$ and $\\forall r \\in \\mathbb{R}$.\n",
    "\n",
    "Note that we can choose $c = 0$, which implies $\\vec{0}$ is an element of any subspace. The smallest subspaces of $\\mathbb{R}^n$ is $H = \\{\\vec{0}\\}$ and the largest possible subspace of $\\mathbb{R}^n$ is itself. Other subspaces of $\\mathbb{R}^n$ are lines, planes, and their $n$-dimentional counterparts ($n\\geq 3$) that pass through the origin.\n",
    "\n",
    "```{admonition} Example 1\n",
    "\n",
    "Let $\\vec{u}, \\vec{v} \\in \\mathbb{R}^2$. Show that $H := \\text{span}(\\vec{u}, \\vec{v})$ is a subspace of $\\mathbb{R}^2$. \n",
    "```\n",
    "__Solution:__ \n",
    "\n",
    "Recall that the span of a set of vectors is the set of all possible linear combinations of those vectors. Let $\\vec{x}, \\vec{y} \\in \\text{span}(\\vec{u}, \\vec{v})$ and $r \\in \\mathbb{R}$. There exist $c_1, c_2, d_1, d_2 \\in \\mathbb{R}$ such that $\\vec{x} = c_1 \\vec{u} + c_2 \\vec{v}$ and $\\vec{y} = d_1 \\vec{u} + d_2 \\vec{v}$. We have: \n",
    "\n",
    "$$\n",
    "\\vec{x} + \\vec{y} = (c_1 + d_1)\\ \\vec{u} + (c_2 + d_2)\\ \\vec{v} \\quad \\text{and} \\quad  r\\vec{x} = (rc_1)\\ \\vec{u} + (rc_2)\\ \\vec{v}\n",
    "$$\n",
    "\n",
    "Both of these vectors are in $H$. \n",
    "\n",
    "In general, if $\\vec{u}_1, \\vec{u}_2, \\dots, \\vec{u}_p \\in \\mathbb{R}^n$, then the span of of  $\\vec{u}_1, \\vec{u}_2, \\dots, \\vec{u}_p$, is a subspace $H\\subset \\mathbb{R}^n$, and we say H is __spanned (or generated)__ by $\\vec{u}_1, \\vec{u}_2, \\dots, \\vec{u}_p$.\n",
    "\n",
    "Any $m \\times n$ matrix $A is associated with important subspaces:\n",
    "\n",
    "1. The __column space__ of $A$, denoted by $\\text{col}(A)$, is the span of the columns of $A$: \n",
    "\n",
    "$$\n",
    "col (A) = \\text{span}(\\{ \\vec{a}_1, \\vec{a}_2, \\dots, \\vec{a}_n\\})\n",
    "$$\n",
    "\n",
    "where $\\vec{v_i}$s are the columns of $A$ for $i = 1,2,\\dots, n$. By definition, $col (A)$ is a subspace of $\\mathbb{R}^m$.\n",
    "\n",
    "\n",
    "\n",
    "\n",
    "2. The __null space__ $A$, denoted by $null (A)$, is the solution set of the homogeneous equation $A\\vec{x} = \\vec{0}$:\n",
    "\n",
    "$$\n",
    "null(A) = \\{\\vec{x}: \\ A\\vec{x} = \\vec{0}\\}\n",
    "$$\n",
    "\n",
    "By Theorem 2 in subsection 1.2, $\\text{null}(A)$ is a subspace of $\\mathbb{R}^n$.\n",
    "\n",
    "\n",
    "```{admonition} Example 2\n",
    "\n",
    "Let $A = \\begin{bmatrix} 1 & -1 \\\\ 2 & 1 \\\\ -1 & 3 \\\\ \\end{bmatrix}$.\n",
    "\n",
    "1. Find $col(A)$ and $null(A)$.\n",
    "2. Is $\\vec{b} = \\begin{bmatrix} 1 \\\\ 2 \\\\ 3 \\end{bmatrix} \\in \\text{col}(A)$?\n",
    "3. Is $\\vec{u} = \\begin{bmatrix} 1 \\\\ 1 \\end{bmatrix} \\in \\text{null}(A)$?\n",
    "```\n",
    "__Solution:__\n",
    "\n",
    "1. $col(A) = \\text{span} \\left\\lbrace\\ \\begin{bmatrix} 1\\\\ 2\\\\ -1 \\end{bmatrix}, \\begin{bmatrix} -1\\\\ 1\\\\ 3\\end{bmatrix}\\ \\right\\rbrace $.\n",
    "\n",
    "To find $null(A)$, we solve the homogeneous equation $A\\vec{x} = \\vec{0}$. Let's set up the augmented matrix $[A \\ | \\ \\vec{0}]$ and row-reduce it:"
   ]
  },
  {
   "cell_type": "code",
   "execution_count": 1,
   "metadata": {},
   "outputs": [
    {
     "data": {
      "text/plain": [
       "array([[ 1, -1,  0],\n",
       "       [ 2,  1,  0],\n",
       "       [-1,  3,  0]])"
      ]
     },
     "execution_count": 1,
     "metadata": {},
     "output_type": "execute_result"
    }
   ],
   "source": [
    "M = np.array([[1, -1, 0], [2, 1, 0], [-1, 3, 0]])\n",
    "M"
   ]
  },
  {
   "cell_type": "code",
   "execution_count": 3,
   "metadata": {},
   "outputs": [],
   "source": [
    "# Swap two rows\n",
    "\n",
    "def swap(matrix, row1, row2):\n",
    "    \n",
    "    copy_matrix=np.copy(matrix).astype('float64') \n",
    "  \n",
    "    copy_matrix[row1,:] = matrix[row2,:]\n",
    "    copy_matrix[row2,:] = matrix[row1,:]\n",
    "    \n",
    "    return copy_matrix\n",
    "\n",
    "\n",
    "# Multiple all entries in a row by a nonzero number\n",
    "\n",
    "\n",
    "def scale(matrix, row, scalar):\n",
    "    copy_matrix=np.copy(matrix).astype('float64') \n",
    "    copy_matrix[row,:] = scalar*matrix[row,:]  \n",
    "    return copy_matrix\n",
    "\n",
    "# Replacing a row by the sum of itself and a multiple of another \n",
    "\n",
    "def replace(matrix, row1, row2, scalar):\n",
    "    copy_matrix=np.copy(matrix).astype('float64')\n",
    "    copy_matrix[row1] = matrix[row1]+ scalar * matrix[row2] \n",
    "    return copy_matrix "
   ]
  },
  {
   "cell_type": "code",
   "execution_count": 4,
   "metadata": {},
   "outputs": [
    {
     "data": {
      "text/plain": [
       "array([[ 1., -1.,  0.],\n",
       "       [ 0.,  3.,  0.],\n",
       "       [-1.,  3.,  0.]])"
      ]
     },
     "execution_count": 4,
     "metadata": {},
     "output_type": "execute_result"
    }
   ],
   "source": [
    "M1 = replace(M, 1, 0, -2)\n",
    "M1"
   ]
  },
  {
   "cell_type": "code",
   "execution_count": 5,
   "metadata": {},
   "outputs": [
    {
     "data": {
      "text/plain": [
       "array([[ 1., -1.,  0.],\n",
       "       [ 0.,  3.,  0.],\n",
       "       [ 0.,  2.,  0.]])"
      ]
     },
     "execution_count": 5,
     "metadata": {},
     "output_type": "execute_result"
    }
   ],
   "source": [
    "M2 = replace(M1, 2, 0, 1)\n",
    "M2"
   ]
  },
  {
   "cell_type": "code",
   "execution_count": 6,
   "metadata": {},
   "outputs": [
    {
     "data": {
      "text/plain": [
       "array([[ 1., -1.,  0.],\n",
       "       [ 0.,  1.,  0.],\n",
       "       [ 0.,  2.,  0.]])"
      ]
     },
     "execution_count": 6,
     "metadata": {},
     "output_type": "execute_result"
    }
   ],
   "source": [
    "M3 = scale(M2, 1, 1/3)\n",
    "M3"
   ]
  },
  {
   "cell_type": "code",
   "execution_count": 7,
   "metadata": {},
   "outputs": [
    {
     "data": {
      "text/plain": [
       "array([[ 1., -1.,  0.],\n",
       "       [ 0.,  1.,  0.],\n",
       "       [ 0.,  0.,  0.]])"
      ]
     },
     "execution_count": 7,
     "metadata": {},
     "output_type": "execute_result"
    }
   ],
   "source": [
    "M4 = replace(M3, 2, 1, -2)\n",
    "M4"
   ]
  },
  {
   "cell_type": "markdown",
   "metadata": {},
   "source": [
    "Therefore, \n",
    "\n",
    "$$\\begin{bmatrix} 1 & -1 & | & 0 \\\\ 2 & 1 & | & 0 \\\\ -1 & 3 & | & 0 \\end{bmatrix} \\Rightarrow \\begin{bmatrix} 1 & -1 & | & 0 \\\\ 0 & 1 & | & 0 \\\\ 0 & 0 & | & 0 \\end{bmatrix}.$$\n",
    "\n",
    "From the row-reduced form, we can see that all columns are pivot and there is no free variable. In other words, the only solution to the system is the trivial solution: $null(A)=0$"
   ]
  },
  {
   "cell_type": "markdown",
   "metadata": {},
   "source": [
    "2. $\\vec{b} \\in \\text{col}(A)$ if and only if $\\vec{b}$ is a linear combination of the columns of $A$. In other words, if and only if the equation $A\\vec{x} = \\vec{b}$ has a solution. Let's set up the augmented matrix $[A \\ | \\ \\vec{b}]$ and row-reduce it:"
   ]
  },
  {
   "cell_type": "code",
   "execution_count": 8,
   "metadata": {},
   "outputs": [
    {
     "data": {
      "text/plain": [
       "array([[ 1, -1,  1],\n",
       "       [ 2,  1,  2],\n",
       "       [-1,  3,  1]])"
      ]
     },
     "execution_count": 8,
     "metadata": {},
     "output_type": "execute_result"
    }
   ],
   "source": [
    "import numpy as np\n",
    "\n",
    "M = np.array([[1, -1, 1], [2, 1, 2], [-1, 3, 1]])\n",
    "M"
   ]
  },
  {
   "cell_type": "code",
   "execution_count": 9,
   "metadata": {},
   "outputs": [
    {
     "data": {
      "text/plain": [
       "array([[ 1., -1.,  1.],\n",
       "       [ 0.,  3.,  0.],\n",
       "       [-1.,  3.,  1.]])"
      ]
     },
     "execution_count": 9,
     "metadata": {},
     "output_type": "execute_result"
    }
   ],
   "source": [
    "M1 = replace(M, 1, 0, -2)\n",
    "M1"
   ]
  },
  {
   "cell_type": "code",
   "execution_count": 10,
   "metadata": {},
   "outputs": [
    {
     "data": {
      "text/plain": [
       "array([[ 1., -1.,  1.],\n",
       "       [ 0.,  3.,  0.],\n",
       "       [ 0.,  2.,  2.]])"
      ]
     },
     "execution_count": 10,
     "metadata": {},
     "output_type": "execute_result"
    }
   ],
   "source": [
    "M2 = replace(M1, 2, 0, 1)\n",
    "M2"
   ]
  },
  {
   "cell_type": "code",
   "execution_count": 11,
   "metadata": {},
   "outputs": [
    {
     "data": {
      "text/plain": [
       "array([[ 1., -1.,  1.],\n",
       "       [ 0.,  1.,  0.],\n",
       "       [ 0.,  2.,  2.]])"
      ]
     },
     "execution_count": 11,
     "metadata": {},
     "output_type": "execute_result"
    }
   ],
   "source": [
    "M3 = scale(M2, 1, 1/3)\n",
    "M3"
   ]
  },
  {
   "cell_type": "code",
   "execution_count": 12,
   "metadata": {},
   "outputs": [
    {
     "data": {
      "text/plain": [
       "array([[ 1., -1.,  1.],\n",
       "       [ 0.,  1.,  0.],\n",
       "       [ 0.,  0.,  2.]])"
      ]
     },
     "execution_count": 12,
     "metadata": {},
     "output_type": "execute_result"
    }
   ],
   "source": [
    "M4 = replace(M3, 2, 1, -2)\n",
    "M4"
   ]
  },
  {
   "cell_type": "markdown",
   "metadata": {},
   "source": [
    "Clearly, the last two rows show that the system is inconsistent. Thus, $\\vec{b}$ is not in $\\text{col}(A)$.\n",
    "\n",
    "3. No, $null(A)$ is trivial. We can verify this directly:\n",
    "\n",
    "$\\vec{u} \\in \\text{null}(A)$ if and only if $A\\vec{u} = \\vec{0}$:"
   ]
  },
  {
   "cell_type": "code",
   "execution_count": 13,
   "metadata": {},
   "outputs": [
    {
     "data": {
      "text/plain": [
       "array([[ 1, -1],\n",
       "       [ 2,  1],\n",
       "       [-1,  3]])"
      ]
     },
     "execution_count": 13,
     "metadata": {},
     "output_type": "execute_result"
    }
   ],
   "source": [
    "A = np.array([[1, -1], [2, 1], [-1, 3]])\n",
    "A"
   ]
  },
  {
   "cell_type": "code",
   "execution_count": 14,
   "metadata": {},
   "outputs": [
    {
     "data": {
      "text/plain": [
       "array([[1],\n",
       "       [1]])"
      ]
     },
     "execution_count": 14,
     "metadata": {},
     "output_type": "execute_result"
    }
   ],
   "source": [
    "u = np.array([[1],[1]])\n",
    "u"
   ]
  },
  {
   "cell_type": "code",
   "execution_count": 15,
   "metadata": {},
   "outputs": [
    {
     "data": {
      "text/plain": [
       "array([[0],\n",
       "       [3],\n",
       "       [2]])"
      ]
     },
     "execution_count": 15,
     "metadata": {},
     "output_type": "execute_result"
    }
   ],
   "source": [
    "#computing Au\n",
    "\n",
    "Au = A @ u\n",
    "Au"
   ]
  },
  {
   "cell_type": "markdown",
   "metadata": {},
   "source": [
    "Thus, $\\vec{u}$ is not in $null(A)$.\n",
    "\n",
    "\n",
    "```{admonition} Example 3\n",
    "\n",
    "Suppose $A$ is an invertible $n\\times n$ matrix. Then, by the Invertible Matrix Theorem (Theorem 4 in section 2.1), we have the following:\n",
    "\n",
    "1. $col(A) = \\mathbb{R}^n$\n",
    "2. $null(A) = \\{0\\}$\n",
    "```"
   ]
  },
  {
   "cell_type": "markdown",
   "metadata": {},
   "source": [
    "### Basis, Dimension, and Rank"
   ]
  },
  {
   "cell_type": "markdown",
   "metadata": {},
   "source": [
    "\n",
    "Let $H \\subset \\mathbb{R}^n$ be a subspace. A __basis__ for $H$ is a linearly independent set in $H$ that spans $H$.\n",
    "\n",
    "According to the Invertible Matrix Theorem (Theorem 4 in section 2.1), the columns of an invertible $n\\times n$ matrix form a linearly independent set that spans $\\mathbb{R}^n$. Thus, the column space of any invertible matrix is a basis for $\\mathbb{R}^n$. It's important to note that bases are not unique.\n",
    "\n",
    "```{admonition} Example 4 (The Standard Basis)\n",
    "\n",
    "Let \n",
    "\n",
    "$$\n",
    "I_n = \\begin{bmatrix} \\vec{e}_1 & \\vec{e}_2 & \\dots & \\vec{e}_n \\end{bmatrix}\n",
    "$$\n",
    "\n",
    "be the identity matrix. The columns of $I_n$, denoted by \n",
    "\n",
    "$$\n",
    "\\vec{e}_1, \\vec{e}_2, \\dots, \\vec{e}_n,\n",
    "$$\n",
    "\n",
    "form a basis for $\\mathbb{R}^n$, which is called the standard basis of $\\mathbb{R}^n$. For instance, the standard basis elements for $\\mathbb{R}^3$ are \n",
    "\n",
    "$$\n",
    " \\vec{e_1} = \\begin{bmatrix} 1 \\\\ 0 \\\\ 0   \\end{bmatrix}, \\vec{e_2} = \\ \\begin{bmatrix} 0 \\\\ 1 \\\\ 0   \\end{bmatrix},\\ \\vec{e_3} = \\begin{bmatrix} 0 \\\\ 0 \\\\ 1   \\end{bmatrix}\n",
    "$$\n",
    "The following cell computes the standard basis of $\\mathbb{R}^4$\n",
    "```"
   ]
  },
  {
   "cell_type": "code",
   "execution_count": 16,
   "metadata": {},
   "outputs": [
    {
     "name": "stdout",
     "output_type": "stream",
     "text": [
      " e1 = \n",
      " [[1.]\n",
      " [0.]\n",
      " [0.]\n",
      " [0.]] \n",
      "\n",
      " e2 = \n",
      " [[0.]\n",
      " [1.]\n",
      " [0.]\n",
      " [0.]] \n",
      "\n",
      " e3 = \n",
      " [[0.]\n",
      " [0.]\n",
      " [1.]\n",
      " [0.]] \n",
      "\n",
      " e4 = \n",
      " [[0.]\n",
      " [0.]\n",
      " [0.]\n",
      " [1.]] \n",
      "\n"
     ]
    }
   ],
   "source": [
    "#the 4x4 identity matrix\n",
    "I = np.eye(4)\n",
    "\n",
    "print(' e1 = \\n', np.array([I[0]]).T, '\\n')\n",
    "print(' e2 = \\n', np.array([I[1]]).T, '\\n')\n",
    "print(' e3 = \\n', np.array([I[2]]).T, '\\n')\n",
    "print(' e4 = \\n', np.array([I[3]]).T, '\\n')\n"
   ]
  },
  {
   "cell_type": "markdown",
   "metadata": {},
   "source": [
    "__A basis for col A__\n",
    "\n",
    "The column space of a matrix $A$ is generated by the set of all columns of $A$. If $A$ is invirtible, by invirtible matrix theorem, the columns are all pivot columns and form a linearly independent set and therefore, a basis for col $A$. In general we have:  \n",
    "\n",
    "`````{admonition}Theorem 13\n",
    ":class: tip\n",
    "The pivot columns of a matrix $A$ form a basis for $col(A)$.\n",
    "`````\n",
    "\n",
    "```{admonition} Example 5\n",
    "\n",
    "Suppose \n",
    "\n",
    "$$\n",
    "A = \\begin{bmatrix} 1 & 3 & 3 & 2 & -9 \\\\ -2 & -2 & 2 & -8 & 2 \\\\ 2 & 3 & 0 & 7 & 1 \\\\ 3 & 4 & -1 & 11 & 8 \\end{bmatrix}.\n",
    "$$\n",
    "\n",
    "1. Find a basis for $col(A)$.\n",
    "2. Find a basis for $null(A).$\n",
    "```\n",
    "\n",
    "__Solution__\n",
    "\n",
    "1. We reduce $A$ to its reduced row echelon form (RREF) to find its pivot columns:"
   ]
  },
  {
   "cell_type": "code",
   "execution_count": 17,
   "metadata": {},
   "outputs": [
    {
     "data": {
      "text/plain": [
       "array([[ 1,  3,  3,  2, -9],\n",
       "       [-2, -2,  2, -8,  2],\n",
       "       [ 2,  3,  0,  7,  1],\n",
       "       [ 3,  4, -1, 11,  8]])"
      ]
     },
     "execution_count": 17,
     "metadata": {},
     "output_type": "execute_result"
    }
   ],
   "source": [
    "A = np.array([[1,3,3,2,-9], [-2,-2,2,-8,2], [2,3,0,7,1], [3,4,-1,11,8]])\n",
    "A"
   ]
  },
  {
   "cell_type": "code",
   "execution_count": 18,
   "metadata": {},
   "outputs": [
    {
     "data": {
      "text/plain": [
       "array([[ 1.,  0., -3.,  5.,  0.],\n",
       "       [ 0.,  1.,  2., -1.,  0.],\n",
       "       [ 0.,  0.,  0.,  0.,  1.],\n",
       "       [ 0.,  0.,  0.,  0.,  0.]])"
      ]
     },
     "execution_count": 18,
     "metadata": {},
     "output_type": "execute_result"
    }
   ],
   "source": [
    "A1 = replace(A, 1, 0, 2)\n",
    "A2 = replace(A1, 2, 0, -2)\n",
    "A3 = replace(A2, 3, 0, -3)\n",
    "A4 = scale(A3, 1, 1/4)\n",
    "A5 = replace(A4, 2, 1, 3)\n",
    "A6 = replace(A5, 3, 1, 5)\n",
    "A7 = scale(A6, 2, 1/7)\n",
    "A8 = replace(A7, 0, 1, -3)\n",
    "A9 = replace(A8, 3, 2, -15)\n",
    "A10 = replace(A9, 1, 2, 4)\n",
    "A11 = replace(A10, 0, 2, -3)\n",
    "A11"
   ]
  },
  {
   "cell_type": "markdown",
   "metadata": {},
   "source": [
    "We can see from the RREF of $A$ that $A$ has 3 pivot columns, which are the first two columns and the last column. Therefore, a basis for $\\text{col}(A)$ is the set consisting of the first two columns and the last column of $A$:\n",
    "\n",
    "$$\n",
    "\\left\\lbrace \\begin{bmatrix} 1 \\\\ -2 \\\\ 2 \\\\ 3 \\end{bmatrix}, \\begin{bmatrix} 3 \\\\ -2 \\\\ 3 \\\\ 4 \\end{bmatrix}, \\begin{bmatrix} -9 \\\\ 2 \\\\ 1 \\\\ 8 \\end{bmatrix} \\right\\rbrace\n",
    "$$\n",
    "\n",
    "It's important to note that the columns of the RREF of $A$ are not necessarily in $\\text{col}(A)$, and we cannot use them to form a basis for $\\text{col}(A)$.\n",
    "\n",
    "2. To find a basis for $\\text{null}(A)$, we solve $A\\vec{x}=0$ in the usual manner. Let's form the augmented matrix $[A \\ | \\ \\vec{0}]$:"
   ]
  },
  {
   "cell_type": "code",
   "execution_count": 19,
   "metadata": {},
   "outputs": [
    {
     "data": {
      "text/plain": [
       "array([[ 1.,  0., -3.,  5.,  0.,  0.],\n",
       "       [ 0.,  1.,  2., -1.,  0.,  0.],\n",
       "       [ 0.,  0.,  0.,  0.,  1.,  0.],\n",
       "       [ 0.,  0.,  0.,  0.,  0.,  0.]])"
      ]
     },
     "execution_count": 19,
     "metadata": {},
     "output_type": "execute_result"
    }
   ],
   "source": [
    "A0 = np.array([[1,3,3,2,-9,0], [-2,-2,2,-8,2,0], [2,3,0,7,1,0], [3,4,-1,11,8,0]])\n",
    "A1 = replace(A0, 1, 0, 2)\n",
    "A2 = replace(A1, 2, 0, -2)\n",
    "A3 = replace(A2, 3, 0, -3)\n",
    "A4 = scale(A3, 1, 1/4)\n",
    "A5 = replace(A4, 2, 1, 3)\n",
    "A6 = replace(A5, 3, 1, 5)\n",
    "A7 = scale(A6, 2, 1/7)\n",
    "A8 = replace(A7, 0, 1, -3)\n",
    "A9 = replace(A8, 3, 2, -15)\n",
    "A10 = replace(A9, 1, 2, 4)\n",
    "A11 = replace(A10, 0, 2, -3)\n",
    "A11"
   ]
  },
  {
   "cell_type": "markdown",
   "metadata": {},
   "source": [
    "From this we can see that the general solution is:\n",
    "\n",
    "\n",
    "$$\n",
    "\\begin{bmatrix}x_1\\\\ x_2\\\\x_3\\\\ x_4\\\\ x_5 \\end{bmatrix} = \\begin{bmatrix} 3x_3 - 5x_4 \\\\ -2x_3 +x_4 \\\\x_3\\\\ x_4\\\\ 0\\end{bmatrix} = x_3\\begin{bmatrix} 3\\\\ -2\\\\ 1\\\\ 0\\\\ 0\\end{bmatrix} + x_4 \\begin{bmatrix} - 5 \\\\  1 \\\\0\\\\ 1\\\\ 0\\end{bmatrix} = span(\\ \\begin{bmatrix} 3\\\\ -2\\\\ 1\\\\ 0\\\\ 0\\end{bmatrix}, \\begin{bmatrix} - 5 \\\\  1 \\\\0\\\\ 1\\\\ 0\\end{bmatrix}\\ )\n",
    "$$\n",
    "\n",
    "It is also clear that $\\begin{bmatrix} 3\\\\ -2\\\\ 1\\\\ 0\\\\ 0\\end{bmatrix}$ and $\\begin{bmatrix} - 5 \\\\  1 \\\\0\\\\ 1\\\\ 0\\end{bmatrix}$ are linearly independent. So they form a basis for $null(A)$.\n",
    "\n",
    "\n",
    "Note that a subspace $H$ can have different bases. For example, the following sets are both bases for $\\mathbb{R}^2$:\n",
    "\n",
    "\n",
    "$$ B = \\left\\{ \\begin{bmatrix} 1 \\\\ 0 \\end{bmatrix}, \\begin{bmatrix} 0 \\\\ 1 \\end{bmatrix}   \\right\\}\\quad  \\text{and} \\quad G = \\left\\{ \\begin{bmatrix} 1 \\\\ 2 \\end{bmatrix}, \\begin{bmatrix} 2 \\\\ 1 \\end{bmatrix}   \\right\\}\n",
    "$$\n",
    "\n",
    "However, all bases have something in common: \n",
    "\n",
    "\n",
    "`````{admonition} Theorem 14\n",
    "\n",
    " All bases of a subspace $H$ in $\\mathbb{R}^n$ have the same number of vectors.\n",
    "\n",
    "The __dimension__ of a subspace $H$, denoted as $dim(H)$, is the number of vectors in any of its bases. Furthermore, we define $dim(\\{\\vec{0}\\})$ to be $0$. The dimension of the column space of a matrix $A$, denoted as $rank(A)$, is referred to as the __rank__ of $A$.\n",
    "\n",
    "`````\n",
    "\n",
    "\n",
    "\n",
    "```{admonition} Example 6\n",
    "\n",
    "Show that $dim(\\mathbb{R}^n) = n.$\n",
    "\n",
    "```\n",
    "\n",
    "__Solution:__\n",
    "\n",
    " We can use Example 6, where it was shown that the columns of the identity matrix $I_n$, denoted as $\\{\\vec{e}_1, \\dots, \\vec{e}_n\\}$, form a basis for $\\mathbb{R}^n$. \n",
    "\n",
    "Since there are $n$ columns in the identity matrix $I_n$, the dimension of $\\mathbb{R}^n$ is equal to $n$. Hence, $dim(\\mathbb{R}^n) = n$.\n",
    "\n",
    "```{admonition} Example 7\n",
    "\n",
    "Find the rank of subspaces of $\\mathbb{R}^3$.\n",
    "\n",
    "```\n",
    "__Solution:__\n",
    "\n",
    "In $\\mathbb{R}^3$, we have the following subspaces:\n",
    "\n",
    "1. The zero subspace $\\{\\vec{0}\\}$, which has zero dimension.\n",
    "\n",
    "2. Lines passing through the origin, which have one dimension: every line in $\\mathbb{R}^3$ can be spanned by a vector.\n",
    "\n",
    "3. Planes passing through the origin, which have two dimensions: every plane in $\\mathbb{R}^3$ can be spanned by two linearly independent vectors.\n",
    "\n",
    "4. The entire space $\\mathbb{R}^3$, which has three dimensions.\n",
    "\n",
    "\n",
    " The next Theorem states that the sum of the dimensions of the column space and null space is equal to the number of columns in the matrix. Additionally, it provides a way to determine the dimensions of the column space and null space based on the number of pivot and non-pivot columns in the matrix, respectively.\n",
    "\n",
    "`````{admonition} Theorem 15 (Rank-Nulity Theorem)\n",
    "\n",
    "\n",
    "If $A$ be an $m \\times n$ matrix, then $dim(col(A)) + dim(null(A)) = n$. Moreover, \n",
    "\n",
    "\n",
    "1. $dim(col(A)) =$ the number of pivot columns of $A$.\n",
    "\n",
    "2. $dim(null(A)) =$ the number of non-pivot columns of $A$.\n",
    "\n",
    "`````\n",
    "\n",
    "```{admonition} Example 8\n",
    "\n",
    "Find the rank and dimension of $null(A)$, where $A = \\begin{bmatrix} 1 & 3 &3 & 2 &-9 \\\\ -2 & -2 & 2 & -8 &2 \\\\ 2 & 3 &0 & 7 & 1 \\\\ 3 & 4 & -1 & 11 & 8 \\end{bmatrix}$\n",
    "`````\n",
    "\n",
    "__Solution__ \n",
    "\n",
    "From the solution of Example 7, We know that the RREF of $A$ is "
   ]
  },
  {
   "cell_type": "code",
   "execution_count": 35,
   "metadata": {},
   "outputs": [
    {
     "data": {
      "text/plain": [
       "array([[ 1.,  0., -3.,  5.,  0.,  0.],\n",
       "       [ 0.,  1.,  2., -1.,  0.,  0.],\n",
       "       [ 0.,  0.,  0.,  0.,  1.,  0.],\n",
       "       [ 0.,  0.,  0.,  0.,  0.,  0.]])"
      ]
     },
     "execution_count": 35,
     "metadata": {},
     "output_type": "execute_result"
    }
   ],
   "source": [
    "A11"
   ]
  },
  {
   "cell_type": "markdown",
   "metadata": {},
   "source": [
    "Which has three pivot columns and two non-pivot columns. Therefore, $rank(A) = 3$ and $dim(null(A)) = 2$\n",
    "\n"
   ]
  },
  {
   "cell_type": "markdown",
   "metadata": {},
   "source": [
    "### Exercises"
   ]
  },
  {
   "cell_type": "markdown",
   "metadata": {},
   "source": [
    "```{admonition}Exercises\n",
    "\n",
    "1. Determine which one of the follwing sets are a subspace:\n",
    "\n",
    "    a.   \n",
    "    \n",
    "    $$\n",
    "    H = \\left\\lbrace \\  \\begin{bmatrix} x \\\\ y \\\\ z \\end{bmatrix} \\in \\mathbb{R}^3 \\mbox{ with } x \\geq 0, \\right\\rbrace.\n",
    "    $$\n",
    "    \n",
    "    b. \n",
    "    \n",
    "    $$\n",
    "    H = \\left\\lbrace \\ \\begin{bmatrix}\n",
    "x \\\\ 1 \\\\2x \n",
    "\\end{bmatrix} \\in \\mathbb{R}^3 \\right\\rbrace.\n",
    "$$\n",
    "\n",
    "\n",
    "2. Let \n",
    "\n",
    "$$\n",
    "A = \\begin{bmatrix} 1 & 2 &-9 \\\\ -2 & -2 & 2 \\\\ 2 & 3 &0 \\end{bmatrix}.\n",
    "$$  \n",
    "Find the dimension of $col(A)$ and $null(A)$.\n",
    "\n",
    "\n",
    "3. Suppose $A$ is a $5 \\times 5$ matrix, and $A$ has 3 pivot columns. \n",
    "\n",
    "    a. Prove that $A\\vec{x}=\\vec{0}$ must have nontrivial solutions.\n",
    "    \n",
    "    b. Is there an example of $A$ where $col(A)= null(A)$?\n",
    "\n",
    " \n",
    "4. Find an explicit example of a $4\\times 4$ matrix $A$ which has $colA = null(A)$ \n",
    "```"
   ]
  },
  {
   "cell_type": "markdown",
   "metadata": {},
   "source": [
    "## 3.2  Introduction to Linear Transformation\n",
    "\n",
    "This section introduces linear transformations (sometimes referred to as linear maps) and explores their relationship with linear systems. We discuss how the existence and uniqueness of solutions to linear systems can be reformulated in terms of linear transformations."
   ]
  },
  {
   "cell_type": "markdown",
   "metadata": {},
   "source": [
    "### Motivation"
   ]
  },
  {
   "cell_type": "markdown",
   "metadata": {},
   "source": [
    "\n",
    " In many applications, the matrix equation arises in a way that is not directly connected to linear combinations of vectors. In fact, we think of an $m \\times n$ matrix $A$ as a function that transforms $\\vec{x}\\in \\mathbb{R}^m$ to $A\\vec{x}\\in \\mathbb{R}^n$. With this perspective, finding the solution set of a linear system $A\\vec{x}=\\vec{b}$ is the same as finding the set of all $\\vec{x}$ that $A$ transforms into $\\vec{b}$. Theorem 1 in the previous section states that:\n",
    "\n",
    "1. $A(\\vec{u}+ \\vec{v}) = A \\vec{u} + A \\vec{v}$\n",
    "2. $A(c\\vec{u}) = c A\\vec{u}$\n",
    "\n",
    "In general any function with these properties is called  a _linear trasformation_. More precisely, a function \n",
    "\n",
    "$$\n",
    "T: \\mathbb{R}^m \\to \\mathbb{R}^n\n",
    "$$ \n",
    "\n",
    "is a linear transformation if it satisfies the following conditions:\n",
    "\n",
    "$$ \n",
    "T(\\vec{u} + \\vec{v}) = T(\\vec{u}) + T(\\vec{v}) \\quad \\forall \\vec{u}, \\vec{v} \\in \\mathbb{R}^m\n",
    "$$\n",
    "\n",
    "\n",
    "$$T(c \\vec{u}) = cT(\\vec{u}) \\quad \\forall \\vec{u}\\in \\mathbb{R}^m \\quad \\text{and} \\quad \\forall c\\in \\mathbb{R}$$\n",
    "\n",
    "\n",
    "These two conditions lead to the following useful fact:\n",
    "\n",
    "$T: \\mathbb{R}^m \\to \\mathbb{R}^n$ is a linear transformation if and only if \n",
    "\n",
    "1. $T(\\vec{0}) = \\vec{0}$ \n",
    "2. $T(c\\vec{u} + d\\vec{v}) = cT(\\vec{u}) + dT(\\vec{v}) \\quad \\forall \\vec{u}, \\vec{v} \\in \\mathbb{R}^m \\quad \\text{and}\\quad  \\forall c\\in \\mathbb{R}$\n",
    "\n",
    "\n",
    "The last property can also be generalized to $n$ vectors:\n",
    "\n",
    "$$\n",
    "T(c_1\\vec{u}_1 + c_2\\vec{u}_2 + \\dots + c_p\\vec{u}_p) = c_1T(\\vec{u}_1) + c_2T(\\vec{u}_2) + \\dots + c_pT(\\vec{u}_p) \\quad \\text{where} \\quad 1 \\leq i \\leq p\n",
    "$$\n",
    "\n",
    "\n",
    "\n",
    "This property states that $T$ preserves linear combinations of vectors.\n",
    "\n",
    "\n",
    "```{admonition} Example 1\n",
    "\n",
    "Show that\n",
    "\n",
    "$T: \\mathbb{R}^2 \\rightarrow \\mathbb{R}^3$ given by\n",
    "\n",
    "$$\n",
    "T\\left( \\begin{bmatrix}\n",
    "x_1 \\\\ x_2\n",
    "\\end{bmatrix} \\right) = \\begin{bmatrix}\n",
    "2x_2 \\\\ 0 \\\\ 3x_1\n",
    "\\end{bmatrix}.\n",
    "$$\n",
    "\n",
    "is a linear transfornation.\n",
    "```\n",
    "__Solution:__\n",
    "\n",
    " T is linear as shown below:\n",
    "\n",
    "1. \n",
    "\n",
    "$$\n",
    "T\\left( \\begin{bmatrix}\n",
    "x_1 \\\\ x_2\n",
    "\\end{bmatrix} + \\begin{bmatrix}\n",
    "y_1 \\\\ y_2\n",
    "\\end{bmatrix} \\right) = T\\left( \\begin{bmatrix}\n",
    "x_1+y_1 \\\\ x_2+y_2\n",
    "\\end{bmatrix}  \\right) =  \\begin{bmatrix}\n",
    "2(x_2+y_2) \\\\ 0 \\\\ 3(x_1+y_1)\n",
    "\\end{bmatrix} =  \\begin{bmatrix}\n",
    "2x_2+2y_2 \\\\ 0 \\\\ 3x_1+3x_2\n",
    "\\end{bmatrix}.\n",
    "$$\n",
    "\n",
    "\n",
    "\n",
    "$$\n",
    "T\\left( \\begin{bmatrix}\n",
    "x_1 \\\\ x_2\n",
    "\\end{bmatrix}\\right) + T\\left(\\begin{bmatrix}\n",
    "y_1 \\\\ y_2\n",
    "\\end{bmatrix} \\right)  =  \\begin{bmatrix}\n",
    "2x_2 \\\\ 0 \\\\ 3x_1\n",
    "\\end{bmatrix} +\\begin{bmatrix}\n",
    "2y_2 \\\\ 0 \\\\ 3y_1\n",
    "\\end{bmatrix} =  \\begin{bmatrix}\n",
    "2x_2+2y_2 \\\\ 0 \\\\ 3x_1+3x_2\n",
    "\\end{bmatrix}.\n",
    "$$\n",
    "\n",
    "\n",
    "2. \n",
    "$$\n",
    "T\\left( c\\begin{bmatrix}\n",
    "x_1 \\\\ x_2\n",
    "\\end{bmatrix} \\right)  = T\\left( \\begin{bmatrix}\n",
    "c x_1 \\\\ c x_2\n",
    "\\end{bmatrix} \\right)     = \\begin{bmatrix}\n",
    "2cx_2 \\\\ 0 \\\\ 3cx_1\n",
    "\\end{bmatrix}.\n",
    "$$\n",
    "\n",
    "$$\n",
    "cT\\left( \\begin{bmatrix}\n",
    "x_1 \\\\ x_2\n",
    "\\end{bmatrix} \\right) = c\\begin{bmatrix}\n",
    "2x_2 \\\\ 0 \\\\ 3x_1\n",
    "\\end{bmatrix} = \\begin{bmatrix}\n",
    "c2x_2 \\\\ 0 \\\\ c3x_1\n",
    "\\end{bmatrix}.\n",
    "$$\n",
    "\n",
    "Let's write a Python function for $T$:"
   ]
  },
  {
   "cell_type": "code",
   "execution_count": 21,
   "metadata": {},
   "outputs": [],
   "source": [
    "import numpy as np\n",
    "\n",
    "def T(V):\n",
    "    W = np.zeros((3, 1))  # return the zero vector in R^3\n",
    "    W[0, 0] = 2 * V[1, 0]  # change the first component to 2*x_2\n",
    "    W[2, 0] = 3 * V[0, 0]  # change the third component to 3*x_1\n",
    "    return W\n"
   ]
  },
  {
   "cell_type": "markdown",
   "metadata": {},
   "source": [
    "Now, let's plug in some vectors:"
   ]
  },
  {
   "cell_type": "code",
   "execution_count": 22,
   "metadata": {},
   "outputs": [
    {
     "name": "stdout",
     "output_type": "stream",
     "text": [
      "T(V): \n",
      " \n",
      " [[2.]\n",
      " [0.]\n",
      " [3.]]\n",
      "**********\n",
      "\n",
      " T(U):  \n",
      "\n",
      " [[0.]\n",
      " [0.]\n",
      " [0.]]\n"
     ]
    }
   ],
   "source": [
    "# input vectors\n",
    "V = np.array([[1], [1]])\n",
    "\n",
    "U = np.array([[0], [0]])\n",
    "\n",
    "#output vectors\n",
    "W1 = T(V)\n",
    "W2 = T(U)\n",
    "\n",
    "print('T(V): \\n \\n', W1)\n",
    "\n",
    "print(10*'*')\n",
    "\n",
    "print('\\n T(U):  \\n\\n', W2)"
   ]
  },
  {
   "cell_type": "markdown",
   "metadata": {},
   "source": [
    "```{admonition} Example 2\n",
    "\n",
    "\n",
    "\n",
    "Determine if $T: \\mathbb{R}^2 \\rightarrow \\mathbb{R}^3$ given by\n",
    "\n",
    "$$\n",
    "T\\left( \\begin{bmatrix}\n",
    "x_1 \\\\ x_2\n",
    "\\end{bmatrix} \\right) = \\begin{bmatrix}\n",
    "2x_2 \\\\ 1 \\\\ 3x_1\n",
    "\\end{bmatrix}.\n",
    "$$\n",
    "\n",
    "is a linear transformation.\n",
    "\n",
    "```\n",
    "\n",
    "__Solution:__ T is not linear, since\n",
    "\n",
    "$\n",
    "T \\left( \\begin{bmatrix} 0 \\\\ 0 \\end{bmatrix} \\right) = \\begin{bmatrix} 0 \\\\ 1 \\\\ 0 \\end{bmatrix} \\neq \\begin{bmatrix} 0 \\\\ 0 \\\\ 0 \\end{bmatrix}\n",
    "$\n",
    "\n",
    "\n",
    "```{admonition} Example 3\n",
    "\n",
    "Let \n",
    "\n",
    "$$\n",
    "A=\\begin{bmatrix} 1 & 0 & 0 \\\\ 0 & 1 & 0 \\\\ 0 & 0 & 0 \\end{bmatrix}.\n",
    "$$\n",
    "\n",
    "Prove that the transformation \n",
    "\n",
    "$$\n",
    "T: \\mathbb{R}^3 \\rightarrow \\mathbb{R}^3\n",
    "$$ \n",
    "\n",
    "defined by $T(\\vec{x})= A\\vec{x}$ is a linear transformation. $T$ is called the __projection__ onto the $xy$-plane.\n",
    "\n",
    "__Solution:__\n",
    "\n",
    "The transformation $T$ is defined by a matrix multiplication. According to Theorem 1 in the previous section, the matrix product satisfies the linearity property. $T$ is called a projection because when applied to \n",
    "\n",
    "$$\n",
    "\\vec{u} = \\begin{bmatrix} x\\\\ y\\\\ z \\end{bmatrix},\n",
    "$$\n",
    "\n",
    "it doesn't affect the first two components and replaces $z$ with zero. Let's verify this by evaluating it for \n",
    "\n",
    "$$\n",
    "\\vec{u} = \\begin{bmatrix} 1\\\\ 3\\\\ 5 \\end{bmatrix}\n",
    "$$:"
   ]
  },
  {
   "cell_type": "code",
   "execution_count": 23,
   "metadata": {},
   "outputs": [
    {
     "name": "stdout",
     "output_type": "stream",
     "text": [
      "T maps \n",
      "\n",
      " [[1]\n",
      " [3]\n",
      " [5]] \n",
      "\n",
      " to \n",
      "\n",
      " [[1]\n",
      " [3]\n",
      " [0]]\n"
     ]
    }
   ],
   "source": [
    "# matrix A\n",
    "A = np.array([[1,0,0],[0,1,0],[0,0,0]])\n",
    "\n",
    "# vector U\n",
    "U = np.array([[1,3,5]]).T\n",
    "\n",
    "\n",
    "print('T maps \\n\\n', U,'\\n\\n to \\n\\n', A @ U)"
   ]
  },
  {
   "cell_type": "markdown",
   "metadata": {},
   "source": [
    "```{admonition} Example 4\n",
    "\n",
    "Let \n",
    "\n",
    "$$\n",
    "A=\\begin{bmatrix} 1 & \\lambda \\\\ 0 & 1 \\end{bmatrix}.\n",
    "$$\n",
    "\n",
    "Then, the transformation \n",
    "\n",
    "$$\n",
    "T: \\mathbb{R}^2 \\rightarrow \\mathbb{R}^2\n",
    "$$ \n",
    "\n",
    "defined by $T(\\vec{x})= A\\vec{x}$ is a linear transformation and is called a __shear transformation__. \n",
    "```\n",
    "\n",
    "For $\\lambda = 2$, we have:"
   ]
  },
  {
   "cell_type": "code",
   "execution_count": 24,
   "metadata": {},
   "outputs": [
    {
     "name": "stdout",
     "output_type": "stream",
     "text": [
      "T maps \n",
      "\n",
      " [1 0] \n",
      "\n",
      " to \n",
      "\n",
      " [1 0]\n",
      "**********\n",
      "T maps \n",
      "\n",
      " [0 1] \n",
      "\n",
      " to \n",
      "\n",
      " [2 1]\n"
     ]
    }
   ],
   "source": [
    "# matrix A\n",
    "A = np.array([[1,2],[0,1]])  \n",
    "\n",
    "# inpout data \n",
    "e1 = np.array([1,0])\n",
    "e2 = np.array([0,1])\n",
    "\n",
    "#output \n",
    "w1 = A @ e1\n",
    "w2 = A @ e2\n",
    "\n",
    "\n",
    "print('T maps \\n\\n', e1,'\\n\\n to \\n\\n', w1)\n",
    "\n",
    "print(10*'*')\n",
    "\n",
    "print('T maps \\n\\n', e2,'\\n\\n to \\n\\n', w2)"
   ]
  },
  {
   "cell_type": "markdown",
   "metadata": {},
   "source": [
    "Lets plot these vectors:"
   ]
  },
  {
   "cell_type": "code",
   "execution_count": 26,
   "metadata": {},
   "outputs": [
    {
     "data": {
      "image/png": "[encoded data removed]",
      "text/plain": [
       "<Figure size 640x480 with 1 Axes>"
      ]
     },
     "metadata": {},
     "output_type": "display_data"
    }
   ],
   "source": [
    "import matplotlib.pyplot as plt\n",
    "\n",
    "ax = plt.axes()\n",
    "\n",
    "ax.arrow(0, 0, 1, 0, head_width = 0.2,head_length = 0.2, fc ='b', ec ='b')\n",
    "ax.arrow(0, 0, 1, 0, head_width = 0.2,head_length = 0.2, fc ='r', ec ='r')\n",
    "\n",
    "ax.arrow(0, 0, 0, 1, head_width = 0.2,head_length = 0.2, fc ='b', ec ='b')\n",
    "ax.arrow(0, 0, 2, 1, head_width = 0.2,head_length = 0.2, fc ='r', ec ='r')\n",
    "\n",
    "ax.text(0.8,0 - 0.5,'$e1 = w1$')\n",
    "ax.text(0,1.3,'$e2$')\n",
    "ax.text(2.2,1.2,'$w2$')\n",
    "            \n",
    "ax.set_xticks(np.arange( -1, 5, step = 1))\n",
    "ax.set_yticks(np.arange( -1, 5, step = 1))\n",
    "ax.set_aspect('equal')\n",
    "\n",
    "ax.set_xlabel(\"X\")\n",
    "ax.set_ylabel(\"Y\")\n",
    "    \n",
    "plt.grid()\n",
    "plt.show()"
   ]
  },
  {
   "cell_type": "markdown",
   "metadata": {},
   "source": [
    "Observe that all points along $y$-axis remain fixed while other points are shifted parallel to $y$-axis by a distance proportional to their perpendicular distance from $x$-axis; more perciesley, \n",
    "\n",
    "$$\n",
    "T(\\begin{bmatrix} x \\\\ y \\end{bmatrix}) = \\begin{bmatrix} x+2y \\\\ y \\end{bmatrix}.\n",
    "$$\n",
    "\n",
    "\n",
    "Shearing a plane figure does not change its area. The shear transformation can also be generalized to three dimensions:\n",
    "\n",
    "Let \n",
    "\n",
    "$$\n",
    "A=\\begin{bmatrix} 1 & 0 & \\lambda \\\\ 0 & 1 & 0 \\\\ 0 & 0 & 1 \\end{bmatrix}.\n",
    "$$. \n",
    "\n",
    "Then, the transformation \n",
    "\n",
    "$$\n",
    "T: \\mathbb{R}^3 \\rightarrow \\mathbb{R}^3\n",
    "$$ \n",
    "\n",
    "defined by $T(\\vec{x})= A\\vec{x}$ is a shear transformation.\n"
   ]
  },
  {
   "cell_type": "markdown",
   "metadata": {},
   "source": [
    "### The standard matrix representation of a linear transformation"
   ]
  },
  {
   "cell_type": "markdown",
   "metadata": {},
   "source": [
    "As we have seen previously, any $m \\times n$ matrix $A$ defines a linear transformation $T: \\mathbb{R}^n \\rightarrow \\mathbb{R}^m$ given by $\\vec{x} \\mapsto A\\vec{x}$. The converse of this statement is also true, as stated in the following theorem:\n",
    "\n",
    "`````{admonition} Theorem 16\n",
    "\n",
    ":class: tip\n",
    "\n",
    "Let $T: \\mathbb{R}^n \\rightarrow \\mathbb{R}^m$ be a linear transformation. There exists a unique $m \\times n$ matrix $A$ such that $T(\\vec{x}) = A\\vec{x}$ for all $\\vec{x} \\in \\mathbb{R}^n$. In fact, the $i$th column of matrix $A$ is given by $T(\\vec{e_i})$, where $\\vec{e_i} \\in \\mathbb{R}^n$ represents the $i$th column of the identity matrix $I_n$.\n",
    "\n",
    "`````\n",
    "\n",
    "The matrix $A$ is called __the standard matrix representation__ of $T$. The name is motivated by the fact that we are using the standard basis of $\\mathbb{R}^n$, $\\vec{e_i}$s, to contruct $A$.\n",
    "\n",
    "```{admonition} Example 5\n",
    "\n",
    "Find the standard matrix representation of the linear transformation in Example 1.\n",
    "```\n",
    "\n",
    "__Solution:__ \n",
    "\n",
    "We apply $T$ to the standard basis vectors $\\vec{e_1} = \\begin{bmatrix} 1 \\\\ 0 \\end{bmatrix}$ and $\\vec{e_2} = \\begin{bmatrix} 0 \\\\ 1 \\end{bmatrix}$ to obtain the columns of the matrix representation $D$ of $T$:\n",
    "\n",
    "$T(\\vec{e_1}) = \\begin{bmatrix} 2(0) \\\\ 0 \\\\ 3(1) \\end{bmatrix} = \\begin{bmatrix} 0 \\\\ 0 \\\\ 3 \\end{bmatrix}$\n",
    "\n",
    "$T(\\vec{e_2}) = \\begin{bmatrix} 2(1) \\\\ 0 \\\\ 3(0) \\end{bmatrix} = \\begin{bmatrix} 2 \\\\ 0 \\\\ 0 \\end{bmatrix}$\n",
    "\n",
    "Thus, the standard matrix representation $D$ of $T$ is:\n",
    "\n",
    "$$ \n",
    "D = \\begin{bmatrix} 0 & 2 \\\\ 0 & 0 \\\\ 3 & 0\\end{bmatrix}\n",
    "$$\n",
    "\n",
    "Lets write a python code for this example and verify our solution:"
   ]
  },
  {
   "cell_type": "code",
   "execution_count": 27,
   "metadata": {},
   "outputs": [
    {
     "data": {
      "text/plain": [
       "array([[0., 2.],\n",
       "       [0., 0.],\n",
       "       [3., 0.]])"
      ]
     },
     "execution_count": 27,
     "metadata": {},
     "output_type": "execute_result"
    }
   ],
   "source": [
    "def T(V):\n",
    "    W = np.zeros((3,1)) #returns the zero vector in R^3 \n",
    "    W[0,0] = 2*V[1,0]   #changes the first component to 2*x_1\n",
    "    W[2,0] = 3*V[0,0]   #changes the third component to 3*x_2\n",
    "    return W\n",
    "\n",
    "e1 = np.array([[1],[0]])\n",
    "e2 = np.array([[0],[1]])\n",
    "\n",
    "#the first column of A\n",
    "\n",
    "c1 = T(e1)\n",
    "\n",
    "#the second column of A\n",
    "\n",
    "c2 = T(e2)\n",
    "\n",
    "# formaing D\n",
    "\n",
    "D = np.concatenate((c1,c2), axis =1)\n",
    "\n",
    "D"
   ]
  },
  {
   "cell_type": "markdown",
   "metadata": {},
   "source": [
    "In Example 1, we saw that $T(\\begin{bmatrix} 1\\\\1\\\\ \\end{bmatrix})= \\begin{bmatrix} 2\\\\0\\\\3\\\\ \\end{bmatrix}$.\n",
    "Let's verify that $D\\begin{bmatrix} 1\\\\1\\\\ \\end{bmatrix} = \\begin{bmatrix} 2\\\\0\\\\3\\\\ \\end{bmatrix}$:"
   ]
  },
  {
   "cell_type": "code",
   "execution_count": 28,
   "metadata": {},
   "outputs": [
    {
     "data": {
      "text/plain": [
       "array([[2.],\n",
       "       [0.],\n",
       "       [3.]])"
      ]
     },
     "execution_count": 28,
     "metadata": {},
     "output_type": "execute_result"
    }
   ],
   "source": [
    "v = np.array([[1],[1]])\n",
    "\n",
    "D @ v "
   ]
  },
  {
   "cell_type": "markdown",
   "metadata": {},
   "source": [
    "```{admonition} Example 6\n",
    "\n",
    "Consider the linear transformation $T: \\mathbb{R}^2 \\rightarrow \\mathbb{R}^2$ defined as follows: $T\\left(\\vec{x}\\right)$ first reflects $\\vec{x}$ across the $x$-axis and then rotates it $90^\\circ$ counterclockwise. Find the standard matrix representation of $T$.\n",
    "```\n",
    "\n",
    "__Solution:__\n",
    "\n",
    "To find the standard matrix representation of $T$ we apply $T$ to the standard basis vectors of $\\mathbb{R}^2$:\n",
    "\n",
    "$T$ reflects $\\begin{bmatrix} 1 \\\\ 0 \\end{bmatrix}$ to itself and then rotates it to $\\begin{bmatrix} 0 \\\\ 1 \\end{bmatrix}$.\n",
    "\n",
    "$T$ reflects $\\begin{bmatrix} 0 \\\\ 1 \\end{bmatrix}$ to $\\begin{bmatrix} 0 \\\\ -1 \\end{bmatrix}$ and then rotates it to $\\begin{bmatrix} 1 \\\\ 0 \\end{bmatrix}$.\n",
    "\n",
    "Therefore, the standard matrix of $T$ is \n",
    "\n",
    "$$\n",
    "\\begin{bmatrix} 0 & 1 \\\\ 1 & 0 \\end{bmatrix}.\n",
    "$$\n",
    "\n"
   ]
  },
  {
   "cell_type": "code",
   "execution_count": 29,
   "metadata": {},
   "outputs": [
    {
     "data": {
      "image/png": "[encoded data removed]",
      "text/plain": [
       "<Figure size 640x480 with 1 Axes>"
      ]
     },
     "metadata": {},
     "output_type": "display_data"
    }
   ],
   "source": [
    "import matplotlib.pyplot as plt\n",
    "\n",
    "ax = plt.axes()\n",
    "\n",
    "ax.arrow(0, 0, 1, 0, head_width = 0.2,head_length = 0.2, fc ='b', ec ='b')\n",
    "ax.arrow(0, 0, 0, 1, head_width = 0.2,head_length = 0.2, fc ='r', ec ='r')\n",
    "\n",
    "\n",
    "ax.text(1,0 - 0.5,'e1')\n",
    "ax.text(0,1 + 0.5,'T(e1)')\n",
    "\n",
    "\n",
    "            \n",
    "ax.set_xticks(np.arange( -1, 5, step = 1))\n",
    "ax.set_yticks(np.arange( -1, 5, step = 1))\n",
    "ax.set_aspect('equal')\n",
    "\n",
    "ax.set_xlabel(\"X\")\n",
    "ax.set_ylabel(\"Y\")\n",
    "    \n",
    "plt.grid()\n",
    "plt.show()"
   ]
  },
  {
   "cell_type": "code",
   "execution_count": 30,
   "metadata": {},
   "outputs": [
    {
     "data": {
      "image/png": "[encoded data removed]",
      "text/plain": [
       "<Figure size 640x480 with 1 Axes>"
      ]
     },
     "metadata": {},
     "output_type": "display_data"
    }
   ],
   "source": [
    "ax = plt.axes()\n",
    "\n",
    "ax.arrow(0, 0, 0, 1, head_width = 0.2,head_length = 0.2, fc ='b', ec ='b')\n",
    "ax.arrow(0, 0, 1, 0, head_width = 0.2,head_length = 0.2, fc ='r', ec ='r')\n",
    "\n",
    "\n",
    "ax.text(0,1 + 0.5,'$e2$')\n",
    "ax.text(1,0 - 0.5,'$T(e2)$')\n",
    "\n",
    "            \n",
    "ax.set_xticks(np.arange( -1, 5, step = 1))\n",
    "ax.set_yticks(np.arange( -1, 5, step = 1))\n",
    "ax.set_aspect('equal')\n",
    "\n",
    "ax.set_xlabel(\"X\")\n",
    "ax.set_ylabel(\"Y\")\n",
    "    \n",
    "plt.grid()\n",
    "plt.show()"
   ]
  },
  {
   "cell_type": "markdown",
   "metadata": {},
   "source": [
    "### Exercise"
   ]
  },
  {
   "cell_type": "markdown",
   "metadata": {},
   "source": [
    "```{admonition} Exercises\n",
    "\n",
    "1. Determine if each transformation is linear\n",
    "\n",
    "\n",
    "   a. $T: \\mathbb{R}^2 \\rightarrow \\mathbb{R}^2$ given by\n",
    "\n",
    "$$\n",
    "T\\left( \\begin{bmatrix} x_1 \\\\ x_2  \\end{bmatrix} \\right) = \\begin{bmatrix} x_2 \\\\ -x_1\n",
    "\\end{bmatrix}.\n",
    "$$\n",
    "\n",
    "\n",
    "\n",
    "   b. $T: \\mathbb{R}^2 \\rightarrow \\mathbb{R}^2$ given by \n",
    "    \n",
    "$$\n",
    "T\\left( \\begin{bmatrix} x_1 \\\\ x_2  \\end{bmatrix} \\right) = \\begin{bmatrix} (x_1)^2 \\\\ 0 \\end{bmatrix}.\n",
    "$$\n",
    "\n",
    "\n",
    "\n",
    "\n",
    "2. Find the standard matrix of $T: \\mathbb{R}^2 \\rightarrow \\mathbb{R}^2$ given by $T(\\vec{x}) =$ first reflect $\\vec{x}$ across the $x$-axis and then rotate $45^\\circ$ counterclockwise.\n",
    "\n",
    "\n",
    "\n",
    "\n",
    "\n",
    "3. Suppose $T: \\mathbb{R}^2 \\rightarrow \\mathbb{R}^3$ is a linear map and \n",
    "\n",
    "$$\n",
    "T\\left( \\begin{bmatrix} 1 \\\\ 0 \\end{bmatrix} \\right) = \\begin{bmatrix} 1 \\\\ 2 \\\\ 3\n",
    "\\end{bmatrix} \\quad \\text{and} \\quad  T\\left( \\begin{bmatrix}\n",
    "0 \\\\ 1 \\end{bmatrix} \\right) = \\begin{bmatrix} 0 \\\\ 1 \\\\ -1 \\end{bmatrix}.\n",
    "$$\n",
    "\n",
    "Find \n",
    "$$T \\begin{bmatrix}\n",
    "2 \\\\ 3\n",
    "\\end{bmatrix}.\n",
    "$$\n",
    "\n",
    "```"
   ]
  }
 ],
 "metadata": {
  "kernelspec": {
   "display_name": "Python 3",
   "language": "python",
   "name": "python3"
  },
  "language_info": {
   "codemirror_mode": {
    "name": "ipython",
    "version": 3
   },
   "file_extension": ".py",
   "mimetype": "text/x-python",
   "name": "python",
   "nbconvert_exporter": "python",
   "pygments_lexer": "ipython3",
   "version": "3.8.8"
  }
 },
 "nbformat": 4,
 "nbformat_minor": 4
}
