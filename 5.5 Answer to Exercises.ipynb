{
 "cells": [
  {
   "cell_type": "markdown",
   "id": "bece3c21",
   "metadata": {},
   "source": [
    "# 5.1 Inner product and Orthogonality"
   ]
  },
  {
   "cell_type": "markdown",
   "id": "f98d7d5f",
   "metadata": {},
   "source": [
    "1. Let  $ \\vec{a} = \\begin{bmatrix}1 \\\\ 2 \\\\ 3 \\\\ 4 \\end{bmatrix}$. \n",
    "\n",
    "    a. Find a vector $\\vec{w}$ that is in the opposite direction of $\\vec{a}$ and has a magnitude of 2.\n",
    "    \n",
    "    b. Find two non-parallel vectors $\\vec{u}$ and $\\vec{v}$ which are both orthogonal to $\\vec{a}$\n",
    "\n",
    "\n",
    "\n",
    "__Solution__\n",
    "\n",
    "(a) we first find the unit vector of $\\vec{a}$ and then multiply it by scaling factor $-2$."
   ]
  },
  {
   "cell_type": "code",
   "execution_count": 1,
   "id": "c7f201fb",
   "metadata": {},
   "outputs": [],
   "source": [
    "import numpy as np\n",
    "\n",
    "a = np.array([1,2,3,4])\n",
    "\n",
    "#length of a\n",
    "len_a = np.sqrt(np.dot(a,a))\n",
    "\n",
    "#unit vector of a\n",
    "e_a = a/len_a\n",
    "\n",
    "#multyplying by scaling factor -2\n",
    "w = -2 * e_a"
   ]
  },
  {
   "cell_type": "markdown",
   "id": "fe054d8f",
   "metadata": {},
   "source": [
    "(b) There are many options. Here are a few examples to consider:\n",
    "\n",
    "$$\n",
    "\\vec{u} = \\begin{bmatrix} -2 \\\\ 1 \\\\ 0 \\\\ 0 \\end{bmatrix}, \\quad\n",
    "\\vec{v} = \\begin{bmatrix} 0\\\\ 0 \\\\ -4 \\\\ 3 \\end{bmatrix}, \\quad\n",
    "\\vec{w} = \\begin{bmatrix} -3\\\\ 0 \\\\ 1 \\\\ 0 \\end{bmatrix}.\n",
    "$$\n"
   ]
  },
  {
   "cell_type": "markdown",
   "id": "3ecd304c",
   "metadata": {},
   "source": [
    "2. Find two non-parallel vectors $\\vec{u}$ and $\\vec{v}$, which are both orthogonal to $\\vec{a} = \\begin{bmatrix} 1 \\\\ 2 \\\\ 3 \\end{bmatrix}$ and $\\vec{b} = \\begin{bmatrix} 2 \\\\ -1 \\\\ 0 \\end{bmatrix}.$\n",
    "\n",
    "\n",
    "__Solution:__ It is not possible.\n",
    "\n",
    "Suppose $\\vec{u}$ and $\\vec{v}$ exist, and $W = \\text{span}(\\vec{a}, \\vec{b})$. Note that $dim(W) = 2$, and we have that $\\vec{u}, \\vec{v} \\in W^{\\perp}$. However, since $\\vec{u}$ and $\\vec{v}$ are not parallel, they are linearly independent. This means that the $dim(W^{\\perp}) \\geq 2$, which is a contradiction because, by Theorem 2, we should have $dim(W) + dim(W^{\\perp}) = 3$."
   ]
  },
  {
   "cell_type": "markdown",
   "id": "ce588d59",
   "metadata": {},
   "source": [
    "3. Let $\\vec{v}= \\begin{bmatrix}\n",
    "1\\\\2\\\\7\n",
    "\\end{bmatrix}$ and  $\\vec{w}= \\begin{bmatrix}\n",
    "1\\\\-1\\\\1\n",
    "\\end{bmatrix}.$\n",
    "\n",
    "   a. Find $\\vec{z}= \\vec{v}- \\displaystyle\\left(\\frac{\\vec{v}\\cdot \\vec{w}}{\\vec{w}\\cdot \\vec{w}}\\right)\\vec{w}.$\n",
    "   \n",
    "   b. Check that $\\vec{z}$ is orthogonal to $\\vec{w}.$\n",
    "\n",
    "\n",
    "__Solution:__"
   ]
  },
  {
   "cell_type": "code",
   "execution_count": 2,
   "id": "66b787d3",
   "metadata": {},
   "outputs": [
    {
     "name": "stdout",
     "output_type": "stream",
     "text": [
      "z =  [-1.  4.  5.] \n",
      "\n",
      "z.w =  0.0\n"
     ]
    }
   ],
   "source": [
    "# (a)\n",
    "\n",
    "v = np.array([1,2,7])\n",
    "\n",
    "w = np.array([1,-1,1])\n",
    "\n",
    "##computing z\n",
    "z = v - (np.dot(v,w)/np.dot(w,w)) * w\n",
    "\n",
    "print('z = ', z, '\\n')\n",
    "\n",
    "#(b)\n",
    "\n",
    "##checking z is orthogonal to w\n",
    "\n",
    "print( 'z.w = ',np.dot(z,w))"
   ]
  },
  {
   "cell_type": "markdown",
   "id": "9619514e",
   "metadata": {},
   "source": [
    "4. If $W = span\\left\\lbrace\\ \\begin{bmatrix}\n",
    "1\\\\2\\\\3 \\\\ 4\n",
    "\\end{bmatrix}\\ \\right\\rbrace$ find a basis for $W^{\\perp}$.\n",
    "\n",
    "\n",
    "__Solution:__ We find a basis for $W$ by looking for all solutions to the linear system:\n",
    "\n",
    "$$\\begin{bmatrix}\n",
    "1 & 2 &3 & 4\n",
    "\\end{bmatrix}\\begin{bmatrix}\n",
    "a \\\\b \\\\ c\\\\ d\n",
    "\\end{bmatrix}  = \\vec{0}.$$\n",
    "\n",
    "The system of 1 linear equation in 4 unknowns has 3 free variable, $x_2, x_3, x_4$ with $x_1 = -2x_2-3x_3-4x_4.$ So solutions look like:\n",
    "\n",
    "$$\\begin{bmatrix}\n",
    "-2x_2-3x_3-4x_4 \\\\ x_2 \\\\x_3 \\\\x_4 \\end{bmatrix}= x_2 \\begin{bmatrix}\n",
    "-2 \\\\ 1 \\\\ 0 \\\\0 \n",
    "\\end{bmatrix}+ x_3 \\begin{bmatrix}\n",
    "-3 \\\\ 0 \\\\ 1 \\\\0 \n",
    "\\end{bmatrix}+x_4 \\begin{bmatrix}\n",
    "-4 \\\\ 0 \\\\ 0 \\\\1 \n",
    "\\end{bmatrix}.$$\n",
    "\n",
    "Thus a basis for $W^{\\perp}$ is $$\\left\\lbrace \\begin{bmatrix}\n",
    "-2 \\\\ 1 \\\\ 0 \\\\0 \n",
    "\\end{bmatrix}, \\begin{bmatrix}\n",
    "-3 \\\\ 0 \\\\ 1 \\\\0 \n",
    "\\end{bmatrix}, \\begin{bmatrix}\n",
    "-4 \\\\ 0 \\\\ 0 \\\\1 \n",
    "\\end{bmatrix} \\right\\rbrace.$$"
   ]
  },
  {
   "cell_type": "markdown",
   "id": "fa9790a5",
   "metadata": {},
   "source": [
    "# 5. 2 Orthogonal Projection"
   ]
  },
  {
   "cell_type": "markdown",
   "id": "99888f95",
   "metadata": {},
   "source": [
    "1. Let $\\cal{B}=\\left\\lbrace \\begin{bmatrix} 1 \\\\ 1 \\end{bmatrix}, \\begin{bmatrix} 1 \\\\ -1 \\end{bmatrix} \\right\\rbrace$ be a basis of $\\mathbb{R}^2.$\n",
    "\n",
    "   a. Check that this is an orthogonal basis.\n",
    "   \n",
    "   b. Find the coordinates of the vector $\\begin{bmatrix}\n",
    "3 \\\\ 5\n",
    "\\end{bmatrix}$ with respect to the basis $\\cal{B}$.\n",
    "\n",
    "__Solution:__\n",
    "\n"
   ]
  },
  {
   "cell_type": "code",
   "execution_count": 3,
   "id": "b15440b0",
   "metadata": {},
   "outputs": [
    {
     "data": {
      "text/plain": [
       "0"
      ]
     },
     "execution_count": 3,
     "metadata": {},
     "output_type": "execute_result"
    }
   ],
   "source": [
    "#(a)\n",
    "\n",
    "# Representing B as a matrix\n",
    "\n",
    "B = np.array([[1,1], [1,-1]])\n",
    "\n",
    "#Cheking the orthogonality of basis elements finding the dot product\n",
    "\n",
    "np.dot(B[:,0], B[:,1])"
   ]
  },
  {
   "cell_type": "code",
   "execution_count": 4,
   "id": "5924b90a",
   "metadata": {},
   "outputs": [
    {
     "data": {
      "text/plain": [
       "array([ 4., -1.])"
      ]
     },
     "execution_count": 4,
     "metadata": {},
     "output_type": "execute_result"
    }
   ],
   "source": [
    "# (b)\n",
    "\n",
    "x = np.array([3,5])\n",
    "#computing the coordinates of x with respect to B\n",
    "x_B = np.linalg.inv(B) @ x\n",
    "\n",
    "x_B"
   ]
  },
  {
   "cell_type": "markdown",
   "id": "48aa8c9c",
   "metadata": {},
   "source": [
    "2. Suppose $\\vec{u}_1 = \\begin{bmatrix} -7 \\\\ 1 \\\\ 4 \\end{bmatrix}$, $\\vec{u}_2 = \\begin{bmatrix} -1 \\\\ 1 \\\\ -2 \\end{bmatrix}$, $W = \\text{span} (\\vec{u}_1, \\vec{u}_2)$ and $\\vec{y} = \\begin{bmatrix} 1 \\\\ 1 \\\\ 6\\end{bmatrix}$.\n",
    "\n",
    "    a. Show that $\\vec{u}_1$ and $\\vec{u}_2$ are orthogonal.\n",
    "    \n",
    "    b. What is the closest points to $\\vec{y}$ in $W$.    \n",
    "    \n",
    "    c. Find the distance between $W$ and $\\vec{y}$.\n",
    "    \n",
    "    d. Convert $\\{\\vec{u}_1, \\vec{u}_2\\}$ into an orthonormal basis for $W$.\n",
    "    \n",
    "    e. Compute the projection of $\\vec{y}$ onto $W$ using the formula given in Theorem 4.\n",
    "    \n",
    "    f. Write $\\vec{y}$ as sum of two vectors one in $W$ and the other in $W^{\\perp}$.\n",
    "    "
   ]
  },
  {
   "cell_type": "code",
   "execution_count": 5,
   "id": "17d5ff44",
   "metadata": {},
   "outputs": [
    {
     "data": {
      "text/plain": [
       "0"
      ]
     },
     "execution_count": 5,
     "metadata": {},
     "output_type": "execute_result"
    }
   ],
   "source": [
    "# (a) \n",
    "\n",
    "u1 = np.array([-7,1,4])\n",
    "\n",
    "u2 = np.array([-1,1,-2])\n",
    "\n",
    "# checking orthogonality using the dot product\n",
    "np.dot(u1,u2)\n",
    "\n"
   ]
  },
  {
   "cell_type": "code",
   "execution_count": 6,
   "id": "d52fc5fe",
   "metadata": {},
   "outputs": [
    {
     "data": {
      "text/plain": [
       "array([ 0.09090909, -1.72727273,  5.09090909])"
      ]
     },
     "execution_count": 6,
     "metadata": {},
     "output_type": "execute_result"
    }
   ],
   "source": [
    "# (b)\n",
    "\n",
    "y = np.array([1,1,6]) \n",
    "\n",
    "# Finding the projection onto W (closest point to W)\n",
    "Py_W = (np.dot(y,u1)/np.dot(u1,u1))* u1 + (np.dot(y,u2)/np.dot(u2,u2))* u2\n",
    "\n",
    "Py_W"
   ]
  },
  {
   "cell_type": "code",
   "execution_count": 7,
   "id": "9d55af39",
   "metadata": {},
   "outputs": [
    {
     "name": "stdout",
     "output_type": "stream",
     "text": [
      "[0.90909091 2.72727273 0.90909091]\n"
     ]
    },
    {
     "data": {
      "text/plain": [
       "3.0151134457776365"
      ]
     },
     "execution_count": 7,
     "metadata": {},
     "output_type": "execute_result"
    }
   ],
   "source": [
    "# (c)\n",
    "\n",
    "#compunting the component of y orthogonal to  𝑊\n",
    "z = y - Py_W\n",
    "print(z)\n",
    "\n",
    "# computing the magnitude of z to find the distance\n",
    "dist = np.sqrt(np.dot(z,z))\n",
    "dist"
   ]
  },
  {
   "cell_type": "code",
   "execution_count": 8,
   "id": "ead9525a",
   "metadata": {},
   "outputs": [
    {
     "name": "stdout",
     "output_type": "stream",
     "text": [
      "e1 =  [-0.86164044  0.12309149  0.49236596] \n",
      "\n",
      "e2 =  [-0.40824829  0.40824829 -0.81649658] \n",
      "\n"
     ]
    }
   ],
   "source": [
    "#(d)\n",
    "\n",
    "#normalizing u1\n",
    "e1 = u1/ np.sqrt(np.dot(u1,u1))\n",
    "print('e1 = ', e1, '\\n')\n",
    "\n",
    "\n",
    "#normalizing u2\n",
    "e2 = u2/ np.sqrt(np.dot(u2,u2))\n",
    "print('e2 = ', e2, '\\n')"
   ]
  },
  {
   "cell_type": "code",
   "execution_count": 9,
   "id": "95fcacb3",
   "metadata": {},
   "outputs": [
    {
     "data": {
      "text/plain": [
       "array([ 0.09090909, -1.72727273,  5.09090909])"
      ]
     },
     "execution_count": 9,
     "metadata": {},
     "output_type": "execute_result"
    }
   ],
   "source": [
    "#(e)\n",
    "\n",
    "# Finding the matrix whose columns are e1,e2\n",
    "\n",
    "U = np.array([e1,e2]).T\n",
    "\n",
    "# computing the projection using (*) formula in Theorem 4\n",
    "U @ U.T @ y \n",
    "\n"
   ]
  },
  {
   "cell_type": "markdown",
   "id": "17421efb",
   "metadata": {},
   "source": [
    "(f) $$\\vec{y} = \\text{proj}^{\\vec{y}}_{W} + \\vec{z}$$\n",
    "\n",
    "Or\n",
    "\n",
    "$$\n",
    "\\begin{bmatrix} 1 \\\\ 1 \\\\ 6\\end{bmatrix} = \\begin{bmatrix} 0.90909091 \\\\ -1.72727273 \\\\ 5.09090909\\end{bmatrix}  + \\begin{bmatrix} 0.09090909 \\\\ 2.72727273 \\\\ 0.90909091 \\end{bmatrix}\n",
    "$$"
   ]
  },
  {
   "cell_type": "markdown",
   "id": "8d3379db",
   "metadata": {},
   "source": [
    "# 5. 3 The Gram–Schmidt Process\n"
   ]
  },
  {
   "cell_type": "markdown",
   "id": "443adc5c",
   "metadata": {},
   "source": [
    "1. Let $\\vec{x}_1 = \\begin{bmatrix} 3 \\\\ 1 \\\\ -1\\\\ 3 \\end{bmatrix}$, $\\vec{x}_2 = \\begin{bmatrix} -5 \\\\ 1 \\\\ 5\\\\ -7 \\end{bmatrix}$, $\\vec{x}_3 = \\begin{bmatrix} 1\\\\ 1 \\\\ -2\\\\ 8 \\end{bmatrix}$, and $W = \\text{span}(\\{\\vec{x}_1, \\vec{x}_2, \\vec{x}_3\\})$. Construct an orthonormal basis for $W$.\n",
    "\n",
    "__Solution:__"
   ]
  },
  {
   "cell_type": "code",
   "execution_count": 10,
   "id": "d0bec081",
   "metadata": {},
   "outputs": [
    {
     "name": "stdout",
     "output_type": "stream",
     "text": [
      "The projection of x2 onto x1 is  [-6. -2.  2. -6.] \n",
      "\n",
      "The component of x1 orthogonal to W1 is [ 1.  3.  3. -1.] \n",
      "\n",
      "The projection of x3 onto W2 is  [ 4.  0. -3.  5.] \n",
      "\n",
      "The component of x3 orthogonal to W2 is [-3.  1.  1.  3.]\n"
     ]
    }
   ],
   "source": [
    "\n",
    "x1 = np.array([3,1,-1,3])\n",
    "\n",
    "x2 = np.array([-5,1,5,-7])\n",
    "\n",
    "x3 = np.array([1,1,-2,8])\n",
    "\n",
    "v1 = x1\n",
    "# projection of x2 onto x1\n",
    "\n",
    "proj_x2_v1 = (np.dot(x2,v1)/ np.dot(v1,v1))* v1\n",
    "print( \"The projection of x2 onto x1 is \", proj_x2_v1, '\\n') \n",
    "\n",
    "v2 = x2 - proj_x2_v1\n",
    "\n",
    "print(\"The component of x1 orthogonal to W1 is\", v2,'\\n' )\n",
    "\n",
    "# projection of x3 onto W2\n",
    "\n",
    "proj_x3_W2 = (np.dot(x3,v1)/ np.dot(v1,v1))* v1  +  (np.dot(x3,v2)/ np.dot(v2,v2))* v2\n",
    "\n",
    "print( \"The projection of x3 onto W2 is \", proj_x3_W2, '\\n') \n",
    "\n",
    "# component of y orthogonal to p\n",
    "v3 = x3 - proj_x3_W2\n",
    "\n",
    "print(\"The component of x3 orthogonal to W2 is\", v3 )"
   ]
  },
  {
   "cell_type": "code",
   "execution_count": 11,
   "id": "b58b3ee3",
   "metadata": {},
   "outputs": [
    {
     "name": "stdout",
     "output_type": "stream",
     "text": [
      "e1 =  [ 0.67082039  0.2236068  -0.2236068   0.67082039]\n",
      "e2 =  [ 0.2236068   0.67082039  0.67082039 -0.2236068 ]\n",
      "e3 =  [-0.67082039  0.2236068   0.2236068   0.67082039]\n"
     ]
    }
   ],
   "source": [
    "# The unit vector of v1\n",
    "e1 = v1 / np.sqrt(np.dot(v1,v1))\n",
    "\n",
    "# The unit vector of v1\n",
    "e2 = v2 / np.sqrt(np.dot(v2,v2))\n",
    "\n",
    "# The unit vector of v1\n",
    "e3 = v3 / np.sqrt(np.dot(v3,v3))\n",
    "\n",
    "print(\"e1 = \", e1)\n",
    "print(\"e2 = \", e2)\n",
    "print(\"e3 = \", e3)"
   ]
  },
  {
   "cell_type": "markdown",
   "id": "f94a1b62",
   "metadata": {},
   "source": [
    "2. Let $A$ be a matrix whose columns are $\\vec{x}_1$, $\\vec{x}_2$, $\\vec{x}_3$ from Exercise 1: $A = \\begin{bmatrix} 3 & -5 & 1 \\\\  1 & 1 & 1 \\\\ -1 & 5 & -2 \\\\ 3 & -7 & 8\\end{bmatrix}$. Find a QR decomposition for $A$.\n",
    "\n",
    "__Solution:__"
   ]
  },
  {
   "cell_type": "code",
   "execution_count": 12,
   "id": "5dd39770",
   "metadata": {},
   "outputs": [
    {
     "name": "stdout",
     "output_type": "stream",
     "text": [
      "A =  [[ 3 -5  1]\n",
      " [ 1  1  1]\n",
      " [-1  5 -2]\n",
      " [ 3 -7  8]] \n",
      "\n",
      "Q =  [[ 0.67082039  0.2236068  -0.67082039]\n",
      " [ 0.2236068   0.67082039  0.2236068 ]\n",
      " [-0.2236068   0.67082039  0.2236068 ]\n",
      " [ 0.67082039 -0.2236068   0.67082039]] \n",
      "\n",
      "R =  [[ 4.47213595 -8.94427191  6.70820393]\n",
      " [ 0.          4.47213595 -2.23606798]\n",
      " [ 0.          0.          4.47213595]]\n"
     ]
    }
   ],
   "source": [
    "# setup A\n",
    "A = np.transpose([x1, x2, x3])\n",
    "print('A = ', A, '\\n')\n",
    "\n",
    "# setup Q\n",
    "Q = np.transpose([e1, e2, e3])\n",
    "print('Q = ', Q, '\\n')\n",
    "\n",
    "# Compute R= Q^T*A\n",
    "R = np.transpose(Q) @ A\n",
    "print('R = ', R)"
   ]
  },
  {
   "cell_type": "markdown",
   "id": "b1496719",
   "metadata": {},
   "source": [
    "Let's use `np.linalg.qr` to check our solution:"
   ]
  },
  {
   "cell_type": "code",
   "execution_count": 13,
   "id": "01dd5eab",
   "metadata": {},
   "outputs": [
    {
     "name": "stdout",
     "output_type": "stream",
     "text": [
      "Q =  [[-0.67082039 -0.2236068   0.67082039]\n",
      " [-0.2236068  -0.67082039 -0.2236068 ]\n",
      " [ 0.2236068  -0.67082039 -0.2236068 ]\n",
      " [-0.67082039  0.2236068  -0.67082039]] \n",
      "\n",
      "R =  [[-4.47213595  8.94427191 -6.70820393]\n",
      " [ 0.         -4.47213595  2.23606798]\n",
      " [ 0.          0.         -4.47213595]]\n"
     ]
    }
   ],
   "source": [
    "Q, R = np.linalg.qr(A)\n",
    "print('Q = ', Q, '\\n')\n",
    "print('R = ', R)"
   ]
  },
  {
   "cell_type": "markdown",
   "id": "138aad9f",
   "metadata": {},
   "source": [
    "3. Let $A = QR$, where $Q$ is an $m \\times n$ matrix with orthogonal columns, and $R$ is an $n \\times n$ matrix. Show that if the columns of $A$ are linearly dependent, then $R$ cannot be invertible.\n",
    "\n",
    "\n",
    "__Solution:__\n",
    "\n",
    "Since the columns of matrix $A$ are linearly dependent, by the invertible matrix theorem, there exists a nonzero vector $\\vec{x}$ such that $A\\vec{x} = 0$. Replacing $A$ with its QR factorization, we have $QR\\vec{x} = 0$. As $Q$ is invertible, we can apply $Q^{-1}$ to both sides, resulting in $R\\vec{x} = 0$. Since $\\vec{x}$ is nonzero, $R\\vec{x} = 0$ has a nontrivial solution. Therefore, by the invertible matrix theorem again, $R$ is not invertible."
   ]
  },
  {
   "cell_type": "markdown",
   "id": "183e23b7",
   "metadata": {},
   "source": [
    "# 5.4 Least-Squares Problems"
   ]
  },
  {
   "cell_type": "markdown",
   "id": "9327f242",
   "metadata": {},
   "source": [
    "1. Let $A = \\begin{bmatrix} 1 & -3 & -3 \\\\  1 & 5 & 1 \\\\ 1 & 7 & 2\\end{bmatrix}$ and $\\vec{b} = \\begin{bmatrix} 5 \\\\ -3 \\\\ -5 \\end{bmatrix}$.\n",
    "\n",
    "    a.  Find a least-squares solution of $A\\vec{x} = \\vec{b}$.\n",
    "    \n",
    "    b. Compute the associated least-squares error $\\| \\vec{b} - A\\hat{x}\\|$."
   ]
  },
  {
   "cell_type": "code",
   "execution_count": 41,
   "id": "9ca45d9f",
   "metadata": {},
   "outputs": [
    {
     "data": {
      "text/plain": [
       "array([[-3.],\n",
       "       [ 0.],\n",
       "       [-3.]])"
      ]
     },
     "execution_count": 41,
     "metadata": {},
     "output_type": "execute_result"
    }
   ],
   "source": [
    "# (a)\n",
    "\n",
    "#setup\n",
    "\n",
    "A = np.array([[1,-3,-3], [1,5,1],[1,7,2]])\n",
    "\n",
    "b = np.array([[5,-3,-5]]).T\n",
    "\n",
    "# QR factorization\n",
    "Q, R = np.linalg.qr(A)\n",
    "\n",
    "#computing x_hat\n",
    "x_hat = np.linalg.inv(R) @ Q.T @ b\n",
    "x_hat"
   ]
  },
  {
   "cell_type": "code",
   "execution_count": 42,
   "id": "abc93fa7",
   "metadata": {},
   "outputs": [
    {
     "data": {
      "text/plain": [
       "5.0990195135927845"
      ]
     },
     "execution_count": 42,
     "metadata": {},
     "output_type": "execute_result"
    }
   ],
   "source": [
    "#(b)\n",
    "\n",
    "#compute the least square error\n",
    "z = b - A @ x_hat\n",
    "np.linalg.norm(z)\n"
   ]
  },
  {
   "cell_type": "markdown",
   "id": "980d8afb",
   "metadata": {},
   "source": [
    "2. Describe all least-squares solutions of the system\n",
    "\n",
    "$$\n",
    "\\begin{align*}\n",
    "    x + y &= 2 \\\\ \n",
    "    x + y &= 4 \\\\ \n",
    "\\end{align*}\n",
    "$$\n",
    "\n",
    "__Solution:__\n",
    "\n",
    "Let $A = \\begin{bmatrix} 1 & 1 \\\\ 1 & 1 \\end{bmatrix}$, and $\\vec{b} = \\begin{bmatrix} 2 & 4 \\end{bmatrix}$. We find the normal equation of $A\\vec{x} = \\vec{b}$\n",
    "\n",
    "$$\n",
    "A^TA\\vec{x} = A^T\\vec{b}\n",
    "$$"
   ]
  },
  {
   "cell_type": "code",
   "execution_count": 71,
   "id": "b879757a",
   "metadata": {},
   "outputs": [
    {
     "name": "stdout",
     "output_type": "stream",
     "text": [
      "ATA = \n",
      " [[2 2]\n",
      " [2 2]] \n",
      "\n",
      "ATb = \n",
      " [[6]\n",
      " [6]]\n"
     ]
    }
   ],
   "source": [
    "A = np.array([[1,1],[1,1]])\n",
    "\n",
    "b = np.array([[2,4]]).T\n",
    "\n",
    "#Compute A^TA\n",
    "\n",
    "ATA = A.T @ A\n",
    "\n",
    "print('ATA = \\n', ATA,'\\n')\n",
    "\n",
    "#compute A^Tb\n",
    "\n",
    "ATb = A.T @ b\n",
    "print('ATb = \\n', ATb)\n",
    "\n"
   ]
  },
  {
   "cell_type": "markdown",
   "id": "259407cc",
   "metadata": {},
   "source": [
    "Thus, the normal equation is \n",
    "\n",
    "$$\n",
    " \\begin{bmatrix} 2 & 2 \\\\ 2 & 2 \\end{bmatrix}  \\begin{bmatrix} x \\\\ y \\end{bmatrix} =  \\begin{bmatrix} 6 \\\\ 6 \\end{bmatrix}\n",
    "$$\n",
    "\n",
    "whose solution is the set of all $(x,y)$ such that $x+y = 3$. The solutions form a line midway between $x+y = 2$ and $x+y = 4$. "
   ]
  },
  {
   "cell_type": "code",
   "execution_count": 72,
   "id": "e9679497",
   "metadata": {},
   "outputs": [
    {
     "data": {
      "image/png": "[encoded data removed]",
      "text/plain": [
       "<Figure size 432x288 with 1 Axes>"
      ]
     },
     "metadata": {
      "needs_background": "light"
     },
     "output_type": "display_data"
    }
   ],
   "source": [
    "import matplotlib.pyplot as plt\n",
    "\n",
    "# Data for plotting\n",
    "\n",
    "x = range(-1, 2)\n",
    "y1 = [ 2 - k for k in x]\n",
    "y2 = [ 3 - k for k in x]\n",
    "y3 = [ 4 - k for k in x]\n",
    "\n",
    "fig, ax = plt.subplots()\n",
    "\n",
    "# Specify the length of each axis\n",
    "#ax.set_xlim(-5,5)\n",
    "#ax.set_ylim(-5,5)\n",
    "\n",
    "#Plot x and y1 using blue color\n",
    "ax.plot(x, y1, color = 'b')\n",
    "ax.text(0,1.5,'$x + y = 2$', color = 'b')\n",
    "\n",
    "#Plot x and y2 using red color\n",
    "ax.plot(x, y2, color = 'r')\n",
    "ax.text(0,3.1,'$x + y = 3$', color = 'r')\n",
    "\n",
    "#Plot x and y3 using blue color\n",
    "ax.plot(x, y3, color = 'b')\n",
    "ax.text(0,4.2,'$x + y = 4$', color = 'b')\n",
    "\n",
    "\n",
    "# Add labels and a title to the graph\n",
    "ax.set(xlabel=' x', ylabel='y', title = 'The line of least-square-solutions is specified by red color')\n",
    "ax.grid()\n",
    "\n",
    "plt.show()"
   ]
  },
  {
   "cell_type": "code",
   "execution_count": null,
   "id": "18beeec4",
   "metadata": {},
   "outputs": [],
   "source": []
  }
 ],
 "metadata": {
  "kernelspec": {
   "display_name": "Python 3",
   "language": "python",
   "name": "python3"
  },
  "language_info": {
   "codemirror_mode": {
    "name": "ipython",
    "version": 3
   },
   "file_extension": ".py",
   "mimetype": "text/x-python",
   "name": "python",
   "nbconvert_exporter": "python",
   "pygments_lexer": "ipython3",
   "version": "3.8.5"
  }
 },
 "nbformat": 4,
 "nbformat_minor": 5
}
