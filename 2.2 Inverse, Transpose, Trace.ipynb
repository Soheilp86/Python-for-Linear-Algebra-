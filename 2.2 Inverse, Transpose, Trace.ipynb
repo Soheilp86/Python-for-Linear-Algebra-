{
 "cells": [
  {
   "cell_type": "markdown",
   "id": "47b557f3",
   "metadata": {},
   "source": [
    "# 2.2 Transpose, Inverse and Trace of matrices\n",
    "\n",
    "In this section, we will continue studying the basic operators on the set of matrices, focusing on the transpose, inverse, and trace of a square matrix.\n"
   ]
  },
  {
   "cell_type": "markdown",
   "id": "0429fb12",
   "metadata": {},
   "source": [
    "## Transpose of a matrix"
   ]
  },
  {
   "cell_type": "markdown",
   "id": "b12f94ac",
   "metadata": {},
   "source": [
    "Given an $m\\times n$ matrix $A$, the transpose of $A$ is the $n\\times m$ matrix denoted by $A^T$, whose columns are the corresponding rows of $A$.\n",
    "\n",
    "__Example 1:__\n",
    "\n",
    "If $M = \\begin{bmatrix} 1 & 2 \\\\ 3 & 4 \\\\ 5 & 6 \\end{bmatrix}$, then $M^T = \\begin{bmatrix} 1 & 3 & 5 \\\\ 2 & 4 & 6 \\end{bmatrix}$.\n",
    "\n",
    "In Python we can either use`narray.T` or `narray.transpose()` to find the transpose of a matrix."
   ]
  },
  {
   "cell_type": "code",
   "execution_count": 2,
   "id": "c72e5bda",
   "metadata": {},
   "outputs": [
    {
     "name": "stdout",
     "output_type": "stream",
     "text": [
      "M =  \n",
      " [[1 2]\n",
      " [3 4]\n",
      " [5 6]] \n",
      "\n",
      " M_T =  \n",
      " [[1 3 5]\n",
      " [2 4 6]]\n"
     ]
    }
   ],
   "source": [
    "import numpy as np\n",
    "\n",
    "M = np.array([[1,2],[3, 4],[5,6]])\n",
    "\n",
    "#Compute the the transpose of M\n",
    "M_T = M.T\n",
    "\n",
    "print(\"M = \", '\\n', M, '\\n\\n', \"M_T = \",'\\n', M_T)"
   ]
  },
  {
   "cell_type": "code",
   "execution_count": 3,
   "id": "efd5a5ac",
   "metadata": {},
   "outputs": [
    {
     "name": "stdout",
     "output_type": "stream",
     "text": [
      "M =  \n",
      " [[1 2]\n",
      " [3 4]\n",
      " [5 6]] \n",
      "\n",
      " M_T =  \n",
      " [[1 3 5]\n",
      " [2 4 6]]\n"
     ]
    }
   ],
   "source": [
    "#Compute the the transpose of M\n",
    "M_transpose = M.transpose()\n",
    "\n",
    "print(\"M = \", '\\n', M, '\\n\\n', \"M_T = \",'\\n', M_transpose)"
   ]
  },
  {
   "cell_type": "markdown",
   "id": "c5787fcb",
   "metadata": {},
   "source": [
    "Note that `transpose` and `T` both have different effect on a list and a list of lists:   "
   ]
  },
  {
   "cell_type": "code",
   "execution_count": 4,
   "id": "6da0b0b9",
   "metadata": {},
   "outputs": [
    {
     "data": {
      "text/plain": [
       "array([[1],\n",
       "       [2],\n",
       "       [3]])"
      ]
     },
     "execution_count": 4,
     "metadata": {},
     "output_type": "execute_result"
    }
   ],
   "source": [
    "# transpose of a list of lists\n",
    "\n",
    "np.array([[1,2,3]]).transpose()"
   ]
  },
  {
   "cell_type": "code",
   "execution_count": 5,
   "id": "4bf9b2f1",
   "metadata": {},
   "outputs": [
    {
     "data": {
      "text/plain": [
       "array([1, 2, 3])"
      ]
     },
     "execution_count": 5,
     "metadata": {},
     "output_type": "execute_result"
    }
   ],
   "source": [
    "# does not effect 1D array\n",
    "np.array([1,2,3]).transpose()"
   ]
  },
  {
   "cell_type": "markdown",
   "id": "24cad2d1",
   "metadata": {},
   "source": [
    "## Inverse of a square matrix"
   ]
  },
  {
   "cell_type": "markdown",
   "id": "1a4306bb",
   "metadata": {},
   "source": [
    "\n",
    "An $n\\times n$ matrix $A$ is called invertible if there exists an $n\\times n$ matrix $B$ such that $AB = BA = I_n$. In this case, $B$ is referred to as the inverse of $A$, denoted as $A^{-1}$. It is important to note that not all matrices are invertible.\n",
    "\n",
    "__Theorem 3:__\n",
    "\n",
    "Let $A= \\begin{bmatrix} a & b \\\\ c & d\\\\ \\end{bmatrix}$. If $ad-bc \\neq 0$, then $A$ is invertible, and its inverse is given by:\n",
    "\n",
    "$$\n",
    "A^{-1}= \\frac{1}{ad-bc}\\begin{bmatrix} d & -b \\\\ -c & a\\\\ \\end{bmatrix}\n",
    "$$\n",
    "\n",
    "$ad-bc$ is called the __determinant__ of matrix A. The determinant plays a crucial role in determining the invertibility of a square matrix. If the determinant is zero, i.e., $ad-bc = 0$, then matrix A is not invertible. Determinants of matrices will be discussed in the next section, where we will explore their properties and computation methods.\n",
    "\n",
    "__Example 6:__\n",
    "\n",
    "1. Find the inverse of $M= \\begin{bmatrix} 1 & 2 \\\\ 3 & 4\\\\ \\end{bmatrix}$.\n",
    "2. Find the inverse of $N= \\begin{bmatrix} 1 & 2 \\\\ 2 & 4\\\\ \\end{bmatrix}$.\n",
    "\n",
    "__Solution:__\n",
    "\n",
    "Let's write a Python code that computes the inverse of a $2\\times 2$ matrix:"
   ]
  },
  {
   "cell_type": "code",
   "execution_count": 6,
   "id": "854a7892",
   "metadata": {},
   "outputs": [],
   "source": [
    "M = np.array([[1, 2], [3, 4]])\n",
    "N = np.array([[1, 2], [2, 4]])\n",
    "\n",
    "# Compute the inverse\n",
    "def inverse_matrix(matrix):\n",
    "    a, b = matrix[0]\n",
    "    c, d = matrix[1]\n",
    "    \n",
    "    det = a * d - b * c\n",
    "\n",
    "    if det == 0:\n",
    "        print(matrix, \"is not invertible\")\n",
    "    else:\n",
    "        D = 1 / det    \n",
    "        inverse = np.zeros((2, 2))\n",
    "        inverse[0, 0] = D * d\n",
    "        inverse[0, 1] = -D * b\n",
    "        inverse[1, 0] = -D * c\n",
    "        inverse[1, 1] = D * a\n",
    "\n",
    "        return(inverse)"
   ]
  },
  {
   "cell_type": "code",
   "execution_count": 7,
   "id": "80507e21",
   "metadata": {},
   "outputs": [
    {
     "data": {
      "text/plain": [
       "array([[-2. ,  1. ],\n",
       "       [ 1.5, -0.5]])"
      ]
     },
     "execution_count": 7,
     "metadata": {},
     "output_type": "execute_result"
    }
   ],
   "source": [
    "inverse_matrix(M)"
   ]
  },
  {
   "cell_type": "code",
   "execution_count": 8,
   "id": "50bae0d6",
   "metadata": {},
   "outputs": [
    {
     "name": "stdout",
     "output_type": "stream",
     "text": [
      "[[1 2]\n",
      " [2 4]] is not invertible\n"
     ]
    }
   ],
   "source": [
    "inverse_matrix(N)"
   ]
  },
  {
   "cell_type": "markdown",
   "id": "13c54824",
   "metadata": {},
   "source": [
    "__Theorem 3__ (Properties of the inverse matrix)\n",
    "\n",
    "Let $A$ and $B$ be two invertible $n\\times n$ matrices.\n",
    "\n",
    "1. $(A^{-1})^{-1} = A$\n",
    "2. $(AB)^{-1} = B^{-1}A^{-1}$\n",
    "3. $(A^{T})^{-1} = (A^{-1})^{T}$\n",
    "\n",
    "\n",
    "### Computing the inverse of a matrix\n",
    "\n",
    "__Theorem 4__\n",
    "\n",
    "An $n\\times n$ matrix $A$ is invertible if and only if it is row equivalent to the identity matrix $I_n$. \n",
    "\n",
    "\n",
    "We can use this theorem to find the inverse of a matrix using the row reduction method: set up the augmented matrix $[A|I_n]$ and perform row operations until the left side of the augmented matrix becomes the identity matrix $I_n$. If this is achieved, then the right side of the augmented matrix will be the inverse of $A$. Otherwise, if the left side does not become $I_n$, then the matrix $A$ is not invertible.\n",
    "\n",
    "\n",
    "__Example 7__ \n",
    "\n",
    "Find the inverse of $M= \\begin{bmatrix} 0 & 1 & 2\\\\ 1 & 0 & 3\\\\ 4 & -3 & 8 \\end{bmatrix}$.\n",
    "\n",
    "__Solution__ Lets set up the augmented matrix and find its RREF:\n",
    "\n",
    "\n",
    "$$[M|I_3]= \\begin{bmatrix} 0 & 1 & 2 && 1 & 0 & 0\\\\ 1 & 0 & 3 &&  0 & 0 & 1 \\\\ 4 & -3 & 8 && 0 & 0 & 1\\end{bmatrix}$$"
   ]
  },
  {
   "cell_type": "code",
   "execution_count": 9,
   "id": "38c520f8",
   "metadata": {},
   "outputs": [
    {
     "data": {
      "text/plain": [
       "array([[ 0,  1,  2],\n",
       "       [ 1,  0,  3],\n",
       "       [ 4, -3,  8]])"
      ]
     },
     "execution_count": 9,
     "metadata": {},
     "output_type": "execute_result"
    }
   ],
   "source": [
    "# matrix M\n",
    "\n",
    "M = np.array([[0,1,2], [1,0,3], [4, -3, 8]])\n",
    "M"
   ]
  },
  {
   "cell_type": "code",
   "execution_count": 10,
   "id": "5e95c3be",
   "metadata": {},
   "outputs": [
    {
     "data": {
      "text/plain": [
       "array([[1., 0., 0.],\n",
       "       [0., 1., 0.],\n",
       "       [0., 0., 1.]])"
      ]
     },
     "execution_count": 10,
     "metadata": {},
     "output_type": "execute_result"
    }
   ],
   "source": [
    "# identity matrix I_3\n",
    "\n",
    "I3 = np.eye(3)\n",
    "I3"
   ]
  },
  {
   "cell_type": "code",
   "execution_count": 11,
   "id": "06b7329f",
   "metadata": {},
   "outputs": [
    {
     "data": {
      "text/plain": [
       "array([[ 0.,  1.,  2.,  1.,  0.,  0.],\n",
       "       [ 1.,  0.,  3.,  0.,  1.,  0.],\n",
       "       [ 4., -3.,  8.,  0.,  0.,  1.]])"
      ]
     },
     "execution_count": 11,
     "metadata": {},
     "output_type": "execute_result"
    }
   ],
   "source": [
    "# Augmented matrix [A,I_3]\n",
    "\n",
    "A = np.concatenate((M, I3), axis = 1)\n",
    "A"
   ]
  },
  {
   "cell_type": "markdown",
   "id": "44d23157",
   "metadata": {},
   "source": [
    "Now lets call row operations"
   ]
  },
  {
   "cell_type": "code",
   "execution_count": 12,
   "id": "b0039363",
   "metadata": {},
   "outputs": [],
   "source": [
    "# Elementry row operations:\n",
    "\n",
    "# Swap two rows\n",
    "\n",
    "def swap(matrix, row1, row2):\n",
    "    \n",
    "    copy_matrix=np.copy(matrix).astype('float64') \n",
    "  \n",
    "    copy_matrix[row1,:] = matrix[row2,:]\n",
    "    copy_matrix[row2,:] = matrix[row1,:]\n",
    "    \n",
    "    return copy_matrix\n",
    "\n",
    "\n",
    "# Multiple all entries in a row by a nonzero number\n",
    "\n",
    "\n",
    "def scale(matrix, row, scalar):\n",
    "    copy_matrix=np.copy(matrix).astype('float64') \n",
    "    copy_matrix[row,:] = scalar*matrix[row,:]  \n",
    "    return copy_matrix\n",
    "\n",
    "# Replacing a row by the sum of itself and a multiple of another \n",
    "\n",
    "def replace(matrix, row1, row2, scalar):\n",
    "    copy_matrix=np.copy(matrix).astype('float64')\n",
    "    copy_matrix[row1] = matrix[row1]+ scalar * matrix[row2] \n",
    "    return copy_matrix"
   ]
  },
  {
   "cell_type": "code",
   "execution_count": 13,
   "id": "fe25b562",
   "metadata": {},
   "outputs": [
    {
     "data": {
      "text/plain": [
       "array([[ 1.,  0.,  3.,  0.,  1.,  0.],\n",
       "       [ 0.,  1.,  2.,  1.,  0.,  0.],\n",
       "       [ 4., -3.,  8.,  0.,  0.,  1.]])"
      ]
     },
     "execution_count": 13,
     "metadata": {},
     "output_type": "execute_result"
    }
   ],
   "source": [
    "A_1 = swap(A, 0, 1)\n",
    "A_1"
   ]
  },
  {
   "cell_type": "code",
   "execution_count": 14,
   "id": "94285ee4",
   "metadata": {},
   "outputs": [
    {
     "data": {
      "text/plain": [
       "array([[ 1.,  0.,  3.,  0.,  1.,  0.],\n",
       "       [ 0.,  1.,  2.,  1.,  0.,  0.],\n",
       "       [ 0., -3., -4.,  0., -4.,  1.]])"
      ]
     },
     "execution_count": 14,
     "metadata": {},
     "output_type": "execute_result"
    }
   ],
   "source": [
    "A_2 = replace(A_1, 2, 0, -4)\n",
    "A_2"
   ]
  },
  {
   "cell_type": "code",
   "execution_count": 15,
   "id": "28d62650",
   "metadata": {},
   "outputs": [
    {
     "data": {
      "text/plain": [
       "array([[ 1.,  0.,  3.,  0.,  1.,  0.],\n",
       "       [ 0.,  1.,  2.,  1.,  0.,  0.],\n",
       "       [ 0.,  0.,  2.,  3., -4.,  1.]])"
      ]
     },
     "execution_count": 15,
     "metadata": {},
     "output_type": "execute_result"
    }
   ],
   "source": [
    "A_3 = replace(A_2, 2, 1, 3)\n",
    "A_3"
   ]
  },
  {
   "cell_type": "code",
   "execution_count": 16,
   "id": "24e20bd2",
   "metadata": {},
   "outputs": [
    {
     "data": {
      "text/plain": [
       "array([[ 1. ,  0. ,  3. ,  0. ,  1. ,  0. ],\n",
       "       [ 0. ,  1. ,  2. ,  1. ,  0. ,  0. ],\n",
       "       [ 0. ,  0. ,  1. ,  1.5, -2. ,  0.5]])"
      ]
     },
     "execution_count": 16,
     "metadata": {},
     "output_type": "execute_result"
    }
   ],
   "source": [
    "A_4 = scale(A_3, 2, 1/2)\n",
    "A_4"
   ]
  },
  {
   "cell_type": "code",
   "execution_count": 17,
   "id": "90208777",
   "metadata": {},
   "outputs": [
    {
     "data": {
      "text/plain": [
       "array([[ 1. ,  0. ,  3. ,  0. ,  1. ,  0. ],\n",
       "       [ 0. ,  1. ,  0. , -2. ,  4. , -1. ],\n",
       "       [ 0. ,  0. ,  1. ,  1.5, -2. ,  0.5]])"
      ]
     },
     "execution_count": 17,
     "metadata": {},
     "output_type": "execute_result"
    }
   ],
   "source": [
    "A_5 = replace(A_4, 1, 2, -2)\n",
    "A_5"
   ]
  },
  {
   "cell_type": "code",
   "execution_count": 18,
   "id": "cfc08347",
   "metadata": {},
   "outputs": [
    {
     "data": {
      "text/plain": [
       "array([[ 1. ,  0. ,  0. , -4.5,  7. , -1.5],\n",
       "       [ 0. ,  1. ,  0. , -2. ,  4. , -1. ],\n",
       "       [ 0. ,  0. ,  1. ,  1.5, -2. ,  0.5]])"
      ]
     },
     "execution_count": 18,
     "metadata": {},
     "output_type": "execute_result"
    }
   ],
   "source": [
    "A_6 = replace(A_5, 0, 2, -3)\n",
    "A_6"
   ]
  },
  {
   "cell_type": "markdown",
   "id": "f989fdc2",
   "metadata": {},
   "source": [
    "We can see that the resulting matrix is in the form $[I_3, B]$. Thus, $B= \\begin{bmatrix} -4.5 & 7 & -1.5\\\\ -2 &  4 & -1 \\\\ 1.5 & -2 & 0.5 \\\\ \\end{bmatrix}$ is the inverse of $M$."
   ]
  },
  {
   "cell_type": "markdown",
   "id": "17410dd1",
   "metadata": {},
   "source": [
    "__Remark__ We can also use an `np.linalg.inv()` function, from NumPy linear algebra submodule, to find an inverse of a matrix: "
   ]
  },
  {
   "cell_type": "code",
   "execution_count": 19,
   "id": "721aa652",
   "metadata": {},
   "outputs": [
    {
     "data": {
      "text/plain": [
       "array([[-4.5,  7. , -1.5],\n",
       "       [-2. ,  4. , -1. ],\n",
       "       [ 1.5, -2. ,  0.5]])"
      ]
     },
     "execution_count": 19,
     "metadata": {},
     "output_type": "execute_result"
    }
   ],
   "source": [
    "np.linalg.inv(M)"
   ]
  },
  {
   "cell_type": "markdown",
   "id": "b707c7a7",
   "metadata": {},
   "source": [
    "__Theorem 4__ (The Invertible Matrix Theorem)\n",
    "\n",
    "Let $A$ be an $n\\times n$ matrix. The following statements are equivalent:\n",
    "\n",
    "1. $A$ is an invertible matrix.\n",
    "2. $A$ is row equivalent to $I_n$.\n",
    "3. The equation $A\\vec{x}=0$ has only the trivial solution ($\\vec{x} = \\mathbf{0}$).\n",
    "4. The columns of $A$ form a linearly independent set.\n",
    "5. The equation $A\\vec{x}=\\vec{b}$ has a unique solution ($\\vec{x} = A^{-1}\\vec{b}$).\n",
    "6. The columns of $A$ span $\\mathbb{R}^n$.\n",
    "\n",
    "__Example 8__\n",
    "\n",
    "Find the solution set of the following linear systems:\n",
    "\n",
    "1. $M\\vec{x}=0$, where $M$ is the matrix from Example 7.\n",
    "\n",
    "__Solution:__ Since $M$ is invertible, by the Invertible Matrix Theorem part (3), the only solution to $M\\vec{x}=0$ is the zero vector $\\vec{x}=\\mathbf{0}$.\n",
    "\n",
    "2. $M\\vec{x}=\\vec{b}$, where $M$ is the matrix from Example 7 and $\\vec{b}=\\begin{bmatrix} 1 \\\\ 2 \\\\ 3 \\end{bmatrix}$.\n",
    "\n",
    "__Solution:__ By IMT part (5), the only solution to $M\\vec{x}=\\vec{b}$ is $\\vec{x}=M^{-1}\\vec{b}$. In Example 7, we computed the inverse of $M$:\n",
    "\n",
    "$A^{-1} = \\begin{bmatrix} -4.5 & 7 & -1.5 \\\\ -2 & 4 & -1 \\\\ 1.5 & -2 & 0.5 \\end{bmatrix}$\n",
    "\n",
    "In the following cell, we use $B$ to represent $A^{-1}$ to simplify notation:"
   ]
  },
  {
   "cell_type": "code",
   "execution_count": 21,
   "id": "09cf0ce8",
   "metadata": {},
   "outputs": [
    {
     "data": {
      "text/plain": [
       "array([[ 5.],\n",
       "       [ 3.],\n",
       "       [-1.]])"
      ]
     },
     "execution_count": 21,
     "metadata": {},
     "output_type": "execute_result"
    }
   ],
   "source": [
    "B = np.array([[-4.5, 7, -1.5], [-2, 4, -1], [1.5, -2, 0.5]])\n",
    "\n",
    "b = np.array ([[1], [2], [3]])\n",
    "\n",
    "#compute Bb\n",
    "\n",
    "x = B @ b\n",
    "x"
   ]
  },
  {
   "cell_type": "code",
   "execution_count": 22,
   "id": "7dbb9ab1",
   "metadata": {},
   "outputs": [
    {
     "data": {
      "text/plain": [
       "array([[1.],\n",
       "       [2.],\n",
       "       [3.]])"
      ]
     },
     "execution_count": 22,
     "metadata": {},
     "output_type": "execute_result"
    }
   ],
   "source": [
    "M = np.array([[0,1,2], [1,0,3], [4,-3,8]])\n",
    "\n",
    "#compute Mx\n",
    "\n",
    "Mx= M @ x\n",
    "Mx"
   ]
  },
  {
   "cell_type": "markdown",
   "id": "31209f94",
   "metadata": {},
   "source": [
    "which is $\\vec{b}$."
   ]
  },
  {
   "cell_type": "markdown",
   "id": "f63a0227",
   "metadata": {},
   "source": [
    "## Trace of Square Matrices"
   ]
  },
  {
   "cell_type": "markdown",
   "id": "e2d82e56",
   "metadata": {},
   "source": [
    "The trace of an $n\\times n$ matrix $A$, denoted by $Tr(A)$ or $tr(A)$, is defined as the sum of the elements on its main diagonal:\n",
    "\n",
    "$$\n",
    "Tr(A) = a_{11} + a_{22} + \\dots + a_{nn} = \\sum^{n}_{i=1} a_{ii}\n",
    "$$\n",
    "\n",
    "__Theorem 5__ (properties of the trace)\n",
    "\n",
    "Let $A$ and $B$ be two $n\\times n$ matrices, and $c \\in \\mathbb{R}$. Then we have the following:\n",
    "\n",
    "1. __Trace of sum:__ $Tr(A + B) = Tr(A) + Tr(B)$\n",
    "\n",
    "2. __Trace of scalar product:__ $Tr(cA) = c \\cdot Tr(A)$\n",
    "\n",
    "3. __Trace of identity matrix:__ $Tr(I_n) = n$\n",
    "\n",
    "4. __Trace of product:__ $Tr(AB) = Tr(BA)$\n",
    "\n",
    "The trace can also be seen as a function from the set of $n\\times n$ matrices to real numbers. It can be shown that there is only one function that satisfies the above conditions.\n",
    "\n",
    "__Example 9__\n",
    "\n",
    "Let $M = \\begin{bmatrix} 0 & 1 & 2\\\\ 1 & 0 & 3\\\\ 4 & -3 & 8 \\end{bmatrix}$. Then:\n",
    "\n",
    "$$\n",
    "Tr(M) = 0 + 0 + 8 = 8.\n",
    "$$\n",
    "\n",
    "For large matrices, we can use `numpy.trace()` to compute the trace. The following code generates a random $5\\times 5$ matrix and computes its trace:"
   ]
  },
  {
   "cell_type": "code",
   "execution_count": 23,
   "id": "49dea84f",
   "metadata": {},
   "outputs": [
    {
     "name": "stdout",
     "output_type": "stream",
     "text": [
      "[[0.01885491 0.94056143 0.25729183 0.32348535 0.31284015]\n",
      " [0.63032471 0.75771773 0.17459726 0.05278947 0.58316163]\n",
      " [0.74847121 0.18847521 0.28978758 0.20410923 0.22665367]\n",
      " [0.20345886 0.23354335 0.50383353 0.78272183 0.77366004]\n",
      " [0.33258835 0.02049531 0.97957254 0.09030899 0.78366617]]\n",
      "\n",
      " Tr(A) =  2.6327482252992613\n"
     ]
    }
   ],
   "source": [
    "# generate a 5x5 matrix\n",
    "A = np.random.rand(5, 5)\n",
    "print(A)\n",
    "\n",
    "\n",
    "#compute the trace\n",
    "Tr_A = np.trace(A)\n",
    "print('\\n Tr(A) = ', Tr_A)"
   ]
  },
  {
   "cell_type": "markdown",
   "id": "bf5289e4",
   "metadata": {},
   "source": [
    "## Exercises"
   ]
  },
  {
   "cell_type": "markdown",
   "id": "09e67aa7",
   "metadata": {},
   "source": [
    "1. Suppose $A= \\begin{bmatrix}\n",
    "1 & 2 \\\\\n",
    "0 & -1 \\\\\n",
    "3 & 0\n",
    "\\end{bmatrix}$\n",
    "\n",
    "    (a) Compute $A^T$.\n",
    "    \n",
    "    (b) Is $AA^T$ invertible? \n",
    "    \n",
    "    (c) Is $A^TA$ invertible?\n",
    "    \n",
    "    \n",
    "\n",
    "2. The trace is invariant under cyclic permutations, i.e., for three matrices we have $Tr(ABC) = Tr(BCA) = Tr(CAB)$, where $A$ is an $n\\times p$ matrix, $B$ is a $p\\times m$ matrix, and $C$ is an $m \\times n$ matrix. Using Example 9, generate three matrices $A$, $B$, and $C$ such that the product $ABC$ makes sense, and verify that:\n",
    "\n",
    "$$Tr(ABC) = Tr(BCA) = Tr(CAB)$$\n",
    "    "
   ]
  }
 ],
 "metadata": {
  "kernelspec": {
   "display_name": "Python 3",
   "language": "python",
   "name": "python3"
  },
  "language_info": {
   "codemirror_mode": {
    "name": "ipython",
    "version": 3
   },
   "file_extension": ".py",
   "mimetype": "text/x-python",
   "name": "python",
   "nbconvert_exporter": "python",
   "pygments_lexer": "ipython3",
   "version": "3.8.5"
  }
 },
 "nbformat": 4,
 "nbformat_minor": 5
}
