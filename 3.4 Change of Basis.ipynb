{
 "cells": [
  {
   "cell_type": "markdown",
   "id": "6cf65f8e",
   "metadata": {},
   "source": [
    "# 3.4 Change of basis\n",
    "\n",
    "Change of basis is a method that enables us to represent linear transformations in a different form. This change of representation has various applications, including simplifying computations in certain situations. In this section, we will introduce the concept of change of basis and explore its properties."
   ]
  },
  {
   "cell_type": "markdown",
   "id": "6060d3b5",
   "metadata": {},
   "source": [
    "## Transition Matrices\n"
   ]
  },
  {
   "cell_type": "markdown",
   "id": "e8f0334e",
   "metadata": {},
   "source": [
    "Let $H$ be a subspace of $\\mathbb{R}^n$ with basis $B = \\{\\vec{b}_1, \\dots, \\vec{b}_p\\}$. We know that every vector $x\\in H$ can be written uniquely as a linear combination of these basis vectors: \n",
    "\n",
    "$$\n",
    "\\vec{x} = c_1 \\vec{b}_1 + \\dots + c_p\\vec{b}_p = \\begin{bmatrix} \\vec{b}_1 & \\vec{b}_2 & \\dots & \\vec{b}_p \\end{bmatrix} \\begin{bmatrix} c_1 \\\\ c_2 \\\\ \\vdots \\\\ c_p \\end{bmatrix} \\quad (*)\n",
    "$$ \n",
    "\n",
    "The coefficients $c_1, c_2, \\dots c_p$ are called the coordinates of $\\vec{x}$ with respect to basis $B$. We  store the coordinates in a vector that it denoted by $[\\vec{x}]_B$:\n",
    "\n",
    "\n",
    "$$\n",
    "[\\vec{x}]_B = \\begin{bmatrix} c_1 \\\\ c_2 \\\\ \\vdots \\\\ c_p \\end{bmatrix}\n",
    "$$\n",
    "\n",
    "If we store the basis vectors in a matrix $P_B = \\begin{bmatrix} \\vec{b}_1 & \\vec{b}_2 & \\dots & \\vec{b}_p \\end{bmatrix}$, then we can rewrite $(*)$ as\n",
    "\n",
    "$$ \\vec{x} = P_B [\\vec{x}_B]\n",
    "$$\n",
    "\n",
    "We think of $P_B$ as a transformation that takes in the coordinates of $\\vec{x}$ with respect to $B$ and returns $\\vec{x}$. Note that $P_B$ is invirtible since its columns are linearly independent. In a simmilar way, we can think of $(P_B)^{-1}$ as a transformation takes in a vector and returns its coordinate with respect to $B$. In other words, \n",
    "\n",
    "$$\n",
    "[\\vec{x}]_B = (P_B)^{-1} \\vec{x} \n",
    "$$\n",
    "\n",
    "\n",
    "Now suppose that $G = \\{\\vec{g}_1, \\dots, \\vec{g}_p\\}$ is another basis for $H$. We are interested in finding coordinates of $\\vec{x}$ with respect to $G$ from $[\\vec{x}]_B$ directly. More peciesely, we are looking for a linear map $T: \\mathbb{R}^p\\to \\mathbb{R}^p$ defined by $T([\\vec{x}]_B) = [\\vec{x}]_G$. The following computation shows that the matrix representation of $T$ should be $(P_G)^{-1} P_B$:\n",
    "\n",
    "\n",
    "$$\n",
    "[\\vec{x}]_G = (P_G)^{-1} \\vec{x} = (P_G)^{-1}P_B [\\vec{x}_B].\n",
    "$$\n",
    "\n",
    "\n",
    "\n",
    "The matrix $(P_G)^{-1} P_B$ is called the __transition matrix__ and is denoted by $P_{B\\to G}$. Note that transition matrices are invirtible by definition.\n",
    "\n",
    "\n",
    "__Theorem 1__ \n",
    "\n",
    "The columns of the transition matrix $P_{B\\to G}$ are the coordinates of each of the basis vectors in $B$ with respect to the basis $G$:\n",
    "\n",
    "$$\n",
    "P_{B\\to G} = \\left[ [\\vec{b_1}]_G,\\, [\\vec{b_2}]_G,\\, \n",
    "\\dots,\\, [\\vec{b_p}]_G\\right].\n",
    "$$\n",
    "\n",
    "\n",
    "__Example 1__ \n",
    "\n",
    "Consider two bases $B = \\left\\{ \\begin{bmatrix} 1 \\\\ 0 \\end{bmatrix}, \\begin{bmatrix} 0 \\\\ 1 \\end{bmatrix}   \\right\\}$ and $G = \\left\\{ \\begin{bmatrix} 1 \\\\ 2 \\end{bmatrix}, \\begin{bmatrix} 2 \\\\ 1 \\end{bmatrix}   \\right\\}$ for $\\mathbb{R}^2$, and let $\\vec{x} = \\begin{bmatrix} 2 \\\\ 4 \\end{bmatrix}$.\n",
    "\n",
    "1. Find $[\\vec{x}]_B.$ \n",
    "\n",
    "2. Find $[\\vec{x}]_G.$\n",
    "\n",
    "3. Compute the transition matrix $P_{B\\to G}$\n",
    "\n",
    "4. Verify that it indeed converts $\\begin{bmatrix} 2 \\\\ 4 \\end{bmatrix}_{B}$  to $\\begin{bmatrix} 2 \\\\ 4 \\end{bmatrix}_{G}.$ \n",
    "\n",
    "__Solution__\n"
   ]
  },
  {
   "cell_type": "code",
   "execution_count": 1,
   "id": "f006d1a3",
   "metadata": {},
   "outputs": [
    {
     "name": "stdout",
     "output_type": "stream",
     "text": [
      "[[1 0]\n",
      " [0 1]]\n",
      "coordinate of x with respect to B = \n",
      " [[2.]\n",
      " [4.]]\n"
     ]
    }
   ],
   "source": [
    "# (1) Finding [x]_B\n",
    "\n",
    "import numpy as np\n",
    "\n",
    "# basis B: each row is a basis vector\n",
    "B = np.array([[1,0], [0,1]]) \n",
    "\n",
    "# matrix of B: each column is a basis vector\n",
    "P_B = np.transpose(B)\n",
    "\n",
    "print(P_B)\n",
    "\n",
    "#vector x\n",
    "x = np.array([[2],[4]])\n",
    "\n",
    "\n",
    "# compute the inverse of a matrix\n",
    "def inverse(matrix):\n",
    "    a, b = matrix[0]\n",
    "    c, d = matrix[1]\n",
    "    \n",
    "    det = a * d - b * c\n",
    "\n",
    "    if det == 0:\n",
    "        print(matrix, \"is not invertible\")\n",
    "    else:\n",
    "        D = 1 / det    \n",
    "        inverse = np.zeros((2, 2))\n",
    "        inverse[0, 0] = D * d\n",
    "        inverse[0, 1] = -D * b\n",
    "        inverse[1, 0] = -D * c\n",
    "        inverse[1, 1] = D * a\n",
    "        return(inverse)\n",
    "\n",
    "#computing [x]_B\n",
    "\n",
    "x_B = inverse(P_B) @ x\n",
    "print(\"coordinate of x with respect to B = \\n\", x_B)"
   ]
  },
  {
   "cell_type": "code",
   "execution_count": 2,
   "id": "48d0cedf",
   "metadata": {},
   "outputs": [
    {
     "name": "stdout",
     "output_type": "stream",
     "text": [
      "coordinate of x with respect to G = \n",
      " [[2.]\n",
      " [0.]]\n"
     ]
    }
   ],
   "source": [
    "# (2)  finding [x]_G\n",
    "\n",
    "\n",
    "#basis G\n",
    "G = np.array([[1,2], [2,1]])\n",
    "\n",
    "#matrix of G: P_G\n",
    "\n",
    "P_G = np.transpose(G)\n",
    "\n",
    "#computing [x]_G\n",
    "x_G = inverse(P_G) @ x\n",
    "print(\"coordinate of x with respect to G = \\n\", x_G)"
   ]
  },
  {
   "cell_type": "code",
   "execution_count": 3,
   "id": "ea140330",
   "metadata": {},
   "outputs": [
    {
     "name": "stdout",
     "output_type": "stream",
     "text": [
      "the transition matrix P_{B to G} = \n",
      "\n",
      " [[-0.33333333  0.66666667]\n",
      " [ 0.66666667 -0.33333333]]\n"
     ]
    }
   ],
   "source": [
    "# (3) finding the transition matix\n",
    "\n",
    "B2G_transition = inverse(P_G) @ P_B\n",
    "print('the transition matrix P_{B to G} = \\n\\n', B2G_transition)\n",
    "\n"
   ]
  },
  {
   "cell_type": "code",
   "execution_count": 4,
   "id": "4b06a0a9",
   "metadata": {},
   "outputs": [
    {
     "data": {
      "text/plain": [
       "array([[2.],\n",
       "       [0.]])"
      ]
     },
     "execution_count": 4,
     "metadata": {},
     "output_type": "execute_result"
    }
   ],
   "source": [
    "# (4)\n",
    "\n",
    "B2G_transition @ x_B"
   ]
  },
  {
   "cell_type": "code",
   "execution_count": 5,
   "id": "51ef0b63",
   "metadata": {},
   "outputs": [
    {
     "data": {
      "image/png": "[encoded data removed]",
      "text/plain": [
       "<Figure size 720x360 with 2 Axes>"
      ]
     },
     "metadata": {
      "needs_background": "light"
     },
     "output_type": "display_data"
    }
   ],
   "source": [
    "# Plot the coordinates in two separate plots\n",
    "\n",
    "from matplotlib import pyplot as plt\n",
    "\n",
    "fig, (ax1, ax2) = plt.subplots(1, 2, figsize=(10, 5))\n",
    "    \n",
    "ax1.quiver(0, 0, x_B[0], x_B[1], angles='xy', scale_units='xy', scale=1, color='blue')\n",
    "ax1.set_xlim([-5, 5])\n",
    "ax1.set_ylim([-5, 5])\n",
    "ax1.set_aspect('equal')\n",
    "ax1.axhline(y=0, color='black', linestyle='--', linewidth=0.5)\n",
    "ax1.axvline(x=0, color='black', linestyle='--', linewidth=0.5)\n",
    "ax1.set_xlabel('b_1')\n",
    "ax1.set_ylabel('b_2')\n",
    "ax1.set_title('x in basis B')\n",
    "plt.grid()\n",
    "\n",
    "    \n",
    "ax2.quiver(0, 0, x_G[0], x_G[1], angles='xy', scale_units='xy', scale=1, color='red')\n",
    "ax2.set_xlim([-5, 5])\n",
    "ax2.set_ylim([-5, 5])\n",
    "ax2.set_aspect('equal')\n",
    "ax2.axhline(y=0, color='black', linestyle='--', linewidth=0.5)\n",
    "ax2.axvline(x=0, color='black', linestyle='--', linewidth=0.5)\n",
    "ax2.set_xlabel('g_1')\n",
    "ax2.set_ylabel('g_2')\n",
    "ax2.set_title('x in basis G')\n",
    "plt.grid()\n",
    "   \n",
    "    \n",
    "#plt.tight_layout()\n",
    "plt.show()\n",
    "\n",
    "\n"
   ]
  },
  {
   "cell_type": "markdown",
   "id": "7ede765d",
   "metadata": {},
   "source": [
    "## The matrix representation of linear transformation"
   ]
  },
  {
   "cell_type": "markdown",
   "id": "260f5bda",
   "metadata": {},
   "source": [
    "Now, let's examine how the matrix representation of a linear map $T: \\mathbb{R}^n\\to \\mathbb{R}^m$ changes when we change the bases in the domain and codomain.\n",
    "\n",
    "Let $B_1 = \\{\\vec{b}_1, \\dots, \\vec{b}_n\\}$ and $B_2 = \\{\\vec{b}'_1, \\dots, \\vec{b}'_n\\}$ be two bases for $\\mathbb{R}^n$, and $G_1 = \\{\\vec{g}_1, \\dots, \\vec{g}_m\\}$ and $G_2 = \\{\\vec{g}'_1, \\dots, \\vec{g}'_m\\}$ be two bases for $\\mathbb{R}^m$. To avoid confusion, we use $(\\mathbb{R}^n, B_1)$ to explicitly indicate the basis considered for $\\mathbb{R}^n$.\n",
    "\n",
    "We denote the matrix representation of $T: (\\mathbb{R}^n, B_1) \\to (\\mathbb{R}^m, G_1)$ by $A_1$, and the matrix representation of $T: (\\mathbb{R}^n, B_2) \\to (\\mathbb{R}^m, G_2)$ by $A_2$. The next theorem shows how $A_1$ and $A_2$ are related by the following equation:\n",
    "\n",
    "\n",
    "__Theorem 3__ \n",
    "\n",
    "$$\n",
    "A_2 = P_{G_1\\to G_2} A_1 P_{B_2\\to B_1}\n",
    "$$\n",
    "\n",
    "Here, $P_{G_1\\to G_2}$ is the transition matrix from the basis $G_1$ to $G_2$ in $\\mathbb{R}^m$, and $P_{B_2\\to B_1}$ represents the transition matrix from the basis $B_2$ to $B_1$ in $\\mathbb{R}^n$.\n",
    "\n",
    "\n",
    "__Example 3__\n",
    "\n",
    "Consider a linear mapping $T : \\mathbb{R}^3 \\to \\mathbb{R}^4$ whose standard matrix representation is\n",
    "\n",
    "$$\n",
    "A_1 = \\begin{bmatrix} 1 & 2 & 0 \\\\ -1 & 1 & 3 \\\\ 3 & 7 & 1 \\\\ -1 & 2 & 4 \\end{bmatrix}\n",
    "$$\n",
    "\n",
    "Let \n",
    "\n",
    "$$\n",
    "B_2 = \\left\\{\\ \\begin{bmatrix} 1 \\\\ 1 \\\\ 0 \\end{bmatrix}, \\begin{bmatrix} 0 \\\\ 1 \\\\ 1 \\end{bmatrix}, \\begin{bmatrix} 1 \\\\ 0 \\\\ 1 \\end{bmatrix}\\ \\right\\}\n",
    "$$\n",
    "\n",
    "be a basis for $\\mathbb{R}^3$ and \n",
    "\n",
    "$$G_2 = \\left\\{\\ \\begin{bmatrix} 1 \\\\ 1 \\\\ 1 \\\\ 0\\end{bmatrix}, \\begin{bmatrix} 1 \\\\ 0 \\\\ 1 \\\\ 0 \\end{bmatrix}, \\begin{bmatrix} 0 \\\\ 1 \\\\ 1 \\\\ 0 \\end{bmatrix}, \\begin{bmatrix} 1 \\\\ 0 \\\\ 0 \\\\ 1 \\end{bmatrix} \\ \\right\\}\n",
    "$$\n",
    "\n",
    "be a basis for $\\mathbb{R}^4$. Find the matrix representation of $T: (\\mathbb{R}^3, B) \\to (\\mathbb{R}^4, G)$\n",
    "\n",
    "__Solution__:\n",
    "\n",
    "Let $B_1$ and $G_1$ denote the standard basis of $\\mathbb{R}^3$ and $\\mathbb{R}^4$ respectively. To compute the transition matrices, we need to find the inverses of $3\\times 3$ matrices. To simplify the process, we can use the `np.linalg.inv` function, which is an inner function in the NumPy linear algebra submodule. It provides a convenient way to calculate matrix inverses without explicitly performing row reduction."
   ]
  },
  {
   "cell_type": "code",
   "execution_count": 6,
   "id": "47c58e2f",
   "metadata": {},
   "outputs": [
    {
     "data": {
      "text/plain": [
       "array([[-4., -4., -2.],\n",
       "       [ 6.,  0.,  0.],\n",
       "       [ 4.,  8.,  4.],\n",
       "       [ 1.,  6.,  3.]])"
      ]
     },
     "execution_count": 6,
     "metadata": {},
     "output_type": "execute_result"
    }
   ],
   "source": [
    "# Standard basis in R^3: each row is a basis vector\n",
    "B1 = np.array([[1,0,0], [0,1,0], [0,0,1]]) \n",
    "P_B1 = np.transpose(B1)\n",
    "\n",
    "#Standard basis in R^4\n",
    "G1 = np.array([[1,0,0,0], [0,1,0,0], [0,0,1,0], [0,0,0,1]]) \n",
    "P_G1 = np.transpose(G1)\n",
    "\n",
    "\n",
    "#Second basis in R^3\n",
    "B2 = np.array([[1,1,0], [0,1,1], [1,0,1]]) \n",
    "P_B2 = np.transpose(B2)\n",
    "\n",
    "#Second basis in R^4\n",
    "G2 = np.array([[1,1,0,0], [1,0,1,0], [0,1,1,0], [1,0,0,1]])\n",
    "P_G2 = np.transpose(G2)\n",
    "\n",
    "\n",
    "# matrix representation of T with rspect to B1 and G1\n",
    "A_1 = np.array([[1,2,0], [-1,1,3], [3,7, 1], [-1,2,4]])\n",
    "\n",
    "#create transtion matrix from B2 to B1\n",
    "B21 = np.linalg.inv(P_B1) @ P_B2 \n",
    "\n",
    "#create the transtion matrix from G1 to G2\n",
    "G12 = np.linalg.inv(P_G2) @ P_G1 \n",
    "\n",
    "#computes the representation with respect to new bases\n",
    "A_2 = G12 @ A_1 @ B21\n",
    "A_2"
   ]
  },
  {
   "cell_type": "markdown",
   "id": "8b790371",
   "metadata": {},
   "source": [
    "One of the important tasks in linear algebra is to find a basis that simplifies the matrix representation of a linear map, and thus, facilitate computations. We will discuss this more in the next section. Here we give an example how the change of basis helps to find a simplified representation of a linear transformation. \n",
    "\n",
    "\n",
    "__Example 4__ \n",
    "\n",
    "Let $T: \\mathbb{R}^2 \\to \\mathbb{R}^2$ and $A = \\begin{bmatrix} 2 & 1 \\\\ 1 & 2 \\end{bmatrix}$ be standard  matrix representation of $T$. Define a new basis \n",
    "\n",
    "$$G = \\left\\{ \\begin{bmatrix} 1 \\\\ 1 \\end{bmatrix}, \\begin{bmatrix} 1 \\\\ -1 \\end{bmatrix} \\right\\}$$ \n",
    "\n",
    "and compute the matrix representation of $T : (\\mathbb{R}^2, G)\\to (\\mathbb{R}^2, G)$.\n",
    "\n",
    "\n",
    "__Solution:__\n",
    "\n",
    "Let $B$ denote the standard basis of $\\mathbb{R}^2$, and $D$ represent the new matrix representation of $T$. We have:\n",
    "\n",
    "$$\n",
    "D = P_{B\\to G}\\ A \\ P_{G\\to B}\n",
    "$$\n",
    "\n",
    "By computing $D$, we can see that it is actually a diagonal matrix. This change of basis, known as _diagonalization_, will be discussed further in next sections."
   ]
  },
  {
   "cell_type": "code",
   "execution_count": 7,
   "id": "f751f967",
   "metadata": {},
   "outputs": [
    {
     "data": {
      "text/plain": [
       "array([[3., 0.],\n",
       "       [0., 1.]])"
      ]
     },
     "execution_count": 7,
     "metadata": {},
     "output_type": "execute_result"
    }
   ],
   "source": [
    "# Standard basis in R^2\n",
    "B = np.array([[1,0], [0,1]]) \n",
    "P_B = np.transpose(B)\n",
    "\n",
    "#Second basis in R^2\n",
    "G = np.array([[1,1], [1,-1]])\n",
    "P_G = np.transpose(G)\n",
    "\n",
    "# standard matrix representation of T\n",
    "A = np.array([[2,1], [1,2]])\n",
    "\n",
    "#create transtion matrix from B2 to B1\n",
    "P_BtoG = np.linalg.inv(P_G) @ P_B \n",
    "\n",
    "#create the transtion matrix from G1 to G2\n",
    "P_GtoB = np.linalg.inv(P_B) @ P_G \n",
    "\n",
    "#computes the representation with respect to new bases\n",
    "D = P_BtoG @ A @ P_GtoB\n",
    "D"
   ]
  },
  {
   "cell_type": "markdown",
   "id": "84c7b18f",
   "metadata": {},
   "source": [
    "## Similar matrices"
   ]
  },
  {
   "cell_type": "markdown",
   "id": "6d8c3ec3",
   "metadata": {},
   "source": [
    "In Example 3 and 4 we saw that a linear map can have different matrix representation; these matrices are related by an equation defined in Theorem 3. Now we want to discuss the opposit secnario: given two matrices, how can we check if they are representing the same linear map? \n",
    "\n",
    "We say that two $n\\times m$ matrices $A_1$ and $A_2$ are __equivalent__ if there is an $n\\times n$ invirtible matrix $P$ and $m\\times m$ invirtible matrix $Q$ such that \n",
    "\n",
    "$$\n",
    "A_1 = P^{-1} A_2 Q\n",
    "$$\n",
    "\n",
    "Equivalent matrices represent the same linear map under two different choices of a pair of bases of $\\mathbb{R^n}$ and $\\mathbb{R^m}$, with P and Q being the transition matrices in $\\mathbb{R^n}$ and $\\mathbb{R^m}$ respectively.\n",
    "\n",
    "\n",
    "For example, $A_1$ and $A_2$ in Example 3 are equivalent. Because\n",
    "\n",
    "$$\n",
    "A_2 = P_{G_1\\to G_2} A_1 P_{B_2\\to B_1}\n",
    "$$\n",
    "\n",
    "Here $P =  P_{G_2\\to G_1}$ and $Q = P_{B_2\\to B_1}$. If $P$ and $Q$ happen to be the same matrices, then we call $A_1$ and $A_2$ __similar__. More perciesely, two $n\\times n$ matrices $A_1$ and $A_2$ are similar if there exist an invertible matrix $P$ such that \n",
    "\n",
    "$$\n",
    "A = P^{-1}AP\n",
    "$$\n",
    "\n",
    "For example, $A$ and $D$ in Example 4 are similar because\n",
    "\n",
    "$$\n",
    "D = P_{B\\to G}\\ A \\ P_{G\\to B}\n",
    "$$\n",
    "\n",
    "and clearly $P_{B\\to G}$ is the inverse of P_{G\\to B}. Indeed one can easily verify that: "
   ]
  },
  {
   "cell_type": "code",
   "execution_count": 8,
   "id": "6cc011d4",
   "metadata": {},
   "outputs": [
    {
     "data": {
      "text/plain": [
       "array([[1., 0.],\n",
       "       [0., 1.]])"
      ]
     },
     "execution_count": 8,
     "metadata": {},
     "output_type": "execute_result"
    }
   ],
   "source": [
    "P_BtoG @ P_GtoB"
   ]
  },
  {
   "cell_type": "markdown",
   "id": "cc600bb9",
   "metadata": {},
   "source": [
    "__Excercise__\n",
    "\n",
    "1. Let \n",
    "\n",
    "$$\n",
    "P = \\begin{bmatrix} 1 & 2 & -1 \\\\ -3 & -5 & 0 \\\\ 4 & 6 & 1 \\end{bmatrix}\n",
    "$$\n",
    "\n",
    "and $B$ be a basis of $\\mathbb{R}^3$ containing \n",
    "\n",
    "$$\n",
    "\\vec{b_1} = \\begin{bmatrix} -2 \\\\ 2 \\\\ 3 \\end{bmatrix}, \\vec{b_2}\\begin{bmatrix} -8 \\\\ 5 \\\\ 2 \\end{bmatrix}, \\vec{b_3} = \\begin{bmatrix} -7 \\\\ 2 \\\\ 6 \\end{bmatrix}.\n",
    "$$\n",
    "\n",
    "Find a basis $G = \\{\\vec{g_1}, \\vec{g_2}, \\vec{g_3}\\}$ such that $P$ becomes the transition of basis from $G$ to $B$.\n",
    "\n",
    "\n",
    "2. Consider the following bases of $\\mathbb{R}^2$: \n",
    "\n",
    "$$\n",
    "B = \\left\\lbrace \\begin{bmatrix}\n",
    "3 \\\\ 2\n",
    "\\end{bmatrix}, \\begin{bmatrix}\n",
    "1 \\\\ 1\n",
    "\\end{bmatrix}\\right\\rbrace \\quad \\text {and} \\quad G = \\left\\lbrace \\begin{bmatrix}\n",
    "-2 \\\\ -5\n",
    "\\end{bmatrix}, \\begin{bmatrix}\n",
    "1 \\\\ 2\n",
    "\\end{bmatrix}\\right\\rbrace\n",
    "$$ \n",
    "\n",
    "   a. For $\\vec{x} = \\begin{bmatrix} 3 \\\\ -1 \\end{bmatrix}$  compute $[\\vec{x}]_{B}.$\n",
    "   \n",
    "   b. Let $A = \\begin{bmatrix} 1 & 2 \\\\ 0 & 1 \\end{bmatrix}$ be the standard matrix representation of $T: \\mathbb{R}^2 \\to \\mathbb{R}^2$. Find the matrix representation for $T: (\\mathbb{R}^2,B) \\to (\\mathbb{R}^2, G)$.\n",
    "   \n",
    "   \n"
   ]
  }
 ],
 "metadata": {
  "kernelspec": {
   "display_name": "Python 3",
   "language": "python",
   "name": "python3"
  },
  "language_info": {
   "codemirror_mode": {
    "name": "ipython",
    "version": 3
   },
   "file_extension": ".py",
   "mimetype": "text/x-python",
   "name": "python",
   "nbconvert_exporter": "python",
   "pygments_lexer": "ipython3",
   "version": "3.8.5"
  }
 },
 "nbformat": 4,
 "nbformat_minor": 5
}
