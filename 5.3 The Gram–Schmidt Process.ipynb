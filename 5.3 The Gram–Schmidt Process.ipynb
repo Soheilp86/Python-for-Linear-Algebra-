{
 "cells": [
  {
   "cell_type": "markdown",
   "id": "2f2415b2",
   "metadata": {},
   "source": [
    "\n",
    "# 5. 3 The Gram–Schmidt Process\n",
    "\n",
    "In the previous sections we saw the importance of working with an orthogonal and orthonormal bases. In this section, we explore _the Gram–Schmidt process_ which is a simple algorithm to construct an orthogonal or orthonormal basis from any nonzero subspace of $\\mathbb{R}^n$."
   ]
  },
  {
   "cell_type": "markdown",
   "id": "ca743deb",
   "metadata": {},
   "source": [
    "## Idea: construction of an orthogonal basis form a basis with two elements \n",
    "\n",
    "To see the idea behind the Gram–Schmidt process let's review Example 2 in Section 5.2:\n",
    "\n",
    "Suppose $\\vec{y} = \\begin{bmatrix} 7 \\\\ 6 \\end{bmatrix}$ and $\\vec{u} = \\begin{bmatrix} 4 \\\\ 2 \\end{bmatrix}$. $\\vec{y}$ and $\\vec{u}$ are linearly independent and form a basis for $\\mathbb{R}^2$. Clearly, as shown in below figure, $\\vec{y}$ and $\\vec{u}$ are not orthogonal, however $\\vec{y}$ and $\\vec{z}$ (the component of $\\vec{y}$ orthogonal to $\\vec{u}$) form an orthogonal basis for $\\mathbb{R}^2$"
   ]
  },
  {
   "cell_type": "code",
   "execution_count": 1,
   "id": "7877cd9f",
   "metadata": {},
   "outputs": [
    {
     "name": "stdout",
     "output_type": "stream",
     "text": [
      "The projection of y onto u is  [8. 4.]\n",
      "The component of y orthogonal to u is [-1.  2.]\n"
     ]
    },
    {
     "data": {
      "image/png": "[encoded data removed]",
      "text/plain": [
       "<Figure size 432x288 with 1 Axes>"
      ]
     },
     "metadata": {
      "needs_background": "light"
     },
     "output_type": "display_data"
    }
   ],
   "source": [
    "import numpy as np\n",
    "# setup vectors\n",
    "\n",
    "y = np.array([7,6])\n",
    "\n",
    "u = np.array([4,2])\n",
    "\n",
    "# projection of y onto u\n",
    "\n",
    "proj_y_u = (np.dot(y,u)/ np.dot(u,u))* u\n",
    "print( \"The projection of y onto u is \", proj_y_u) \n",
    "\n",
    "z = y - proj_y_u\n",
    "\n",
    "print(\"The component of y orthogonal to u is\", z )\n",
    "\n",
    "\n",
    "# Plot the coordinates in two separate plots\n",
    "from matplotlib import pyplot as plt\n",
    "\n",
    "fig, ax = plt.subplots()\n",
    "\n",
    "figsize=(10, 5)\n",
    "\n",
    "# vector y\n",
    "ax.quiver(0, 0, 7, 6, angles='xy', scale_units='xy', scale=1, color='blue', label ='y')\n",
    "ax.text(7.1,6.1,'$y$')\n",
    "\n",
    "# vector u\n",
    "ax.quiver(0, 0, 4, 2, angles='xy', scale_units='xy', scale=1, color='black')\n",
    "ax.text(4.1,1.6,'$u$')\n",
    "\n",
    "# orthogonal projection p\n",
    "ax.quiver(0, 0, 8, 4, angles='xy', scale_units='xy', scale=1, color='red')\n",
    "ax.text(8.1,4.1,'$p$')\n",
    "\n",
    "# vector z\n",
    "ax.quiver(0, 0, -1, 2, angles='xy', scale_units='xy', scale=1, color='green')\n",
    "ax.text(-1.1,2.2,'$z = y - p$')\n",
    "\n",
    "# A copy of vector z starting at the end of vector p\n",
    "ax.quiver(8, 4, -1, 2, angles='xy', scale_units='xy', scale=1, color='green')\n",
    "\n",
    "\n",
    "\n",
    "ax.set_xlim([-4, 10])\n",
    "ax.set_ylim([-4, 10])\n",
    "ax.set_aspect('equal')\n",
    "ax.axhline(y=0, color='black', linestyle='--', linewidth=0.5)\n",
    "ax.axvline(x=0, color='black', linestyle='--', linewidth=0.5)\n",
    "\n",
    "ax.set_title('y = p + z')\n",
    "\n",
    "\n",
    "#plt.tight_layout()\n",
    "plt.show()\n"
   ]
  },
  {
   "cell_type": "markdown",
   "id": "e56f0187",
   "metadata": {},
   "source": [
    "Therefore, we have converted a basis for $\\mathbb{R}^2$ into an orthogonal basis for $\\mathbb{R}^2$."
   ]
  },
  {
   "cell_type": "markdown",
   "id": "d707b96b",
   "metadata": {},
   "source": [
    "### Construction of an orthogonalll basis form a basis with three elements "
   ]
  },
  {
   "cell_type": "markdown",
   "id": "4a68d943",
   "metadata": {},
   "source": [
    "__Example 2:__\n",
    "\n",
    "Let $\\vec{x}_1 = \\begin{bmatrix} 1 \\\\ 1 \\\\ 1\\\\ 1 \\end{bmatrix}$, $\\vec{x}_2 = \\begin{bmatrix} 0 \\\\ 1 \\\\ 1\\\\ 1 \\end{bmatrix}$, $\\vec{x}_3 = \\begin{bmatrix} 0 \\\\ 0 \\\\ 1\\\\ 1 \\end{bmatrix}$, and $W = \\text{span}(\\{\\vec{x}_1, \\vec{x}_2, \\vec{x}_3\\})$. We want to construct an orthogonal basis for $W$.\n",
    "\n",
    "__Solution:__\n",
    "\n",
    "The set $\\{\\vec{x}_1, \\vec{x}_2, \\vec{x}_3\\}$ is a linearly independent and forms a basis for $W$. We will construct an orthogonal set of vectors $\\{\\vec{v}_1, \\vec{v}_2, \\vec{v}_3\\}$ such that $W = \\text{span}(\\{\\vec{v}_1, \\vec{v}_2, \\vec{v}_3\\})$.\n",
    "\n",
    "__Step 1:__ \n",
    "\n",
    "Define $\\vec{v}_1 := \\vec{x}_1$ and $W_1 := \\text{span}(\\vec{v}_1)$.\n",
    "\n",
    "__Step 2:__ We seek a vector $\\vec{v_2}$ orthogonal to $\\vec{v_1}$. Project $\\vec{x}_2$ onto $W_1$; the component of $\\vec{x}_2$ orthogonal to the subspace $W_1$ has the desired property:\n",
    "\n",
    "$$\\vec{v}_2 = \\vec{x}_2 - \\text{proj}_{W_1}^{\\vec{x}_2}\\quad \\implies \\vec{v_2} \\quad \\perp \\vec{v_1}$$\n",
    "\n",
    "Now, let $W_2 = \\text{span}(\\vec{v}_1, \\vec{v}_2)$."
   ]
  },
  {
   "cell_type": "code",
   "execution_count": 2,
   "id": "b2bd6a68",
   "metadata": {},
   "outputs": [
    {
     "name": "stdout",
     "output_type": "stream",
     "text": [
      "The projection of x2 onto x1 is  [0.75 0.75 0.75 0.75] \n",
      "\n",
      "The component of x1 orthogonal to W1 is [-0.75  0.25  0.25  0.25]\n"
     ]
    }
   ],
   "source": [
    "# setup vectors\n",
    "\n",
    "x1 = np.array([1,1,1,1])\n",
    "\n",
    "x2 = np.array([0,1,1,1])\n",
    "\n",
    "x3 = np.array([0,0,1,1])\n",
    "\n",
    "v1 = x1\n",
    "# projection of x2 onto x1\n",
    "\n",
    "proj_x2_v1 = (np.dot(x2,v1)/ np.dot(v1,v1))* v1\n",
    "print( \"The projection of x2 onto x1 is \", proj_x2_v1, '\\n') \n",
    "\n",
    "v2 = x2 - proj_x2_v1\n",
    "\n",
    "print(\"The component of x1 orthogonal to W1 is\", v2 )\n"
   ]
  },
  {
   "cell_type": "markdown",
   "id": "ba7d1014",
   "metadata": {},
   "source": [
    "__Step 3:__\n",
    "\n",
    "We can use a similar approach to construct $\\vec{v}_3$. We find the orthogonal projection of $\\vec{x}_3$ onto $W_2$ and define $\\vec{v}_3$ as the component of $\\vec{x}_3$ that is orthogonal to the subspace $W_2$:\n",
    "\n",
    "$$\n",
    "\\vec{v}_3 = \\vec{x}_3 - \\text{proj}_{W_2}(\\vec{x}_3)\n",
    "$$\n",
    "\n",
    "Since both $\\vec{x}_3$ and $\\text{proj}_{W_2}(\\vec{x}_3)$ are elements of $W$, $\\vec{v}_3$ is also in $W$. Moreover, by definition, $\\vec{v}_3$ is orthogonal to both $\\vec{v}_1$ and $\\vec{v}_2$. Thus, $\\{\\vec{v}_1, \\vec{v}_2, \\vec{v}_3\\}$ forms an orthogonal basis for $W$."
   ]
  },
  {
   "cell_type": "code",
   "execution_count": 3,
   "id": "03cab351",
   "metadata": {},
   "outputs": [
    {
     "name": "stdout",
     "output_type": "stream",
     "text": [
      "the projection of x3 onto W2 is  [0.         0.66666667 0.66666667 0.66666667] \n",
      "\n",
      "the component of x3 orthogonal to W2 is [ 0.         -0.66666667  0.33333333  0.33333333]\n"
     ]
    }
   ],
   "source": [
    "# projection of x3 onto W2\n",
    "\n",
    "proj_x3_W2 = (np.dot(x3,v1)/ np.dot(v1,v1))* v1  +  (np.dot(x3,v2)/ np.dot(v2,v2))* v2\n",
    "\n",
    "print( \"the projection of x3 onto W2 is \", proj_x3_W2, '\\n') \n",
    "\n",
    "# component of y orthogonal to p\n",
    "v3 = x3 - proj_x3_W2\n",
    "\n",
    "print(\"the component of x3 orthogonal to W2 is\", v3 )"
   ]
  },
  {
   "cell_type": "markdown",
   "id": "d0d4bacb",
   "metadata": {},
   "source": [
    "\n",
    "__Step 4 (Optional)__  \n",
    "\n",
    "Normalizing the basis elements $\\vec{v_1}$, $\\vec{v_2}$, and $\\vec{v_3}$, we will get unit vectors $\\vec{e_1}$, $\\vec{e_2}$, and $\\vec{e_3}$ respectievely. $\\{\\vec{e_1}, \\vec{e_2}, \\vec{e_3}\\}$ is an orthonormal basis for $W$."
   ]
  },
  {
   "cell_type": "code",
   "execution_count": 4,
   "id": "6d27e85f",
   "metadata": {},
   "outputs": [
    {
     "name": "stdout",
     "output_type": "stream",
     "text": [
      "e1 =  [0.5 0.5 0.5 0.5]\n",
      "e2 =  [-0.8660254   0.28867513  0.28867513  0.28867513]\n",
      "e3 =  [ 0.         -0.81649658  0.40824829  0.40824829]\n"
     ]
    }
   ],
   "source": [
    "# The unit vector of v1\n",
    "e1 = v1 / np.sqrt(np.dot(v1,v1))\n",
    "\n",
    "# The unit vector of v1\n",
    "e2 = v2 / np.sqrt(np.dot(v2,v2))\n",
    "\n",
    "# The unit vector of v1\n",
    "e3 = v3 / np.sqrt(np.dot(v3,v3))\n",
    "\n",
    "print(\"e1 = \", e1)\n",
    "print(\"e2 = \", e2)\n",
    "print(\"e3 = \", e3)"
   ]
  },
  {
   "cell_type": "markdown",
   "id": "bf01409c",
   "metadata": {},
   "source": [
    "## The Gram_Schmidt Process"
   ]
  },
  {
   "cell_type": "markdown",
   "id": "69d385c0",
   "metadata": {},
   "source": [
    "__Theorem 1__ (the Gram-Schmidt algorithm)\n",
    "\n",
    "Let $W \\subset \\mathbb{R}^n$ be a non-zero subspace, and $\\{\\vec{x_1}, \\vec{x_2}, \\dots, \\vec{x_p}\\}$ be a basis for $W$. Define:\n",
    "\n",
    "\\begin{align}\n",
    "\\vec{v_1} &= \\vec{x_1} \\quad \\text{and} \\quad W_1 = \\text{span}(\\vec{v_1}),\\\\\n",
    "\\vec{v_2} &= \\vec{x_2} - \\text{proj}_{W_1}(\\vec{x_2}) \\quad \\text{and} \\quad W_2 = \\text{span}(\\{\\vec{v_1}, \\vec{v_2}\\}),\\\\\n",
    "& \\vdots \\\\\n",
    "\\vec{v_p} &= \\vec{x_p} - \\text{proj}_{W_{p-1}}(\\vec{x_p}) \\quad \\text{and} \\quad W_p = \\text{span}(\\{\\vec{v_1}, \\vec{v_2}, \\dots, \\vec{v_3}\\}).\n",
    "\\end{align}\n",
    "\n",
    "Then $W = W_p$, and $\\{\\vec{v_1}, \\vec{v_2}, \\dots, \\vec{v_p}\\}$ is an orthogonal basis for $W$. Moreover, if $\\vec{e_1}, \\vec{e_2}, \\dots, \\vec{e_p}$ are the unit vectors of $\\vec{v_1}, \\vec{v_2}, \\dots, \\vec{v_p}$ respectively, then $\\{\\vec{e_1}, \\vec{e_2}, \\dots, \\vec{e_p}\\}$ is an orthonormal basis for $W$."
   ]
  },
  {
   "cell_type": "markdown",
   "id": "da492811",
   "metadata": {},
   "source": [
    "## Application: the QR Factorization"
   ]
  },
  {
   "cell_type": "markdown",
   "id": "0f56bca2",
   "metadata": {},
   "source": [
    "Let $A$ be an $m \\times n$ matrix whose columns form a linearly independent set. Applying the Gram-Schmidt process (with normalizations) to the column space of $A$ results in a factorization of $A$ called the QR-factorization. The QR-factorization is commonly used in computer algorithms for solving equations and finding eigenvalues.\n",
    "\n",
    "__Theorem 2:__\n",
    "\n",
    "Suppose $A$ is an $m \\times n$ matrix with linearly independent columns. Then $A$ can be factored as $QR$, where $Q$ is an $m \\times n$ matrix whose columns form an orthonormal basis for $Col(A)$, and $R$ is an $n \\times n$ upper triangular invertible matrix with positive entries on its diagonal.\n",
    "\n",
    "To construct the matrix $Q$, we use the Gram-Schmidt process to find an orthonormal basis for $Col(A)$. Then, the columns of $Q$ are the basis elements. To compute $R$, note that $Q$ is an _orthogonal matrix_ ($Q^TQ = I$); therefore $Q^{-1} = Q^T$, and $R = Q^TA$.\n",
    "\n",
    "__Example 3:__\n",
    "\n",
    "Suppose $A$ is a $3 \\times 3$ matrix whose columns are $\\vec{x_1}, \\vec{x_2}, \\vec{x_3}$ given in Example 2. Find a $QR$-factorization for $A$.\n",
    "\n",
    "__Solution:__\n",
    "\n",
    "An orthogonal basis for $\\text{Col } A$ was found in Example 2: $\\{ \\vec{e_1}, \\vec{e_2}, \\vec{e_3}\\}$. Thus,\n",
    "\n",
    "$$\n",
    "Q = [\\ \\vec{e_1}, \\vec{e_2}, \\vec{e_3}\\ ]\n",
    "$$\n",
    "\n",
    "The following cell computes $R$."
   ]
  },
  {
   "cell_type": "code",
   "execution_count": 5,
   "id": "bd957d5e",
   "metadata": {},
   "outputs": [],
   "source": [
    "# setup A\n",
    "A = np.transpose([x1, x2, x3])\n",
    "\n",
    "# setup Q\n",
    "Q = np.transpose([e1, e2, e3])\n",
    "\n",
    "# Compute R= Q^T*A\n",
    "R = np.transpose(Q) @ A"
   ]
  },
  {
   "cell_type": "code",
   "execution_count": 6,
   "id": "11fcfb0b",
   "metadata": {},
   "outputs": [
    {
     "data": {
      "text/plain": [
       "array([[2.00000000e+00, 1.50000000e+00, 1.00000000e+00],\n",
       "       [1.11022302e-16, 8.66025404e-01, 5.77350269e-01],\n",
       "       [1.11022302e-16, 1.11022302e-16, 8.16496581e-01]])"
      ]
     },
     "execution_count": 6,
     "metadata": {},
     "output_type": "execute_result"
    }
   ],
   "source": [
    "R"
   ]
  },
  {
   "cell_type": "markdown",
   "id": "d4255360",
   "metadata": {},
   "source": [
    "Note that elements below the diagonal in $R$ are very small and close to zero. In fact, $R$ should be an upper triangular matrix. The reason why Python won't display the exact decimal numbers we expect is that some decimal fractions cannot be represented exactly as binary fractions. To address this issue, we can set very small elements of $R$ to zero."
   ]
  },
  {
   "cell_type": "code",
   "execution_count": 7,
   "id": "c64f7db0",
   "metadata": {},
   "outputs": [
    {
     "data": {
      "text/plain": [
       "array([[2.        , 1.5       , 1.        ],\n",
       "       [0.        , 0.8660254 , 0.57735027],\n",
       "       [0.        , 0.        , 0.81649658]])"
      ]
     },
     "execution_count": 7,
     "metadata": {},
     "output_type": "execute_result"
    }
   ],
   "source": [
    "eps = 0.000001 \n",
    "R[np.abs(R) < eps] = 0\n",
    "R"
   ]
  },
  {
   "cell_type": "markdown",
   "id": "e3aab9ff",
   "metadata": {},
   "source": [
    "__Numerical Note__ \n",
    "\n",
    "When the Gram–Schmidt process is run on a computer, round off error can build up as the vectors $\\vec{v_k}$ are calculated, one by one. Specifically, for large and unequal values of $k$ and $j$, the dot products $\\vec{v_k}^T \\cdot \\vec{u_j}$ may not be sufficiently close to zero, leading to a loss of orthogonality. This loss of orthogonality can be reduced substantially by rearranging the order of the calculations. \n",
    "\n",
    "\n",
    "We can also utilize `numpy.linalg.qr` in Python to compute the QR factorization of a matrix. This function provides an efficient and accurate implementation of the Gram-Schmidt process avoiding unnecessary loss of orthogonality. "
   ]
  },
  {
   "cell_type": "code",
   "execution_count": 8,
   "id": "a2f81ab5",
   "metadata": {},
   "outputs": [
    {
     "name": "stdout",
     "output_type": "stream",
     "text": [
      "Q = \n",
      " [[-0.5         0.8660254   0.        ]\n",
      " [-0.5        -0.28867513  0.81649658]\n",
      " [-0.5        -0.28867513 -0.40824829]\n",
      " [-0.5        -0.28867513 -0.40824829]] \n",
      "\n",
      "\n",
      "R = \n",
      " [[-2.         -1.5        -1.        ]\n",
      " [ 0.         -0.8660254  -0.57735027]\n",
      " [ 0.          0.         -0.81649658]]\n"
     ]
    }
   ],
   "source": [
    "Q, R = np.linalg.qr(A)\n",
    "\n",
    "print('Q = \\n', Q, '\\n\\n')\n",
    "\n",
    "print('R = \\n', R)"
   ]
  },
  {
   "cell_type": "markdown",
   "id": "a2e554e6",
   "metadata": {},
   "source": [
    "## Exercises"
   ]
  },
  {
   "cell_type": "markdown",
   "id": "9eec9b72",
   "metadata": {},
   "source": [
    "1. Let $\\vec{x}_1 = \\begin{bmatrix} 3 \\\\ 1 \\\\ -1\\\\ 3 \\end{bmatrix}$, $\\vec{x}_2 = \\begin{bmatrix} -5 \\\\ 1 \\\\ 5\\\\ -7 \\end{bmatrix}$, $\\vec{x}_3 = \\begin{bmatrix} 1\\\\ 1 \\\\ -2\\\\ 8 \\end{bmatrix}$, and $W = \\text{span}(\\{\\vec{x}_1, \\vec{x}_2, \\vec{x}_3\\})$. Construct an orthonormal basis for $W$.\n",
    "\n",
    "\n",
    "2. Let $A$ be a matrix whose columns are $\\vec{x}_1$, $\\vec{x}_2$, $\\vec{x}_3$ from Exercise 1: $A = \\begin{bmatrix} 3 & -5 & 1 \\\\  1 & 1 & 1 \\\\ -1 & 5 & -2 \\\\ 3 & -7 & 8\\end{bmatrix}$. Find a QR decomposition for $A$.\n",
    "\n",
    "\n",
    "3. Let $A = QR$, where $Q$ is an $m \\times n$ matrix with orthogonal columns, and $R$ is an $n \\times n$ matrix. Show that if the columns of $A$ are linearly dependent, then $R$ cannot be invertible.\n"
   ]
  }
 ],
 "metadata": {
  "kernelspec": {
   "display_name": "Python 3",
   "language": "python",
   "name": "python3"
  },
  "language_info": {
   "codemirror_mode": {
    "name": "ipython",
    "version": 3
   },
   "file_extension": ".py",
   "mimetype": "text/x-python",
   "name": "python",
   "nbconvert_exporter": "python",
   "pygments_lexer": "ipython3",
   "version": "3.8.5"
  },
  "latex_envs": {
   "LaTeX_envs_menu_present": true,
   "autoclose": false,
   "autocomplete": true,
   "bibliofile": "biblio.bib",
   "cite_by": "apalike",
   "current_citInitial": 1,
   "eqLabelWithNumbers": true,
   "eqNumInitial": 1,
   "hotkeys": {
    "equation": "Ctrl-E",
    "itemize": "Ctrl-I"
   },
   "labels_anchors": false,
   "latex_user_defs": false,
   "report_style_numbering": false,
   "user_envs_cfg": false
  }
 },
 "nbformat": 4,
 "nbformat_minor": 5
}
