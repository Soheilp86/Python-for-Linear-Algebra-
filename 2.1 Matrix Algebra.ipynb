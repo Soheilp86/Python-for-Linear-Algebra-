{
 "cells": [
  {
   "cell_type": "markdown",
   "metadata": {},
   "source": [
    "# 2. Matrix Algebra\n",
    "\n",
    "This section focuses on matrix algebra and its properties. We will also explore how operations involving matrices are connected to linear systems."
   ]
  },
  {
   "cell_type": "markdown",
   "metadata": {},
   "source": [
    "## Matrices"
   ]
  },
  {
   "cell_type": "markdown",
   "metadata": {},
   "source": [
    "Consider matrix $A$, which is an $m \\times n$ matrix with $m$ rows and $n$ columns:\n",
    "\n",
    "$$\n",
    "A = \\begin{bmatrix} a_{11} &  a_{12} &\\dots & a_{1n}\\\\ a_{21} &  a_{22} & \\dots & a_{2n}\\\\ \\vdots& \\vdots& \\vdots  \\\\  a_{m1}& a_{m2} &\\dots &  a_{mn}\\\\\n",
    "\\end{bmatrix}\n",
    "$$\n",
    "\n",
    "The entry in the $i$th row and $j$th column is referred to as the __$(i,j)$-entry__ of matrix $A$. Entries with the same row and column index ($a_{i,i}$ for any $i$) are called __diagonal entries__ of $A$. The $i$th column of $A$, denoted as $a_i$, represents a vector in $\\mathbb{R}^m$. We can represent matrix $A$ in a compact form by its columns:\n",
    "\n",
    "$$\n",
    "A= \\begin{bmatrix} a_{1} &  a_{2} &\\dots & a_{n}\\\\ \\end{bmatrix},\n",
    "$$\n",
    "\n",
    "or by its entries:\n",
    "\n",
    "$$A= (a_{i,j})$$\n",
    "\n",
    "A matrix whose entries are all zero is called a __zero matrix__, denoted by $0$. The size of a zero matrix is usually clear from the context. \n",
    "\n",
    "An $n \\times n$ matrix is called: \n",
    "\n",
    "1. the __identity matrix__, denoted by $I_n$, if it has 1 on the diagonal and 0 everywhere else. \n",
    "2.  a __diagonal matrix__ if it has all nondiagonal entries equal to zero. Identity matrices are diagonal.\n",
    "3. an __upper triangular matrix__ if it has all entries below the diagonal equal to zero.\n",
    "4. a _lower triangular matrix_ if it has all entries above the diagonal equal to zero.\n",
    "5.  a_triangular matrix_ if it is either upper triangular or lower triangular.\n",
    "\n",
    "__Example 1__\n",
    "\n",
    "Let $A = \\begin{bmatrix} 0 & 2 & -1\\\\ 2 & 3 & 1 \\end{bmatrix}$. \n",
    "\n",
    "As we have seen before, we use NumPy arrays to represent A. Note that each list in the array represent a row of A."
   ]
  },
  {
   "cell_type": "code",
   "execution_count": 1,
   "metadata": {},
   "outputs": [
    {
     "name": "stdout",
     "output_type": "stream",
     "text": [
      "A =\n",
      " [[ 0  2 -1]\n",
      " [ 2  3  1]]\n"
     ]
    }
   ],
   "source": [
    "import numpy as np\n",
    "\n",
    "A = np.array([[0, 2, -1],[2, 3, 1]])\n",
    "print('A =\\n', A)\n"
   ]
  },
  {
   "cell_type": "markdown",
   "metadata": {},
   "source": [
    "$A$ is a $2 \\times 3$ matrix. The following cell shows how to find the size of $A$:"
   ]
  },
  {
   "cell_type": "code",
   "execution_count": 2,
   "metadata": {},
   "outputs": [
    {
     "name": "stdout",
     "output_type": "stream",
     "text": [
      "A has  2 rows, and 3 columns\n"
     ]
    }
   ],
   "source": [
    "#Size of A\n",
    "\n",
    "print('A has ', A.shape[0],  'rows, and', A.shape[1],  'columns')"
   ]
  },
  {
   "cell_type": "markdown",
   "metadata": {},
   "source": [
    "We can also print rows and columns of $A$:"
   ]
  },
  {
   "cell_type": "code",
   "execution_count": 3,
   "metadata": {},
   "outputs": [
    {
     "name": "stdout",
     "output_type": "stream",
     "text": [
      "The first row of A is  [ 0  2 -1]\n",
      "******************************\n",
      "\n",
      " The second row of A is  [2 3 1]\n",
      "******************************\n",
      "\n",
      " The first column of A is  [0 2]\n",
      "******************************\n",
      "\n",
      " The second column of A is  [2 3]\n",
      "******************************\n",
      "\n",
      " The third column of A is  [-1  1]\n"
     ]
    }
   ],
   "source": [
    "print('The first row of A is ', A[0,:])\n",
    "\n",
    "print(30*'*')\n",
    "\n",
    "print('\\n The second row of A is ', A[1,:])\n",
    "\n",
    "print(30*'*')\n",
    "\n",
    "print('\\n The first column of A is ', A[:,0])\n",
    "\n",
    "print(30*'*')\n",
    "\n",
    "print('\\n The second column of A is ', A[:,1])\n",
    "\n",
    "print(30*'*')\n",
    "\n",
    "print('\\n The third column of A is ', A[:,2])\n",
    "\n"
   ]
  },
  {
   "cell_type": "markdown",
   "metadata": {},
   "source": [
    "The following cell shows how to generate an identity matrix of an arbitary size:"
   ]
  },
  {
   "cell_type": "code",
   "execution_count": 4,
   "metadata": {},
   "outputs": [
    {
     "name": "stdout",
     "output_type": "stream",
     "text": [
      "I_3 = \n",
      " \n",
      " [[1. 0. 0.]\n",
      " [0. 1. 0.]\n",
      " [0. 0. 1.]]\n",
      "\n",
      " I_4 = \n",
      " \n",
      " [[1. 0. 0. 0.]\n",
      " [0. 1. 0. 0.]\n",
      " [0. 0. 1. 0.]\n",
      " [0. 0. 0. 1.]]\n",
      "\n",
      " I_5 = \n",
      " \n",
      " [[1. 0. 0. 0. 0.]\n",
      " [0. 1. 0. 0. 0.]\n",
      " [0. 0. 1. 0. 0.]\n",
      " [0. 0. 0. 1. 0.]\n",
      " [0. 0. 0. 0. 1.]]\n"
     ]
    }
   ],
   "source": [
    "# 3x3 identity matrix\n",
    "I_3 = np.eye(3)\n",
    "\n",
    "print('I_3 = \\n \\n', I_3)\n",
    "\n",
    "# 4x4 identity matrix I_4\n",
    "I_4 = np.eye(4)\n",
    "\n",
    "print('\\n I_4 = \\n \\n', I_4)\n",
    "\n",
    "# 5x5 identity matrix I_5\n",
    "I_5 = np.eye(5)\n",
    "\n",
    "print('\\n I_5 = \\n \\n', I_5)"
   ]
  },
  {
   "cell_type": "markdown",
   "metadata": {},
   "source": [
    "Let's have more examples:"
   ]
  },
  {
   "cell_type": "code",
   "execution_count": 5,
   "metadata": {},
   "outputs": [
    {
     "name": "stdout",
     "output_type": "stream",
     "text": [
      "B =\n",
      " [[1 2 3]\n",
      " [4 5 6]]\n",
      "\n",
      " B has  2 rows, and 3 columns\n",
      "\n",
      " The second column of B is  [2 5]\n",
      "******************************\n",
      "\n",
      " C = \n",
      " [[ 0  2]\n",
      " [ 2  3]\n",
      " [ 5 -2]]\n",
      "\n",
      " C has  3 rows, and 2 columns\n",
      "\n",
      " The 1 -th column of C is  [1 4]\n",
      "\n",
      " The 2 -th column of C is  [2 5]\n"
     ]
    }
   ],
   "source": [
    "B = np.array([[1, 2, 3],[4, 5, 6]])\n",
    "print('B =\\n', B)\n",
    "\n",
    "\n",
    "#Size of B\n",
    "\n",
    "print('\\n B has ', B.shape[0],  'rows, and', B.shape[1],  'columns')\n",
    "\n",
    "# the second column of B\n",
    "\n",
    "print('\\n The second column of B is ', B[:,1])\n",
    "\n",
    "print(30*'*')\n",
    "\n",
    "C = np.array([[0, 2] ,[2, 3],[5, -2]])\n",
    "print('\\n C = \\n', C)\n",
    "\n",
    "\n",
    "#Size of C\n",
    "\n",
    "print('\\n C has ', C.shape[0],  'rows, and', C.shape[1],  'columns')\n",
    "\n",
    "\n",
    "# print the columns of C\n",
    "\n",
    "for i in range(C.shape[1]):\n",
    "    print('\\n The', i+1, '-th column of C is ', B[:,i])\n",
    "\n"
   ]
  },
  {
   "cell_type": "markdown",
   "metadata": {},
   "source": [
    "## Basic Algebraic Operations"
   ]
  },
  {
   "cell_type": "markdown",
   "metadata": {},
   "source": [
    "The arithmetic operations defined for vectors can be extended to matrices:\n",
    "\n",
    "1. Two matrices $A$ and $B$ are equal if they have the same size and entries.\n",
    "\n",
    "\n",
    "\n",
    "2. The __sum__ of matrices is defined for matrices of the same size: \n",
    "\n",
    "let $A = (a_{ij})$ and $B = (b_{ij})$ be two $m \\times n$ matrices. Then $A+B$ is an $m \\times n$ matrix whose entries are the sums of the corresponding entries of $A$ and $B$:\n",
    "\n",
    "$$ A+B = (a_{ij} + b_{ij}).$$\n",
    "\n",
    "\n",
    "\n",
    "3. The __scalar product__ $cA$ for a scalar $c \\in \\mathbb{R}$ and a matrix $A$ is a matrix of the same size as $A$ whose entries are $c$ times the entries of $A$:\n",
    "\n",
    "$$ cA = (ca_{ij}) $$\n",
    "\n",
    "__Theorem 1__ (properties of sum and scalar product)\n",
    "\n",
    "Let $A$, $B$, and $C$ have the same size, and let $c$ and $d$ be real numbers.\n",
    "\n",
    "1. $A+B = B+A$\n",
    "2. $(A+B)+C = A+(B+C)$\n",
    "3. $A+ 0 = A$\n",
    "4. $c(A+B) =  cA + cB$\n",
    "5. $(c+d)A = cA + dA$\n",
    "6. $c(dA)=(cd)A$\n",
    "\n",
    "__Example 2:__ \n",
    "\n",
    "Consider the matrices in Example 1. Compute the following:\n",
    "\n",
    "1. $3A-B$\n",
    "\n",
    "2. $A+C$\n",
    "\n",
    "__Solution:__"
   ]
  },
  {
   "cell_type": "code",
   "execution_count": 6,
   "metadata": {},
   "outputs": [
    {
     "data": {
      "text/plain": [
       "array([[-1,  4, -6],\n",
       "       [ 2,  4, -3]])"
      ]
     },
     "execution_count": 6,
     "metadata": {},
     "output_type": "execute_result"
    }
   ],
   "source": [
    "#1\n",
    "\n",
    "3*A-B"
   ]
  },
  {
   "cell_type": "markdown",
   "metadata": {},
   "source": [
    "$A+C$ is not defined because $A$ and $C$ are not of the same size:"
   ]
  },
  {
   "cell_type": "code",
   "execution_count": 7,
   "metadata": {},
   "outputs": [
    {
     "ename": "ValueError",
     "evalue": "operands could not be broadcast together with shapes (2,3) (3,2) ",
     "output_type": "error",
     "traceback": [
      "\u001b[0;31m---------------------------------------------------------------------------\u001b[0m",
      "\u001b[0;31mValueError\u001b[0m                                Traceback (most recent call last)",
      "\u001b[0;32m<ipython-input-7-329ee4efbfd8>\u001b[0m in \u001b[0;36m<module>\u001b[0;34m\u001b[0m\n\u001b[1;32m      1\u001b[0m \u001b[0;31m#2.\u001b[0m\u001b[0;34m\u001b[0m\u001b[0;34m\u001b[0m\u001b[0;34m\u001b[0m\u001b[0m\n\u001b[0;32m----> 2\u001b[0;31m \u001b[0mA\u001b[0m \u001b[0;34m+\u001b[0m \u001b[0mC\u001b[0m\u001b[0;34m\u001b[0m\u001b[0;34m\u001b[0m\u001b[0m\n\u001b[0m",
      "\u001b[0;31mValueError\u001b[0m: operands could not be broadcast together with shapes (2,3) (3,2) "
     ]
    }
   ],
   "source": [
    "#2.\n",
    "A + C"
   ]
  },
  {
   "cell_type": "markdown",
   "metadata": {},
   "source": [
    "## Matrix Product"
   ]
  },
  {
   "cell_type": "markdown",
   "metadata": {},
   "source": [
    "\n",
    "Let $A$ be an $m \\times n$ and $B$ be an $n \\times p$ matrix. The product AB is an $m\\times p$ matrix whose columns are $Ab_1, Ab_2, \\dots, Ab_p$:\n",
    "\n",
    "$$\n",
    "AB= \\begin{bmatrix} Ab_{1} &  Ab_{2} &\\dots & Ab_{n}\\\\ \\end{bmatrix}.\n",
    "$$\n",
    "\n",
    "We can also descibe the matrix product by the entries: the ($ij$)-entry of $AB$ is the product of the $i$th-row of $A$ and the $j$th column of $B$ in the following way:\n",
    "\n",
    "$$\n",
    "a_ib_j = \\begin{bmatrix} a_{i1} &  a_{i2} &\\dots & a_{in}\\\\ \\end{bmatrix} \\begin{bmatrix} b_{1j} &  b_{2j} &\\dots & a_{nj}\\\\ \\end{bmatrix} = a_{i1}b_{j1} + a_{i2}b_{2j} + \\dots + a_{in}b_{nj} = \\Sigma^{n}_{k=1}a_{ik}b_{kj}\n",
    "$$\n",
    "\n",
    "\n",
    "The product $BA$ is not defined if $p\\neq m$ (the _neighboring dimensions_\n",
    "do not match).\n",
    "\n",
    "\n",
    "__Example 3__\n",
    "\n",
    "Let $A = \\begin{bmatrix} 1 & 2 & 3 \\\\ 4 & 5 & 6 \\end{bmatrix}$ and $B = \\begin{bmatrix} 1 & 2 \\\\ 3 & 4 \\\\ 5 & 6\\\\ \\end{bmatrix}$. Compute $AB$ and $BA$.\n",
    "\n",
    "__Solution:__ \n",
    "\n",
    "$A$ is a $2 \\times 3$ and B is a $3 \\times 2$ matrix; so the product is defined. In Python we use the sympol `@` to compute the matrix product"
   ]
  },
  {
   "cell_type": "code",
   "execution_count": 8,
   "metadata": {},
   "outputs": [
    {
     "name": "stdout",
     "output_type": "stream",
     "text": [
      "[[22 28]\n",
      " [49 64]]\n"
     ]
    }
   ],
   "source": [
    "import numpy as np\n",
    "\n",
    "#A\n",
    "A = np.array([[1,2,3],[4,5,6]])\n",
    "\n",
    "#B\n",
    "B = np.array([[1,2],[3,4],[5,6]])\n",
    "\n",
    "#Compute the matrix product\n",
    "AB = A @ B\n",
    "\n",
    "print(AB)"
   ]
  },
  {
   "cell_type": "markdown",
   "metadata": {},
   "source": [
    "Now let's compute $BA$:"
   ]
  },
  {
   "cell_type": "code",
   "execution_count": 9,
   "metadata": {},
   "outputs": [
    {
     "name": "stdout",
     "output_type": "stream",
     "text": [
      "[[ 9 12 15]\n",
      " [19 26 33]\n",
      " [29 40 51]]\n"
     ]
    }
   ],
   "source": [
    "#Compute the product BA\n",
    "BA = B @ A\n",
    "\n",
    "print(BA)"
   ]
  },
  {
   "cell_type": "markdown",
   "metadata": {},
   "source": [
    "__Example 4__ \n",
    "\n",
    "Let $C = \\begin{bmatrix} 1 & 2 & 3 & 4 \\\\ 4 & 5 & 6 & 7 \\end{bmatrix}$. The matrix product $AC$ is not defined because the number of columns in matrix $A$ does not match the number of rows in matrix $C$. If we proceed with computing $AC$ we will get: "
   ]
  },
  {
   "cell_type": "code",
   "execution_count": 10,
   "metadata": {},
   "outputs": [
    {
     "ename": "ValueError",
     "evalue": "matmul: Input operand 1 has a mismatch in its core dimension 0, with gufunc signature (n?,k),(k,m?)->(n?,m?) (size 2 is different from 3)",
     "output_type": "error",
     "traceback": [
      "\u001b[0;31m---------------------------------------------------------------------------\u001b[0m",
      "\u001b[0;31mValueError\u001b[0m                                Traceback (most recent call last)",
      "\u001b[0;32m<ipython-input-10-15e6983a77df>\u001b[0m in \u001b[0;36m<module>\u001b[0;34m\u001b[0m\n\u001b[1;32m      2\u001b[0m \u001b[0;34m\u001b[0m\u001b[0m\n\u001b[1;32m      3\u001b[0m \u001b[0;31m# Compute AC\u001b[0m\u001b[0;34m\u001b[0m\u001b[0;34m\u001b[0m\u001b[0;34m\u001b[0m\u001b[0m\n\u001b[0;32m----> 4\u001b[0;31m \u001b[0mAC\u001b[0m \u001b[0;34m=\u001b[0m \u001b[0mA\u001b[0m \u001b[0;34m@\u001b[0m \u001b[0mC\u001b[0m\u001b[0;34m\u001b[0m\u001b[0;34m\u001b[0m\u001b[0m\n\u001b[0m\u001b[1;32m      5\u001b[0m \u001b[0;34m\u001b[0m\u001b[0m\n\u001b[1;32m      6\u001b[0m \u001b[0mprint\u001b[0m\u001b[0;34m(\u001b[0m\u001b[0mAC\u001b[0m\u001b[0;34m)\u001b[0m\u001b[0;34m\u001b[0m\u001b[0;34m\u001b[0m\u001b[0m\n",
      "\u001b[0;31mValueError\u001b[0m: matmul: Input operand 1 has a mismatch in its core dimension 0, with gufunc signature (n?,k),(k,m?)->(n?,m?) (size 2 is different from 3)"
     ]
    }
   ],
   "source": [
    "C = np.array([[1, 2, 3, 4], [4, 5, 6, 7]])\n",
    "\n",
    "# Compute AC\n",
    "AC = A @ C\n",
    "\n",
    "print(AC)\n"
   ]
  },
  {
   "cell_type": "markdown",
   "metadata": {},
   "source": [
    "__Power of Square Matrices__\n",
    "\n",
    "We can raise a square matrix $A$ to the power of a natural number using matrix multiplication. The matrix power is a fundamental idea in several linear algebra applications such as the long-term behavior of disceret dynamical systems. \n",
    "\n",
    "__Example 5:__\n",
    "\n",
    "Let $M = BA$ where $A$ and $B$ are matrices in Example 3. Compute $M^{4}$."
   ]
  },
  {
   "cell_type": "code",
   "execution_count": 11,
   "metadata": {},
   "outputs": [
    {
     "name": "stdout",
     "output_type": "stream",
     "text": [
      "C^4 =\n",
      "  [[ 5447976  7470048  9492120]\n",
      " [11879096 16288144 20697192]\n",
      " [18310216 25106240 31902264]]\n"
     ]
    }
   ],
   "source": [
    "#C\n",
    "M = BA\n",
    "#Compute C^4\n",
    "M4 = M @ M @ M @ M\n",
    "\n",
    "print('C^4 =\\n ', M4 )"
   ]
  },
  {
   "cell_type": "markdown",
   "metadata": {},
   "source": [
    "Interestingly, computing the power of diagonal matrices is relatively straightforward.\n",
    "\n",
    "__Example 6:__\n",
    "\n",
    "Let's consider the matrix $A = \\begin{bmatrix} 2 & 0\\\\ 0 & 5 \\end{bmatrix}$. We can observe the pattern for computing powers of $A$:\n",
    "\n",
    "- $A^2 = \\begin{bmatrix} 2^2 & 0\\\\ 0 & 5^2 \\end{bmatrix} = \\begin{bmatrix} 4 & 0\\\\ 0 & 25 \\end{bmatrix}$\n",
    "\n",
    "- $A^3 = \\begin{bmatrix} 2^3 & 0\\\\ 0 & 5^3 \\end{bmatrix} = \\begin{bmatrix} 8 & 0\\\\ 0 & 125 \\end{bmatrix}$\n",
    "\n",
    "- $A^4 = \\begin{bmatrix} 2^4 & 0\\\\ 0 & 5^4 \\end{bmatrix} = \\begin{bmatrix} 16 & 0\\\\ 0 & 625 \\end{bmatrix}$\n",
    "\n",
    "We can observe that $A^k$ is a diagonal matrix of the same size with the diagonal elements being obtained by raising the corresponding diagonal elements of $A$ to the power of $k$."
   ]
  },
  {
   "cell_type": "code",
   "execution_count": 12,
   "metadata": {},
   "outputs": [
    {
     "data": {
      "text/plain": [
       "array([[ 4,  0],\n",
       "       [ 0, 25]])"
      ]
     },
     "execution_count": 12,
     "metadata": {},
     "output_type": "execute_result"
    }
   ],
   "source": [
    "import numpy as np\n",
    "\n",
    "A = np.array([[2,0],[0,5]])\n",
    "\n",
    "A2 = A @ A\n",
    "A2"
   ]
  },
  {
   "cell_type": "code",
   "execution_count": 13,
   "metadata": {},
   "outputs": [
    {
     "data": {
      "text/plain": [
       "array([[  8,   0],\n",
       "       [  0, 125]])"
      ]
     },
     "execution_count": 13,
     "metadata": {},
     "output_type": "execute_result"
    }
   ],
   "source": [
    "A3 = A2 @ A\n",
    "A3"
   ]
  },
  {
   "cell_type": "code",
   "execution_count": 14,
   "metadata": {},
   "outputs": [
    {
     "data": {
      "text/plain": [
       "array([[ 16,   0],\n",
       "       [  0, 625]])"
      ]
     },
     "execution_count": 14,
     "metadata": {},
     "output_type": "execute_result"
    }
   ],
   "source": [
    "A4 = A3 @ A\n",
    "A4"
   ]
  },
  {
   "cell_type": "markdown",
   "metadata": {},
   "source": [
    "__Theorem 2 (Properties of matrix product):__\n",
    "\n",
    "Let $A$ be an $m\\times n$ matrix, and let $B$ and $C$ be matrices of the same size for which the following sum and product operations are defined:\n",
    "\n",
    "1. $A(BC) = (AB)C$\n",
    "\n",
    "\n",
    "2. $A(B+C) = AB + AC$\n",
    "\n",
    "\n",
    "3. $(B+C)A = BA + CA$\n",
    "\n",
    "\n",
    "4. $r(AB) = (rA)B = A(rB)$ for any scalar $r\\in \\mathbb{R}$.\n",
    "\n",
    "\n",
    "5. $I_mA = AI_n = A$\n",
    "\n",
    "Recall that $I_n$ is the $n \\times n$ identity matrix.\n"
   ]
  },
  {
   "cell_type": "markdown",
   "metadata": {},
   "source": [
    "### Numerical Note"
   ]
  },
  {
   "cell_type": "markdown",
   "metadata": {},
   "source": [
    "Numpy provides two other methods (built-in functions) to compute the matrix product: `numpy.dot` and `numpy.matmul`. \n",
    "\n",
    "They are both used to compute the product of two arrays (e.g., vectors, matrices, and even higher dimensional).\n",
    "\n",
    "(1). If $A$ and $B$ are vectors (1-D arrays), they both perform dot product of vectors (which we will define in section 6) \n",
    "\n",
    "(2).  If $A$ and $B$ are non-vector matrices (2-D arrays), they both perform matrix multiplication, but using `numpy.matmul(A,B)` or `A @ B` is preferred.\n",
    "\n",
    "(3) For scalar $r\\in \\mathbb{R}$ `numpy.dot(r,B)` is scalar product `r*B`. But `numpy.malmal(r,B)` and `r @ B` are not defined\n"
   ]
  },
  {
   "cell_type": "markdown",
   "metadata": {},
   "source": [
    "__Example 6__\n",
    "\n",
    "Let A, B, and C be the matrices defined in Example 3. Let's explore the differences between the above operations:"
   ]
  },
  {
   "cell_type": "code",
   "execution_count": 15,
   "metadata": {},
   "outputs": [
    {
     "name": "stdout",
     "output_type": "stream",
     "text": [
      "\n",
      " A@B = \n",
      " [[22 28]\n",
      " [49 64]]\n",
      "**********\n",
      "\n",
      " np.dot(A,B) = \n",
      " [[22 28]\n",
      " [49 64]]\n",
      "**********\n",
      "\n",
      " np.matmul(A,B) = \n",
      " [[22 28]\n",
      " [49 64]]\n"
     ]
    }
   ],
   "source": [
    "import numpy as np\n",
    "\n",
    "#A\n",
    "A = np.array([[1,2,3],[4,5,6]])\n",
    "\n",
    "#B\n",
    "B = np.array([[1,2],[3,4],[5,6]])\n",
    "\n",
    "\n",
    "# for matrices (2D-arrays) of compatible size all methods return matrix product\n",
    "\n",
    "print('\\n A@B = \\n', A@B)\n",
    "\n",
    "print(10*'*')\n",
    "\n",
    "print('\\n np.dot(A,B) = \\n', np.dot(A,B))\n",
    "\n",
    "print(10*'*')\n",
    "\n",
    "print('\\n np.matmul(A,B) = \\n', np.matmul(A,B))"
   ]
  },
  {
   "cell_type": "code",
   "execution_count": 16,
   "metadata": {},
   "outputs": [
    {
     "name": "stdout",
     "output_type": "stream",
     "text": [
      "\n",
      " np.dot(C,D) = \n",
      " 32\n",
      "**********\n",
      "\n",
      " np.matmul(C,D) = \n",
      " 32\n"
     ]
    }
   ],
   "source": [
    "# for vectors (1D arrays) dot and matmul return the dot product\n",
    "C = [1,2,3]\n",
    "D = [4,5,6]\n",
    "\n",
    "print('\\n np.dot(C,D) = \\n', np.dot(C,D))\n",
    "\n",
    "print(10*'*')\n",
    "\n",
    "print('\\n np.matmul(C,D) = \\n', np.matmul(C,D))"
   ]
  },
  {
   "cell_type": "code",
   "execution_count": 17,
   "metadata": {},
   "outputs": [
    {
     "ename": "TypeError",
     "evalue": "unsupported operand type(s) for @: 'list' and 'list'",
     "output_type": "error",
     "traceback": [
      "\u001b[0;31m---------------------------------------------------------------------------\u001b[0m",
      "\u001b[0;31mTypeError\u001b[0m                                 Traceback (most recent call last)",
      "\u001b[0;32m<ipython-input-17-1b8de095e620>\u001b[0m in \u001b[0;36m<module>\u001b[0;34m\u001b[0m\n\u001b[1;32m      1\u001b[0m \u001b[0;31m# C@D is not defined for vectors\u001b[0m\u001b[0;34m\u001b[0m\u001b[0;34m\u001b[0m\u001b[0;34m\u001b[0m\u001b[0m\n\u001b[1;32m      2\u001b[0m \u001b[0;34m\u001b[0m\u001b[0m\n\u001b[0;32m----> 3\u001b[0;31m \u001b[0mprint\u001b[0m\u001b[0;34m(\u001b[0m\u001b[0;34m'\\n A@B = \\n'\u001b[0m\u001b[0;34m,\u001b[0m \u001b[0mC\u001b[0m \u001b[0;34m@\u001b[0m \u001b[0mD\u001b[0m\u001b[0;34m)\u001b[0m\u001b[0;34m\u001b[0m\u001b[0;34m\u001b[0m\u001b[0m\n\u001b[0m",
      "\u001b[0;31mTypeError\u001b[0m: unsupported operand type(s) for @: 'list' and 'list'"
     ]
    }
   ],
   "source": [
    "# C@D is not defined for vectors\n",
    "\n",
    "print('\\n A@B = \\n', C @ D)"
   ]
  },
  {
   "cell_type": "code",
   "execution_count": 18,
   "metadata": {},
   "outputs": [
    {
     "name": "stdout",
     "output_type": "stream",
     "text": [
      "\n",
      " np.matmul(2,B) = \n",
      " [[ 2  4  6]\n",
      " [ 8 10 12]]\n"
     ]
    }
   ],
   "source": [
    "# If one argument is a real number, dot returns the scalar product\n",
    "print('\\n np.matmul(2,B) = \\n', np.dot(A,2)) "
   ]
  },
  {
   "cell_type": "code",
   "execution_count": 19,
   "metadata": {},
   "outputs": [
    {
     "ename": "ValueError",
     "evalue": "matmul: Input operand 0 does not have enough dimensions (has 0, gufunc core with signature (n?,k),(k,m?)->(n?,m?) requires 1)",
     "output_type": "error",
     "traceback": [
      "\u001b[0;31m---------------------------------------------------------------------------\u001b[0m",
      "\u001b[0;31mValueError\u001b[0m                                Traceback (most recent call last)",
      "\u001b[0;32m<ipython-input-19-7029cc20d456>\u001b[0m in \u001b[0;36m<module>\u001b[0;34m\u001b[0m\n\u001b[1;32m      1\u001b[0m \u001b[0;31m# If one argument is a real number  @ and matmul are not defined\u001b[0m\u001b[0;34m\u001b[0m\u001b[0;34m\u001b[0m\u001b[0;34m\u001b[0m\u001b[0m\n\u001b[0;32m----> 2\u001b[0;31m \u001b[0;36m2\u001b[0m \u001b[0;34m@\u001b[0m \u001b[0mB\u001b[0m\u001b[0;34m\u001b[0m\u001b[0;34m\u001b[0m\u001b[0m\n\u001b[0m",
      "\u001b[0;31mValueError\u001b[0m: matmul: Input operand 0 does not have enough dimensions (has 0, gufunc core with signature (n?,k),(k,m?)->(n?,m?) requires 1)"
     ]
    }
   ],
   "source": [
    "# If one argument is a real number  @ and matmul are not defined \n",
    "2 @ B"
   ]
  },
  {
   "cell_type": "code",
   "execution_count": 20,
   "metadata": {},
   "outputs": [
    {
     "ename": "ValueError",
     "evalue": "matmul: Input operand 0 does not have enough dimensions (has 0, gufunc core with signature (n?,k),(k,m?)->(n?,m?) requires 1)",
     "output_type": "error",
     "traceback": [
      "\u001b[0;31m---------------------------------------------------------------------------\u001b[0m",
      "\u001b[0;31mValueError\u001b[0m                                Traceback (most recent call last)",
      "\u001b[0;32m<ipython-input-20-504b6d8af850>\u001b[0m in \u001b[0;36m<module>\u001b[0;34m\u001b[0m\n\u001b[0;32m----> 1\u001b[0;31m \u001b[0mnp\u001b[0m\u001b[0;34m.\u001b[0m\u001b[0mmatmul\u001b[0m \u001b[0;34m(\u001b[0m\u001b[0;36m2\u001b[0m\u001b[0;34m,\u001b[0m\u001b[0mB\u001b[0m\u001b[0;34m)\u001b[0m\u001b[0;34m\u001b[0m\u001b[0;34m\u001b[0m\u001b[0m\n\u001b[0m",
      "\u001b[0;31mValueError\u001b[0m: matmul: Input operand 0 does not have enough dimensions (has 0, gufunc core with signature (n?,k),(k,m?)->(n?,m?) requires 1)"
     ]
    }
   ],
   "source": [
    "np.matmul (2,B)"
   ]
  },
  {
   "cell_type": "markdown",
   "metadata": {},
   "source": [
    "__Exercises:__\n",
    "\n",
    "1. Which pair of the following matrices can be multiplied? Compute their matrix product.\n",
    "\n",
    "$A = \\begin{bmatrix}\n",
    "1 & 3 \\\\\n",
    "4 & -2 \\\\\n",
    "3 & 2\n",
    "\\end{bmatrix}$\n",
    "\n",
    "$B = \\begin{bmatrix}\n",
    "1 & 4 & 5\\\\\n",
    "0 & 2  & 3\n",
    "\\end{bmatrix}$ \n",
    "\n",
    "\n",
    "$C = \\begin{bmatrix}\n",
    "1 & 3 & 0\\\\\n",
    "2 & -1  & 3 \\\\\n",
    "0 & 1 & 1\n",
    "\\end{bmatrix}$ \n",
    "\n",
    "\n",
    "2. Find two matrices $A$ and $B$ such that the products $AB$ and $BA$ are defined but $AB \\neq BA$.\n",
    "\n",
    "\n",
    "3.  Given $A= \\begin{bmatrix}\n",
    "1 & 2 \\\\ 1& 2 \\end{bmatrix}$, find a nonzero matrix  $C$ for which $AC= \\begin{bmatrix}\n",
    "0 & 0 \\\\ 0 & 0\n",
    "\\end{bmatrix}$.\n"
   ]
  }
 ],
 "metadata": {
  "kernelspec": {
   "display_name": "Python 3",
   "language": "python",
   "name": "python3"
  },
  "language_info": {
   "codemirror_mode": {
    "name": "ipython",
    "version": 3
   },
   "file_extension": ".py",
   "mimetype": "text/x-python",
   "name": "python",
   "nbconvert_exporter": "python",
   "pygments_lexer": "ipython3",
   "version": "3.8.5"
  }
 },
 "nbformat": 4,
 "nbformat_minor": 4
}
