{
 "cells": [
  {
   "cell_type": "markdown",
   "id": "c87470d6",
   "metadata": {},
   "source": [
    "# 4.1 Eigenvalues and Eigenvectors\n",
    "\n",
    "This section introduces eigenvalues and eigenvectors of a square matrix and explore some of its applications. \n",
    "The goal of this section is to dicssect the action of linear maps into elements that are easiy to visualize. "
   ]
  },
  {
   "cell_type": "markdown",
   "id": "53ba07a9",
   "metadata": {},
   "source": [
    "## Motivation"
   ]
  },
  {
   "cell_type": "markdown",
   "id": "47bf8f4d",
   "metadata": {},
   "source": [
    "Consider a linear map $T: \\mathbb{R}^n\\to \\mathbb{R}^m$ defined by $\\vec{x} \\mapsto A\\vec{x}$. Although $T$ moves $\\vec{x}$ in veraity of directions but there are some vectors on which the action of $T$ is easy to underestand. For example, suppose $A = \\begin{bmatrix} 3 & -2 \\\\ 1 & 0\\\\ \\end{bmatrix}$, $\\vec{u\n",
    "} = \\begin{bmatrix} 2 \\\\ 1 \\end{bmatrix}$. Let's compute $A\\vec{u}$"
   ]
  },
  {
   "cell_type": "code",
   "execution_count": 6,
   "id": "0e622563",
   "metadata": {},
   "outputs": [
    {
     "data": {
      "text/plain": [
       "array([4, 2])"
      ]
     },
     "execution_count": 6,
     "metadata": {},
     "output_type": "execute_result"
    }
   ],
   "source": [
    "import numpy as np\n",
    "\n",
    "A = np.array([[3,-2], [1,0]])\n",
    "u = np.array([2,1])\n",
    "\n",
    "A @ u\n"
   ]
  },
  {
   "cell_type": "markdown",
   "id": "7bdc2d68",
   "metadata": {},
   "source": [
    "We can see that the image of $\\vec{u\n",
    "} = \\begin{bmatrix} 2 \\\\ 1 \\end{bmatrix}$ is \n",
    "$$\n",
    "A\\vec{u\n",
    "} = \\begin{bmatrix} 4 \\\\ 2 \\end{bmatrix} = 2 \\begin{bmatrix} 2 \\\\ 1 \\end{bmatrix} = 2 \\vec{u}$$\n",
    "\n",
    "In fact, $A$ _streches_ $\\vec{u}$. "
   ]
  },
  {
   "cell_type": "code",
   "execution_count": 7,
   "id": "bb48a429",
   "metadata": {},
   "outputs": [
    {
     "data": {
      "image/png": "[encoded data removed]",
      "text/plain": [
       "<Figure size 432x288 with 1 Axes>"
      ]
     },
     "metadata": {
      "needs_background": "light"
     },
     "output_type": "display_data"
    }
   ],
   "source": [
    "import matplotlib.pyplot as plt\n",
    "\n",
    "\n",
    "def plot_map(vector, matrix):\n",
    "    x1 = vector[0]\n",
    "    y1 = vector[1]\n",
    "    \n",
    "    x2 = (A @ vector)[0]\n",
    "    y2 = (A @ vector)[1]\n",
    "\n",
    "    ax = plt.axes()\n",
    "    \n",
    "    ax.arrow(0, 0, x1, y1, head_width = 0.2,head_length = 0.2, fc ='b', ec ='b')\n",
    "    ax.arrow(0, 0, x2, y2, head_width = 0.2,head_length = 0.2, fc ='r', ec ='r')\n",
    "\n",
    "    ax.text(x1,y1 - 0.5,'$X$')\n",
    "    ax.text(x2,y2-0.5,'$AX$')\n",
    "\n",
    "    z = max(np.abs(x1), np.abs(x2), np.abs(y1),np.abs(y2))\n",
    "            \n",
    "    ax.set_xticks(np.arange(-z-2, z+2, step = 1))\n",
    "    ax.set_yticks(np.arange(-z-2, z+2, step = 1))\n",
    "    ax.set_aspect('equal')\n",
    "\n",
    "    ax.set_xlabel(\"X\")\n",
    "    ax.set_ylabel(\"Y\")\n",
    "    \n",
    "    plt.grid()\n",
    "    plt.show()\n",
    "\n",
    "\n",
    "plot_map(u, A)"
   ]
  },
  {
   "cell_type": "markdown",
   "id": "e05dfcc9",
   "metadata": {},
   "source": [
    "We are interested in such special vectors that, when transformed by matrix $A$, result in a scalar multiple of themselves. More generally, let $A$ be an $n\\times n$ matrix. We seek non-trivial solutions to equations of the form:\n",
    "\n",
    "$$\n",
    "A\\vec{x} = \\lambda \\vec{x} \\quad \\text{for some }\\quad \\lambda\\in \\mathbb{R}\n",
    "$$\n",
    "\n",
    "If $\\vec{u}\\neq 0$ is a solution for some $\\lambda$, we call $\\lambda$ an __eigenvalue__ and $\\vec{u}$ an __eigenvector__ of $A$ corresponding to $\\lambda$.\n",
    "\n",
    "__Example 1__:\n",
    "\n",
    "Consider the matrix equation:\n",
    "\n",
    "$$\n",
    "A\\vec{u} = \\begin{bmatrix} 4 \\\\ 2 \\end{bmatrix} = 2 \\begin{bmatrix} 2 \\\\ 1 \\end{bmatrix} = 2 \\vec{u}\n",
    "$$\n",
    "\n",
    "Observe that $\\lambda = 2$ is an eigenvalue of $A$ and $\\vec{u}$ is the corresponding eigenvector.\n",
    "\n",
    "a. Is $\\vec{v} = \\begin{bmatrix} 1 \\\\ -1 \\end{bmatrix}$ also an eigenvector of $A$?\n",
    "\n",
    "b. Is $\\lambda = 4$ an eigenvalue?\n",
    "\n",
    "c. Show that $\\lambda = 1$ is an eigenvalue and find an eigenvector for it.\n",
    "\n",
    "__Solution__:\n",
    "\n",
    "(a) Let's compute $A\\vec{v}$:"
   ]
  },
  {
   "cell_type": "code",
   "execution_count": 8,
   "id": "3eabd29a",
   "metadata": {},
   "outputs": [
    {
     "data": {
      "text/plain": [
       "array([5, 1])"
      ]
     },
     "execution_count": 8,
     "metadata": {},
     "output_type": "execute_result"
    }
   ],
   "source": [
    "v = np.array([1, -1])\n",
    "\n",
    "A @ v"
   ]
  },
  {
   "cell_type": "markdown",
   "id": "be49921f",
   "metadata": {},
   "source": [
    "If there were a $\\lambda$ such that $A\\vec{v} = \\lambda \\vec{v}$, we would have obtained:\n",
    "\n",
    "$$\n",
    "\\begin{bmatrix} 1 \\\\ -1 \\end{bmatrix} = \\lambda \\begin{bmatrix} 5 \\\\ 1 \\end{bmatrix}\n",
    "$$\n",
    "\n",
    "Which is not possible for any value of $\\lambda$, and as can be seen in the figure below, the vector $\\vec{v}$ does not satisfy the eigenvalue equation. "
   ]
  },
  {
   "cell_type": "code",
   "execution_count": 9,
   "id": "87c544ac",
   "metadata": {},
   "outputs": [
    {
     "data": {
      "image/png": "[encoded data removed]",
      "text/plain": [
       "<Figure size 432x288 with 1 Axes>"
      ]
     },
     "metadata": {
      "needs_background": "light"
     },
     "output_type": "display_data"
    }
   ],
   "source": [
    "plot_map(v, A)"
   ]
  },
  {
   "cell_type": "markdown",
   "id": "b87e5804",
   "metadata": {},
   "source": [
    "\n",
    "(b) No.  $\\lambda = 4$ is a eigenvalue for $A$ if and only if $A\\vec{x} = 4 \\vec{x}$ has a non-trivial solution. Let's reformulate this problem in terms of a homogenous equation which is easier to deal with:\n",
    "\n",
    "$$\n",
    "A\\vec{x} = 4 \\vec{x}  \\quad \\iff \\quad (A - 4 I_2) \\vec{x} = 0\n",
    "$$\n",
    "\n",
    "The homogeneous equation $(A - 4 I_2) \\vec{x} = 0$ has a non-trivial solution if and only if it has a free variable (a non-pivot column)."
   ]
  },
  {
   "cell_type": "code",
   "execution_count": 10,
   "id": "2faa3f39",
   "metadata": {},
   "outputs": [
    {
     "data": {
      "text/plain": [
       "array([[-1., -2.],\n",
       "       [ 1., -4.]])"
      ]
     },
     "execution_count": 10,
     "metadata": {},
     "output_type": "execute_result"
    }
   ],
   "source": [
    "# identity matrix I_2\n",
    "I_2 = np.eye(2)\n",
    "\n",
    "A - 4*I_2"
   ]
  },
  {
   "cell_type": "markdown",
   "id": "284aefbf",
   "metadata": {},
   "source": [
    "Clearly, the columns of $A -4I$ are linearly independent; as a result, there is no free variable and the system has only trivial solution $\\vec{x} = 0$. \n",
    "\n",
    "\n",
    "(c) $\\lambda = 1$ is a eigenvalue for $A$ if and only if $A\\vec{x} = 1 \\vec{x}$ has a non-trivial solution. \n",
    "$$\n",
    "A\\vec{x} = \\vec{x} \\quad \\iff \\quad (A - I_2) \\vec{x} = \\vec{0}\n",
    "$$\n"
   ]
  },
  {
   "cell_type": "code",
   "execution_count": 11,
   "id": "12d4d9f1",
   "metadata": {},
   "outputs": [
    {
     "data": {
      "text/plain": [
       "array([[ 2., -2.],\n",
       "       [ 1., -1.]])"
      ]
     },
     "execution_count": 11,
     "metadata": {},
     "output_type": "execute_result"
    }
   ],
   "source": [
    "A - I_2"
   ]
  },
  {
   "cell_type": "markdown",
   "id": "c84acffd",
   "metadata": {},
   "source": [
    "Since the columns of $(A - I_2)$ are linearly independent, there is a free variable and $\\lambda = 1$ is an eigenvalue of $A$. To find a correponding eigenvector $\\vec{u}$ we solve\n",
    "$$(A - I_2)\\vec{x} = 0$$ \n",
    "\n",
    "Let's set up the augmented matrix: "
   ]
  },
  {
   "cell_type": "code",
   "execution_count": 12,
   "id": "7d80dfbb",
   "metadata": {},
   "outputs": [
    {
     "data": {
      "text/plain": [
       "array([[ 2., -2.,  0.],\n",
       "       [ 1., -1.,  0.]])"
      ]
     },
     "execution_count": 12,
     "metadata": {},
     "output_type": "execute_result"
    }
   ],
   "source": [
    "# the augmented vector\n",
    "b = np.array([[0],[0]])\n",
    "\n",
    "# add to the matrix\n",
    "M = np.concatenate((A - I_2, b), axis = 1) \n",
    "M"
   ]
  },
  {
   "cell_type": "markdown",
   "id": "bca01fe8",
   "metadata": {},
   "source": [
    "Let's recall the row operations: "
   ]
  },
  {
   "cell_type": "code",
   "execution_count": 13,
   "id": "466f46ee",
   "metadata": {},
   "outputs": [],
   "source": [
    "def swap(matrix, row1, row2):\n",
    "    \n",
    "    copy_matrix=np.copy(matrix).astype('float64') \n",
    "  \n",
    "    copy_matrix[row1,:] = matrix[row2,:]\n",
    "    copy_matrix[row2,:] = matrix[row1,:]\n",
    "    \n",
    "    return copy_matrix\n",
    "\n",
    "# Replacing a row by the sum of itself and a multiple of another \n",
    "\n",
    "def replace(matrix, row1, row2, scalar):\n",
    "    copy_matrix=np.copy(matrix).astype('float64')\n",
    "    copy_matrix[row1] = matrix[row1]+ scalar * matrix[row2] \n",
    "    return copy_matrix"
   ]
  },
  {
   "cell_type": "code",
   "execution_count": 14,
   "id": "327da1f3",
   "metadata": {},
   "outputs": [
    {
     "data": {
      "text/plain": [
       "array([[ 1., -1.,  0.],\n",
       "       [ 2., -2.,  0.]])"
      ]
     },
     "execution_count": 14,
     "metadata": {},
     "output_type": "execute_result"
    }
   ],
   "source": [
    "M1 = swap(M, 0, 1)\n",
    "M1"
   ]
  },
  {
   "cell_type": "code",
   "execution_count": 15,
   "id": "8b3d568d",
   "metadata": {},
   "outputs": [
    {
     "data": {
      "text/plain": [
       "array([[ 1., -1.,  0.],\n",
       "       [ 0.,  0.,  0.]])"
      ]
     },
     "execution_count": 15,
     "metadata": {},
     "output_type": "execute_result"
    }
   ],
   "source": [
    "M2 = replace(M1, 1, 0, -2)\n",
    "M2"
   ]
  },
  {
   "cell_type": "markdown",
   "id": "a508d96e",
   "metadata": {},
   "source": [
    "A general solution for $(A - I_2)\\vec{x} = 0$ is \n",
    "\n",
    "$$\n",
    "\\begin{bmatrix} x_1 \\\\ x_2 \\end{bmatrix} = \\begin{bmatrix} x_2 \\\\ x_2 \\end{bmatrix} = x_2 \\begin{bmatrix} 1 \\\\ 1 \\end{bmatrix}, \n",
    "$$\n",
    "\n",
    "and the set of all solutions is \n",
    "\n",
    "$$\n",
    "\\text{span}\\left( \\ \\begin{bmatrix} 1 \\\\ 1 \\end{bmatrix} \\ \\right)\n",
    "$$\n",
    "\n",
    "each non-zero element of this set is an eigenvector corresponding to $\\lambda = 1$. \n",
    "\n",
    "\n",
    "The above simple example leads to a general case:\n",
    "\n",
    "\n",
    "__Theorem 1__  \n",
    "\n",
    "Let $A$ be an $n\\times n$ matrix and $\\lambda$ be a scalar. The following statements are equivalent:\n",
    "\n",
    "1. $\\lambda$ is an eigenvalue of $A$.\n",
    "\n",
    "2. $(A - \\lambda I_n) \\vec{x} = 0 $ has non-trivial solution.\n",
    "\n",
    "3. $det(A - \\lambda I_n) = 0$"
   ]
  },
  {
   "cell_type": "markdown",
   "id": "0e7d3597",
   "metadata": {},
   "source": [
    "## Eigenspace and characteristic polynomial"
   ]
  },
  {
   "cell_type": "markdown",
   "id": "e198e65b",
   "metadata": {},
   "source": [
    "$null(A - \\lambda I_n)$ is a subspace of $\\mathbb{R}^n$ and contains the zero vector and all eigenvectors corresponding to $\\lambda$. This subspace is known as the __eigenspace__ of $A$ corresponding to $\\lambda$, and is denoted by $E_{\\lambda}$. Intuitively, a matrix acts as dilations on its eigenspaces.\n",
    "\n",
    "__Example 2__ The set\n",
    "\n",
    "$$\n",
    "\\text{span}\\left( \\ \\begin{bmatrix} 1 \\\\ 1 \\end{bmatrix} \\ \\right)\n",
    "$$\n",
    "\n",
    "Which we found in Example 1, is in fact the eigenspace $E_1$ of $A$ corresponding to $\\lambda =1$. And any vector $\\vec{u} \\in E_1$ is preserved under the action of $A$ (dilations factor = 1): \n",
    "\n",
    "$$\n",
    "A\\vec{u} = \\vec{u}\n",
    "$$\n",
    "\n",
    "\n",
    "The _polynomial_ $P(\\lambda) = \\det(A - \\lambda I_n)$ is called the __characteristic polynomial__ of $A$. The zeros of this polynomial are precisely the eigenvalues of $A$. Thus, the polynomial can be factorized as:\n",
    "\n",
    "$$\n",
    "P(\\lambda) = (\\lambda - \\lambda_0)^{m_0} (\\lambda - \\lambda_1)^{m_1} \\dots (\\lambda - \\lambda_k)^{m_k}\n",
    "$$\n",
    "\n",
    "For each $\\lambda_i$, where $0 \\leq i \\leq k$, the power $m_i$ is known as __the algebraic multiplicity__ of $\\lambda_i$.\n",
    "\n",
    "\n",
    "__Example 2__\n",
    "\n",
    "Suppose $A = \\begin{bmatrix} 4 & -1 & 6 \\\\ 0 & 1 & 6 \\\\ 0 & 0 & 8 \\end{bmatrix}$. We will find all eigenvalues and their multiplicities of $A$ by finding its characteristic polynomial.\n",
    "\n",
    "__Solution:__\n",
    "\n",
    "The characteristic polynomial is given by:\n",
    "\n",
    "$$\n",
    "\\det(A - \\lambda I_3) = \\begin{vmatrix} 4-\\lambda & -1 & 6 \\\\ 0 & 1-\\lambda & 6\\\\ 0 & 0 & 8-\\lambda \\end{vmatrix} = 0\n",
    "$$\n",
    "\n",
    "Expanding the determinant, we obtain the characteristic polynomial:\n",
    "\n",
    "$$\n",
    "P(\\lambda) = (4 - \\lambda)(1 - \\lambda)(8 -\\lambda)$$.\n",
    "\n",
    "The zeros of this polynomial (the eigenvalues of $A$) are $\\lambda = 4$ with multiplicity $1$, $\\lambda = 1$ with multiplicity $1$, and $\\lambda = 8$ with multiplicity $1$.\n",
    "\n",
    "\n",
    "__Example 3__ Let $A$ be the matrix given in Example 2. For each eigenvalue that we found in Example 2, find the corresponding eigenspace together with its dimention.\n",
    "\n",
    "\n",
    "__Solution:__\n",
    "\n",
    "The eigenspace coresponding to $\\lambda = 4$:\n",
    "\n",
    "$$\n",
    "E_4 = null(A - 4I) = \\{ \\vec{x}: \\ \\ \\ (A - 4I)\\vec{x} = 0 \\} =\n",
    "$$\n",
    "\n",
    "$$\n",
    " \\left\\{\\  \\begin{bmatrix} x\\\\ y\\\\ z  \\end{bmatrix}: \\ \\ \\ \\begin{bmatrix} 0 & -1 & 6 \\\\ 0 & -3 & 6\\\\ 0 & 0 & 4 \\end{bmatrix} \\begin{bmatrix} x\\\\ y\\\\ z  \\end{bmatrix} = 0 \\  \\right\\} = \\left\\{  \\  \\begin{bmatrix} x\\\\ y\\\\ z  \\end{bmatrix}: \\ \\ \\ \\begin{bmatrix} - y + 6z \\\\ -3y +6z\\\\ 4z \\end{bmatrix} = \\begin{bmatrix} 0\\\\ 0\\\\ 0  \\end{bmatrix} \\  \\right\\} \n",
    "$$\n",
    "\n",
    "Therefore, \n",
    "\n",
    "$$\n",
    "E_4 = \\left\\{ \\ \\begin{bmatrix} x\\\\ 0\\\\ 0  \\end{bmatrix}:  x\\in \\mathbb{R}\\ \\right\\} = span\\left( \\ \\begin{bmatrix} 1 \\\\ 0 \\\\ 0  \\end{bmatrix} \\ \\right) \\quad \\text{and} \\quad dim(E_4) = 1\n",
    "$$\n",
    "\n",
    "\n",
    "The eigenspace coresponding to $\\lambda = 1$:\n",
    "\n",
    "\n",
    "$$\n",
    "E_1 = null(A - I) = \\{ \\vec{x}: \\ \\ \\ (A - I)\\vec{x} = 0 \\} = \n",
    "$$\n",
    "\n",
    "$$\n",
    "\\left\\{\\  \\begin{bmatrix} x\\\\ y\\\\ z  \\end{bmatrix}: \\ \\ \\ \\begin{bmatrix} 3 & -1 & 6 \\\\ 0 & 0 & 6\\\\ 0 & 0 & 7 \\end{bmatrix} \\begin{bmatrix} x\\\\ y\\\\ z  \\end{bmatrix} = 0 \\  \\right\\} = \\left\\{  \\  \\begin{bmatrix} x\\\\ y\\\\ z  \\end{bmatrix}: \\ \\ \\ \\begin{bmatrix} 3x - y + 6z \\\\ 6z\\\\ 7z \\end{bmatrix} = \\begin{bmatrix} 0\\\\ 0\\\\ 0  \\end{bmatrix} \\  \\right\\} \n",
    "$$\n",
    "\n",
    "Therefore, \n",
    "\n",
    "$$\n",
    "E_1 = \\left\\{\\begin{bmatrix} x\\\\ 3x\\\\ 0  \\end{bmatrix}:  x\\in \\mathbb{R} \\right\\} = span\\left(  \\begin{bmatrix} 1 \\\\ 3 \\\\ 0  \\end{bmatrix} \\right) \\quad \\text{and} \\quad dim(E_1) = 1\n",
    "$$\n",
    "\n",
    "The eigenspace coresponding to $\\lambda = 8$\n",
    "\n",
    "$$\n",
    "E_8 = null(A - 8I) = \\{ \\vec{x}: \\ \\ \\ (A - 8I)\\vec{x} = 0 \\} =\n",
    "$$\n",
    "\n",
    "$$\n",
    "\\left\\{\\  \\begin{bmatrix} x\\\\ y\\\\ z  \\end{bmatrix}: \\ \\ \\ \\begin{bmatrix} -4 & -1 & 6 \\\\ 0 & -7 & 6\\\\ 0 & 0 & 0 \\end{bmatrix} \\begin{bmatrix} x\\\\ y\\\\ z  \\end{bmatrix} = 0 \\  \\right\\} = \\left\\{  \\  \\begin{bmatrix} x\\\\ y\\\\ z  \\end{bmatrix}: \\ \\ \\ \\begin{bmatrix} -4x - y + 6z \\\\ -7y + 6z\\\\ 0 \\end{bmatrix} = \\begin{bmatrix} 0\\\\ 0\\\\ 0  \\end{bmatrix} \\  \\right\\} \n",
    "$$\n",
    "\n",
    "Therefore, \n",
    "\n",
    "$$\n",
    "E_8 = \\left\\{\\begin{bmatrix} \\frac{6}{4}\\\\ 1 \\\\ \\frac{7}{6}  \\end{bmatrix}:  y\\in \\mathbb{R} \\right\\} = span\\left(  \\begin{bmatrix} 9 \\\\ 6\\\\ 7  \\end{bmatrix} \\right) \\quad \\text{and} \\quad dim(E_8) = 1\n",
    "$$\n"
   ]
  },
  {
   "cell_type": "markdown",
   "id": "4ed34993",
   "metadata": {},
   "source": [
    "Before we move on to the nect tpoic, let us check our calculation using `numpy.linalg.eig` from NumPy linear algebra:"
   ]
  },
  {
   "cell_type": "code",
   "execution_count": 79,
   "id": "0de80c1e",
   "metadata": {},
   "outputs": [
    {
     "name": "stdout",
     "output_type": "stream",
     "text": [
      "4.0  is an eigenvector with  [1. 0. 0.]  as the coresponding eigenvectors\n",
      "1.0  is an eigenvector with  [0.31622777 0.9486833  0.        ]  as the coresponding eigenvectors\n",
      "8.0  is an eigenvector with  [0.69853547 0.46569032 0.54330537]  as the coresponding eigenvectors\n"
     ]
    }
   ],
   "source": [
    "A = np.array([[4, -1, 6], [0, 1, 6], [0, 0, 8]])\n",
    "\n",
    "evalues , evectors = np.linalg.eig(A)\n",
    "\n",
    "for i in range(evalues.shape[0]):\n",
    "    print(evalues[i], ' is an eigenvector with ', evectors[:,i], ' as the coresponding eigenvectors')"
   ]
  },
  {
   "cell_type": "markdown",
   "id": "2e5f46eb",
   "metadata": {},
   "source": [
    "Note that `numpy.linalg.eig` returns the unit vector of eigenvalues, and that is why we see different eigen vectors. To check that let's normalize the eigenvector $\\begin{bmatrix} 9\\\\6\\\\7 \\end{bmatrix}$ coresponding to $\\lambda = 8$: "
   ]
  },
  {
   "cell_type": "code",
   "execution_count": 80,
   "id": "af97d447",
   "metadata": {},
   "outputs": [
    {
     "data": {
      "text/plain": [
       "array([0.69853547, 0.46569032, 0.54330537])"
      ]
     },
     "execution_count": 80,
     "metadata": {},
     "output_type": "execute_result"
    }
   ],
   "source": [
    "v = np.array([9,6,7])\n",
    "\n",
    "#normalizing v \n",
    "e_v = v/np.linalg.norm(v)\n",
    "e_v"
   ]
  },
  {
   "cell_type": "markdown",
   "id": "4f800e83",
   "metadata": {},
   "source": [
    "Let's have another look at Example 2. The eigenvalues are the entries on the main diagonal. This is always true for triangular matrices and can be proved by induction:\n",
    "\n",
    "__Theorem 3__ \n",
    "\n",
    "Let $A$ be a square triangular matrix. Then the eigenvalues of $A$ are the entries on the diaganl. \n"
   ]
  },
  {
   "cell_type": "markdown",
   "id": "b69aefd0",
   "metadata": {},
   "source": [
    "__Numerical Notes__\n",
    "\n",
    "\n",
    "1. Example 3 provides a method for manually computating eigenvectors in simple cases. In practical situations, using matrix program and row reduction method to find an eigenspace (for a specified eigenvalue) may not be entirely reliable. Roundoff error can occasionally lead to a reduced echelon form with the wrong number of pivots. The best computer programs compute approximations for eigenvalues and eigenvectors simultaneously, to any desired degree of accuracy, for matrices that are not too large.\n",
    "\n",
    "\n",
    "2. Some software such as Mathematica and Maple can use symbolic calculations to find the characteristic polynomial of a moderate-sized matrix. But there is no formula or finite algorithm to solve the characteristic equation of a general  matrix $n\\times n$ for $n\\geq 5$. The best numerical methods for finding eigenvalues avoid the characteristic polynomial entirely. In fact, MATLAB finds the characteristic polynomial of a matrix $A$ by first computing the eigenvalues $\\lambda_1, \\lambda_2, \\dots, \\lambda_n$ of $A$ and then expanding the product \n",
    "\n",
    "$$\n",
    "(\\lambda -\\lambda_1)(\\lambda -\\lambda_2)\\dots (\\lambda -\\lambda_n)\n",
    "$$\n",
    "\n"
   ]
  },
  {
   "cell_type": "markdown",
   "id": "591cea9c",
   "metadata": {},
   "source": [
    "__Excercies:__\n",
    "    \n",
    "1. If $\\vec{v}$ is an eigenvector of $A$ corresponding to $\\lambda$, what is $A^3 \\vec{v}$?   \n",
    "\n",
    "\n",
    "2. If A is an $n\\times n$ matrix and $2$ is an eigenvalue of $A$, show that $4$ is an eigenvalue of $2A$.\n",
    "\n",
    "3. If $A$ is an invertible matrix with eigenvalue $\\lambda$ show that $A^{-1}$ has eigenvalue $1/\\lambda.$ \n",
    "    \n",
    "4.  Let $A = \\begin{bmatrix} 1 & 3 & 3\\\\ -3 & -5 &-3\\\\ 3 & 3 & 1 \\end{bmatrix}$. \n",
    "\n",
    "    a. Find the eigenvalues of $A$ and their multiplicities.\n",
    "    \n",
    "    b. For each eigenvalue in part (a) find the corresponding eigenspace. \n",
    "    \n",
    "    c. Find the dimension of each eigenspace in part (b) by finding a basis for it. How this result is related to your answer to part (a)?   \n",
    "\n",
    "    "
   ]
  }
 ],
 "metadata": {
  "kernelspec": {
   "display_name": "Python 3",
   "language": "python",
   "name": "python3"
  },
  "language_info": {
   "codemirror_mode": {
    "name": "ipython",
    "version": 3
   },
   "file_extension": ".py",
   "mimetype": "text/x-python",
   "name": "python",
   "nbconvert_exporter": "python",
   "pygments_lexer": "ipython3",
   "version": "3.8.5"
  }
 },
 "nbformat": 4,
 "nbformat_minor": 5
}
