{
 "cells": [
  {
   "cell_type": "markdown",
   "metadata": {},
   "source": [
    "# 1.2. Matrix Equation.\n",
    "\n",
    "Linear systems can be represented by equations involving vectors and matrices. In this section we use such representations to study and analyze linear systems."
   ]
  },
  {
   "cell_type": "markdown",
   "metadata": {},
   "source": [
    "Let $n$ be a positive integer, and $\\mathbb{R}^n$ be the collection of all ordered $n$-tuples of real numbers. An element of $\\mathbb{R}^n$, denoted by an $n\\times 1$ __column matrix__, and is called a vector. \n",
    "For example, \n",
    "\n",
    "$$\\vec{u} = \\begin{bmatrix} u_1 \\\\ u_2 \\\\ \\vdots \\\\ u_n \\end{bmatrix}$$\n",
    "\n",
    "A vector whose entries are all zero is called __the zero vector__ and is denoted by $\\vec{0}$. When there is no risk of confusion we sometimes omit the arrow and use simply $0$ \n",
    "\n",
    "Two vectors $\\vec{u} = \\begin{bmatrix} u_1 \\\\ u_2 \\\\ \\vdots \\\\ u_n \\end{bmatrix}$ and $\\vec{v} = \\begin{bmatrix} v_1 \\\\ v_2 \\\\ \\vdots \\\\ v_n \\end{bmatrix}$ are __equal__ if their corresponding entries are equal, that is, if $u_i = v_i$ for all $i \\leq n$.\n",
    "\n",
    "Given a vector $\\vec{u} = \\begin{bmatrix} u_1 \\\\ u_2 \\\\ \\vdots \\\\ u_n \\end{bmatrix}$ and a real number $c$, the __scalar product__ of $\\vec{u}$ by $c$ is given by:\n",
    "\n",
    "$$c\\vec{u} = \\begin{bmatrix} cu_1 \\\\ cu_2 \\\\ \\vdots \\\\ cu_n \\end{bmatrix}$$\n",
    "\n",
    "__Theorem 1__ (properties of sum and scalar product)\n",
    "\n",
    "Suppose $\\vec{u}$, $\\vec{v}$, $\\vec{w}$ are in $\\mathbb{R}^n$, and $c$ and $d$ are real numbers:\n",
    "\n",
    "1. $\\vec{u} + \\vec{v} = \\vec{v} + \\vec{u}$\n",
    "2. $(\\vec{u} + \\vec{v}) + \\vec{w} = \\vec{u} + (\\vec{v} + \\vec{w})$\n",
    "3. $\\vec{u} + \\vec{0} = \\vec{0} + \\vec{u} = \\vec{u}$\n",
    "4. $\\vec{u} + (-\\vec{u}) = \\vec{0}$\n",
    "5. $c(\\vec{u} + \\vec{v}) = c\\vec{u} + c\\vec{v}$\n",
    "6. $(c+d)\\vec{u} = c\\vec{u} + d\\vec{u}$\n",
    "7. $c(d\\vec{u}) = (cd)\\vec{u}$"
   ]
  },
  {
   "cell_type": "markdown",
   "metadata": {},
   "source": [
    "## Vector Equation"
   ]
  },
  {
   "cell_type": "markdown",
   "metadata": {},
   "source": [
    "\n",
    "\n",
    "A vector $\\vec{y} \\in \\mathbb{R}^n$ is called a __linear combination__ of some vectors $\\vec{u_1}, \\vec{u_2}, \\dots, \\vec{u_p} \\in \\mathbb{R}^n$, if there are real numbers $c_1, c_2, \\dots, c_p$ such that \n",
    "\n",
    "$$ \\vec{y} = c_1\\vec{u_1} + c_2\\vec{u_2} + \\dots + c_p\\vec{u_p}$$\n",
    "\n",
    "\n",
    "The __span__ of vectors $\\vec{u_1}, \\vec{u_2}, \\dots, \\vec{u_p}$, denoted by $span\\ (\\vec{u_1}, \\vec{u_2}, \\dots, \\vec{u_p})$, is the set of all possible linear combinations:\n",
    "\n",
    "$$\n",
    "span\\ (\\vec{u_1}, \\vec{u_2}, \\dots, \\vec{u_p})= \\{c_1\\vec{u_1} + c_2\\vec{u_2} + \\dots + c_p\\vec{u_p}: \\,\\, c_1,c_2, \\dots, c_p \\in \\mathbb{R}\\}\n",
    "$$\n",
    "\n",
    "In other words, the span represents all the vectors that can be formed by scaling and adding the given vectors $\\vec{u_1}, \\vec{u_2}, \\dots, \\vec{u_p}$.\n",
    "\n",
    "__Example 1:__\n",
    "\n",
    "\n",
    "Let $\\vec{y}=\\begin{bmatrix} 7 \\\\ -4  \\\\3 \\end{bmatrix}$, $\\vec{u}= \\begin{bmatrix} 2 \\\\ -3\\\\-5 \\end{bmatrix}$, and $\\vec{v} =\\begin{bmatrix} 0 \\\\ 0  \\\\1 \\end{bmatrix}$.\n",
    "\n",
    "a. Compute $2 \\vec{u} - 3 \\vec{v}$.\n",
    "b. Determine if $\\vec{y}$ is a linear combination of $\\vec{u}$ and $\\vec{v}$.\n",
    "\n",
    "__Solution:__\n",
    "\n",
    "(a).\n",
    "\n",
    "$$\n",
    "2 \\vec{u} - 3 \\vec{v} = 2 \\begin{bmatrix} 2 \\\\ -3\\\\-5 \\end{bmatrix} - 3 \\begin{bmatrix} 0 \\\\ 0  \\\\1 \\end{bmatrix} = \\begin{bmatrix} 4 \\\\ -6 \\\\ -10 \\end{bmatrix} - \\begin{bmatrix} 0 \\\\ 0  \\\\3 \\end{bmatrix} = \\begin{bmatrix} 4 \\\\ -6 \\\\ -7 \\end{bmatrix}\n",
    "$$\n",
    "\n",
    "Let's use Python to double check our solution. A vector is a numpy array of a list."
   ]
  },
  {
   "cell_type": "code",
   "execution_count": 48,
   "metadata": {},
   "outputs": [
    {
     "name": "stdout",
     "output_type": "stream",
     "text": [
      "y =  [[ 7 -4  3]]\n",
      "u =  [[ 2 -3 -5]]\n",
      "v =  [[0 0 1]]\n"
     ]
    }
   ],
   "source": [
    "import numpy as np\n",
    "\n",
    "y = np.array([[7,-4,3]])\n",
    "print(\"y = \", y)\n",
    "\n",
    "u=np.array([[2,-3,-5]])\n",
    "print(\"u = \", u)\n",
    "\n",
    "v=np.array([[0,0,1]])\n",
    "print(\"v = \", v)"
   ]
  },
  {
   "cell_type": "code",
   "execution_count": 49,
   "metadata": {},
   "outputs": [
    {
     "data": {
      "text/plain": [
       "array([[ 4, -6, -7]])"
      ]
     },
     "execution_count": 49,
     "metadata": {},
     "output_type": "execute_result"
    }
   ],
   "source": [
    "#(a). Compute 2u-3v\n",
    "\n",
    "2*u+3*v"
   ]
  },
  {
   "cell_type": "markdown",
   "metadata": {},
   "source": [
    "(b). To determine if $\\vec{y}$ is a linear combination of $\\vec{u}$ and $\\vec{v}$, we need to check if there exist real numbers $c_1$ and $c_2$ such that:\n",
    "\n",
    "$$\n",
    "\\vec{y} = c_1 \\vec{u} + c_2 \\vec{v}\n",
    "$$\n",
    "\n",
    "Substituting the given values, we have:\n",
    "\n",
    "$$\n",
    "\\begin{bmatrix} 7  \\\\ -4  \\\\ 3 \\end{bmatrix} = c_1 \\begin{bmatrix} 2 \\\\ -3 \\\\ -5 \\end{bmatrix} + c_2 \\begin{bmatrix} 0 \\\\ 0 \\\\ 1 \\end{bmatrix}\n",
    "$$\n",
    "\n",
    "Which is the same as:\n",
    "\n",
    "$$\\begin{bmatrix} 7 \\\\ -4  \\\\3 \\end{bmatrix}= \\begin{bmatrix} 2x_1 + 0\\\\ -3c_1 + 0\\\\-5c_1+c_2 \\end{bmatrix}$$\n",
    "\n",
    "or \n",
    "\n",
    "$$\n",
    "\\begin{align*}\n",
    " 2c_1 &= 7 \\\\\n",
    "-3c_1 &= -4 \\\\\n",
    "-5c_1+ c_2 &= 3 \n",
    "\\end{align*}\n",
    "$$\n",
    "\n",
    "\n",
    "\n",
    "This equation cannot be satisfied because there are no values of $c_1$ and $c_2$ that can make the left-hand side equal to the right-hand side. Therefore, $\\vec{y}$ is not a linear combination of $\\vec{u}$ and $\\vec{v}$.\n",
    "\n",
    "\n",
    "In Example 2, to solve a vector equation we converted into a linear system. In general, the vector equation \n",
    "\n",
    "$$\n",
    "x_1\\vec{u_1} + x_2\\vec{u_1}+ \\dots + x_p\\vec{u_p} = \\vec{y}\n",
    "$$\n",
    "\n",
    "has the same solution set as the linear system whose augmented matrix is \n",
    "\n",
    "$$\n",
    "[\\vec{u_1}, \\vec{u_2}, \\dots, \\vec{u_p}| \\vec{y}] \\quad (*)\n",
    "$$\n",
    "\n",
    "Note that for brevity, we represented the augmented matrix by its columns."
   ]
  },
  {
   "cell_type": "markdown",
   "metadata": {},
   "source": [
    " An indexed set of vectors $\\{\\vec{v_1}, \\vec{v_2}, \\dots \\vec{v_p}\\}$ in $\\mathbb{R}^n$ is called a __linearly independet__ set if the vector equation:\n",
    "\n",
    "$$ x_1 \\vec{v_1} + x_2 \\vec{v_2} + \\dots + x_p \\vec{v_p} = 0$$\n",
    "\n",
    "has only the trivial solution. The set is called __linearly dependent__ if there are real numbers $c_1,c_2, \\dots c_p$, not all zero, such that \n",
    "\n",
    "$$ c_1 \\vec{v_1} + c_2 \\vec{v_2} + \\dots + c_p \\vec{v_p} = 0$$\n",
    "\n",
    "\n",
    "\n",
    "__Theorem 2__\n",
    "\n",
    "1. A set of vectors containing the zero vector is linearly dependent.\n",
    "\n",
    "2. A set of two vectors is linearly dependent if and only if one is a multiple of the other.\n",
    "\n",
    "\n",
    "\n",
    "__Example 2:__ \n",
    "\n",
    "Determine if the following vectors form a linearly independent set:\n",
    "\n",
    "$\\vec{u} = \\begin{bmatrix} 1\\\\2\\\\3 \\end{bmatrix} \\,\\,  \\vec{v} = \\begin{bmatrix} 4\\\\5\\\\6 \\end{bmatrix}, \\,\\,  \\vec{w} = \\begin{bmatrix} 7\\\\8\\\\9 \\end{bmatrix}$\n",
    "\n",
    "__Solution:__\n",
    "\n",
    "We convert the augmented matrix in $(*)$ into its REF:"
   ]
  },
  {
   "cell_type": "code",
   "execution_count": 67,
   "metadata": {},
   "outputs": [
    {
     "data": {
      "text/plain": [
       "array([[1, 4, 7, 0],\n",
       "       [2, 5, 8, 0],\n",
       "       [3, 6, 9, 0]])"
      ]
     },
     "execution_count": 67,
     "metadata": {},
     "output_type": "execute_result"
    }
   ],
   "source": [
    "A = np.array([[1,4,7, 0], [2,5,8,0], [3,6,9,0]])\n",
    "A"
   ]
  },
  {
   "cell_type": "code",
   "execution_count": 68,
   "metadata": {},
   "outputs": [],
   "source": [
    "# Swap two rows\n",
    "\n",
    "def swap(matrix, row1, row2):\n",
    "    \n",
    "    copy_matrix=np.copy(matrix).astype('float64') \n",
    "  \n",
    "    copy_matrix[row1,:] = matrix[row2,:]\n",
    "    copy_matrix[row2,:] = matrix[row1,:]\n",
    "    \n",
    "    return copy_matrix\n",
    "\n",
    "\n",
    "# Multiple all entries in a row by a nonzero number\n",
    "\n",
    "\n",
    "def scale(matrix, row, scalar):\n",
    "    copy_matrix=np.copy(matrix).astype('float64') \n",
    "    copy_matrix[row,:] = scalar*matrix[row,:]  \n",
    "    return copy_matrix\n",
    "\n",
    "# Replacing a row1 by the sum of itself and a multiple of row2 \n",
    "\n",
    "def replace(matrix, row1, row2, scalar):\n",
    "    copy_matrix=np.copy(matrix).astype('float64')\n",
    "    copy_matrix[row1] = matrix[row1]+ scalar * matrix[row2] \n",
    "    return copy_matrix"
   ]
  },
  {
   "cell_type": "code",
   "execution_count": 69,
   "metadata": {},
   "outputs": [
    {
     "data": {
      "text/plain": [
       "array([[ 1.,  4.,  7.,  0.],\n",
       "       [ 0., -3., -6.,  0.],\n",
       "       [ 3.,  6.,  9.,  0.]])"
      ]
     },
     "execution_count": 69,
     "metadata": {},
     "output_type": "execute_result"
    }
   ],
   "source": [
    "A1 = replace(A, 1, 0, -2)\n",
    "A1"
   ]
  },
  {
   "cell_type": "code",
   "execution_count": 70,
   "metadata": {},
   "outputs": [
    {
     "data": {
      "text/plain": [
       "array([[  1.,   4.,   7.,   0.],\n",
       "       [  0.,  -3.,  -6.,   0.],\n",
       "       [  0.,  -6., -12.,   0.]])"
      ]
     },
     "execution_count": 70,
     "metadata": {},
     "output_type": "execute_result"
    }
   ],
   "source": [
    "A2 = replace(A1, 2, 0, -3)\n",
    "A2"
   ]
  },
  {
   "cell_type": "code",
   "execution_count": 71,
   "metadata": {},
   "outputs": [
    {
     "data": {
      "text/plain": [
       "array([[ 1.,  4.,  7.,  0.],\n",
       "       [ 0., -3., -6.,  0.],\n",
       "       [ 0.,  0.,  0.,  0.]])"
      ]
     },
     "execution_count": 71,
     "metadata": {},
     "output_type": "execute_result"
    }
   ],
   "source": [
    "A3 = replace(A2, 2, 1, -2)\n",
    "A3"
   ]
  },
  {
   "cell_type": "code",
   "execution_count": 72,
   "metadata": {},
   "outputs": [
    {
     "data": {
      "text/plain": [
       "array([[ 1.,  4.,  7.,  0.],\n",
       "       [-0.,  1.,  2., -0.],\n",
       "       [ 0.,  0.,  0.,  0.]])"
      ]
     },
     "execution_count": 72,
     "metadata": {},
     "output_type": "execute_result"
    }
   ],
   "source": [
    "A4 = scale(A3, 1, -1/3)\n",
    "A4"
   ]
  },
  {
   "cell_type": "markdown",
   "metadata": {},
   "source": [
    "Writing this matrix as a linear system, we have\n",
    "\n",
    "$$ \n",
    "\\begin{align*}\n",
    "x+ y + 7z =& 0\\\\\n",
    "y +2z =& 0\\\n",
    "\\end{align*}\n",
    "$$\n",
    "\n",
    "From this, it is clear that $\\{\\vec{u}, \\vec{v}, \\vec{w}\\}$ is not linearly independent becuase for any nonzero choice of $z$, we get a non-trivial solution. For example, if $z= 1$, then $( -5, -2 , 1)$ is a non-trivial solution."
   ]
  },
  {
   "cell_type": "markdown",
   "metadata": {},
   "source": [
    "## Matrix Equation $A\\vec{x}=\\vec{b}$"
   ]
  },
  {
   "cell_type": "markdown",
   "metadata": {},
   "source": [
    "Similarly, we can translate a linear system into a matrix equation of the form $A\\vec{x} = \\vec{b}$. To that end, we need to define the product on the left hand side of equality.\n",
    "\n",
    "Let A be an $m\\times n$ matrix (a rectangular array) with columns $\\vec{a_1}, \\vec{a_2}, \\dots, \\vec{a_n}$, and $\\vec{x}\\in \\mathbb{R}^n$. We can define the product of $A$ and $\\vec{x}$, denoted by $A\\vec{x}$, as the linear combination of the columns of $A$ where the coefficients are the components of $\\vec{x}$:\n",
    "\n",
    "\n",
    "$$A\\vec{x}=[\\vec{a_1},\\  \\vec{a_2},\\  \\dots,\\ \\vec{a_n}]\\, \\begin{bmatrix} x_1 \\\\ x_2\\\\ \\vdots \\\\ x_n \\end{bmatrix}\\, := x_1 \\vec{a_1} + x_2\\vec{a_2} + \\dots + x_n \\vec{a_n}$$. \n",
    "\n",
    "\n",
    "Note that $A\\vec{x}$ is defined only if the number of columns of A equals to the numbers entries of $\\vec{x}$\n",
    "\n",
    "\n",
    "\n",
    "__Theorem 2__ (properties of the product of A and $\\vec{x}$) Suppose $A$ is an $m\\times n$ matrix, $\\vec{u}$ and $\\vec{v}$ are in $\\mathbb{R}^n$ and $c$ is a scalar. Then \n",
    "\n",
    "1. $A(\\vec{u}+ \\vec{v})= A \\vec{u} + A \\vec{v}$\n",
    "2. $A(c\\vec{u})= c A\\vec{u}$\n",
    "\n",
    "\n",
    "Now let us discuss how to represent a linear system by a matrix equation. Consider:\n",
    "\n",
    "$$\n",
    "\\begin{align}\n",
    "   a_{11} x_1 + a_{12} x_2 +& \\dots a_{1n} x_n = \\,b_1 \\\\ \n",
    "   a_{21} x_1 + a_{22} x_2 +& \\dots a_{2n} x_n = \\,b_2 \\\\ \n",
    "    &\\vdots\\\\\n",
    "   a_{m1} x_1 + a_{n2} x_2 +& \\dots a_{mn} x_n = \\,b_m \\\\ \n",
    "\\end{align}\n",
    "$$\n",
    "\n",
    "and let   \n",
    "\n",
    "$$\n",
    "A= \\begin{bmatrix} a_{11} &  a_{12} &\\dots & a_{1n}\\\\ a_{21} &  a_{22} & \\dots & a_{2n}\\\\ \\vdots& \\vdots& \\vdots  \\\\  a_{m1}& a_{m2} &\\dots &  a_{mn}\\\\\n",
    "\\end{bmatrix}\n",
    "$$\n",
    "\n",
    "and $\\ \\vec{x}= \\begin{bmatrix} x_1 \\\\ x_2\\\\ \\vdots \\\\ x_n \\end{bmatrix}\\ $ and  $\\ \\vec{b}= \\begin{bmatrix} b_1 \\\\ b_2\\\\ \\vdots \\\\ b_m \\end{bmatrix}\\ $. The matrix A is called the __coefficient matrix__. Then we can rewrite the above linear system as: $A\\vec{x}=\\vec{b}.$\n",
    "\n",
    "The next theorem discribes when a matrix equation has at least a solution. \n",
    "\n",
    "\n",
    "__Theorem 3__ Let $A$ be an $m\\times n$ matrix. The following statements are logically equivalent:\n",
    "\n",
    "\n",
    "1. For any $\\vec{b}\\in \\mathbb{R}^m$, the equation $A\\vec{x}=\\vec{b}$ has a solution.\n",
    "2. Each $\\vec{b}\\in \\mathbb{R}^m$ is a linear combination of columns of $A$\n",
    "3. The columns of $A$ span $\\mathbb{R}^m$\n",
    "4. A has a pivot poisition in every row. \n",
    "\n",
    "\n",
    "\n",
    "\n",
    "__Example 3__\n",
    "\n",
    "Let $A$ be a matrix whose columns are $\\vec{u}$, $\\vec{v}$, $\\vec{w}$ from Example 2. Find vectors $\\vec{b}, \\vec{c} \\in \\mathbb{R}^3$ such that $A\\vec{x}=\\vec{b}$ has a solution and $A\\vec{x}=\\vec{c}$ does not.\n",
    "\n",
    "__Solution:__\n",
    "\n",
    "Let\n",
    "\n",
    "$$\n",
    "A = \\begin{bmatrix}\n",
    "1 & 4 & 7 \\\\\n",
    "2 & 5 & 8 \\\\\n",
    "3 & 6 & 9 \\\\\n",
    "\\end{bmatrix},\n",
    "\\quad\n",
    "\\vec{b} = \\begin{bmatrix}\n",
    "1 \\\\\n",
    "2 \\\\\n",
    "3 \\\\\n",
    "\\end{bmatrix},\n",
    "\\quad\n",
    "\\vec{c} = \\begin{bmatrix}\n",
    "1 \\\\\n",
    "2 \\\\\n",
    "4 \\\\\n",
    "\\end{bmatrix}.\n",
    "$$\n",
    "\n",
    "Now, let's form the augmented matrix of equation $A\\vec{x}=\\vec{b}$:\n",
    "$$\n",
    "\\begin{bmatrix}\n",
    "1 & 4 & 7 && 1 \\\\\n",
    "2 & 5 & 8 && 2 \\\\\n",
    "3 & 6 & 9 && 3 \\\\\n",
    "\\end{bmatrix}\n",
    "$$\n",
    "\n",
    "Now we can perform row operations to verify that it has a solution:"
   ]
  },
  {
   "cell_type": "code",
   "execution_count": 73,
   "metadata": {},
   "outputs": [
    {
     "data": {
      "text/plain": [
       "array([[1, 4, 7, 1],\n",
       "       [2, 5, 8, 2],\n",
       "       [3, 6, 9, 3]])"
      ]
     },
     "execution_count": 73,
     "metadata": {},
     "output_type": "execute_result"
    }
   ],
   "source": [
    "Ab = np.array([[1,4,7,1],[2,5,8,2],[3,6,9,3]])\n",
    "Ab"
   ]
  },
  {
   "cell_type": "code",
   "execution_count": 79,
   "metadata": {},
   "outputs": [
    {
     "data": {
      "text/plain": [
       "array([[ 1.,  4.,  7.,  1.],\n",
       "       [ 0., -3., -6.,  0.],\n",
       "       [ 3.,  6.,  9.,  3.]])"
      ]
     },
     "execution_count": 79,
     "metadata": {},
     "output_type": "execute_result"
    }
   ],
   "source": [
    "B1 = replace(Ab, 1 , 0, -2)\n",
    "B1"
   ]
  },
  {
   "cell_type": "code",
   "execution_count": 80,
   "metadata": {},
   "outputs": [
    {
     "data": {
      "text/plain": [
       "array([[  1.,   4.,   7.,   1.],\n",
       "       [  0.,  -3.,  -6.,   0.],\n",
       "       [  0.,  -6., -12.,   0.]])"
      ]
     },
     "execution_count": 80,
     "metadata": {},
     "output_type": "execute_result"
    }
   ],
   "source": [
    "B2 = replace(B1, 2 , 0, -3)\n",
    "B2"
   ]
  },
  {
   "cell_type": "code",
   "execution_count": 82,
   "metadata": {},
   "outputs": [
    {
     "data": {
      "text/plain": [
       "array([[ 1.,  4.,  7.,  1.],\n",
       "       [ 0., -3., -6.,  0.],\n",
       "       [ 0.,  0.,  0.,  0.]])"
      ]
     },
     "execution_count": 82,
     "metadata": {},
     "output_type": "execute_result"
    }
   ],
   "source": [
    "B3 = replace(B2, 2, 1 , -2)\n",
    "B3"
   ]
  },
  {
   "cell_type": "code",
   "execution_count": 84,
   "metadata": {},
   "outputs": [
    {
     "data": {
      "text/plain": [
       "array([[ 1.,  4.,  7.,  1.],\n",
       "       [-0.,  1.,  2., -0.],\n",
       "       [ 0.,  0.,  0.,  0.]])"
      ]
     },
     "execution_count": 84,
     "metadata": {},
     "output_type": "execute_result"
    }
   ],
   "source": [
    "B4 = scale(B3, 1 , -1/3)\n",
    "B4"
   ]
  },
  {
   "cell_type": "markdown",
   "metadata": {},
   "source": [
    "From this we see that for any $z \\in \\mathbb{R}$ we have a unique solution. For example if $z = 0$\n",
    "\n",
    "$$\n",
    "\\begin{bmatrix} x \\\\ y \\\\ z \\end{bmatrix} = \\begin{bmatrix}  1 \\\\ 0 \\\\ 0 \\end{bmatrix}\n",
    "$$\n",
    "\n",
    "So the equation $A\\vec{x}=\\vec{b}$ has a solution. \n",
    "\n",
    "\n",
    "Now, we solve the equation $A\\vec{x}=\\vec{c}$ to verify that it does not have a solution. Let's form the augmented matrix $[A|\\vec{c}]$:\n",
    "\n",
    "$$\n",
    "\\begin{bmatrix}\n",
    "1 & 4 & 7 && 1 \\\\\n",
    "2 & 5 & 8 && 2 \\\\\n",
    "3 & 6 & 9 && 4 \\\\\n",
    "\\end{bmatrix}\n",
    "$$\n",
    "\n",
    "Now we can perform row operations to verify that it does not has a solution"
   ]
  },
  {
   "cell_type": "code",
   "execution_count": 86,
   "metadata": {},
   "outputs": [
    {
     "data": {
      "text/plain": [
       "array([[1, 4, 7, 1],\n",
       "       [2, 5, 8, 2],\n",
       "       [3, 6, 9, 4]])"
      ]
     },
     "execution_count": 86,
     "metadata": {},
     "output_type": "execute_result"
    }
   ],
   "source": [
    "Ac = np.array([[1,4,7,1],[2,5,8,2],[3,6,9,4]])\n",
    "Ac"
   ]
  },
  {
   "cell_type": "code",
   "execution_count": 89,
   "metadata": {},
   "outputs": [
    {
     "data": {
      "text/plain": [
       "array([[ 1.,  4.,  7.,  1.],\n",
       "       [ 0., -3., -6.,  0.],\n",
       "       [ 3.,  6.,  9.,  4.]])"
      ]
     },
     "execution_count": 89,
     "metadata": {},
     "output_type": "execute_result"
    }
   ],
   "source": [
    "C1 = replace(Ac, 1 , 0, -2)\n",
    "C1"
   ]
  },
  {
   "cell_type": "code",
   "execution_count": 90,
   "metadata": {},
   "outputs": [
    {
     "data": {
      "text/plain": [
       "array([[  1.,   4.,   7.,   1.],\n",
       "       [  0.,  -3.,  -6.,   0.],\n",
       "       [  0.,  -6., -12.,   1.]])"
      ]
     },
     "execution_count": 90,
     "metadata": {},
     "output_type": "execute_result"
    }
   ],
   "source": [
    "C2 = replace(C1, 2 , 0, -3)\n",
    "C2"
   ]
  },
  {
   "cell_type": "code",
   "execution_count": 91,
   "metadata": {},
   "outputs": [
    {
     "data": {
      "text/plain": [
       "array([[  1.,   4.,   7.,   1.],\n",
       "       [ -0.,   1.,   2.,  -0.],\n",
       "       [  0.,  -6., -12.,   1.]])"
      ]
     },
     "execution_count": 91,
     "metadata": {},
     "output_type": "execute_result"
    }
   ],
   "source": [
    "C3 = scale(C2, 1 , -1/3)\n",
    "C3"
   ]
  },
  {
   "cell_type": "code",
   "execution_count": 92,
   "metadata": {},
   "outputs": [
    {
     "data": {
      "text/plain": [
       "array([[ 1.,  4.,  7.,  1.],\n",
       "       [-0.,  1.,  2., -0.],\n",
       "       [ 0.,  0.,  0.,  1.]])"
      ]
     },
     "execution_count": 92,
     "metadata": {},
     "output_type": "execute_result"
    }
   ],
   "source": [
    "C4 = replace(C3, 2 , 1, 6)\n",
    "C4"
   ]
  },
  {
   "cell_type": "markdown",
   "metadata": {},
   "source": [
    "Form this, we can see that the last row corresponds to the equation:\n",
    "\n",
    "$$\n",
    "0 = 1\n",
    "$$\n",
    "\n",
    "Which is not possible. So $A\\vec{x} = \\vec{c}$ does not have a solution."
   ]
  },
  {
   "cell_type": "markdown",
   "metadata": {},
   "source": [
    "## Exercises:\n",
    "\n"
   ]
  },
  {
   "cell_type": "markdown",
   "metadata": {},
   "source": [
    "1. Given the system of equations:\n",
    "\n",
    "$$\n",
    "\\begin{align*}\n",
    "3x + 2y &= 1 \\\\\n",
    "x - 2y + z &= 5 \\\\\n",
    "2x - z &= 0\n",
    "\\end{align*}\n",
    "$$\n",
    "\n",
    "Write this system as a vector equation and then a matrix equation.\n",
    "   \n",
    "\n",
    "\n",
    "\n",
    "2. True or False?\n",
    "\n",
    "   (a). $\\vec{0} \\in \\text{span} \\{\\vec{v}_1, \\vec{v}_2, \\vec{v}_3\\}$.\n",
    "   \n",
    "   (b). $\\vec{v}_1 \\in \\text{span} \\{\\vec{v}_1, \\vec{v}_2, \\vec{v}_3\\}$.\n",
    "   \n",
    "   (c). $\\text{span} \\{\\vec{v}_1, \\vec{v}_2\\} \\subseteq \\text{span} \\{\\vec{v}_1, \\vec{v}_2, \\vec{v}_3\\}$.\n",
    "   \n",
    "   (d). A set 4 vectors must be linearly DEPENDENT in $\\mathbb{R}^3$.\n"
   ]
  },
  {
   "cell_type": "code",
   "execution_count": null,
   "metadata": {},
   "outputs": [],
   "source": []
  }
 ],
 "metadata": {
  "kernelspec": {
   "display_name": "Python 3",
   "language": "python",
   "name": "python3"
  },
  "language_info": {
   "codemirror_mode": {
    "name": "ipython",
    "version": 3
   },
   "file_extension": ".py",
   "mimetype": "text/x-python",
   "name": "python",
   "nbconvert_exporter": "python",
   "pygments_lexer": "ipython3",
   "version": "3.8.5"
  }
 },
 "nbformat": 4,
 "nbformat_minor": 4
}
