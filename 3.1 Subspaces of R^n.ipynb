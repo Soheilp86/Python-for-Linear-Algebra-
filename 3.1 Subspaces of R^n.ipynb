{
 "cells": [
  {
   "cell_type": "markdown",
   "metadata": {},
   "source": [
    "# 3.1 Subspaces of $\\mathbb{R}^n$\n",
    "\n",
    "This section focuses on subsets of $\\mathbb{R}^n$ that preserve $\\mathbb{R}^n$'s linear structure. We will see that any matrix $m\\times n$ matrix $A$ admits two important subspaces that contain useful information about the solution set of $A\\vec{x} = \\vec{b}$ for some $\\vec{b}\\in \\mathbb{R}^m$ "
   ]
  },
  {
   "cell_type": "markdown",
   "metadata": {},
   "source": [
    "## Column space and null space"
   ]
  },
  {
   "cell_type": "markdown",
   "metadata": {},
   "source": [
    "A __subspace__ of $\\mathbb{R}^n$ is a subset $H \\subset \\mathbb{R}^n$ that is closed under addition and scalar multiplication in the following sense:\n",
    "\n",
    "1. $\\vec{u} + \\vec{v} \\in H \\quad \\forall \\vec{u}, \\vec{v} \\in H$.\n",
    "2. $r\\vec{u} \\in H \\quad \\forall \\vec{u} \\in H$ and $\\forall r \\in \\mathbb{R}$.\n",
    "\n",
    "Note that we can choose $c = 0$, which implies $\\vec{0}$ is an element of any subspace. The smallest subspaces of $\\mathbb{R}^n$ is $H = \\{\\vec{0}\\}$ and the largest possible subspace of $\\mathbb{R}^n$ is itself. Other subspaces of $\\mathbb{R}^n$ are lines, planes, and their $n$-dimentional counterparts ($n\\geq 3$) that pass through the origin.\n",
    "\n",
    "__Example 1__\n",
    "\n",
    "Let $\\vec{u}, \\vec{v} \\in \\mathbb{R}^2$. Show that $H := \\text{span}(\\vec{u}, \\vec{v})$ is a subspace of $\\mathbb{R}^2$. \n",
    "\n",
    "__Solution:__ \n",
    "\n",
    "Recall that the span of a set of vectors is the set of all possible linear combinations of those vectors. Let $\\vec{x}, \\vec{y} \\in \\text{span}(\\vec{u}, \\vec{v})$ and $r \\in \\mathbb{R}$. There exist $c_1, c_2, d_1, d_2 \\in \\mathbb{R}$ such that $\\vec{x} = c_1 \\vec{u} + c_2 \\vec{v}$ and $\\vec{y} = d_1 \\vec{u} + d_2 \\vec{v}$. We have: \n",
    "\n",
    "$$\n",
    "\\vec{x} + \\vec{y} = (c_1 + d_1)\\ \\vec{u} + (c_2 + d_2)\\ \\vec{v} \\quad \\text{and} \\quad  r\\vec{x} = (rc_1)\\ \\vec{u} + (rc_2)\\ \\vec{v}\n",
    "$$\n",
    "\n",
    "Both of these vectors are in $H$. \n",
    "\n",
    "In general, if $\\vec{u}_1, \\vec{u}_2, \\dots, \\vec{u}_p \\in \\mathbb{R}^n$, then the span of of  $\\vec{u}_1, \\vec{u}_2, \\dots, \\vec{u}_p$, is a subspace $H\\subset \\mathbb{R}^n$, and we say H is __spanned (or generated)__ by $\\vec{u}_1, \\vec{u}_2, \\dots, \\vec{u}_p$.\n",
    "\n",
    "Any $m \\times n$ matrix $A is associated with important subspaces:\n",
    "\n",
    "1. The __column space__ of $A$, denoted by $\\text{col}(A)$, is the span of the columns of $A$: \n",
    "\n",
    "$$\n",
    "col (A) = \\text{span}(\\{ \\vec{a}_1, \\vec{a}_2, \\dots, \\vec{a}_n\\})\n",
    "$$\n",
    "\n",
    "where $\\vec{v_i}$s are the columns of $A$ for $i = 1,2,\\dots, n$. By definition, $col (A)$ is a subspace of $\\mathbb{R}^m$.\n",
    "\n",
    "\n",
    "\n",
    "\n",
    "2. The __null space__ $A$, denoted by $null (A)$, is the solution set of the homogeneous equation $A\\vec{x} = \\vec{0}$:\n",
    "\n",
    "$$\n",
    "null(A) = \\{\\vec{x}: \\ A\\vec{x} = \\vec{0}\\}\n",
    "$$\n",
    "\n",
    "By Theorem 2 in subsection 1.2, $\\text{null}(A)$ is a subspace of $\\mathbb{R}^n$.\n",
    "\n",
    "\n",
    "__Example 2__\n",
    "\n",
    "Let $A = \\begin{bmatrix} 1 & -1 \\\\ 2 & 1 \\\\ -1 & 3 \\\\ \\end{bmatrix}$.\n",
    "\n",
    "1. Find $col(A)$ and $null(A)$.\n",
    "2. Is $\\vec{b} = \\begin{bmatrix} 1 \\\\ 2 \\\\ 3 \\end{bmatrix} \\in \\text{col}(A)$?\n",
    "3. Is $\\vec{u} = \\begin{bmatrix} 1 \\\\ 1 \\end{bmatrix} \\in \\text{null}(A)$?\n",
    "\n",
    "__Solution:__\n",
    "\n",
    "1. $col(A) = \\text{span} \\left\\lbrace\\ \\begin{bmatrix} 1\\\\ 2\\\\ -1 \\end{bmatrix}, \\begin{bmatrix} -1\\\\ 1\\\\ 3\\end{bmatrix}\\ \\right\\rbrace $.\n",
    "\n",
    "To find $null(A)$, we solve the homogeneous equation $A\\vec{x} = \\vec{0}$. Let's set up the augmented matrix $[A \\ | \\ \\vec{0}]$ and row-reduce it:"
   ]
  },
  {
   "cell_type": "code",
   "execution_count": 4,
   "metadata": {},
   "outputs": [
    {
     "data": {
      "text/plain": [
       "array([[ 1, -1,  0],\n",
       "       [ 2,  1,  0],\n",
       "       [-1,  3,  0]])"
      ]
     },
     "execution_count": 4,
     "metadata": {},
     "output_type": "execute_result"
    }
   ],
   "source": [
    "import numpy as np\n",
    "\n",
    "M = np.array([[1, -1, 0], [2, 1, 0], [-1, 3, 0]])\n",
    "M"
   ]
  },
  {
   "cell_type": "code",
   "execution_count": 5,
   "metadata": {},
   "outputs": [],
   "source": [
    "# Swap two rows\n",
    "\n",
    "def swap(matrix, row1, row2):\n",
    "    \n",
    "    copy_matrix=np.copy(matrix).astype('float64') \n",
    "  \n",
    "    copy_matrix[row1,:] = matrix[row2,:]\n",
    "    copy_matrix[row2,:] = matrix[row1,:]\n",
    "    \n",
    "    return copy_matrix\n",
    "\n",
    "\n",
    "# Multiple all entries in a row by a nonzero number\n",
    "\n",
    "\n",
    "def scale(matrix, row, scalar):\n",
    "    copy_matrix=np.copy(matrix).astype('float64') \n",
    "    copy_matrix[row,:] = scalar*matrix[row,:]  \n",
    "    return copy_matrix\n",
    "\n",
    "# Replacing a row by the sum of itself and a multiple of another \n",
    "\n",
    "def replace(matrix, row1, row2, scalar):\n",
    "    copy_matrix=np.copy(matrix).astype('float64')\n",
    "    copy_matrix[row1] = matrix[row1]+ scalar * matrix[row2] \n",
    "    return copy_matrix "
   ]
  },
  {
   "cell_type": "code",
   "execution_count": 6,
   "metadata": {},
   "outputs": [
    {
     "data": {
      "text/plain": [
       "array([[ 1., -1.,  0.],\n",
       "       [ 0.,  3.,  0.],\n",
       "       [-1.,  3.,  0.]])"
      ]
     },
     "execution_count": 6,
     "metadata": {},
     "output_type": "execute_result"
    }
   ],
   "source": [
    "M1 = replace(M, 1, 0, -2)\n",
    "M1"
   ]
  },
  {
   "cell_type": "code",
   "execution_count": 7,
   "metadata": {},
   "outputs": [
    {
     "data": {
      "text/plain": [
       "array([[ 1., -1.,  0.],\n",
       "       [ 0.,  3.,  0.],\n",
       "       [ 0.,  2.,  0.]])"
      ]
     },
     "execution_count": 7,
     "metadata": {},
     "output_type": "execute_result"
    }
   ],
   "source": [
    "M2 = replace(M1, 2, 0, 1)\n",
    "M2"
   ]
  },
  {
   "cell_type": "code",
   "execution_count": 8,
   "metadata": {},
   "outputs": [
    {
     "data": {
      "text/plain": [
       "array([[ 1., -1.,  0.],\n",
       "       [ 0.,  1.,  0.],\n",
       "       [ 0.,  2.,  0.]])"
      ]
     },
     "execution_count": 8,
     "metadata": {},
     "output_type": "execute_result"
    }
   ],
   "source": [
    "M3 = scale(M2, 1, 1/3)\n",
    "M3"
   ]
  },
  {
   "cell_type": "code",
   "execution_count": 9,
   "metadata": {},
   "outputs": [
    {
     "data": {
      "text/plain": [
       "array([[ 1., -1.,  0.],\n",
       "       [ 0.,  1.,  0.],\n",
       "       [ 0.,  0.,  0.]])"
      ]
     },
     "execution_count": 9,
     "metadata": {},
     "output_type": "execute_result"
    }
   ],
   "source": [
    "M4 = replace(M3, 2, 1, -2)\n",
    "M4"
   ]
  },
  {
   "cell_type": "markdown",
   "metadata": {},
   "source": [
    "Therefore, \n",
    "\n",
    "$$\\begin{bmatrix} 1 & -1 & | & 0 \\\\ 2 & 1 & | & 0 \\\\ -1 & 3 & | & 0 \\end{bmatrix} \\Rightarrow \\begin{bmatrix} 1 & -1 & | & 0 \\\\ 0 & 1 & | & 0 \\\\ 0 & 0 & | & 0 \\end{bmatrix}.$$\n",
    "\n",
    "From the row-reduced form, we can see that all columns are pivot and there is no free variable. In other words, the only solution to the system is the trivial solution: $null(A)=0$"
   ]
  },
  {
   "cell_type": "markdown",
   "metadata": {},
   "source": [
    "2. $\\vec{b} \\in \\text{col}(A)$ if and only if $\\vec{b}$ is a linear combination of the columns of $A$. In other words, if and only if the equation $A\\vec{x} = \\vec{b}$ has a solution. Let's set up the augmented matrix $[A \\ | \\ \\vec{b}]$ and row-reduce it:"
   ]
  },
  {
   "cell_type": "code",
   "execution_count": 10,
   "metadata": {},
   "outputs": [
    {
     "data": {
      "text/plain": [
       "array([[ 1, -1,  1],\n",
       "       [ 2,  1,  2],\n",
       "       [-1,  3,  1]])"
      ]
     },
     "execution_count": 10,
     "metadata": {},
     "output_type": "execute_result"
    }
   ],
   "source": [
    "import numpy as np\n",
    "\n",
    "M = np.array([[1, -1, 1], [2, 1, 2], [-1, 3, 1]])\n",
    "M"
   ]
  },
  {
   "cell_type": "code",
   "execution_count": 11,
   "metadata": {},
   "outputs": [
    {
     "data": {
      "text/plain": [
       "array([[ 1., -1.,  1.],\n",
       "       [ 0.,  3.,  0.],\n",
       "       [-1.,  3.,  1.]])"
      ]
     },
     "execution_count": 11,
     "metadata": {},
     "output_type": "execute_result"
    }
   ],
   "source": [
    "M1 = replace(M, 1, 0, -2)\n",
    "M1"
   ]
  },
  {
   "cell_type": "code",
   "execution_count": 12,
   "metadata": {},
   "outputs": [
    {
     "data": {
      "text/plain": [
       "array([[ 1., -1.,  1.],\n",
       "       [ 0.,  3.,  0.],\n",
       "       [ 0.,  2.,  2.]])"
      ]
     },
     "execution_count": 12,
     "metadata": {},
     "output_type": "execute_result"
    }
   ],
   "source": [
    "M2 = replace(M1, 2, 0, 1)\n",
    "M2"
   ]
  },
  {
   "cell_type": "code",
   "execution_count": 13,
   "metadata": {},
   "outputs": [
    {
     "data": {
      "text/plain": [
       "array([[ 1., -1.,  1.],\n",
       "       [ 0.,  1.,  0.],\n",
       "       [ 0.,  2.,  2.]])"
      ]
     },
     "execution_count": 13,
     "metadata": {},
     "output_type": "execute_result"
    }
   ],
   "source": [
    "M3 = scale(M2, 1, 1/3)\n",
    "M3"
   ]
  },
  {
   "cell_type": "code",
   "execution_count": 14,
   "metadata": {},
   "outputs": [
    {
     "data": {
      "text/plain": [
       "array([[ 1., -1.,  1.],\n",
       "       [ 0.,  1.,  0.],\n",
       "       [ 0.,  0.,  2.]])"
      ]
     },
     "execution_count": 14,
     "metadata": {},
     "output_type": "execute_result"
    }
   ],
   "source": [
    "M4 = replace(M3, 2, 1, -2)\n",
    "M4"
   ]
  },
  {
   "cell_type": "markdown",
   "metadata": {},
   "source": [
    "Clearly, the last two rows show that the system is inconsistent. Thus, $\\vec{b}$ is not in $\\text{col}(A)$.\n",
    "\n",
    "3. No, $null(A)$ is trivial. We can verify this directly:\n",
    "\n",
    "$\\vec{u} \\in \\text{null}(A)$ if and only if $A\\vec{u} = \\vec{0}$:"
   ]
  },
  {
   "cell_type": "code",
   "execution_count": 43,
   "metadata": {},
   "outputs": [
    {
     "data": {
      "text/plain": [
       "array([[ 1, -1],\n",
       "       [ 2,  1],\n",
       "       [-1,  3]])"
      ]
     },
     "execution_count": 43,
     "metadata": {},
     "output_type": "execute_result"
    }
   ],
   "source": [
    "A = np.array([[1, -1], [2, 1], [-1, 3]])\n",
    "A"
   ]
  },
  {
   "cell_type": "code",
   "execution_count": 44,
   "metadata": {},
   "outputs": [
    {
     "data": {
      "text/plain": [
       "array([[1],\n",
       "       [1]])"
      ]
     },
     "execution_count": 44,
     "metadata": {},
     "output_type": "execute_result"
    }
   ],
   "source": [
    "u = np.array([[1],[1]])\n",
    "u"
   ]
  },
  {
   "cell_type": "code",
   "execution_count": 45,
   "metadata": {},
   "outputs": [
    {
     "data": {
      "text/plain": [
       "array([[0],\n",
       "       [3],\n",
       "       [2]])"
      ]
     },
     "execution_count": 45,
     "metadata": {},
     "output_type": "execute_result"
    }
   ],
   "source": [
    "#computing Au\n",
    "\n",
    "Au = A @ u\n",
    "Au"
   ]
  },
  {
   "cell_type": "markdown",
   "metadata": {},
   "source": [
    "Thus, $\\vec{u}$ is not in $null(A)$.\n",
    "\n",
    "\n",
    "__Example 4__\n",
    "\n",
    "Suppose $A$ is an invertible $n\\times n$ matrix. Then, by the Invertible Matrix Theorem (Theorem 4 in section 2.1), we have the following:\n",
    "\n",
    "1. $col(A) = \\mathbb{R}^n$\n",
    "2. $null(A) = \\{0\\}$"
   ]
  },
  {
   "cell_type": "markdown",
   "metadata": {},
   "source": [
    "## Basis, Dimension, and Rank"
   ]
  },
  {
   "cell_type": "markdown",
   "metadata": {},
   "source": [
    "\n",
    "Let $H \\subset \\mathbb{R}^n$ be a subspace. A __basis__ for $H$ is a linearly independent set in $H$ that spans $H$.\n",
    "\n",
    "According to the Invertible Matrix Theorem (Theorem 4 in section 2.1), the columns of an invertible $n\\times n$ matrix form a linearly independent set that spans $\\mathbb{R}^n$. Thus, the column space of any invertible matrix is a basis for $\\mathbb{R}^n$. It's important to note that bases are not unique.\n",
    "\n",
    "__Example 6 (The Standard Basis)__\n",
    "\n",
    "Let $I_n = \\begin{bmatrix} \\vec{e}_1 & \\vec{e}_2 & \\dots & \\vec{e}_n \\end{bmatrix}$ be the identity matrix. The columns of $I_n$, denoted by $\\vec{e}_1, \\vec{e}_2, \\dots, \\vec{e}_n$, form a basis for $\\mathbb{R}^n$, which is called the standard basis of $\\mathbb{R}^n$. For instance, the standard basis elements for $\\mathbb{R}^3$ are \n",
    "\n",
    "$$\n",
    " \\vec{e_1} = \\begin{bmatrix} 1 \\\\ 0 \\\\ 0   \\end{bmatrix}, \\vec{e_2} = \\ \\begin{bmatrix} 0 \\\\ 1 \\\\ 0   \\end{bmatrix},\\ \\vec{e_3} = \\begin{bmatrix} 0 \\\\ 0 \\\\ 1   \\end{bmatrix}\n",
    "$$\n",
    "The following cell computes the standard basis of $\\mathbb{R}^4$"
   ]
  },
  {
   "cell_type": "code",
   "execution_count": 30,
   "metadata": {},
   "outputs": [
    {
     "name": "stdout",
     "output_type": "stream",
     "text": [
      " e1 = \n",
      " [[1.]\n",
      " [0.]\n",
      " [0.]\n",
      " [0.]] \n",
      "\n",
      " e2 = \n",
      " [[0.]\n",
      " [1.]\n",
      " [0.]\n",
      " [0.]] \n",
      "\n",
      " e3 = \n",
      " [[0.]\n",
      " [0.]\n",
      " [1.]\n",
      " [0.]] \n",
      "\n",
      " e4 = \n",
      " [[0.]\n",
      " [0.]\n",
      " [0.]\n",
      " [1.]] \n",
      "\n"
     ]
    }
   ],
   "source": [
    "#the 4x4 identity matrix\n",
    "I = np.eye(4)\n",
    "\n",
    "print(' e1 = \\n', np.array([I[0]]).T, '\\n')\n",
    "print(' e2 = \\n', np.array([I[1]]).T, '\\n')\n",
    "print(' e3 = \\n', np.array([I[2]]).T, '\\n')\n",
    "print(' e4 = \\n', np.array([I[3]]).T, '\\n')\n"
   ]
  },
  {
   "cell_type": "markdown",
   "metadata": {},
   "source": [
    "__A basis for col A__\n",
    "\n",
    "The column space of a matrix $A$ is generated by the set of all columns of $A$. If $A$ is invirtible, by invirtible matrix theorem, the columns are all pivot columns and form a linearly independent set and therefore, a basis for col $A$. In general we have:  \n",
    "\n",
    "__Theorem 1__\n",
    "\n",
    "The pivot columns of a matrix $A$ form a basis for $col(A)$.\n",
    "\n",
    "__Example 7__\n",
    "\n",
    "Suppose $A = \\begin{bmatrix} 1 & 3 & 3 & 2 & -9 \\\\ -2 & -2 & 2 & -8 & 2 \\\\ 2 & 3 & 0 & 7 & 1 \\\\ 3 & 4 & -1 & 11 & 8 \\end{bmatrix}$.\n",
    "\n",
    "1. Find a basis for $col(A)$.\n",
    "2. Find a basis for $null(A)$.\n",
    "\n",
    "__Solution__\n",
    "\n",
    "1. We reduce $A$ to its reduced row echelon form (RREF) to find its pivot columns:"
   ]
  },
  {
   "cell_type": "code",
   "execution_count": 31,
   "metadata": {},
   "outputs": [
    {
     "data": {
      "text/plain": [
       "array([[ 1,  3,  3,  2, -9],\n",
       "       [-2, -2,  2, -8,  2],\n",
       "       [ 2,  3,  0,  7,  1],\n",
       "       [ 3,  4, -1, 11,  8]])"
      ]
     },
     "execution_count": 31,
     "metadata": {},
     "output_type": "execute_result"
    }
   ],
   "source": [
    "A = np.array([[1,3,3,2,-9], [-2,-2,2,-8,2], [2,3,0,7,1], [3,4,-1,11,8]])\n",
    "A"
   ]
  },
  {
   "cell_type": "code",
   "execution_count": 32,
   "metadata": {},
   "outputs": [
    {
     "data": {
      "text/plain": [
       "array([[ 1.,  0., -3.,  5.,  0.],\n",
       "       [ 0.,  1.,  2., -1.,  0.],\n",
       "       [ 0.,  0.,  0.,  0.,  1.],\n",
       "       [ 0.,  0.,  0.,  0.,  0.]])"
      ]
     },
     "execution_count": 32,
     "metadata": {},
     "output_type": "execute_result"
    }
   ],
   "source": [
    "A1 = replace(A, 1, 0, 2)\n",
    "A2 = replace(A1, 2, 0, -2)\n",
    "A3 = replace(A2, 3, 0, -3)\n",
    "A4 = scale(A3, 1, 1/4)\n",
    "A5 = replace(A4, 2, 1, 3)\n",
    "A6 = replace(A5, 3, 1, 5)\n",
    "A7 = scale(A6, 2, 1/7)\n",
    "A8 = replace(A7, 0, 1, -3)\n",
    "A9 = replace(A8, 3, 2, -15)\n",
    "A10 = replace(A9, 1, 2, 4)\n",
    "A11 = replace(A10, 0, 2, -3)\n",
    "A11"
   ]
  },
  {
   "cell_type": "markdown",
   "metadata": {},
   "source": [
    "We can see from the RREF of $A$ that $A$ has 3 pivot columns, which are the first two columns and the last column. Therefore, a basis for $\\text{col}(A)$ is the set consisting of the first two columns and the last column of $A$:\n",
    "\n",
    "$$\n",
    "\\left\\lbrace \\begin{bmatrix} 1 \\\\ -2 \\\\ 2 \\\\ 3 \\end{bmatrix}, \\begin{bmatrix} 3 \\\\ -2 \\\\ 3 \\\\ 4 \\end{bmatrix}, \\begin{bmatrix} -9 \\\\ 2 \\\\ 1 \\\\ 8 \\end{bmatrix} \\right\\rbrace\n",
    "$$\n",
    "\n",
    "It's important to note that the columns of the RREF of $A$ are not necessarily in $\\text{col}(A)$, and we cannot use them to form a basis for $\\text{col}(A)$.\n",
    "\n",
    "2. To find a basis for $\\text{null}(A)$, we solve $A\\vec{x}=0$ in the usual manner. Let's form the augmented matrix $[A \\ | \\ \\vec{0}]$:"
   ]
  },
  {
   "cell_type": "code",
   "execution_count": 34,
   "metadata": {},
   "outputs": [
    {
     "data": {
      "text/plain": [
       "array([[ 1.,  0., -3.,  5.,  0.,  0.],\n",
       "       [ 0.,  1.,  2., -1.,  0.,  0.],\n",
       "       [ 0.,  0.,  0.,  0.,  1.,  0.],\n",
       "       [ 0.,  0.,  0.,  0.,  0.,  0.]])"
      ]
     },
     "execution_count": 34,
     "metadata": {},
     "output_type": "execute_result"
    }
   ],
   "source": [
    "A0 = np.array([[1,3,3,2,-9,0], [-2,-2,2,-8,2,0], [2,3,0,7,1,0], [3,4,-1,11,8,0]])\n",
    "A1 = replace(A0, 1, 0, 2)\n",
    "A2 = replace(A1, 2, 0, -2)\n",
    "A3 = replace(A2, 3, 0, -3)\n",
    "A4 = scale(A3, 1, 1/4)\n",
    "A5 = replace(A4, 2, 1, 3)\n",
    "A6 = replace(A5, 3, 1, 5)\n",
    "A7 = scale(A6, 2, 1/7)\n",
    "A8 = replace(A7, 0, 1, -3)\n",
    "A9 = replace(A8, 3, 2, -15)\n",
    "A10 = replace(A9, 1, 2, 4)\n",
    "A11 = replace(A10, 0, 2, -3)\n",
    "A11"
   ]
  },
  {
   "cell_type": "markdown",
   "metadata": {},
   "source": [
    "From this we can see that the general solution is:\n",
    "\n",
    "\n",
    "$$\n",
    "\\begin{bmatrix}x_1\\\\ x_2\\\\x_3\\\\ x_4\\\\ x_5 \\end{bmatrix} = \\begin{bmatrix} 3x_3 - 5x_4 \\\\ -2x_3 +x_4 \\\\x_3\\\\ x_4\\\\ 0\\end{bmatrix} = x_3\\begin{bmatrix} 3\\\\ -2\\\\ 1\\\\ 0\\\\ 0\\end{bmatrix} + x_4 \\begin{bmatrix} - 5 \\\\  1 \\\\0\\\\ 1\\\\ 0\\end{bmatrix} = span(\\ \\begin{bmatrix} 3\\\\ -2\\\\ 1\\\\ 0\\\\ 0\\end{bmatrix}, \\begin{bmatrix} - 5 \\\\  1 \\\\0\\\\ 1\\\\ 0\\end{bmatrix}\\ )\n",
    "$$\n",
    "\n",
    "It is also clear that $\\begin{bmatrix} 3\\\\ -2\\\\ 1\\\\ 0\\\\ 0\\end{bmatrix}$ and $\\begin{bmatrix} - 5 \\\\  1 \\\\0\\\\ 1\\\\ 0\\end{bmatrix}$ are linearly independent. So they form a basis for $null(A)$.\n",
    "\n",
    "\n",
    "Note that a subspace $H$ can have different bases. For example, the following sets are both bases for $\\mathbb{R}^2$:\n",
    "\n",
    "\n",
    "$$ B = \\left\\{ \\begin{bmatrix} 1 \\\\ 0 \\end{bmatrix}, \\begin{bmatrix} 0 \\\\ 1 \\end{bmatrix}   \\right\\}\\quad  \\text{and} \\quad G = \\left\\{ \\begin{bmatrix} 1 \\\\ 2 \\end{bmatrix}, \\begin{bmatrix} 2 \\\\ 1 \\end{bmatrix}   \\right\\}\n",
    "$$\n",
    "\n",
    "However, all bases have something in common: \n",
    "\n",
    "\n",
    "__Theorem 2__\n",
    "\n",
    " All bases of a subspace $H$ in $\\mathbb{R}^n$ have the same number of vectors.\n",
    "\n",
    "The __dimension__ of a subspace $H$, denoted as $dim(H)$, is the number of vectors in any of its bases. Furthermore, we define $dim(\\{\\vec{0}\\})$ to be $0$. The dimension of the column space of a matrix $A$, denoted as $rank(A)$, is referred to as the __rank__ of $A$.\n",
    "\n",
    "__Example 8__\n",
    "\n",
    "Show that $dim(\\mathbb{R}^n) = n$.\n",
    "\n",
    "__Solution:__\n",
    "\n",
    " We can use Example 6, where it was shown that the columns of the identity matrix $I_n$, denoted as $\\{\\vec{e}_1, \\dots, \\vec{e}_n\\}$, form a basis for $\\mathbb{R}^n$. \n",
    "\n",
    "Since there are $n$ columns in the identity matrix $I_n$, the dimension of $\\mathbb{R}^n$ is equal to $n$. Hence, $dim(\\mathbb{R}^n) = n$.\n",
    "\n",
    "__Example 9__\n",
    "\n",
    "Find the rank of subspaces of $\\mathbb{R}^3$.\n",
    "\n",
    "__Solution:__\n",
    "\n",
    "In $\\mathbb{R}^3$, we have the following subspaces:\n",
    "\n",
    "1. The zero subspace $\\{\\vec{0}\\}$, which has zero dimension.\n",
    "\n",
    "2. Lines passing through the origin, which have one dimension: every line in $\\mathbb{R}^3$ can be spanned by a vector.\n",
    "\n",
    "3. Planes passing through the origin, which have two dimensions: every plane in $\\mathbb{R}^3$ can be spanned by two linearly independent vectors.\n",
    "\n",
    "4. The entire space $\\mathbb{R}^3$, which has three dimensions.\n",
    "\n",
    "\n",
    " The next Theorem states that the sum of the dimensions of the column space and null space is equal to the number of columns in the matrix. Additionally, it provides a way to determine the dimensions of the column space and null space based on the number of pivot and non-pivot columns in the matrix, respectively.\n",
    "\n",
    "__Theorem 3 (Rank-Nulity Theorem)__\n",
    "\n",
    "\n",
    "If $A$ be an $m \\times n$ matrix, then $dim(col(A)) + dim(null(A)) = n$. Moreover, \n",
    "\n",
    "\n",
    "1. $dim(col(A)) =$ the number of pivot columns of $A$.\n",
    "\n",
    "2. $dim(null(A)) =$ the number of non-pivot columns of $A$.\n",
    "\n",
    "\n",
    "__Example 10__ \n",
    "\n",
    "Find the rank and dimension of $null(A)$, where $A = \\begin{bmatrix} 1 & 3 &3 & 2 &-9 \\\\ -2 & -2 & 2 & -8 &2 \\\\ 2 & 3 &0 & 7 & 1 \\\\ 3 & 4 & -1 & 11 & 8 \\end{bmatrix}$\n",
    "\n",
    "\n",
    "__Solution__ \n",
    "\n",
    "From the solution of Example 7, We know that the RREF of $A$ is "
   ]
  },
  {
   "cell_type": "code",
   "execution_count": 35,
   "metadata": {},
   "outputs": [
    {
     "data": {
      "text/plain": [
       "array([[ 1.,  0., -3.,  5.,  0.,  0.],\n",
       "       [ 0.,  1.,  2., -1.,  0.,  0.],\n",
       "       [ 0.,  0.,  0.,  0.,  1.,  0.],\n",
       "       [ 0.,  0.,  0.,  0.,  0.,  0.]])"
      ]
     },
     "execution_count": 35,
     "metadata": {},
     "output_type": "execute_result"
    }
   ],
   "source": [
    "A11"
   ]
  },
  {
   "cell_type": "markdown",
   "metadata": {},
   "source": [
    "Which has three pivot columns and two non-pivot columns. Therefore, $rank(A) = 3$ and $dim(null(A)) = 2$\n",
    "\n"
   ]
  },
  {
   "cell_type": "markdown",
   "metadata": {},
   "source": [
    "## Excercies:"
   ]
  },
  {
   "cell_type": "markdown",
   "metadata": {},
   "source": [
    "\n",
    "\n",
    "1. Determine which one of the follwing sets are a subspace:\n",
    "\n",
    "    a.   $H = \\left\\lbrace \\  \\begin{bmatrix} x \\\\ y \\\\ z \\end{bmatrix} \\in \\mathbb{R}^3 \\mbox{ with } x \\geq 0, \\right\\rbrace.$\n",
    "    \n",
    "    b. $H = \\left\\lbrace \\ \\begin{bmatrix}\n",
    "x \\\\ 1 \\\\2x \n",
    "\\end{bmatrix} \\in \\mathbb{R}^3 \\right\\rbrace.$\n",
    "\n",
    "\n",
    "2. Let $A = \\begin{bmatrix} 1 & 2 &-9 \\\\ -2 & -2 & 2 \\\\ 2 & 3 &0 \\end{bmatrix}$.  Find the dimension of $col(A)$ and $null(A)$.\n",
    "\n",
    "\n",
    "3. Suppose $A$ is a $5 \\times 5$ matrix, and $A$ has 3 pivot columns. \n",
    "\n",
    "    a. Prove that $A\\vec{x}=\\vec{0}$ must have nontrivial solutions.\n",
    "    \n",
    "    b. Is there an example of $A$ where $col(A)= null(A)$?\n",
    "\n",
    " \n",
    "4. Find an explicit example of a $4\\times 4$ matrix $A$ which has $colA = null(A)$ "
   ]
  },
  {
   "cell_type": "code",
   "execution_count": null,
   "metadata": {},
   "outputs": [],
   "source": []
  }
 ],
 "metadata": {
  "kernelspec": {
   "display_name": "Python 3",
   "language": "python",
   "name": "python3"
  },
  "language_info": {
   "codemirror_mode": {
    "name": "ipython",
    "version": 3
   },
   "file_extension": ".py",
   "mimetype": "text/x-python",
   "name": "python",
   "nbconvert_exporter": "python",
   "pygments_lexer": "ipython3",
   "version": "3.8.5"
  }
 },
 "nbformat": 4,
 "nbformat_minor": 4
}
