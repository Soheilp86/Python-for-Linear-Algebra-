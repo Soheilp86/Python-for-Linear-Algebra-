{
 "cells": [
  {
   "cell_type": "markdown",
   "id": "9275f763",
   "metadata": {},
   "source": [
    "# 5. 2 Orthogonal Projection\n",
    "\n",
    "In this section we explore the construction of orthogonal projections which is a key step in many calculations involving orthogonality, and discusses some properties of projection maps."
   ]
  },
  {
   "cell_type": "markdown",
   "id": "e8e04f34",
   "metadata": {},
   "source": [
    "## Orthogonal Set"
   ]
  },
  {
   "cell_type": "markdown",
   "id": "f4f5547a",
   "metadata": {},
   "source": [
    "A set of vectors $\\{\\vec{u}_1, \\vec{u}_2, \\dots, \\vec{u}_p\\}$ in $\\mathbb{R}^{n}$ is called an _orthogonal set_ if each pair of distinct vectors from the set is orthogonal, meaning that $\\vec{u}_i \\cdot \\vec{u}_j = 0$ whenever $i \\neq j$. It is important to note that an orthogonal set, consisting of __nonzero vectors__, is always a linearly independent set. For that reason, if a basis for a subspace $W$ of $\\mathbb{R}^n$ happens to be an orthogonal set, it is called an __orthogonal basis__.\n",
    "\n",
    "\n",
    "In general, an orthogonal basis makes computations easier. The following theorem demonstrates how:\n",
    "\n",
    "__Theorem 1__ Let $B = \\{\\vec{u}_1, \\vec{u}_2, \\dots, \\vec{u}_p\\}$ be an orthogonal basis for a subspace $W\\subset \\mathbb{R}^n$. Moreover, suppose $y\\in W$ can be expressed as a linear combination of the basis elements:\n",
    "\n",
    "$$\n",
    "\\vec{y} = c_1\\vec{u}_1 + c_2\\vec{u}_2 + \\dots + c_p\\vec{u}_p.\n",
    "$$\n",
    "\n",
    "Then the weights $c_i$ are given by\n",
    "\n",
    "$$\n",
    "c_i = \\frac{\\vec{u}_i\\cdot \\vec{y}}{\\vec{u}_i\\cdot \\vec{u}_i} \\quad \\forall i\\in \\{1, 2, \\dots, p\\}.\n",
    "$$\n",
    "\n",
    "\n",
    "__Example 1__ Write the vector $\\vec{y} = \\begin{bmatrix} 6 \\\\ 1\\\\ -8 \\end{bmatrix}$ as a linear combination of the vectors in $S = \\left \\{\\ \\begin{bmatrix} 3 \\\\ 1\\\\ 1 \\end{bmatrix}, \\begin{bmatrix} -1 \\\\ 2\\\\ 1 \\end{bmatrix}, \\begin{bmatrix} -1 \\\\ -4\\\\ 7 \\end{bmatrix}\\ \\right \\}$.\n",
    "\n",
    "__Solution:__\n",
    "\n",
    "Since $S$ is an orthogonal set with three nonzero elements, it forms a basis for $\\mathbb{R}^3$. Therefore, we can express $\\vec{y}$ in terms of the vectors in $S$:\n",
    "\n",
    "$$\n",
    "\\vec{y} = c_1 \\begin{bmatrix} 3 \\\\ 1\\\\ 1 \\end{bmatrix} + c_2 \\begin{bmatrix} -1 \\\\ 2\\\\ 1 \\end{bmatrix} + c_3 \\begin{bmatrix} -1 \\\\ -4\\\\ 7 \\end{bmatrix}.\n",
    "$$\n",
    "\n",
    "We can solve this vector equation for $c_i$s using techniques we learned in section 1.2. However, Theorem 1 suggests an alternative way for computing the coefficients:\n",
    "\n",
    "$$\n",
    "c_i = \\frac{\\vec{u}_i \\cdot \\vec{y}}{\\vec{u}_i \\cdot \\vec{u}_i} \\quad \\text{for all } i\\in \\{1, 2, 3\\}.\n",
    "$$\n",
    "\n",
    "By substituting the appropriate values of $\\vec{u}_i$ and $\\vec{y}$ into the formula, we can compute the coefficients $c_i$s.\n"
   ]
  },
  {
   "cell_type": "code",
   "execution_count": 2,
   "id": "f5f8db49",
   "metadata": {},
   "outputs": [
    {
     "name": "stdout",
     "output_type": "stream",
     "text": [
      "c1 =  1.0 , c2 =  1.0 , c3 =  -1.0\n"
     ]
    }
   ],
   "source": [
    "import numpy as np\n",
    "\n",
    "\n",
    "y = np.array([6, 1, -8])\n",
    "\n",
    "u1 = np.array([3, 1, 1])\n",
    "\n",
    "u2 = np.array([-1, 2, 1])\n",
    "\n",
    "u3 = np.array([-1,-4, 7])\n",
    "\n",
    "#computing the weights:\n",
    "\n",
    "c1 = np.dot(y,u1)/ np.dot(u1,u1)\n",
    "\n",
    "c2 = np.dot(y,u2)/ np.dot(u2,u2)\n",
    "\n",
    "c3 = np.dot(y,u3)/ np.dot(u3,u3)\n",
    "\n",
    "print(\"c1 = \", c1, \", c2 = \", c1, \", c3 = \", c3)"
   ]
  },
  {
   "cell_type": "markdown",
   "id": "c725e5a1",
   "metadata": {},
   "source": [
    "## Orthogonal Projections onto $1$-dimensional spaces"
   ]
  },
  {
   "cell_type": "markdown",
   "id": "f70ae969",
   "metadata": {},
   "source": [
    "Given a nonzero vector $\\vec{y}$ in $\\mathbb{R}^n$, decomposing $\\vec{y}$ into a sum of two vectors is a straightforward task. For example, for any choice of $\\alpha, \\beta \\in \\mathbb{R}$ such that $\\alpha + \\beta = 1$, we have:\n",
    "\n",
    "$$\n",
    "\\vec{y} = \\alpha \\vec{y} + \\beta \\vec{y}.\n",
    "$$\n",
    "\n",
    "A more challenging question is when we want to express $\\vec{y}$ as the sum of two vectors, where one is a scalar multiple of a given vector $\\vec{u}$ and the other is orthogonal to $\\vec{u}$. More perciesely, we seek to write:\n",
    "\n",
    "$$\n",
    "\\vec{y} = \\vec{p} + \\vec{z},\n",
    "$$\n",
    "\n",
    "where $\\vec{p} = \\alpha \\vec{u}$ for some scalar $\\alpha$, and $\\vec{z} \\perp \\vec{p}$. In other words, we are looking for a scalar $\\alpha$ such that $\\vec{z} := \\vec{y} - \\alpha \\vec{u}$ is orthogonal to $\\vec{u}$, which can be expressed as:\n",
    "\n",
    "$$\n",
    "(\\vec{y} - \\alpha \\vec{u}) \\cdot \\vec{u} = 0.\n",
    "$$\n",
    "\n",
    "Simplifying the equation above, we find:\n",
    "\n",
    "$$\n",
    "\\alpha = \\frac{\\vec{y} \\cdot \\vec{u}}{\\vec{u} \\cdot \\vec{u}}, \\quad \\text{and thus} \\quad \\vec{p} = \\frac{\\vec{y} \\cdot \\vec{u}}{\\vec{u} \\cdot \\vec{u}} \\ \\vec{u}, \\quad \\text{and} \\quad \\vec{z} = \\vec{y} - \\vec{p}.\n",
    "$$\n",
    "\n",
    "The vector $\\vec{p}$, sometimes denoted as $\\text{proj}_{\\vec{u}}(\\vec{y})$, is called the __orthogonal projection of $\\vec{y}$ onto $\\vec{u}$__, and $\\vec{z}$ is referred to as the __component of $\\vec{y}$ orthogonal to $\\vec{u}$.__\n",
    "\n",
    "__Example 2__ \n",
    "\n",
    "Suppose $\\vec{y} = \\begin{bmatrix} 7 \\\\ 6 \\end{bmatrix}$ and $\\vec{u} = \\begin{bmatrix} 4 \\\\ 2 \\end{bmatrix}$. Compute the $\\text{proj}_{\\vec{u}}(\\vec{y})$ and the component of $\\vec{y}$ orthogonal to $\\vec{u}$ \n",
    "   \n",
    "__Solution:__ "
   ]
  },
  {
   "cell_type": "code",
   "execution_count": 3,
   "id": "6e3bdd3d",
   "metadata": {},
   "outputs": [
    {
     "name": "stdout",
     "output_type": "stream",
     "text": [
      "the projection of y onto u is  [8. 4.]\n",
      "the component of y orthogonal to u is [-1.  2.]\n"
     ]
    }
   ],
   "source": [
    "# setup vectors\n",
    "\n",
    "y = np.array([7,6])\n",
    "\n",
    "u = np.array([4,2])\n",
    "\n",
    "# projection of y onto u\n",
    "\n",
    "proj_y_u = (np.dot(y,u)/ np.dot(u,u))* u\n",
    "print( \"the projection of y onto u is \", proj_y_u) \n",
    "\n",
    "z = y - proj_y_u\n",
    "\n",
    "print(\"the component of y orthogonal to u is\", z )"
   ]
  },
  {
   "cell_type": "markdown",
   "id": "3292f3e5",
   "metadata": {},
   "source": [
    "Let's plot $\\text{proj}_{\\vec{u}}(\\vec{y})$ and the component of $\\vec{y}$ orthogonal to $\\vec{u}$  in $xy$-plane:"
   ]
  },
  {
   "cell_type": "code",
   "execution_count": 29,
   "id": "28949fa8",
   "metadata": {},
   "outputs": [
    {
     "data": {
      "image/png": "[encoded data removed]",
      "text/plain": [
       "<Figure size 432x288 with 1 Axes>"
      ]
     },
     "metadata": {
      "needs_background": "light"
     },
     "output_type": "display_data"
    }
   ],
   "source": [
    "# Plot the coordinates in two separate plots\n",
    "from matplotlib import pyplot as plt\n",
    "\n",
    "fig, ax = plt.subplots()\n",
    "\n",
    "figsize=(20, 10)\n",
    "\n",
    "# vector y\n",
    "ax.quiver(0, 0, 7, 6, angles='xy', scale_units='xy', scale=1, color='blue', label ='y')\n",
    "ax.text(7.1,6.1,'$y$')\n",
    "\n",
    "# vector u\n",
    "ax.quiver(0, 0, 4, 2, angles='xy', scale_units='xy', scale=1, color='black')\n",
    "ax.text(4.1,1.6,'$u$')\n",
    "\n",
    "# orthogonal projection p\n",
    "ax.quiver(0, 0, 8, 4, angles='xy', scale_units='xy', scale=1, color='red')\n",
    "ax.text(8.1,4.1,'$p$')\n",
    "\n",
    "# vector z\n",
    "ax.quiver(0, 0, -1, 2, angles='xy', scale_units='xy', scale=1, color='green')\n",
    "ax.text(-1.1,2.2,'$z = y - p$')\n",
    "\n",
    "# A copy of vector z starting at the end of vector p\n",
    "ax.quiver(8, 4, -1, 2, angles='xy', scale_units='xy', scale=1, color='green')\n",
    "\n",
    "\n",
    "\n",
    "ax.set_xlim([-4, 10])\n",
    "ax.set_ylim([-4, 10])\n",
    "ax.set_aspect('equal')\n",
    "ax.axhline(y=0, color='black', linestyle='--', linewidth=0.5)\n",
    "ax.axvline(x=0, color='black', linestyle='--', linewidth=0.5)\n",
    "\n",
    "ax.set_title('y = p + z')\n",
    "\n",
    "\n",
    "plt.show()\n",
    "\n"
   ]
  },
  {
   "cell_type": "markdown",
   "id": "b1073a2a",
   "metadata": {},
   "source": [
    "## Orthogonal Projections onto a general subspace"
   ]
  },
  {
   "cell_type": "markdown",
   "id": "f0df5c1e",
   "metadata": {},
   "source": [
    "Let's take another look the above Figure from Example 2. The projection of $\\vec{y}$ onto any vector in the direction of $\\vec{u}$, results in the same vector $\\text{proj}_{\\vec{u}}(\\vec{y})$. In fact, what matters to us is the line that contains $\\vec{u}$ (span$(\\{\\vec{u}\\})$). With this in mind, we can interpret $\\text{proj}_{\\vec{u}}(\\vec{y})$ as the projection of $\\vec{y}$ onto a subspace of $\\mathbb{R}^n$ generated by $\\vec{u}$, and we can write it as $\\text{proj}_{\\text{span}(L)}(\\vec{y})$. In fact, the notion of projection can be generalized to any subspace of $\\mathbb{R}^n$.\n",
    "\n",
    "\n",
    "\n",
    "__Theorem 2__\n",
    "\n",
    "Let $W$ be a subspace of $\\mathbb{R}^n$. Then each $\\vec{y}\\in \\mathbb{R}^n$ can be written uniquely as\n",
    "\n",
    "$$\n",
    "\\vec{y} = \\vec{p} + \\vec{z}\n",
    "$$\n",
    "\n",
    "where $\\vec{p}$ is in $W$ and $\\vec{z}$ is in $W^{\\perp}$. Moreover, if $B = \\{\\vec{u}_1, \\vec{u}_2, \\dots \\vec{u}_p\\}$ is any orthogonal basis of $W$, then\n",
    "\n",
    "$$\n",
    "\\vec{p} =  \\frac{\\vec{y}\\cdot \\vec{u}_1}{\\vec{u}_1\\cdot \\vec{u}_1} + \\frac{\\vec{y}\\cdot \\vec{u}_2}{\\vec{u}_2\\cdot \\vec{u}_2} + \\dots + \\frac{\\vec{y}\\cdot \\vec{u}_p}{\\vec{u}_p\\cdot \\vec{u}_p} \\quad  (**) \\quad \\text{and} \\quad \\vec{z} = \\vec{y} - \\vec{p} \n",
    "$$\n",
    "\n",
    "The vector $\\vec{p}$, sometimes denoted by $\\text{proj}_{W}(\\vec{y})$ is called the __orthogonal projection__ of $\\vec{y}$ onto $W$, and $\\vec{z}$ is called the component of $\\vec{y}$ orthogonal to $W$. \n",
    "\n",
    "__Example 3__ \n",
    "\n",
    "Suppose $\\vec{u} _1 = \\begin{bmatrix} 2 \\\\ 5 \\\\ -1 \\end{bmatrix}$, $\\vec{u}_2 = \\begin{bmatrix} -2 \\\\ 1 \\\\ 1 \\end{bmatrix}$, $W = \\text{span} (\\vec{u}_1, \\vec{u}_2)$ and $\\vec{y} = \\begin{bmatrix} 1 \\\\ 2 \\\\ 3 \\end{bmatrix}$. Compute the $\\text{proj}_{W}(\\vec{y})$ and the component of $\\vec{y}$ orthogonal to $\\vec{u}.$ \n",
    "   \n",
    "   \n",
    "__Solution:__ \n",
    "\n",
    "$\\vec{u}_1$ and $\\vec{u}_2$ are orthogonal and form a basis for $W$; thus, we can use Theorem 3 to compute the projection of $\\vec{y}$ onto $W$:"
   ]
  },
  {
   "cell_type": "code",
   "execution_count": 30,
   "id": "a5aab678",
   "metadata": {},
   "outputs": [
    {
     "name": "stdout",
     "output_type": "stream",
     "text": [
      "The projection of y onto W is  [-0.4  2.   0.2] \n",
      "\n",
      "The component of y orthogonal to u is [1.4 0.  2.8]\n"
     ]
    }
   ],
   "source": [
    "# setup vectors\n",
    "\n",
    "u1 = np.array([2,5,-1])\n",
    "\n",
    "u2 = np.array([-2,1,1])\n",
    "\n",
    "y = np.array([1,2,3])\n",
    "\n",
    "# projection of y onto W\n",
    "\n",
    "proj_y_W = (np.dot(y,u1)/ np.dot(u1,u1))* u1  +  (np.dot(y,u2)/ np.dot(u2,u2))* u2\n",
    "\n",
    "print( \"The projection of y onto W is \", proj_y_W, '\\n') \n",
    "\n",
    "# component of y orthogonal to p\n",
    "z = y - proj_y_W\n",
    "\n",
    "print(\"The component of y orthogonal to u is\", z )"
   ]
  },
  {
   "cell_type": "markdown",
   "id": "16a4d5b0",
   "metadata": {},
   "source": [
    "Note that if $\\vec{y}$ happens to be in $W$ then $\\text{proj}_{W}(\\vec{y}) = \\vec{y}$. We can verify this fact for $\\vec{u}_1$ which we know belongs to $W$:"
   ]
  },
  {
   "cell_type": "code",
   "execution_count": 31,
   "id": "6a60328f",
   "metadata": {},
   "outputs": [
    {
     "name": "stdout",
     "output_type": "stream",
     "text": [
      "[ 2.  5. -1.]\n"
     ]
    }
   ],
   "source": [
    "proj_u_W = (np.dot(u1,u1)/ np.dot(u1,u1))* u1  +  (np.dot(u1,u2)/ np.dot(u2,u2))* u2\n",
    "print(proj_u_W)"
   ]
  },
  {
   "cell_type": "markdown",
   "id": "d9654bb5",
   "metadata": {},
   "source": [
    "# The Best Approximation Theorem"
   ]
  },
  {
   "cell_type": "markdown",
   "id": "df837cb9",
   "metadata": {},
   "source": [
    "Projections can be viewed as linear transformations:\n",
    "\n",
    "Consider a subspace $W$ of $\\mathbb{R}^n$, and let $T_W: \\mathbb{R}^{n} \\to W$ be the mapping that sends a vector $\\vec{y}$ to its orthogonal projection $\\text{proj}_{W}(\\vec{y})$. It is known that $T_W$ is a linear transformation. If $P$ represents the matrix of $T_W$, then $P^2 = P$. More precisely,\n",
    "\n",
    "$$\n",
    "P\\vec{w} \\in W \\quad \\forall \\vec{w}\\in W\n",
    "$$\n",
    "\n",
    "Informally, we say $P$ does not move elements of $W$. The following theorem states that if $\\vec{u}$ is not in $W$, then $P$ sends it to _the closest point_ in $W$ from $\\vec{u}$.\n",
    "\n",
    "__Theorem 3__ (The Best Approximation Theorem)\n",
    "\n",
    "Let $W$ be a subspace of $\\mathbb{R}^2$, and let $\\vec{y}\\in \\mathbb{R}^n$. The projection of $\\vec{y}$ onto $W$, denoted as $\\vec{p} = \\text{proj}_{W}(\\vec{y})$, is the closest point in $W$ to $\\vec{y}$ in the following sense:\n",
    "\n",
    "$$\n",
    "\\| \\vec{y}-\\vec{p}\\| \\leq \\|\\vec{y}-\\vec{w}\\| \\quad \\forall \\vec{w} \\in W\n",
    "$$\n",
    "\n",
    "In particular, if $\\vec{y}\\in W$, then the closest point is exactly $\\vec{y}$. We refer to $\\vec{p}$ as the best approximation to $\\vec{y}$ by elements of $W$. The real number $\\| \\vec{y}-\\vec{p}\\|$) is interpreted as the distance between the vector $\\vec{y}$ and the subspace $W$.\n",
    "\n",
    "\n",
    "__Example 4__ \n",
    "\n",
    "Suppose $\\vec{y} = \\begin{bmatrix} -1 \\\\ -5 \\\\ 10 \\end{bmatrix}$, $\\vec{u}_2 = \\begin{bmatrix} 5 \\\\ -2 \\\\ 1 \\end{bmatrix}$, $W = \\text{span} (\\vec{u}_1, \\vec{u}_2)$ and $\\vec{y} = \\begin{bmatrix} 1 \\\\ 2 \\\\ -1\\end{bmatrix}$. \n",
    "\n",
    "   1. What is the closest point to $\\vec{y}$ in $W$?\n",
    "\n",
    "   2. Find the distance between $\\vec{y}$ and $W$.\n",
    "\n",
    "__Solution__ \n",
    "\n",
    "1. The closes point is the projection of $\\vec{y}$ onto $W$:"
   ]
  },
  {
   "cell_type": "code",
   "execution_count": 32,
   "id": "4c99813d",
   "metadata": {},
   "outputs": [
    {
     "name": "stdout",
     "output_type": "stream",
     "text": [
      "The projection of y onto W is  [-1. -8.  4.] \n",
      "\n",
      "The component of y orthogonal to u is [0. 3. 6.] \n",
      "\n",
      "The distance between y and $W$ is 6.708203932499369\n"
     ]
    }
   ],
   "source": [
    "# setup vectors\n",
    "\n",
    "y = np.array([-1, -5, 10])\n",
    "\n",
    "u1 = np.array([5, -2, 1])\n",
    "\n",
    "u2 = np.array([1 , 2, -1])\n",
    "\n",
    "# projection of y onto W\n",
    "\n",
    "p = (np.dot(y,u1)/ np.dot(u1,u1))* u1  +  (np.dot(y,u2)/ np.dot(u2,u2))* u2\n",
    "\n",
    "print( \"The projection of y onto W is \", p, '\\n') \n",
    "\n",
    "\n",
    "# component of y orthogonal to p\n",
    "z = y - p\n",
    "\n",
    "print(\"The component of y orthogonal to u is\", z, '\\n' )\n",
    "\n",
    "# distance between y and W\n",
    "r = np.sqrt(np.dot(z,z))\n",
    "print(\"The distance between y and $W$ is\", r )\n"
   ]
  },
  {
   "cell_type": "markdown",
   "id": "29f04247",
   "metadata": {},
   "source": [
    "It is possible to simplify the $(**)$ formula in Theorem 2 that computes projection. First we need the following definition:\n",
    "\n",
    "A basis $B$ for a subspace $W$ is called an __orthonormal basis__ if $B$ is an orthogonal basis and every element of $B$ is a unit vector. Any orthogonal basis can be turned into an orthonormal basis by normalizing every basis elements.\n",
    "\n",
    "__Theorem 4__\n",
    "\n",
    "Let $W$ be a subspace of $\\mathbb{R}^n$ and $B = \\{\\vec{u}_1, \\vec{u}_2, \\dots \\vec{u}_p\\}$ be an orthonormal basis of $W$. Then, foe every $\\vec{y}\\in \\mathbb{R}^n$, the projection of $\\vec{y}$ onto $W$ is\n",
    "\n",
    "$$\n",
    "\\text{proj}_{W}(\\vec{y}) = \\vec{y}\\cdot\\vec{u_1} + \\vec{y}\\cdot\\vec{u_2} + \\dots + \\vec{y}\\cdot\\vec{u_p}\n",
    "$$\n",
    "\n",
    "We can also represent this formula even in a more compact form:\n",
    "\n",
    "if $U = \\left[ \\vec{u}_1, \\vec{u_2}, \\dots, \\vec{u}_p \\right]$ then \n",
    "\n",
    "$$\n",
    "\\text{proj}_{W}(\\vec{y}) = UU^{T} \\vec{y} \\quad (*)\n",
    "$$\n",
    "\n",
    "\n",
    "A matrix whose columns are orthonormal, such as $U$, is called orthogonal matrix. For an $n\\times n$ orthogonal matrix $U$, beside (*), we have \n",
    "\n",
    "$$\n",
    "U^TU = I_n \n",
    "$$\n"
   ]
  },
  {
   "cell_type": "markdown",
   "id": "92acc831",
   "metadata": {},
   "source": [
    "# Excercise\n"
   ]
  },
  {
   "cell_type": "markdown",
   "id": "f38d65d7",
   "metadata": {},
   "source": [
    "1. Let $\\cal{B}=\\left\\lbrace \\begin{bmatrix}\n",
    "1 \\\\ 1\n",
    "\\end{bmatrix}, \\begin{bmatrix}\n",
    "1 \\\\ -1\n",
    "\\end{bmatrix} \\right\\rbrace$ be a basis of $\\mathbb{R}^2.$\n",
    "\n",
    "   a. Check that this is an orthogonal basis.\n",
    "   \n",
    "   b. Find the coordinates of the vector $\\begin{bmatrix}\n",
    "3 \\\\ 5\n",
    "\\end{bmatrix}$ with respect to the basis $\\cal{B}$.\n",
    "\n",
    "\n",
    "\n",
    "\n",
    "\n",
    "\n",
    "2. Suppose $\\vec{u}_1 = \\begin{bmatrix} -7 \\\\ 1 \\\\ 4 \\end{bmatrix}$, $\\vec{u}_2 = \\begin{bmatrix} -1 \\\\ 1 \\\\ -2 \\end{bmatrix}$, $W = \\text{span} (\\vec{u}_1, \\vec{u}_2)$ and $\\vec{y} = \\begin{bmatrix} -9 \\\\ 1 \\\\ 6\\end{bmatrix}$.\n",
    "\n",
    "    a. Show that $\\vec{u}_1$ and $\\vec{u}_2$ are orthogonal.\n",
    "    \n",
    "    b. What is the closest points to $\\vec{y}$ in $W$.    \n",
    "    \n",
    "    c. Find the distance between $W$ and $\\vec{y}$.\n",
    "    \n",
    "    d. Convert $\\{\\vec{u}_1, \\vec{u}_2\\}$ into an orthonormal basis for $W$.\n",
    "    \n",
    "    e. Compute the projection of $\\vec{y}$ onto $W$ using the $(*)$ formula given in Theorem 4.\n",
    "    \n",
    "    f. Write $\\vec{y}$ as sum of two vectors one in $W$ and the other in $W^{\\perp}$.\n",
    "    "
   ]
  },
  {
   "cell_type": "code",
   "execution_count": null,
   "id": "a60f88a6",
   "metadata": {},
   "outputs": [],
   "source": []
  }
 ],
 "metadata": {
  "kernelspec": {
   "display_name": "Python 3",
   "language": "python",
   "name": "python3"
  },
  "language_info": {
   "codemirror_mode": {
    "name": "ipython",
    "version": 3
   },
   "file_extension": ".py",
   "mimetype": "text/x-python",
   "name": "python",
   "nbconvert_exporter": "python",
   "pygments_lexer": "ipython3",
   "version": "3.8.5"
  }
 },
 "nbformat": 4,
 "nbformat_minor": 5
}
