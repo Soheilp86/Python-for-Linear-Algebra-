{
 "cells": [
  {
   "cell_type": "markdown",
   "id": "6bc37890",
   "metadata": {},
   "source": [
    "# 4.3 Discrete Dynamical Systems \n",
    "\n",
    "In this section, we will explore the application of diagonalization to discrete dynamical systems, focusing on their long-term behavior."
   ]
  },
  {
   "cell_type": "markdown",
   "id": "64423cda",
   "metadata": {},
   "source": [
    "## Modeling Dynamical Systems as sequence of linear systems"
   ]
  },
  {
   "cell_type": "markdown",
   "id": "0961f37c",
   "metadata": {},
   "source": [
    "In many fields (e.g., ecology, biology, economics, etc.), we wish to mathematically model and study a dynamic system that changes over time. We are usually given several feature of the system that are measured at (discrete) different time intervals which can be viewd as a sequence of vectors \n",
    "\n",
    "$$\n",
    "\\vec{x_0}, \\vec{x_1}, \\vec{x_2}, \\dots \n",
    "$$\n",
    "\n",
    "We interpret $\\vec{x_i}$ as the state of system at time $t = i$. We also assume that there is a matrix $A$ such that\n",
    "\n",
    "$$\n",
    "\\vec{x_n} = A\\vec{x_{n-1}} \\quad \\forall n = 1, 2, 3, \\dots   \\quad (*)\n",
    "$$\n",
    "\n",
    "Our goal is to develop a formula for $x_n$ and describe what can happen when $n$ approaches to infinity. \n",
    "\n",
    "\n",
    "Lets consider the movement of populations or groups of people from one region to another. We want a simple model that considers the changes in the population of a city and its surrounding suburbs over a period of years. Let's say the intial year is 2020 and denote the population of of the city and suburbs by $c_0$ and $s_0$, respectievely. Now we can form the intial _vector population_ $\\vec{x_0} = \\begin{bmatrix} c_0\\\\ r_0\\\\ \\end{bmatrix}$. Similarly, for 2021 and subsequent years, denote the populations of the city and suburbs by the vectors\n",
    "\n",
    "\n",
    "$$\n",
    "\\vec{x_1} = \\begin{bmatrix} c_1\\\\ s_1\\\\ \\end{bmatrix}, \\ \\vec{x_2} = \\begin{bmatrix} c_2\\\\ s_2\\\\ \\end{bmatrix}, \\ \\vec{x_3} = \\begin{bmatrix} c_3\\\\ s_3\\\\ \\end{bmatrix}, \\  \\dots\n",
    "$$\n",
    "\n",
    "__How can be these vectors mathematically related?__ \n",
    "\n",
    "Suppose demographic studies show that each year about $5\\%$ of the city’s population moves to the suburbs (and $95\\%$ remains in the city), while $3\\%$ of the suburban population moves to the city (and $97\\%$ remains in the suburbs). With this information we can find the vector population $\\vec{x_1}$ based on the intial population $\\vec{x_0}$. After the first year $c_0 95\\%$ remain in the city and $c_0 0.05$ move to suburb. Additionally $s_0.97\\%$ remain to in suburbs and $s_0 0.03$ move to city. Therefore, \n",
    "\n",
    "\n",
    "$$\n",
    "\\begin{bmatrix} c_1\\\\ s_1\\\\ \\end{bmatrix} = c_0\\begin{bmatrix} 0.95\\\\ 0.05\\\\ \\end{bmatrix} + s_0\\begin{bmatrix} 0.03\\\\ 0.97\\\\ \\end{bmatrix} = \\begin{bmatrix} 0.95  & 0.03 \\\\ 0.97 & 0.05 \\\\ \\end{bmatrix} \\begin{bmatrix} c_0\\\\ s_0\\\\ \\end{bmatrix}.\n",
    "$$\n",
    "\n",
    "\n",
    "The matrix $M = \\begin{bmatrix} 0.95  & 0.03 \\\\ 0.97 & 0.05 \\\\ \\end{bmatrix}$ is called the __migration matrix__. Consequently, we can write\n",
    "\n",
    "$$\n",
    "\\vec{x_n} = M\\vec{x_{n-1}} \\quad \\forall n = 1, 2, 3, \\dots \n",
    "$$\n",
    "\n",
    "and the sequence \n",
    "$$\n",
    "\\vec{x_0}, \\vec{x_1}, \\vec{x_2}, \\dots \n",
    "$$\n",
    "describe the population of city/suburbs over a period of years.\n",
    "\n",
    "\n",
    "\n",
    "__Example 1__ \n",
    "\n",
    "Compute the population of the region just described for the years 2021 and 2022, given that the intial population in 2020 was $600,000$ in the city and $40,000$ in suburbs.\n",
    "\n",
    "__Solution:__"
   ]
  },
  {
   "cell_type": "code",
   "execution_count": 85,
   "id": "95a605a8",
   "metadata": {},
   "outputs": [
    {
     "name": "stdout",
     "output_type": "stream",
     "text": [
      "the population of city in 2021 was =  571200.0 \n",
      "\n",
      "the population of suburbs in 2021 was =  33880.0 \n",
      "\n",
      "\n",
      "the population of the city in 2022 was =  543656.4 \n",
      "\n",
      "the population of suburbs in 2022 was =  33880.0 \n",
      "\n",
      "\n"
     ]
    }
   ],
   "source": [
    "import numpy as np\n",
    "\n",
    "# migration matrix\n",
    "M = np.array([[0.95, 0.03] ,[0.05, 0.097]])\n",
    "\n",
    "\n",
    "# initial population vector x_0\n",
    "x_0 = np.array([600000, 40000])\n",
    "\n",
    "# population vector x_1\n",
    "x_1 = M @ x_0\n",
    "\n",
    "print('the population of city in 2021 was = ', x_1[0],'\\n')\n",
    "print('the population of suburbs in 2021 was = ', x_1[1], '\\n\\n')\n",
    "\n",
    "# population vector x_2\n",
    "\n",
    "x_2 = M @ x_1\n",
    "\n",
    "print('the population of the city in 2022 was = ', x_2[0],'\\n')\n",
    "print('the population of suburbs in 2022 was = ', x_1[1], '\\n\\n')\n",
    "\n"
   ]
  },
  {
   "cell_type": "markdown",
   "id": "28c3700d",
   "metadata": {},
   "source": [
    "## Long-term behavior of dynamical systems"
   ]
  },
  {
   "cell_type": "markdown",
   "id": "f36c276d",
   "metadata": {},
   "source": [
    "Here's a revised version with minor improvements:\n",
    "\n",
    "Eigenvalues and eigenvectors can be used to understand the long-term behavior or evolution of a dynamical system described by an equation in the form of $\\vec{x}_{k+1} = A \\vec{x}_{k}$. We assume that $A$ is diagonalizable with $n$ linearly independent eigenvectors $\\{\\vec{v_1}, \\vec{v}_2, \\dots, \\vec{v}_n\\}$ and corresponding eigenvalues $\\lambda_1, \\lambda_2, \\dots, \\lambda_n$. For convenience, let's assume the eigenvectors are arranged such that $|\\lambda_1| \\geq |\\lambda_2| \\geq \\dots \\geq |\\lambda_n|$. Since $\\{\\vec{v_1}, \\vec{v}_2, \\dots, \\vec{v}_n\\}$ forms a basis for $\\mathbb{R}^n$, any initial vector $\\vec{x}_0$ can be expressed uniquely as:\n",
    "\n",
    "$$\n",
    "\\vec{x}_0 = c_1\\vec{v_1} + c_{2}\\vec{v_{2}} + \\dots + c_n\\vec{v_n}\n",
    "$$\n",
    "\n",
    "By applying $A$ to both sides, we have:\n",
    "\n",
    "$$\n",
    "\\vec{x}_1 = A \\vec{x}_{0} = c_1\\lambda_1\\vec{v_1} + c_{2}\\lambda_2\\vec{v_{2}} + \\dots + c_n\\lambda_n\\vec{v_n}\n",
    "$$\n",
    "\n",
    "And in general:\n",
    "\n",
    "$$\n",
    "\\vec{x}_k = A \\vec{x}_{k-1} = c_1(\\lambda_1)^{k}\\vec{v_1} + c_{2}(\\lambda_2)^{k}\\vec{v_{2}} + \\dots + c_n(\\lambda_n)^{k}\\vec{v_n} \\quad (**)\n",
    "$$\n",
    "\n",
    "The above equation represents the evolution of the system over time. It shows that each component of the vector $\\vec{x}_k$ is a linear combination of the eigenvectors $\\vec{v_i}$, scaled by the corresponding eigenvalues $\\lambda_i$ raised to the power of $k$.\n",
    "\n",
    "As an example, let's consider a predator-prey system involving owls and wood rats. The population vectors $\\vec{x}_k$ at time $k$ are given by:\n",
    "\n",
    "$$\n",
    "\\vec{x}_k = \\begin{bmatrix} O_k \\\\ R_k \\end{bmatrix}\n",
    "$$\n",
    "\n",
    "where $O_k$ is the population of owls and $R_k$ is the population of rats (measured in thousands). The populations evolve according to the following equations:\n",
    "\n",
    "$$\n",
    "\\begin{align*}\n",
    "O_{k+1} &= (0.5) O_k + (0.4) R_k \\\\\n",
    "R_{k+1} &= -p O_k + (1.1) R_k \\\\\n",
    "\\end{align*}\n",
    "$$\n",
    "\n",
    "Here, the coefficient $0.5$ in the first equation says that, without wood rats for food, only half of the owls will survive each month. The coefficient $1.1$ in the second equation says that, in the absence of owls as predators, the rat population will grow by 10% each month. The parameter $p$ is a positive value to be specified.\n",
    "\n",
    "To determine the evolution of this system, we can compute the eigenvalues and eigenvectors of the coefficient matrix $A$, and then apply equation $(**)$. For $p = 0.104$, lets find the evolution of this system:"
   ]
  },
  {
   "cell_type": "code",
   "execution_count": 86,
   "id": "87c964f7",
   "metadata": {},
   "outputs": [
    {
     "data": {
      "text/plain": [
       "array([0.58, 1.02])"
      ]
     },
     "execution_count": 86,
     "metadata": {},
     "output_type": "execute_result"
    }
   ],
   "source": [
    "# coefficient matrix\n",
    "A = np.array([[0.5, 0.4],[-0.104, 1.1]])\n",
    "\n",
    "# Computing the eigenvalues and eigenvectors of A\n",
    "np.linalg.eigvals(A)"
   ]
  },
  {
   "cell_type": "markdown",
   "id": "35b79192",
   "metadata": {},
   "source": [
    "Note that $|\\lambda_1| \\leq 1$ and $|\\lambda_2| \\geq 1$. A straightforward calculation shows that the corresponding eigenvectors are $\\vec{v_1} = \\begin{bmatrix} 5\\\\1 \\end{bmatrix}$ and $\\vec{v_2} = \\begin{bmatrix}10 \\\\ 13 \\end{bmatrix}$, respectively. The initial vector $\\vec{x_0}$ can be expressed as a linear combination of the eigenvectors:\n",
    "\n",
    "$$\n",
    "\\vec{x_0} = d_1 \\vec{v_1} + d_2 \\vec{v_2} = [\\vec{v_1}, \\vec{v_2}]\\begin{bmatrix} d_1\\\\ d_2\\end{bmatrix}\n",
    "$$\n",
    "\n",
    "Therefore, according to equation $(**)$, we have:\n",
    "\n",
    "$$\n",
    "\\vec{x_k} = d_1 (\\lambda_1)^{k} \\vec{v_1} + d_2 (\\lambda_2)^{k}\\vec{v_2}\n",
    "$$\n",
    "\n",
    "As $k \\to \\infty$, the term $(\\lambda_1)^{k} \\vec{v_1}$ approaches zero, allowing us to approximate:\n",
    "\n",
    "$$\n",
    "x_k \\approx d_2 (\\lambda_2)^{k}\\vec{v_2}\n",
    "$$\n",
    "\n",
    "Furthermore, observe that:\n",
    "\n",
    "$$\n",
    "x_{k+1} \\approx d_2 (\\lambda_2)^{k+1}\\vec{v_2} = \\lambda_2 \\vec{x_k} = 1.02 \\vec{x_k}\n",
    "$$\n",
    "\n",
    "The above approximation shows that both the number of owls and rats grow by an approximate factor of 1.02 each month.\n",
    "\n",
    "let's calculate some population vectors, assuming the initial population vector is $\\begin{bmatrix} 10\\\\20 \\end{bmatrix}$."
   ]
  },
  {
   "cell_type": "code",
   "execution_count": 87,
   "id": "7555bf0b",
   "metadata": {},
   "outputs": [
    {
     "name": "stdout",
     "output_type": "stream",
     "text": [
      "At month 1 the owl population is 3.2727272727272725  and  the rat population is 42.54545454545454 \n",
      "\n",
      "At month 2 the owl population is 65.45454545454545  and  the rat population is 850.9090909090909 \n",
      "\n",
      "At month 3 the owl population is 1309.090909090909  and  the rat population is 17018.181818181816 \n",
      "\n",
      "At month 4 the owl population is 26181.81818181818  and  the rat population is 340363.63636363635 \n",
      "\n",
      "At month 5 the owl population is 523636.36363636365  and  the rat population is 6807272.7272727275 \n",
      "\n",
      "At month 6 the owl population is 10472727.272727273  and  the rat population is 136145454.54545456 \n",
      "\n",
      "At month 7 the owl population is 209454545.45454547  and  the rat population is 2722909090.909091 \n",
      "\n",
      "At month 8 the owl population is 4189090909.090909  and  the rat population is 54458181818.181816 \n",
      "\n",
      "At month 9 the owl population is 83781818181.81818  and  the rat population is 1089163636363.6362 \n",
      "\n",
      "At month 10 the owl population is 1675636363636.3635  and  the rat population is 21783272727272.727 \n",
      "\n"
     ]
    }
   ],
   "source": [
    "import numpy as np\n",
    "\n",
    "# A matrix whose columns are eigenvectors\n",
    "evectors = np.array([[5, 10], [1, 13]])\n",
    "\n",
    "# Initial vector\n",
    "x_0 = np.array([1, 2])\n",
    "\n",
    "# Solving the equation for d_1 and d_2\n",
    "d = np.linalg.solve(evectors, x_0)\n",
    "\n",
    "# Extracting d_2\n",
    "d_2 = d[1]\n",
    "\n",
    "# Eigenvalues corresponding to the eigenvectors\n",
    "evalues = np.array([10, 20])  # Replace with the actual eigenvalues\n",
    "\n",
    "# Iterating over the range\n",
    "for k in range(10):\n",
    "    # Calculating the population using the eigenvalues, eigenvectors, and d_2\n",
    "    population = d_2 * pow(evalues[1], k+1) * evectors[1]\n",
    "    print('At month', k+1, 'the owl population is', population[0],' and ', 'the rat population is', population[1],'\\n')\n"
   ]
  },
  {
   "cell_type": "markdown",
   "id": "93dece31",
   "metadata": {},
   "source": [
    "Note that if the absolute values of both eigenvalues are less than 1, then both populations will tend towards zero for large values of $k$. If $\\lambda_1 = 1$ and $\\lambda2 < 1$, then \n",
    "\n",
    "$$\n",
    "x_k \\approx d_1 (\\lambda_1)\\vec{v_1} \n",
    "$$\n",
    "\n",
    "Finally, if $\\lambda_1 = 1$ and $\\lambda2 \\geq 1$, then  \n",
    "\n",
    "$$\n",
    "x_k = d_1 (\\lambda_1)\\vec{v_1} + d_2 (\\lambda_2)^{k}\\vec{v_2}\n",
    "$$\n"
   ]
  },
  {
   "cell_type": "markdown",
   "id": "f7b999e6",
   "metadata": {},
   "source": [
    "# Exercise:"
   ]
  },
  {
   "cell_type": "markdown",
   "id": "5e0547f5",
   "metadata": {},
   "source": [
    "1. Let $A$ be a $2\\times 2$ matrix with eigenvalues $5$ and $\\frac{1}{5}$ and corresponding eigenvectors $\\begin{bmatrix} 1 \\\\ 1 \\end{bmatrix}$ and $\\begin{bmatrix} -1 \\\\ 1 \\end{bmatrix}$. Let $\\vec{x}_k$ be a solution of $\\vec{x}_{k+1} = A \\vec{x}_{k}$, $\\vec{x}_0 = \\begin{bmatrix} 9 \\\\ 1 \\end{bmatrix}$ .\n",
    "\n",
    "a. Compute $\\vec{x}_1 = A\\vec{x}_0$\n",
    "\n",
    "b. Find a formula for $\\vec{x}_k$ involving $k$ and the eigenvectors of $A$.\n",
    "\n",
    "c. Describe what happens when $k\\to \\infty$. \n"
   ]
  },
  {
   "cell_type": "code",
   "execution_count": null,
   "id": "8f78d207",
   "metadata": {},
   "outputs": [],
   "source": []
  }
 ],
 "metadata": {
  "kernelspec": {
   "display_name": "Python 3",
   "language": "python",
   "name": "python3"
  },
  "language_info": {
   "codemirror_mode": {
    "name": "ipython",
    "version": 3
   },
   "file_extension": ".py",
   "mimetype": "text/x-python",
   "name": "python",
   "nbconvert_exporter": "python",
   "pygments_lexer": "ipython3",
   "version": "3.8.5"
  }
 },
 "nbformat": 4,
 "nbformat_minor": 5
}
