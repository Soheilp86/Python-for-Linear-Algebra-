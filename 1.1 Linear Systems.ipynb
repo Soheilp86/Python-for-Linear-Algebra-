{
 "cells": [
  {
   "cell_type": "markdown",
   "metadata": {},
   "source": [
    "# 1. Systems of Linear Equations "
   ]
  },
  {
   "cell_type": "markdown",
   "metadata": {},
   "source": [
    "This section introduces systems of linear equations, or linear systems, and discusses how to find their solutions."
   ]
  },
  {
   "cell_type": "markdown",
   "metadata": {},
   "source": [
    "## Linear Systems"
   ]
  },
  {
   "cell_type": "markdown",
   "metadata": {},
   "source": [
    "A _linear equation_ in $n$ variables is an equation of the form:\n",
    "\n",
    "$$\n",
    "a_1 x_1 + a_2 x_2 + \\dots + a_n x_n = b\n",
    "$$\n",
    "\n",
    "where $x_1, x_2, \\dots, x_n$ are variables, and $b$ and the coefficients $a_1, a_2, \\dots, a_n$ are real numbers. A _system of linear equations_ is a collection of linear equations in the same set of variables. For example, a system of $m$ equations in $n$ variables $x_1, x_2, \\dots, x_n$ can be represented as:\n",
    "\n",
    "\\begin{align}\n",
    "a_{11} x_1 + a_{12} x_2 + \\dots + a_{1n} x_n &= b_1 \\\\\n",
    "a_{21} x_1 + a_{22} x_2 + \\dots + a_{2n} x_n &= b_2 \\\\\n",
    "&\\vdots \\\\\n",
    "a_{n1} x_1 + a_{n2} x_2 + \\dots + a_{nn} x_n &= b_n \\\\\n",
    "\\end{align}\n",
    "\n",
    "A _solution_ for a linear system is a list of real numbers $(s_1, s_2, \\dots, s_n)$ that satisfy each equation in the system. Two linear systems are said to be equivalent if they have the same set of solutions. In other words, every solution of the first system is also a solution of the second system, and vice versa. Furthermore, a linear system is called __consistent__ if it has solutions; otherwise, it is called __inconsistent__. It turns out that any linear system has either no solutions, exactly one solution, or infinitely many solutions.\n",
    "\n",
    "As an example, let's consider a simple case where we have two equations in two unknowns. Finding the solution of such a system is easy as it comes down to finding the intersection of two lines in the plane. More precisely, the graph of each equation in this system represents a line, and a point $(s_1, s_2) \\in \\mathbb{R}^2$ is a solution if and only if it lies on both lines.\n",
    "\n",
    "__Example 1:__ \n",
    "The following system is consistent, and its only solution is $(0, -1)$.\n",
    "\n",
    "$$\n",
    "\\begin{align*}\n",
    "2x_1 - x_2 &= 1 \\\\\n",
    "x_1 - 2x_2 &= 2 \\\\\n",
    "\\end{align*}\n",
    "$$\n",
    "The following cell plots the graph of these lines on the same plane:"
   ]
  },
  {
   "cell_type": "code",
   "execution_count": 145,
   "metadata": {},
   "outputs": [
    {
     "data": {
      "image/png": "[encoded data removed]",
      "text/plain": [
       "<Figure size 432x288 with 1 Axes>"
      ]
     },
     "metadata": {
      "needs_background": "light"
     },
     "output_type": "display_data"
    }
   ],
   "source": [
    "import matplotlib.pyplot as plt\n",
    "import numpy as np\n",
    "\n",
    "# Data for plotting\n",
    "\n",
    "x = range(-5, 5)\n",
    "y1 = [ 2*k-1 for k in x]\n",
    "y2 = [ (k-2)/2 for k in x]\n",
    "\n",
    "fig, ax = plt.subplots()\n",
    "\n",
    "# Specify the length of each axis\n",
    "ax.set_xlim(-5,5)\n",
    "ax.set_ylim(-5,5)\n",
    "\n",
    "#Plot x and y1 using blue color\n",
    "ax.plot(x, y1, color = 'b')\n",
    "ax.text(-4,-4.5,'$2x_1 - x_2 = 1$', color = 'b')\n",
    "\n",
    "#Plot x and y2 using red color\n",
    "ax.plot(x, y2, color = 'r')\n",
    "ax.text(3.2,1.5,'$x_1 -2x_2 = 1$', color = 'r')\n",
    "\n",
    "# add label to the intersection\n",
    "ax.text(-0.8, 0.2, '$(0,-1) $' )\n",
    "\n",
    "# Add labels and a title to the graph\n",
    "ax.set(xlabel=' x', ylabel='y',\n",
    "       title=' This linear system is consistent')\n",
    "ax.grid()\n",
    "\n",
    "plt.show()"
   ]
  },
  {
   "cell_type": "markdown",
   "metadata": {},
   "source": [
    "(2) The next system is inconsistent because it does not have any solutions.\n",
    "\n",
    "\\begin{align*}\n",
    "    2x_1 - x_2 &= 1 \\\\ \n",
    "    4x_1 - 2x_2 &= 7 \\\\ \n",
    "\\end{align*}"
   ]
  },
  {
   "cell_type": "code",
   "execution_count": 1,
   "metadata": {},
   "outputs": [
    {
     "data": {
      "image/png": "[encoded data removed]",
      "text/plain": [
       "<Figure size 432x288 with 1 Axes>"
      ]
     },
     "metadata": {
      "needs_background": "light"
     },
     "output_type": "display_data"
    }
   ],
   "source": [
    "import matplotlib.pyplot as plt\n",
    "\n",
    "# Data for plotting\n",
    "\n",
    "x = range(-5, 5)\n",
    "y1 = [ 2*k-1 for k in x]\n",
    "y2 = [ 2*k-7/2 for k in x]\n",
    "\n",
    "fig, ax = plt.subplots()\n",
    "\n",
    "# Specify the length of each axis\n",
    "ax.set_xlim(-5,5)\n",
    "ax.set_ylim(-5,5)\n",
    "\n",
    "#Plot x and y1 using blue color\n",
    "ax.plot(x, y1, color = 'b')\n",
    "ax.text(-4,-4.5,'$2x_1 - x_2 = 1$', color = 'b')\n",
    "\n",
    "#Plot x and y2 using red color\n",
    "ax.plot(x, y2, color = 'r')\n",
    "ax.text(3.2,1.5,'$x_1 -2x_2 = 1$', color = 'r')\n",
    "\n",
    "\n",
    "\n",
    "# Add labels and a title to the graph\n",
    "ax.set(xlabel=' x', ylabel='y',\n",
    "       title=' This linear system is inconsistent')\n",
    "ax.grid()\n",
    "\n",
    "plt.show()"
   ]
  },
  {
   "cell_type": "markdown",
   "metadata": {},
   "source": [
    "Similarly, we can find a linear system containing two equations in two unknowns that has infinitely many solutions ( see Excercies 1)."
   ]
  },
  {
   "cell_type": "markdown",
   "metadata": {},
   "source": [
    "## Solving a Linear System"
   ]
  },
  {
   "cell_type": "markdown",
   "metadata": {},
   "source": [
    "A fundamental question about a linear system is whether or not it is consistent and, if it is, whether it has a unique solution or infinitely many solutions. To that end, we utilize the __row reduction algorithm__. The main idea is to use a set of operations called _elementary row operations_ to convert a system into an equivalent system that is easier to solve. These elementary row operations are:\n",
    "\n",
    "1. Swapping two equations.\n",
    "2. Multiplying an equation by a nonzero number.\n",
    "3. Adding a multiple of one equation to another equation.\n",
    "\n",
    "To do this, we first represent the essential information of a system in a compact rectangular form called the augmented matrix of the system. For example, the augmented matrix of the system:\n",
    "\n",
    "$$\n",
    "\\begin{align*}\n",
    "x + 2y + 3z &= 9 \\\\\n",
    "2x - y + z &= 8 \\\\\n",
    "3x - z &= 3 \n",
    "\\end{align*}\n",
    "$$\n",
    "\n",
    "is the following matrix:\n",
    "$$\n",
    "\\begin{bmatrix} 1 & 2 & 3 & 9 \\\\ 2 & -1 & 1 & 8 \\\\ 3 & 0 & -1 & 3 \\end{bmatrix}\n",
    "$$\n",
    "\n",
    "In the augmented matrix, each row represents an equation in the system. We can define the same operations for matrices, by simply replacing \"equation\" with \"row\" in their definitions. Moreover, we say that two matrices A and B are __row equivalent__ if one can be transformed into the other using the elementary row operations mentioned above.\n",
    "\n",
    "The goal is to convert the augmented matrix to another matrix form that is easier to solve. This easier form is called __echelon form__. This new matrix form corresponds to a linear system that is simpler to deal with and is equivalent to the original system.\n",
    "\n",
    "To formally define the echelon form, we need to introduce the following concepts:\n",
    "\n",
    "__Zero Row__: a row containing only zero entries.\n",
    "\n",
    "__Leading Entry__: the leftmost nonzero entry in a nonzero row.\n",
    "\n",
    "A rectangular matrix is in row echelon form (REF) if:\n",
    "\n",
    "1. All non-zero rows are above any zero row.\n",
    "2. Every leading term of a row is in a column to the right of the leading entry.\n",
    "3. Entries below a leading entry are zero.\n",
    "\n",
    "A rectangular matrix is in __reduced row echelon form__ (RREF) if:\n",
    "\n",
    "1. It is in echelon form.\n",
    "2. Every leading entry is 1.\n",
    "3. Entries above a leading entry are zero.\n",
    "\n",
    "\n",
    "__Example 2:__\n",
    "\n",
    "The following matrix is in REF. The leading entries ($\\blacksquare$) can be any nonzero real numbers, while the ($*$s) may be any real number.\n",
    "\n",
    "$$\\begin{bmatrix} 0 & \\blacksquare & * & * & * & * & & * \\\\ 0 & 0 & \\blacksquare & * & * & * & & * \\\\ 0 & 0 & 0 & 0 & \\blacksquare & * && *\\\\  0 & 0 & 0 & 0 & 0 & \\blacksquare & & * \\\\0 & 0 & 0 & 0 & 0 &  0 & & \\blacksquare\\end{bmatrix}$$\n",
    "\n",
    "The following matrix is in RREF:\n",
    "\n",
    "$$\\begin{bmatrix} 0 & 1 & 0 & * & 0 & & * \\\\ 0 & 0 & 1 & * & 0 & & * \\\\ 0 & 0 & 0 & 0 & 1 & & *\\\\ 0 & 0 & 0 & 0 & 0 & & 0\\end{bmatrix}$$\n",
    "\n",
    "__Theorem 1:__\n",
    "Any nonzero matrix is row equivalent to one and only one matrix in RREF.\n",
    "\n",
    "Since the reduced echelon form is unique, the leading entries are always in the same positions in any echelon form. These locations are called __pivot positions__, and a column with a pivot position is called a __pivot column__. Note that the leading entries in REF correspond to leading 1s in RREF. In the above example, the squares ($\\blacksquare$) identify the pivot positions.\n",
    "\n",
    "\n",
    "\n",
    "__Reduction Algorithm:__\n",
    "\n",
    "The reduction algorithm takes in a matrix and produces a matrix in RREF. It consists of 5 steps; in step four, it produces a matrix in REF, and in the fifth step, RREF. We will show the algorithm with an example:\n",
    "\n",
    "__Example 3:__ Find the RREF of\n",
    "\n",
    "$A = \\begin{bmatrix} 0 & 2 & 3 & & 9\\\\ 2 & -1 & 1 & & 8 \\\\ 3 & 0 & -1 & & 3\\end{bmatrix}$\n",
    "\n",
    "__Solution:__\n",
    "\n",
    "We represent a matrix as a numpy array"
   ]
  },
  {
   "cell_type": "code",
   "execution_count": 3,
   "metadata": {},
   "outputs": [
    {
     "data": {
      "text/plain": [
       "array([[ 0,  2,  3,  9],\n",
       "       [ 2, -1,  1,  8],\n",
       "       [ 3,  0, -1,  3]])"
      ]
     },
     "execution_count": 3,
     "metadata": {},
     "output_type": "execute_result"
    }
   ],
   "source": [
    "import numpy as np\n",
    "\n",
    "#numpy array to represent a matrix: each row is a list.\n",
    "A = np.array([[0,2,3,9],[2,-1,1,8],[3,0,-1,3]])\n",
    "A"
   ]
  },
  {
   "cell_type": "markdown",
   "metadata": {},
   "source": [
    "Lets write a Python function that perform the row operations:"
   ]
  },
  {
   "cell_type": "code",
   "execution_count": 4,
   "metadata": {},
   "outputs": [],
   "source": [
    "# Swap two rows\n",
    "\n",
    "def swap(matrix, row1, row2):\n",
    "    \n",
    "    copy_matrix = np.copy(matrix).astype('float64') \n",
    "  \n",
    "    copy_matrix[row1,:] = matrix[row2,:]\n",
    "    copy_matrix[row2,:] = matrix[row1,:]\n",
    "    \n",
    "    return copy_matrix\n",
    "\n",
    "\n",
    "# Multiple all entries in a row by a nonzero number\n",
    "\n",
    "\n",
    "def scale(matrix, row, scalar):\n",
    "    copy_matrix=np.copy(matrix).astype('float64') \n",
    "    copy_matrix[row,:] = scalar*matrix[row,:]  \n",
    "    return copy_matrix\n",
    "\n",
    "# Replacing row 1 by the sum of itself and a multiple of row2 \n",
    "\n",
    "def replace(matrix, row1, row2, scalar):\n",
    "    copy_matrix = np.copy(matrix).astype('float64')\n",
    "    copy_matrix[row1] = matrix[row1] + scalar * matrix[row2] \n",
    "    return copy_matrix"
   ]
  },
  {
   "cell_type": "markdown",
   "metadata": {},
   "source": [
    "__Step 1__: Start with the leftmost nonzero entry in the first column and bring it to the top row. This is a pivot column, and the pivot position should be on top."
   ]
  },
  {
   "cell_type": "code",
   "execution_count": 5,
   "metadata": {},
   "outputs": [
    {
     "data": {
      "text/plain": [
       "array([0, 2, 3])"
      ]
     },
     "execution_count": 5,
     "metadata": {},
     "output_type": "execute_result"
    }
   ],
   "source": [
    "#the leftmost nonzero column:\n",
    "A[:,0]"
   ]
  },
  {
   "cell_type": "markdown",
   "metadata": {},
   "source": [
    "__Step 2__: Select a nonzero entry in the pivot column as a pivot. If necessary swap the rows to move this entrty to the top. "
   ]
  },
  {
   "cell_type": "code",
   "execution_count": 6,
   "metadata": {},
   "outputs": [
    {
     "data": {
      "text/plain": [
       "array([[ 2., -1.,  1.,  8.],\n",
       "       [ 0.,  2.,  3.,  9.],\n",
       "       [ 3.,  0., -1.,  3.]])"
      ]
     },
     "execution_count": 6,
     "metadata": {},
     "output_type": "execute_result"
    }
   ],
   "source": [
    "#The first nonzero element is at row 2. Swap the rows 1 and 2:\n",
    "A1 = swap(A, 0, 1)\n",
    "A1"
   ]
  },
  {
   "cell_type": "markdown",
   "metadata": {},
   "source": [
    "__Step 3__: Use scaling operation to make the pivot 1, and replacement operation to create zeros below the leading 1:"
   ]
  },
  {
   "cell_type": "code",
   "execution_count": 7,
   "metadata": {},
   "outputs": [
    {
     "data": {
      "text/plain": [
       "array([[ 1. , -0.5,  0.5,  4. ],\n",
       "       [ 0. ,  2. ,  3. ,  9. ],\n",
       "       [ 3. ,  0. , -1. ,  3. ]])"
      ]
     },
     "execution_count": 7,
     "metadata": {},
     "output_type": "execute_result"
    }
   ],
   "source": [
    "#Divide row1 by 2 \n",
    "A2 = scale(A_1, 0, 1/2)\n",
    "A2"
   ]
  },
  {
   "cell_type": "code",
   "execution_count": 8,
   "metadata": {},
   "outputs": [
    {
     "data": {
      "text/plain": [
       "array([[ 1. , -0.5,  0.5,  4. ],\n",
       "       [ 0. ,  2. ,  3. ,  9. ],\n",
       "       [ 0. ,  1.5, -2.5, -9. ]])"
      ]
     },
     "execution_count": 8,
     "metadata": {},
     "output_type": "execute_result"
    }
   ],
   "source": [
    "#Replace row3  by row3-3*row1\n",
    "\n",
    "A3 = replace(A_2,2,0,-3)\n",
    "A3"
   ]
  },
  {
   "cell_type": "markdown",
   "metadata": {},
   "source": [
    "__Step 4:__ Ignore the row with a pivot position and cover all rows, if any, above it. For the remaining matrix, apply steps 1-3. Repeat the process until there are no more non-zero rows to modify."
   ]
  },
  {
   "cell_type": "code",
   "execution_count": 9,
   "metadata": {},
   "outputs": [
    {
     "data": {
      "text/plain": [
       "array([[ 1. , -0.5,  0.5,  4. ],\n",
       "       [ 0. ,  1. ,  1.5,  4.5],\n",
       "       [ 0. ,  1.5, -2.5, -9. ]])"
      ]
     },
     "execution_count": 9,
     "metadata": {},
     "output_type": "execute_result"
    }
   ],
   "source": [
    "#Divide row2 by 2 \n",
    "A4 = scale(A_3, 1, 1/2)\n",
    "A4"
   ]
  },
  {
   "cell_type": "code",
   "execution_count": 10,
   "metadata": {},
   "outputs": [
    {
     "data": {
      "text/plain": [
       "array([[  1.  ,  -0.5 ,   0.5 ,   4.  ],\n",
       "       [  0.  ,   1.  ,   1.5 ,   4.5 ],\n",
       "       [  0.  ,   0.  ,  -4.75, -15.75]])"
      ]
     },
     "execution_count": 10,
     "metadata": {},
     "output_type": "execute_result"
    }
   ],
   "source": [
    "#Replace row3  by row3-3*row1\n",
    "\n",
    "A5 = replace(A_4, 2, 1, -1.5)\n",
    "A5"
   ]
  },
  {
   "cell_type": "markdown",
   "metadata": {},
   "source": [
    "We apply the fifth step to get the RREF:\n",
    "\n",
    "__Step 5__: If a pivot is not one, we use the scaling operation to make it one. Moreover, we create zeros above each pivot starting with the rightmost pivot and working upward and to the left.\n"
   ]
  },
  {
   "cell_type": "code",
   "execution_count": 11,
   "metadata": {},
   "outputs": [
    {
     "data": {
      "text/plain": [
       "array([[ 1.        , -0.5       ,  0.5       ,  4.        ],\n",
       "       [ 0.        ,  1.        ,  1.5       ,  4.5       ],\n",
       "       [-0.        , -0.        ,  1.        ,  3.31578947]])"
      ]
     },
     "execution_count": 11,
     "metadata": {},
     "output_type": "execute_result"
    }
   ],
   "source": [
    "#make all entries in pivot positions 1\n",
    "A6 = scale(A_5,2, 1/-4.75)\n",
    "A6"
   ]
  },
  {
   "cell_type": "code",
   "execution_count": 12,
   "metadata": {},
   "outputs": [
    {
     "data": {
      "text/plain": [
       "array([[ 1.        ,  0.        ,  1.25      ,  6.25      ],\n",
       "       [ 0.        ,  1.        ,  1.5       ,  4.5       ],\n",
       "       [-0.        , -0.        ,  1.        ,  3.31578947]])"
      ]
     },
     "execution_count": 12,
     "metadata": {},
     "output_type": "execute_result"
    }
   ],
   "source": [
    "#replace row1 by row1 + 0.5* row 2\n",
    "A7 = replace(A_6, 0, 1, 0.5)\n",
    "A7"
   ]
  },
  {
   "cell_type": "code",
   "execution_count": 13,
   "metadata": {},
   "outputs": [
    {
     "data": {
      "text/plain": [
       "array([[ 1.        ,  0.        ,  0.        ,  2.10526316],\n",
       "       [ 0.        ,  1.        ,  1.5       ,  4.5       ],\n",
       "       [-0.        , -0.        ,  1.        ,  3.31578947]])"
      ]
     },
     "execution_count": 13,
     "metadata": {},
     "output_type": "execute_result"
    }
   ],
   "source": [
    "#replace row1 by row1 - 1.25* row 2\n",
    "A8 = replace(A_7, 0, 2, -1.25)\n",
    "A8"
   ]
  },
  {
   "cell_type": "code",
   "execution_count": 14,
   "metadata": {},
   "outputs": [
    {
     "data": {
      "text/plain": [
       "array([[ 1.        ,  0.        ,  0.        ,  2.10526316],\n",
       "       [ 0.        ,  1.        ,  0.        , -0.47368421],\n",
       "       [-0.        , -0.        ,  1.        ,  3.31578947]])"
      ]
     },
     "execution_count": 14,
     "metadata": {},
     "output_type": "execute_result"
    }
   ],
   "source": [
    "#replace row2 by row2 - 1.5* row 3\n",
    "A9 = replace(A_8,1,2,-1.5)\n",
    "A9"
   ]
  },
  {
   "cell_type": "markdown",
   "metadata": {},
   "source": [
    "$A_9$ is the RREF of $A$, and the augmented column (the rightmost column) of $A_9$ is the solution to the original system.\n",
    "\n",
    "__Example 2__\n",
    "\n",
    "Find the solution set of the following system of equations:\n",
    "\n",
    "$$\n",
    "\\begin{align*}\n",
    "2x -5y +z &= 2 \\\\\n",
    "x -y &= 4 \\\\\n",
    "3x-z &= 3 \n",
    "\\end{align*} \n",
    "$$\n",
    "\n",
    "\n",
    "__Solution__: Let's setup the augmented matrix of the system and then convert it to its RREF:"
   ]
  },
  {
   "cell_type": "code",
   "execution_count": 19,
   "metadata": {},
   "outputs": [
    {
     "data": {
      "text/plain": [
       "array([[ 2, -5,  1,  2],\n",
       "       [ 1, -1,  0,  4],\n",
       "       [ 3,  0, -1,  3]])"
      ]
     },
     "execution_count": 19,
     "metadata": {},
     "output_type": "execute_result"
    }
   ],
   "source": [
    "#The augmented matrix\n",
    "R = np.array([[2,-5, 1, 2], [1,-1,0,4], [3,0,-1,3]])\n",
    "R"
   ]
  },
  {
   "cell_type": "code",
   "execution_count": 20,
   "metadata": {},
   "outputs": [
    {
     "data": {
      "text/plain": [
       "array([[ 1., -1.,  0.,  4.],\n",
       "       [ 2., -5.,  1.,  2.],\n",
       "       [ 3.,  0., -1.,  3.]])"
      ]
     },
     "execution_count": 20,
     "metadata": {},
     "output_type": "execute_result"
    }
   ],
   "source": [
    "#finding the first pivot entry: 1\n",
    "R1= swap(R, 1, 0)\n",
    "R1"
   ]
  },
  {
   "cell_type": "code",
   "execution_count": 21,
   "metadata": {},
   "outputs": [
    {
     "data": {
      "text/plain": [
       "array([[ 1., -1.,  0.,  4.],\n",
       "       [ 0., -3.,  1., -6.],\n",
       "       [ 3.,  0., -1.,  3.]])"
      ]
     },
     "execution_count": 21,
     "metadata": {},
     "output_type": "execute_result"
    }
   ],
   "source": [
    "#making entries below 1 zero\n",
    "R2 = replace(R1, 1, 0, -2)\n",
    "R2"
   ]
  },
  {
   "cell_type": "code",
   "execution_count": 22,
   "metadata": {},
   "outputs": [
    {
     "data": {
      "text/plain": [
       "array([[ 1., -1.,  0.,  4.],\n",
       "       [ 0., -3.,  1., -6.],\n",
       "       [ 0.,  3., -1., -9.]])"
      ]
     },
     "execution_count": 22,
     "metadata": {},
     "output_type": "execute_result"
    }
   ],
   "source": [
    "R3 = replace(R2, 2,0, -3)\n",
    "R3"
   ]
  },
  {
   "cell_type": "code",
   "execution_count": 23,
   "metadata": {},
   "outputs": [
    {
     "data": {
      "text/plain": [
       "array([[  1.,  -1.,   0.,   4.],\n",
       "       [  0.,  -3.,   1.,  -6.],\n",
       "       [  0.,   0.,   0., -15.]])"
      ]
     },
     "execution_count": 23,
     "metadata": {},
     "output_type": "execute_result"
    }
   ],
   "source": [
    "#making entries below the second pivot entry (-3) zero\n",
    "R4 = replace(R3, 2, 1, 1)\n",
    "R4"
   ]
  },
  {
   "cell_type": "markdown",
   "metadata": {},
   "source": [
    "R4 is in REF. Now we write back the corresponding linear system:\n",
    "\n",
    "$$\n",
    "\\begin{align*}\n",
    "x + y &= 4 \\\\\n",
    "-3y + z &= -6 \\\\\n",
    "0 &= -15 \n",
    "\\end{align*} \n",
    "$$\n",
    "\n",
    "The last equation is impossible, which means the system is inconsistent.\n"
   ]
  },
  {
   "cell_type": "markdown",
   "metadata": {},
   "source": [
    "## Exercises"
   ]
  },
  {
   "cell_type": "markdown",
   "metadata": {},
   "source": [
    "\n",
    "1. Find a linear system containing two equations in two unknowns that has infinitely many solutions. Verify your answer by plotting the lines of these equations on the same plane.\n",
    "\n",
    "\n",
    "\n",
    "2. Find a linear system that is equivalent to the linear system in Example 1.\n",
    "\n",
    "\n",
    "3. Determine which of the following matrices are in REF. For those that are, identify their pivot columns. Are any in RREF?\n",
    "\n",
    "\n",
    "$A = \\begin{bmatrix} 0 & 0 & 4 &-1 && 0\\\\ 0 & 0 & 0 &0 && 0 \\\\ 0 & 0& 0 & 0 &&3\\end{bmatrix}$\n",
    "\n",
    "\n",
    "$B = \\begin{bmatrix} 1 & 1 & 0 && 1\\\\  0 & 1 & 1 &&0\\\\ 0 & 0 & 1 &&1 \\end{bmatrix}$\n",
    "\n",
    "$C = \\begin{bmatrix} 1 & 0 & 3 && 0\\\\  0 & 1 & 0 &&0\\\\ 0 & 0 & 0 &&1 \\end{bmatrix}$\n",
    "\n",
    "\n",
    "4. For the above matrices write the coresponding linear systems and find their solutions. \n",
    "\n",
    "5. Find the REF of $D = \\begin{bmatrix} 0 & 1 & 2\\\\ 1 & 0 & 3\\\\ 4 & -3 & 8 \\end{bmatrix}$.\n",
    "\n"
   ]
  }
 ],
 "metadata": {
  "kernelspec": {
   "display_name": "Python 3",
   "language": "python",
   "name": "python3"
  },
  "language_info": {
   "codemirror_mode": {
    "name": "ipython",
    "version": 3
   },
   "file_extension": ".py",
   "mimetype": "text/x-python",
   "name": "python",
   "nbconvert_exporter": "python",
   "pygments_lexer": "ipython3",
   "version": "3.8.5"
  }
 },
 "nbformat": 4,
 "nbformat_minor": 4
}
