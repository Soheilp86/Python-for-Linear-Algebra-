{
 "cells": [
  {
   "cell_type": "markdown",
   "metadata": {},
   "source": [
    "# 2.1 Determinant\n",
    "\n",
    "This section introduces the determinant of matrices and explores some of their properties, applications, and computation methods. The determinant of a square matrix is a useful concept in linear algebra and have many theoretical and practical roles, including:\n",
    "\n",
    "1. Determining the invertibility of a matrix.\n",
    "2. Determining the linear dependency of a set of vectors.\n",
    "3. Computing the area of parallelograms or the volume of parallelepipeds.\n",
    "4. Solving linear systems (Cramer's rule).\n",
    "5. Finding the inverse of an invertible matrix.\n",
    "\n",
    "Note that applications (4) and (5) are based on Cramer's rule, which is a theoretical tool but not an efficient computational method. We won't discuss Cramer's rule.\n",
    "\n"
   ]
  },
  {
   "cell_type": "markdown",
   "metadata": {},
   "source": [
    "## Cofactor expansion"
   ]
  },
  {
   "cell_type": "markdown",
   "metadata": {},
   "source": [
    "In the previous section, we defined the determinant of a $2\\times 2$ matrix as $det(A) = ad-bc$, where $A = \\begin{bmatrix} a & b \\\\ c & d \\end{bmatrix}$. To extend this definition to larger matrices, we follow a recursive approach. For example, to find the determinant of a $3\\times 3$ matrix, we can use $2\\times 2$ determinants.\n",
    "\n",
    "Let $A = \\begin{bmatrix} a_{11} & a_{12} & a_{13} \\\\ a_{21} & a_{22} & a_{23} \\\\ a_{31} & a_{32} & a_{33} \\end{bmatrix}$ be a general $3\\times 3$ matrix. For any entry $a_{ij}$, let $A_{ij}$ denote a $2\\times 2$ submatrix of $A$ defined by removing the row and column of $A$ that contain $a_{ij}$. For example, $A_{12} = \\begin{bmatrix} a_{21} & a_{23} \\\\ a_{31} & a_{33} \\end{bmatrix}$ and $A_{23} = \\begin{bmatrix} a_{11} & a_{13} \\\\ a_{31} & a_{33} \\end{bmatrix}$.\n",
    "\n",
    "__Example 1:__ Write a Python code that prints all submatrices of $M = \\begin{bmatrix} 1 & 2 & 3\\\\ 4 & 5 & 6\\\\ 7 & 8 & 9 \\end{bmatrix}$.\n",
    "\n",
    "__Solution:__"
   ]
  },
  {
   "cell_type": "code",
   "execution_count": 1,
   "metadata": {},
   "outputs": [
    {
     "data": {
      "text/plain": [
       "array([[1, 2, 3],\n",
       "       [4, 5, 6],\n",
       "       [7, 8, 9]])"
      ]
     },
     "execution_count": 1,
     "metadata": {},
     "output_type": "execute_result"
    }
   ],
   "source": [
    "import numpy as np\n",
    "M = np.array([[1,2,3],[4,5,6],[7,8,9]])\n",
    "M"
   ]
  },
  {
   "cell_type": "code",
   "execution_count": 2,
   "metadata": {},
   "outputs": [
    {
     "name": "stdout",
     "output_type": "stream",
     "text": [
      " \n",
      " M( 0 0 ) = \n",
      " \n",
      " [[5 6]\n",
      " [8 9]]\n",
      "******************************\n",
      " \n",
      " M( 1 0 ) = \n",
      " \n",
      " [[2 3]\n",
      " [8 9]]\n",
      "******************************\n",
      " \n",
      " M( 2 0 ) = \n",
      " \n",
      " [[2 3]\n",
      " [5 6]]\n",
      "******************************\n",
      " \n",
      " M( 0 1 ) = \n",
      " \n",
      " [[4 6]\n",
      " [7 9]]\n",
      "******************************\n",
      " \n",
      " M( 1 1 ) = \n",
      " \n",
      " [[1 3]\n",
      " [7 9]]\n",
      "******************************\n",
      " \n",
      " M( 2 1 ) = \n",
      " \n",
      " [[1 3]\n",
      " [4 6]]\n",
      "******************************\n",
      " \n",
      " M( 0 2 ) = \n",
      " \n",
      " [[4 5]\n",
      " [7 8]]\n",
      "******************************\n",
      " \n",
      " M( 1 2 ) = \n",
      " \n",
      " [[1 2]\n",
      " [7 8]]\n",
      "******************************\n",
      " \n",
      " M( 2 2 ) = \n",
      " \n",
      " [[1 2]\n",
      " [4 5]]\n",
      "******************************\n"
     ]
    }
   ],
   "source": [
    "for j in range (3):\n",
    "    for i in range (3):\n",
    "        submatrix = np.delete( (np.delete(M, i , 0)), j ,1)\n",
    "        print (' \\n M(',i,j, ') = \\n \\n', submatrix) \n",
    "        print(30*\"*\")"
   ]
  },
  {
   "cell_type": "markdown",
   "metadata": {},
   "source": [
    "The determinant of $A$, expanded over the first row, is defined as:\n",
    "\n",
    "$$ det(A) = \\sum_{k=1}^{3} (-1)^{1+k} a_{1k}|A_{1k}| = a_{11}|A_{11}| - a_{12}|A_{12}| + a_{13}|A_{13}|$$\n",
    "\n",
    "Here $|A_{ij}|$ represents the determinant of the $A_{ij}$. Note that choosing a different row or column would give the same value. For example, using the second row:\n",
    "\n",
    "$$ det(A) = \\sum_{k=1}^{3} (-1)^{2+k} a_{2k}|A_{2k}| = -a_{21}|A_{21}| + a_{22}|A_{22}| - a_{23}|A_{23}|$$\n",
    "\n",
    "Similarly, using the second column:\n",
    "\n",
    "$$ det(A) = \\sum_{k=1}^{3} (-1)^{k+2} a_{k2}|A_{k2}| = -a_{12}|A_{12}| + a_{22}|A_{22}| - a_{32}|A_{32}|$$\n",
    "\n",
    "\n",
    "__Example 2__ Compute the determinent of $M= \\begin{bmatrix} 0 & 1 & 2\\\\ 1 & 0 & 3\\\\ 4 & -3 & 8 \\end{bmatrix}$.\n",
    "\n",
    "__Solution:__ \n",
    "Lets write a Python code that computes the determinant of a $3\\times 3$ matrix:"
   ]
  },
  {
   "cell_type": "code",
   "execution_count": 3,
   "metadata": {},
   "outputs": [],
   "source": [
    "M = np.array([[0,1,2],[1,0,3],[4,-3,8]])"
   ]
  },
  {
   "cell_type": "code",
   "execution_count": 5,
   "metadata": {},
   "outputs": [],
   "source": [
    "# Computes a 2x2 determinant\n",
    "def det2(matrix):\n",
    "    \n",
    "    if matrix.shape == (2, 2):\n",
    "        return matrix[0,0] * matrix[1,1] - matrix[0,1] * matrix[1,0]\n",
    "    else:\n",
    "        print(\"Please enter a 2x2 matrix\")\n",
    "\n",
    "# Computes the 3x3 determinat over a given row\n",
    "\n",
    "def det3(matrix, row):\n",
    "    if matrix.shape == (3, 3) and row in range(3):\n",
    "        det = 0\n",
    "        for j in range(3):\n",
    "            submatrix = np.delete( (np.delete(matrix, row , 0)), j ,1)   \n",
    "            det += (-1) ** (row + j) * matrix[row, j] * det2(submatrix)\n",
    "        return det\n",
    "    else:\n",
    "        print(\"The input matrix is not 3x3 or the row is not chosen in the right range\")\n"
   ]
  },
  {
   "cell_type": "code",
   "execution_count": 6,
   "metadata": {},
   "outputs": [
    {
     "data": {
      "text/plain": [
       "-2"
      ]
     },
     "execution_count": 6,
     "metadata": {},
     "output_type": "execute_result"
    }
   ],
   "source": [
    "det3(M,0)"
   ]
  },
  {
   "cell_type": "markdown",
   "metadata": {},
   "source": [
    "We can observe that selecting a different row does not affect the value of the determinant:"
   ]
  },
  {
   "cell_type": "code",
   "execution_count": 7,
   "metadata": {},
   "outputs": [
    {
     "data": {
      "text/plain": [
       "-2"
      ]
     },
     "execution_count": 7,
     "metadata": {},
     "output_type": "execute_result"
    }
   ],
   "source": [
    "det3(M,2)"
   ]
  },
  {
   "cell_type": "markdown",
   "metadata": {},
   "source": [
    "The determinant of an $n\\times n$ matrix A can be defined the same way recursievely:\n",
    "\n",
    "$$\n",
    "det(A) = \\sum^{n}_{i=1} (-1)^{1+i} a_{1i} det(A_{1i})\n",
    "$$ \n",
    "\n",
    "This formula is called __a cofactor expansion across the first row__ of $A$. \n",
    "\n",
    "Let's write a Python code that computes the determinant of a square matrix of an arbitary size:"
   ]
  },
  {
   "cell_type": "code",
   "execution_count": 9,
   "metadata": {},
   "outputs": [],
   "source": [
    "# Computes the determinant of an nxn matrix.\n",
    "\n",
    "def det(matrix):\n",
    "    n = matrix.shape[0]\n",
    "    if n == 1:\n",
    "        return matrix[0, 0]\n",
    "    elif n == 2:\n",
    "        return matrix[0, 0] * matrix[1, 1] - matrix[0, 1] * matrix[1, 0]\n",
    "    else:\n",
    "        det = 0\n",
    "        for j in range(n):\n",
    "            submatrix = np.delete( (np.delete(matrix, 0 , 0)), j ,1)   \n",
    "            det += (-1) ** (0 + j) * matrix[0, j] * det2(submatrix)\n",
    "        return det"
   ]
  },
  {
   "cell_type": "code",
   "execution_count": 10,
   "metadata": {},
   "outputs": [
    {
     "data": {
      "text/plain": [
       "-2"
      ]
     },
     "execution_count": 10,
     "metadata": {},
     "output_type": "execute_result"
    }
   ],
   "source": [
    "# determinant of matrix M\n",
    "det(M)"
   ]
  },
  {
   "cell_type": "markdown",
   "metadata": {},
   "source": [
    "## Properties of determinants"
   ]
  },
  {
   "cell_type": "markdown",
   "metadata": {},
   "source": [
    "\n",
    "Let's discuss the properties of determinants:\n",
    "\n",
    "If $A = \\begin{bmatrix} a & 0 \\\\ c & d \\end{bmatrix}$, then $det(A) = ad$. We can generalize this observation using induction:\n",
    "\n",
    "__Theorem 1__ \n",
    "\n",
    "The determinant of a triangular matrix is the product of its diagonal entries.\n",
    "\n",
    "Next, we will explore the impact of row operations on determinants.\n",
    "\n",
    "__Theorem 2__\n",
    "\n",
    "1. If a multiple of one row of matrix $A$ is added to another row to produce matrix $B$, then $det(A) = det(B)$.\n",
    "\n",
    "2. If two rows are interchanged to produce matrix $B$, then $det(A) = -det(B)$.\n",
    "\n",
    "3. If one row is multiplied by a scalar $k$ to produce matrix $B$, then $det(A) = k \\cdot det(B)$.\n",
    "\n",
    "Consequently, if a square matrix $A$ is reduced to $U$ using only row replacements and $r$ row swaps, then\n",
    "\n",
    "$$\n",
    "det(A) = (-1)^r \\cdot det(U)\n",
    "$$\n",
    "\n",
    "By combining __Theorem 1__ and __Theorem 2__, we can compute determinants effectively.\n",
    "\n",
    "__Example 3:__\n",
    "\n",
    "Compute $det \\begin{bmatrix} 0 & 1 & 2\\\\ 1 & 0 & 3\\\\ 4 & -3 & 8 \\end{bmatrix} $.\n",
    "\n",
    "__Solution:__\n",
    "\n",
    "We first convert the matrix to its row echelon form (REF) and then use Theorem 1 to find the determinant."
   ]
  },
  {
   "cell_type": "code",
   "execution_count": 11,
   "metadata": {},
   "outputs": [],
   "source": [
    "M = np.array([[0,1,2],[1,0,3],[4,-3,8]])\n",
    "\n",
    "# Elementry row operations:\n",
    "\n",
    "# Swap two rows\n",
    "\n",
    "def swap(matrix, row1, row2):\n",
    "    \n",
    "    copy_matrix=np.copy(matrix).astype('float64') \n",
    "  \n",
    "    copy_matrix[row1,:] = matrix[row2,:]\n",
    "    copy_matrix[row2,:] = matrix[row1,:]\n",
    "    \n",
    "    return copy_matrix\n",
    "\n",
    "\n",
    "# Multiple all entries in a row by a nonzero number\n",
    "\n",
    "\n",
    "def scale(matrix, row, scalar):\n",
    "    copy_matrix=np.copy(matrix).astype('float64') \n",
    "    copy_matrix[row,:] = scalar*matrix[row,:]  \n",
    "    return copy_matrix\n",
    "\n",
    "# Replacing a row by the sum of itself and a multiple of another \n",
    "\n",
    "def replace(matrix, row1, row2, scalar):\n",
    "    copy_matrix=np.copy(matrix).astype('float64')\n",
    "    copy_matrix[row1] = matrix[row1]+ scalar * matrix[row2] \n",
    "    return copy_matrix"
   ]
  },
  {
   "cell_type": "code",
   "execution_count": 12,
   "metadata": {},
   "outputs": [
    {
     "data": {
      "text/plain": [
       "array([[ 1.,  0.,  3.],\n",
       "       [ 0.,  1.,  2.],\n",
       "       [ 4., -3.,  8.]])"
      ]
     },
     "execution_count": 12,
     "metadata": {},
     "output_type": "execute_result"
    }
   ],
   "source": [
    "M1 = swap(M, 0, 1)\n",
    "M1"
   ]
  },
  {
   "cell_type": "code",
   "execution_count": 13,
   "metadata": {},
   "outputs": [
    {
     "data": {
      "text/plain": [
       "array([[ 1.,  0.,  3.],\n",
       "       [ 0.,  1.,  2.],\n",
       "       [ 0., -3., -4.]])"
      ]
     },
     "execution_count": 13,
     "metadata": {},
     "output_type": "execute_result"
    }
   ],
   "source": [
    "M2 = replace(M1, 2, 0, -4)\n",
    "M2"
   ]
  },
  {
   "cell_type": "code",
   "execution_count": 14,
   "metadata": {},
   "outputs": [
    {
     "data": {
      "text/plain": [
       "array([[1., 0., 3.],\n",
       "       [0., 1., 2.],\n",
       "       [0., 0., 2.]])"
      ]
     },
     "execution_count": 14,
     "metadata": {},
     "output_type": "execute_result"
    }
   ],
   "source": [
    "M3 = replace(M2, 2, 1, 3)\n",
    "M3"
   ]
  },
  {
   "cell_type": "markdown",
   "metadata": {},
   "source": [
    "Since we used only one row swap, we have:\n",
    "\n",
    "$$\n",
    "\\text{det}(M) = - \\text{det}(M_3)\n",
    "$$\n",
    "\n",
    "Using Theorem 2, we have:\n",
    "\n",
    "$$\n",
    "\\text{det}(M) = - \\text{det}(M_3) = -2\n",
    "$$\n",
    "\n",
    "As mentioned in the introduction, the determinant can be used to check the invertibility of matrices.\n",
    "\n",
    "__Theorem 3 (Determinants and Invertibility):__\n",
    "\n",
    "A square matrix $A$ is invertible if and only if $\\text{det}(A) \\neq 0$.\n",
    "\n",
    "__Theorem 4:__\n",
    "\n",
    "Let $A$ and $B$ be two square matrices of the same size. Then:\n",
    "\n",
    "1. $\\text{det}(A^T) = \\text{det}(A)$.\n",
    "\n",
    "2. $\\text{det}(AB) = \\text{det}(A) \\cdot \\text{det}(B)$.\n",
    "\n",
    "3. If $A$ is invertible, then $\\text{det}(A)^{-1} = \\frac{1}{\\text{det}(A)}$.\n",
    "\n",
    "__Example 4:__ Compute $\\text{det}(B^4)$, where $B = \\begin{bmatrix} 1 & 1 & 2\\\\ 2 & 0 & 3\\\\ 5 & -3 & 8 \\end{bmatrix}$.\n",
    "\n",
    "__Solution:__ Using Theorem 4 part 2, it's easy to see that $\\text{det}(B^4) = (\\text{det}(B))^4$."
   ]
  },
  {
   "cell_type": "code",
   "execution_count": 16,
   "metadata": {},
   "outputs": [
    {
     "data": {
      "text/plain": [
       "256"
      ]
     },
     "execution_count": 16,
     "metadata": {},
     "output_type": "execute_result"
    }
   ],
   "source": [
    "B = np.array([[1,1,2],[2,0,3],[5,-3,8]])\n",
    "\n",
    "#compute det(B)\n",
    "det(B)\n",
    "\n",
    "#using Theorem 4 to compute det(B)^4\n",
    "\n",
    "det(B) ** 4\n"
   ]
  },
  {
   "cell_type": "markdown",
   "metadata": {},
   "source": [
    "## Determinants as Area or Volume"
   ]
  },
  {
   "cell_type": "markdown",
   "metadata": {},
   "source": [
    "\n",
    "__Theorem 5:__\n",
    "\n",
    "1. If $A$ is a $2 \\times 2$ matrix, then $|\\text{det}(A)|$ is the area of the parallelogram determined by the columns of $A$.\n",
    "\n",
    "2. If $A$ is a $3 \\times 3$ matrix, then $|\\text{det}(A)|$ is the volume of the parallelepiped determined by the columns of $A$.\n",
    "\n",
    "In particular, three points $\\vec{u}, \\vec{v}, \\vec{w}$ in $\\mathbb{R}^3$ are coplanar ( i.e., they lie on the same plane) if and only if $\\text{det}([\\vec{u}, \\vec{v}, \\vec{w}]) = 0$.\n",
    "\n",
    "The theorem is obviously true for diagonal matrices.\n",
    "\n",
    "__Example 5:__\n",
    "\n",
    "1. Let $A = \\begin{bmatrix} 3 & 0 \\\\ 0 & -2 \\end{bmatrix}$. The area of the parallelogram determined by $\\begin{bmatrix} a \\\\ 0 \\end{bmatrix}$ and $\\begin{bmatrix} 0 \\\\ d \\end{bmatrix}$ is $|-6| = 6$."
   ]
  },
  {
   "cell_type": "code",
   "execution_count": 17,
   "metadata": {},
   "outputs": [
    {
     "data": {
      "image/png": "[encoded data removed]",
      "text/plain": [
       "<Figure size 432x288 with 1 Axes>"
      ]
     },
     "metadata": {
      "needs_background": "light"
     },
     "output_type": "display_data"
    }
   ],
   "source": [
    "import matplotlib.pyplot as plt\n",
    "\n",
    "# Define x and y values for the lines\n",
    "x = range(0, 4)\n",
    "y1 = [ 0 for k in x]\n",
    "y2 = [ 2 for k in x]\n",
    "y = range(0, 3)\n",
    "x1 = [3 for k in y]\n",
    "x2 = [0 for k in y]\n",
    "\n",
    "# Plot the lines on the same plane\n",
    "plt.plot(x, y1, 'b')\n",
    "plt.plot(x, y2, 'b')\n",
    "plt.plot(x1, y, 'r')\n",
    "plt.plot(x2, y, 'r')\n",
    "\n",
    "# Add labels to the graph\n",
    "plt.xlabel('x')\n",
    "plt.ylabel('y')\n",
    "plt.grid()\n",
    "\n",
    "# Show the graph\n",
    "plt.show()"
   ]
  },
  {
   "cell_type": "markdown",
   "metadata": {},
   "source": [
    "__Example 6__\n",
    "\n",
    "Determine if the following points are coplaner.\n",
    "\n",
    "$\\begin{bmatrix} 1 \\\\ 0  \\\\2 \\end{bmatrix},  \n",
    "\\begin{bmatrix} 4 \\\\ 3  \\\\5 \\end{bmatrix}, \\begin{bmatrix} 3 \\\\ 4 \\\\6 \\end{bmatrix}$ \n",
    "\n",
    "\n",
    "__Solution:__\n",
    "\n",
    "To determine if the above points are coplanar, we check whether or not $det \\left(\\ \\begin{bmatrix} 1 & 0 & 2 \\\\ 4 & 3 & 5 \\\\ 3 & 4 & 6 \\end{bmatrix}\\ \\right) = 0$:"
   ]
  },
  {
   "cell_type": "code",
   "execution_count": 18,
   "metadata": {},
   "outputs": [
    {
     "data": {
      "text/plain": [
       "12"
      ]
     },
     "execution_count": 18,
     "metadata": {},
     "output_type": "execute_result"
    }
   ],
   "source": [
    "A = np.array([[1,0,2],[4,3,5],[3,4,6]])\n",
    "\n",
    "det(A)"
   ]
  },
  {
   "cell_type": "markdown",
   "metadata": {},
   "source": [
    "Since $det(A)\\neq 0$, the mentioned points are not coplanar. In fact they form a parrallelopiped of volume 12. "
   ]
  },
  {
   "cell_type": "markdown",
   "metadata": {},
   "source": [
    "## Numerical Note\n",
    "\n",
    "\n",
    "\n",
    "In this section, we discussed two different ways to compute the determinant of a square matrix: cofactor expansion and row operations.  \n",
    "\n",
    "While cofactor expansion is a straightforward approach, it becomes computationally impossible for large matrices. In fact, cofactor expansion requires $n!$ multiplications for an $n \\times n$ matrix. If a computer can perform a trillion multiplications per second, computing the determinant of a $25 \\times 25$ matrix would take approximately $500 \\times 500$ years!\n",
    "\n",
    "On the other hand, evaluating the determinant of an $n \\times n$ matrix using row operations involves about $\\frac{2n^3}{3}$ arithmetic operations. Using this method, the determinant of a $25 \\times 25$ matrix can be computed in a fraction of a second on most microcomputers.\n",
    " "
   ]
  },
  {
   "cell_type": "markdown",
   "metadata": {},
   "source": [
    "## Exercises:"
   ]
  },
  {
   "cell_type": "markdown",
   "metadata": {},
   "source": [
    "1. Let $A$ be an $n\\times n$ matrix such that $A^2 = I_n$. Show that $det(A) = \\pm 1$.\n",
    "\n",
    "2. Find the determinant of $A = \\begin{bmatrix} 1 & 1 & 2 \\\\ 2 & 0 & 3 \\\\ 5 & -3 & 8 \\end{bmatrix}$ using the row reduction method.\n",
    "\n",
    "3. Use determinants to decide if the set $\\left\\lbrace \\begin{bmatrix} 1 \\\\ 2 \\\\ 3 \\end{bmatrix}, \\begin{bmatrix} 4 \\\\ 5 \\\\ 6 \\end{bmatrix}, \\begin{bmatrix} 7 \\\\ 8 \\\\ 9 \\end{bmatrix} \\right\\rbrace$ is linearly independent.\n",
    "\n",
    "4. Suppose $A$, $B$, $P$ are $n\\times n$ matrices, $P$ is invertible, and $r$ is a real number. Mark True or False:\n",
    "\n",
    "   a. $det(A+B) = det(A) + det(B)$.\n",
    "   \n",
    "   b. $det(rA) = r \\cdot det(A)$.\n",
    "   \n",
    "   c. $det(PAP^{-1}) = det(A)$.\n",
    "\n",
    "5. Determine if the following points are coplanar (i.e., they lie on the same plane):\n",
    "\n",
    "   $\\begin{bmatrix} 1 \\\\ 0 \\\\ 2 \\end{bmatrix}, \\begin{bmatrix} 4 \\\\ 3 \\\\ 5 \\end{bmatrix}, \\begin{bmatrix} 3 \\\\ 0 \\\\ 6 \\end{bmatrix}$"
   ]
  }
 ],
 "metadata": {
  "kernelspec": {
   "display_name": "Python 3",
   "language": "python",
   "name": "python3"
  },
  "language_info": {
   "codemirror_mode": {
    "name": "ipython",
    "version": 3
   },
   "file_extension": ".py",
   "mimetype": "text/x-python",
   "name": "python",
   "nbconvert_exporter": "python",
   "pygments_lexer": "ipython3",
   "version": "3.8.5"
  }
 },
 "nbformat": 4,
 "nbformat_minor": 4
}
