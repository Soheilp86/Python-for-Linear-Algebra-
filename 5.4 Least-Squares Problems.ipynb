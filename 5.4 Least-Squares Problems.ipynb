{
 "cells": [
  {
   "cell_type": "markdown",
   "id": "b9749d9a",
   "metadata": {},
   "source": [
    "# 5.4 Least-Squares Problems\n",
    "\n",
    "Linear systems arising in applications are often inconsistent. In such situations, the best one can do is to find a vector $\\vec{x}'$ that makes $A\\vec{x}$ as close as possible to $\\vec{b}$. We think of $A\\vec{x}$ as an approximation of $\\vec{b}$. The smaller $\\|\\vec{b} - A\\vec{x}\\|$, the better the approximation. Therefore, we are looking for a vector $\\hat{y}$ such that $\\|\\vec{b} - A\\hat{x}\\|$ is as small as possible. Such $\\vec{y}$ is called the _least square solution_ of $A\\vec{x} = \\vec{b}$. The name is motivated by the fact that $\\|\\vec{b} - A\\hat{x}\\|$ is the square root of a sum of squares. In this section we explore this idea further."
   ]
  },
  {
   "cell_type": "markdown",
   "id": "119b60cd",
   "metadata": {},
   "source": [
    "Let $A\\vec{x} = \\vec{b}$ be inconsistent, which implies $\\vec{b}\\notin \\text{col}(A)$. Note that no matter what $\\vec{x}$ is, $A\\vec{x}$ lies in $\\text{col}(A)$. From Section 5.2, we know that the closest point to $\\vec{b}$ in $\\text{col}(A)$ is the projection of $\\vec{b}$ onto $\\text{col}(A)$ (the best approximation problem). Let $\\hat{b} = \\text{proj}_{\\text{col}(A)}(\\vec{b})$. Since $A\\vec{x} = \\hat{b}$ is consistent, there are $\\hat{x}$ such that $A\\hat{x} = \\hat{b}$. $\\hat{x}$ is a least square solution of $A\\vec{x} = \\vec{b}$. Recall that $\\vec{b} -\\hat{b}$ is orthogonal to $\\text{col}(A)$, and thus so is $\\vec{b} - A\\hat{x}$. In other words, $\\vec{b} - A\\hat{x}$ is orthogonal to each column of $A$, and we have:\n",
    "\n",
    "$$\n",
    "A^{T}(\\vec{b} - A\\hat{x}) = 0 \\quad \\text{or} \\quad A^{T}A\\vec{x}= A^{T}\\vec{b}.\n",
    "$$\n",
    "\n",
    "The equation $A^{T}A\\vec{x}= A^{T}\\vec{b}$ is called the __normal equation__ for $A\\vec{x} = \\vec{b}$.\n",
    "\n",
    "__Theorem 1__\n",
    "\n",
    "The set of least-squares solutions of $A\\vec{x} = \\vec{b}$ coincides with the nonempty set of solutions of the normal equation $A^{T}A\\vec{x}= A^{T}\\vec{b}$.\n",
    "\n",
    "\n",
    "\n",
    "\n",
    "__Example 1__\n",
    "\n",
    "Find a least-squares solution of the inconsistent system $A\\vec{x} = \\vec{b}$ for $A = \\begin{bmatrix} 4 & 2\\\\ 0 & 2 \\\\ 1 & 1 \\end{bmatrix}$ and $\\vec{b} = \\begin{bmatrix} 2 \\\\0 \\\\11 \\end{bmatrix}$.\n",
    "\n",
    "__Solution:__ First, let's find $A^TA$ and $A^T\\vec{b}$:"
   ]
  },
  {
   "cell_type": "code",
   "execution_count": 1,
   "id": "d3ca06df",
   "metadata": {},
   "outputs": [
    {
     "name": "stdout",
     "output_type": "stream",
     "text": [
      "A^TA = \n",
      " [[17  1]\n",
      " [ 1  5]]\n",
      "\n",
      " A^Tb = \n",
      " [[19]\n",
      " [11]]\n"
     ]
    }
   ],
   "source": [
    "import numpy as np\n",
    "\n",
    "A = np.array([[4,0], [0,2], [1,1]])\n",
    "\n",
    "b = np.array([[2], [0], [11]])\n",
    "\n",
    "# compute A^TA\n",
    "ATA = A.transpose() @ A \n",
    "\n",
    "print(\"A^TA = \\n\", ATA)\n",
    "\n",
    "# compute A^Tb\n",
    "ATb = A.transpose() @ b \n",
    "\n",
    "print(\"\\n A^Tb = \\n\", ATb)"
   ]
  },
  {
   "cell_type": "markdown",
   "id": "b5627e03",
   "metadata": {},
   "source": [
    "Thus, the normal equation for $A\\vec{x} = \\vec{b}$ is given by:\n",
    "\n",
    "$$\n",
    "\\begin{bmatrix} 17 & 1 \\\\ 1 & 5 \\end{bmatrix} \\begin{bmatrix} x_1 \\\\ x_2 \\end{bmatrix} = \\begin{bmatrix} 19 \\\\ 11 \\end{bmatrix}.\n",
    "$$\n",
    "\n",
    "To solve this equation, we can use row operations; alternatively, since $A^TA$ is invertible and $2 \\times 2$, we can use the invertible matrix theorem. In many calculations, $A^TA$ is invertible, but this is not always the case. In Theorem 2, we will see when this is true. The least square solution $\\hat{x}$ is given by:\n",
    "\n",
    "$$\n",
    "\\hat{x} = (A^TA)^{-1} A^{T}\\vec{b}.\n",
    "$$"
   ]
  },
  {
   "cell_type": "code",
   "execution_count": 2,
   "id": "ad60d2f3",
   "metadata": {},
   "outputs": [
    {
     "data": {
      "text/plain": [
       "array([[1.],\n",
       "       [2.]])"
      ]
     },
     "execution_count": 2,
     "metadata": {},
     "output_type": "execute_result"
    }
   ],
   "source": [
    "# computing x_hat\n",
    "\n",
    "x_hat = np.linalg.inv(ATA) @ ATb\n",
    "x_hat"
   ]
  },
  {
   "cell_type": "markdown",
   "id": "a0ba552b",
   "metadata": {},
   "source": [
    "\n",
    "__Example 2__ Find a least-squares solution of the inconsistent system $A\\vec{x} = \\vec{b}$ for $A = \\begin{bmatrix} 1 & 1 & 0 & 0\\\\ 1 & 1 & 0 & 0\\\\ 1 & 0 & 1 & 0\\\\1 & 0 & 1 & 0 \\\\1 & 0 & 0 & 1\\\\1 & 0 & 0 & 1 \\end{bmatrix}$ and $\\vec{b} = \\begin{bmatrix} -3 \\\\-1 \\\\0 \\\\2 \\\\5 \\\\1 \\end{bmatrix}$. \n",
    "\n",
    "__Solution__ \n",
    "\n",
    "Let's set up the normal equation for $A\\vec{x} = \\vec{b}$, and find a solution for it. "
   ]
  },
  {
   "cell_type": "code",
   "execution_count": 3,
   "id": "c53e3127",
   "metadata": {},
   "outputs": [
    {
     "name": "stdout",
     "output_type": "stream",
     "text": [
      "A^TA = \n",
      " [[6 2 2 2]\n",
      " [2 2 0 0]\n",
      " [2 0 2 0]\n",
      " [2 0 0 2]]\n",
      "\n",
      " A^Tb = \n",
      " [[ 4]\n",
      " [-4]\n",
      " [ 2]\n",
      " [ 6]]\n"
     ]
    }
   ],
   "source": [
    "A = np.array([[1,1,0,0], [1,1,0,0], [1,0,1,0],[1,0,1,0], [1,0,0,1],[1,0,0,1]])\n",
    "\n",
    "b = np.array([[-3,-1,0,2,5,1]])\n",
    "\n",
    "\n",
    "# compute A^TA\n",
    "ATA = A.T @ A\n",
    "print('A^TA = \\n', ATA)\n",
    "\n",
    "# compute A^Tb\n",
    "ATb = A.T @ b.T\n",
    "print('\\n A^Tb = \\n', ATb)"
   ]
  },
  {
   "cell_type": "markdown",
   "id": "ff4e277b",
   "metadata": {},
   "source": [
    "Thus, the normal equation is \n",
    "\n",
    "$$\n",
    "\\begin{bmatrix} 6 & 2 & 2 & 2 \\\\ 2 & 2 & 0 & 0 \\\\ 2 & 0 & 2 & 0 \\\\ 2 & 0 & 0 & 2 \\end{bmatrix} \\begin{bmatrix} x_1 \\\\ x_2 \\\\ x_3 \\\\ x_4 \\end{bmatrix} = \\begin{bmatrix} 4 \\\\ -4 \\\\ 2 \\\\6 \\end{bmatrix}\n",
    "$$\n",
    "\n",
    "To solve this equation we form its augmented matrix:"
   ]
  },
  {
   "cell_type": "code",
   "execution_count": 4,
   "id": "63042208",
   "metadata": {},
   "outputs": [
    {
     "data": {
      "text/plain": [
       "array([[ 6,  2,  2,  2,  4],\n",
       "       [ 2,  2,  0,  0, -4],\n",
       "       [ 2,  0,  2,  0,  2],\n",
       "       [ 2,  0,  0,  2,  6]])"
      ]
     },
     "execution_count": 4,
     "metadata": {},
     "output_type": "execute_result"
    }
   ],
   "source": [
    "#aumented \n",
    "M = np.concatenate((ATA, ATb), axis=1)\n",
    "M"
   ]
  },
  {
   "cell_type": "markdown",
   "id": "48cb408d",
   "metadata": {},
   "source": [
    "Call row operations:"
   ]
  },
  {
   "cell_type": "code",
   "execution_count": 5,
   "id": "ac37221e",
   "metadata": {},
   "outputs": [],
   "source": [
    "# Swap two rows\n",
    "\n",
    "def swap(matrix, row1, row2):\n",
    "    \n",
    "    copy_matrix=np.copy(matrix).astype('float64') \n",
    "  \n",
    "    copy_matrix[row1,:] = matrix[row2,:]\n",
    "    copy_matrix[row2,:] = matrix[row1,:]\n",
    "    \n",
    "    return copy_matrix\n",
    "\n",
    "\n",
    "# Multiple all entries in a row by a nonzero number\n",
    "\n",
    "\n",
    "def scale(matrix, row, scalar):\n",
    "    copy_matrix=np.copy(matrix).astype('float64') \n",
    "    copy_matrix[row,:] = scalar*matrix[row,:]  \n",
    "    return copy_matrix\n",
    "\n",
    "# Replacing a row1 by the sum of itself and a multiple of rpw2 \n",
    "\n",
    "def replace(matrix, row1, row2, scalar):\n",
    "    copy_matrix=np.copy(matrix).astype('float64')\n",
    "    copy_matrix[row1] = matrix[row1]+ scalar * matrix[row2] \n",
    "    return copy_matrix"
   ]
  },
  {
   "cell_type": "code",
   "execution_count": 6,
   "id": "d552950e",
   "metadata": {},
   "outputs": [
    {
     "data": {
      "text/plain": [
       "array([[ 2.,  0.,  2.,  0.,  2.],\n",
       "       [ 2.,  2.,  0.,  0., -4.],\n",
       "       [ 6.,  2.,  2.,  2.,  4.],\n",
       "       [ 2.,  0.,  0.,  2.,  6.]])"
      ]
     },
     "execution_count": 6,
     "metadata": {},
     "output_type": "execute_result"
    }
   ],
   "source": [
    "M1 = swap(M, 0, 2)\n",
    "M1"
   ]
  },
  {
   "cell_type": "code",
   "execution_count": 7,
   "id": "c4e45bf8",
   "metadata": {},
   "outputs": [
    {
     "data": {
      "text/plain": [
       "array([[ 1.,  0.,  1.,  0.,  1.],\n",
       "       [ 2.,  2.,  0.,  0., -4.],\n",
       "       [ 6.,  2.,  2.,  2.,  4.],\n",
       "       [ 2.,  0.,  0.,  2.,  6.]])"
      ]
     },
     "execution_count": 7,
     "metadata": {},
     "output_type": "execute_result"
    }
   ],
   "source": [
    "M2 = scale(M1, 0, 1/2)\n",
    "M2"
   ]
  },
  {
   "cell_type": "code",
   "execution_count": 8,
   "id": "c7e7544b",
   "metadata": {},
   "outputs": [
    {
     "data": {
      "text/plain": [
       "array([[ 1.,  0.,  1.,  0.,  1.],\n",
       "       [ 0.,  2., -2.,  0., -6.],\n",
       "       [ 6.,  2.,  2.,  2.,  4.],\n",
       "       [ 2.,  0.,  0.,  2.,  6.]])"
      ]
     },
     "execution_count": 8,
     "metadata": {},
     "output_type": "execute_result"
    }
   ],
   "source": [
    "M3 = replace(M2, 1, 0, -2)\n",
    "M3"
   ]
  },
  {
   "cell_type": "code",
   "execution_count": 9,
   "id": "b7e8de26",
   "metadata": {},
   "outputs": [
    {
     "data": {
      "text/plain": [
       "array([[ 1.,  0.,  1.,  0.,  1.],\n",
       "       [ 0.,  2., -2.,  0., -6.],\n",
       "       [ 0.,  2., -4.,  2., -2.],\n",
       "       [ 2.,  0.,  0.,  2.,  6.]])"
      ]
     },
     "execution_count": 9,
     "metadata": {},
     "output_type": "execute_result"
    }
   ],
   "source": [
    "M4 = replace(M3, 2, 0, -6)\n",
    "M4"
   ]
  },
  {
   "cell_type": "code",
   "execution_count": 10,
   "id": "a1166c52",
   "metadata": {},
   "outputs": [
    {
     "data": {
      "text/plain": [
       "array([[ 1.,  0.,  1.,  0.,  1.],\n",
       "       [ 0.,  2., -2.,  0., -6.],\n",
       "       [ 0.,  2., -4.,  2., -2.],\n",
       "       [ 0.,  0., -2.,  2.,  4.]])"
      ]
     },
     "execution_count": 10,
     "metadata": {},
     "output_type": "execute_result"
    }
   ],
   "source": [
    "M5 = replace(M4, 3, 0, -2)\n",
    "M5"
   ]
  },
  {
   "cell_type": "code",
   "execution_count": 11,
   "id": "78f95a52",
   "metadata": {},
   "outputs": [
    {
     "data": {
      "text/plain": [
       "array([[ 1.,  0.,  1.,  0.,  1.],\n",
       "       [ 0.,  1., -1.,  0., -3.],\n",
       "       [ 0.,  2., -4.,  2., -2.],\n",
       "       [ 0.,  0., -2.,  2.,  4.]])"
      ]
     },
     "execution_count": 11,
     "metadata": {},
     "output_type": "execute_result"
    }
   ],
   "source": [
    "M6 = scale(M5, 1, 1/2)\n",
    "M6"
   ]
  },
  {
   "cell_type": "code",
   "execution_count": 12,
   "id": "79a3f104",
   "metadata": {},
   "outputs": [
    {
     "data": {
      "text/plain": [
       "array([[ 1.,  0.,  1.,  0.,  1.],\n",
       "       [ 0.,  1., -1.,  0., -3.],\n",
       "       [ 0.,  0., -2.,  2.,  4.],\n",
       "       [ 0.,  0., -2.,  2.,  4.]])"
      ]
     },
     "execution_count": 12,
     "metadata": {},
     "output_type": "execute_result"
    }
   ],
   "source": [
    "M7 = replace(M6, 2, 1, -2)\n",
    "M7"
   ]
  },
  {
   "cell_type": "code",
   "execution_count": 13,
   "id": "314b072e",
   "metadata": {},
   "outputs": [
    {
     "data": {
      "text/plain": [
       "array([[ 1.,  0.,  1.,  0.,  1.],\n",
       "       [ 0.,  1., -1.,  0., -3.],\n",
       "       [-0., -0.,  1., -1., -2.],\n",
       "       [ 0.,  0., -2.,  2.,  4.]])"
      ]
     },
     "execution_count": 13,
     "metadata": {},
     "output_type": "execute_result"
    }
   ],
   "source": [
    "M8 = scale(M7, 2, -1/2)\n",
    "M8"
   ]
  },
  {
   "cell_type": "code",
   "execution_count": 14,
   "id": "2a5e1fd7",
   "metadata": {},
   "outputs": [
    {
     "data": {
      "text/plain": [
       "array([[ 1.,  0.,  1.,  0.,  1.],\n",
       "       [ 0.,  1., -1.,  0., -3.],\n",
       "       [-0., -0.,  1., -1., -2.],\n",
       "       [ 0.,  0.,  0.,  0.,  0.]])"
      ]
     },
     "execution_count": 14,
     "metadata": {},
     "output_type": "execute_result"
    }
   ],
   "source": [
    "M9 = replace(M8, 3, 2, 2)\n",
    "M9"
   ]
  },
  {
   "cell_type": "code",
   "execution_count": 15,
   "id": "7cf32c2d",
   "metadata": {},
   "outputs": [
    {
     "data": {
      "text/plain": [
       "array([[ 1.,  0.,  0.,  1.,  3.],\n",
       "       [ 0.,  1., -1.,  0., -3.],\n",
       "       [-0., -0.,  1., -1., -2.],\n",
       "       [ 0.,  0.,  0.,  0.,  0.]])"
      ]
     },
     "execution_count": 15,
     "metadata": {},
     "output_type": "execute_result"
    }
   ],
   "source": [
    "M10 = replace(M9, 0, 2, -1)\n",
    "M10"
   ]
  },
  {
   "cell_type": "code",
   "execution_count": 16,
   "id": "468a4004",
   "metadata": {},
   "outputs": [
    {
     "data": {
      "text/plain": [
       "array([[ 1.,  0.,  0.,  1.,  3.],\n",
       "       [ 0.,  1.,  0., -1., -5.],\n",
       "       [-0., -0.,  1., -1., -2.],\n",
       "       [ 0.,  0.,  0.,  0.,  0.]])"
      ]
     },
     "execution_count": 16,
     "metadata": {},
     "output_type": "execute_result"
    }
   ],
   "source": [
    "M11 = replace(M10, 1, 2, 1)\n",
    "M11"
   ]
  },
  {
   "cell_type": "markdown",
   "id": "d0a6c24d",
   "metadata": {},
   "source": [
    "The general solution is $x_1 = 3 - x_4$, $x_2 = -5 + x_4$, $x_3 = -2 + x_4$, and $x_4$ is a free parameter. So the general least-squares solution of $A\\vec{x} = \\vec{b}$ has the form:\n",
    "\n",
    "$$\n",
    "\\hat{x} = \\begin{bmatrix} 3 \\\\ -5 \\\\ -2 \\\\ 0 \\end{bmatrix} + x_4 \\begin{bmatrix} -1 \\\\ 1 \\\\ 1 \\\\ 0 \\end{bmatrix}.\n",
    "$$"
   ]
  },
  {
   "cell_type": "markdown",
   "id": "d37530d5",
   "metadata": {},
   "source": [
    "Any linear system $A\\vec{x} = \\vec{b}$ admits at least one least-squares solution (the orthogonal projection $\\hat{b}$). For example, the least-squares solution of $A\\vec{x} = \\vec{b}$ in Example 1 was unique, while the linear system in Example 2 has infinitely many least-squares solutions.\n",
    "\n",
    "The next theorem gives useful criteria for determining when there is only one least-squares solution.\n",
    "\n",
    "__Theorem 2__ \n",
    "\n",
    "Let $A$ be an $m\\times n$ matrix. The following statements are equivalent:\n",
    "\n",
    "   1. The equation $A\\vec{x} = \\vec{b}$ has a unique least-squares solution for each $\\vec{b}\\in \\mathbb{R}^n$.\n",
    "   \n",
    "   2. The columns of $A$ are linearly independent.\n",
    "   \n",
    "   3. The matrix $A^TA$ is invertible.\n",
    "   \n",
    "In any of these cases, the least-squares solution $\\hat{x}$ is given by:\n",
    "\n",
    "$$\n",
    "\\hat{x} = (A^TA)^{-1} A^T \\vec{b}.\n",
    "$$\n",
    "\n",
    "Moreover, if $A = QR$ is a $QR$-factorization of $A$, then the least-squares solution $\\hat{x}$ is given by:\n",
    "\n",
    "$$\n",
    "\\hat{x} = R^{-1} Q^{T} \\vec{b}. \\quad (*)\n",
    "$$"
   ]
  },
  {
   "cell_type": "markdown",
   "id": "dbcfffd3",
   "metadata": {},
   "source": [
    "__Example 3:__\n",
    "\n",
    "Let $A = \\begin{bmatrix} 1 & 3 & 5 \\\\ 1 & 1 & 0 \\\\ 1 & 1 & 2 \\\\ 1 & 3 & 3\\end{bmatrix}$ and $\\vec{b} = \\begin{bmatrix} 3 \\\\ 5 \\\\ 7 \\\\ -3 \\end{bmatrix}$. Find a least-squares solution of $A\\vec{x} = \\vec{b}$.\n",
    "\n",
    "__Solution:__\n",
    "\n",
    "A QR-factorization of $A$ can be obtained as in Section 5.3 using `numpy.linalg.qr()`:"
   ]
  },
  {
   "cell_type": "code",
   "execution_count": 17,
   "id": "3cf27a20",
   "metadata": {},
   "outputs": [
    {
     "name": "stdout",
     "output_type": "stream",
     "text": [
      "Q = \n",
      " [[-0.5  0.5 -0.5]\n",
      " [-0.5 -0.5  0.5]\n",
      " [-0.5 -0.5 -0.5]\n",
      " [-0.5  0.5  0.5]] \n",
      "\n",
      "R = \n",
      " [[-2. -4. -5.]\n",
      " [ 0.  2.  3.]\n",
      " [ 0.  0. -2.]]\n"
     ]
    }
   ],
   "source": [
    "A = np.array([[1,3,5], [1,1,0], [1,1,2],[1,3,3]])\n",
    "\n",
    "# QR factorization\n",
    "\n",
    "Q, R = np.linalg.qr(A)\n",
    "\n",
    "print('Q = \\n', Q, '\\n')\n",
    "\n",
    "print('R = \\n', R)"
   ]
  },
  {
   "cell_type": "markdown",
   "id": "48eb1b9f",
   "metadata": {},
   "source": [
    "Now we compute  $\\hat{x} = R^{-1} Q^{T} \\vec{b}:$"
   ]
  },
  {
   "cell_type": "code",
   "execution_count": 18,
   "id": "c8f86fe2",
   "metadata": {},
   "outputs": [
    {
     "data": {
      "text/plain": [
       "array([[10.],\n",
       "       [-6.],\n",
       "       [ 2.]])"
      ]
     },
     "execution_count": 18,
     "metadata": {},
     "output_type": "execute_result"
    }
   ],
   "source": [
    "# setup\n",
    "b = np.array([[3, 5, 7, -3]]).T\n",
    "\n",
    "#computing x_hat\n",
    "\n",
    "x_hat = np.linalg.inv(R) @ Q.T @ b\n",
    "x_hat"
   ]
  },
  {
   "cell_type": "markdown",
   "id": "50a62e63",
   "metadata": {},
   "source": [
    "## Numerical Note"
   ]
  },
  {
   "cell_type": "markdown",
   "id": "f46f0809",
   "metadata": {},
   "source": [
    "Since $R$ in $(*)$ is an upper triangular matrix, we can alternatively compute $\\hat{x}$ by finding the exact solutions of:\n",
    "\n",
    "$$\n",
    "R\\hat{x} = Q^{T} \\vec{b}. \\quad (**)\n",
    "$$\n",
    "\n",
    "For large matrices, solving $(**)$ by back-substitution or row operations is faster than computing $R^{-1}$ and using $(*)$."
   ]
  },
  {
   "cell_type": "markdown",
   "id": "38056aa4",
   "metadata": {},
   "source": [
    "## Excercises"
   ]
  },
  {
   "cell_type": "markdown",
   "id": "cf01f2de",
   "metadata": {},
   "source": [
    "\n",
    "\n",
    "1. Let $A = \\begin{bmatrix} 1 & -3 & -3 \\\\  1 & 5 & 1 \\\\ 1 & 1 & 2 \\\\ 1 & 7 & 2\\end{bmatrix}$ and $\\vec{b} = \\begin{bmatrix} 5 \\\\ -3 \\\\ -5 \\end{bmatrix}$.\n",
    "\n",
    "    a.  Find a least-squares solution of $A\\vec{x} = \\vec{b}$.\n",
    "    \n",
    "    b. Compute the associated least-squares error $\\| \\vec{b} - A\\hat{x}\\|$.\n",
    "\n",
    "\n",
    "\n",
    "\n",
    "2. Describe all least-squares solutions of the system\n",
    "\n",
    "$$\n",
    "\\begin{align*}\n",
    "    x + y &= 2 \\\\ \n",
    "    x + y &= 4 \\\\ \n",
    "\\end{align*}\n",
    "$$"
   ]
  },
  {
   "cell_type": "code",
   "execution_count": null,
   "id": "92b99180",
   "metadata": {},
   "outputs": [],
   "source": []
  }
 ],
 "metadata": {
  "kernelspec": {
   "display_name": "Python 3",
   "language": "python",
   "name": "python3"
  },
  "language_info": {
   "codemirror_mode": {
    "name": "ipython",
    "version": 3
   },
   "file_extension": ".py",
   "mimetype": "text/x-python",
   "name": "python",
   "nbconvert_exporter": "python",
   "pygments_lexer": "ipython3",
   "version": "3.8.5"
  }
 },
 "nbformat": 4,
 "nbformat_minor": 5
}
