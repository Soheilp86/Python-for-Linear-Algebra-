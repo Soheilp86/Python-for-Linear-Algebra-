{
 "cells": [
  {
   "cell_type": "markdown",
   "id": "7335a7e5",
   "metadata": {},
   "source": [
    "# 2.4 Answers to Exercises"
   ]
  },
  {
   "cell_type": "markdown",
   "id": "bd600a65",
   "metadata": {},
   "source": [
    "## 2.1 Matrix Algebra"
   ]
  },
  {
   "cell_type": "markdown",
   "id": "d76972ef",
   "metadata": {},
   "source": [
    "1. Which pair of the following matrices can be multiplied? Compute their matrix product.\n",
    "\n",
    "$A = \\begin{bmatrix}\n",
    "1 & 3 \\\\\n",
    "4 & -2 \\\\\n",
    "3 & 2\n",
    "\\end{bmatrix}$\n",
    "\n",
    "$B = \\begin{bmatrix}\n",
    "1 & 4 & 5\\\\\n",
    "0 & 2  & 3\n",
    "\\end{bmatrix}$ \n",
    "\n",
    "\n",
    "$C = \\begin{bmatrix}\n",
    "1 & 3 & 0\\\\\n",
    "2 & -1  & 3 \\\\\n",
    "0 & 1 & 1\n",
    "\\end{bmatrix}$ \n",
    "\n",
    "__Solution:__"
   ]
  },
  {
   "cell_type": "code",
   "execution_count": 1,
   "id": "0e047abf",
   "metadata": {},
   "outputs": [],
   "source": [
    "import numpy as np\n",
    "\n",
    "A = np.array([[1,3], [4,-2], [3,2]])\n",
    "\n",
    "B = np.array([[1,4,5], [0,2,3]])\n",
    "\n",
    "C = np.array([[1,3,0], [2,-1, 3], [0,1,1]])"
   ]
  },
  {
   "cell_type": "markdown",
   "id": "99feeae8",
   "metadata": {},
   "source": [
    "None of $AA$, $BA$, $BB$, and $AC$ can be performed because the neighboring dimensions in none of the match. For example if we try to compute $AA$ in Python we get the following error:"
   ]
  },
  {
   "cell_type": "code",
   "execution_count": 8,
   "id": "10d3f478",
   "metadata": {},
   "outputs": [
    {
     "ename": "ValueError",
     "evalue": "matmul: Input operand 1 has a mismatch in its core dimension 0, with gufunc signature (n?,k),(k,m?)->(n?,m?) (size 3 is different from 2)",
     "output_type": "error",
     "traceback": [
      "\u001b[0;31m---------------------------------------------------------------------------\u001b[0m",
      "\u001b[0;31mValueError\u001b[0m                                Traceback (most recent call last)",
      "\u001b[0;32m<ipython-input-8-addea25a1904>\u001b[0m in \u001b[0;36m<module>\u001b[0;34m\u001b[0m\n\u001b[0;32m----> 1\u001b[0;31m \u001b[0mA\u001b[0m\u001b[0;34m@\u001b[0m\u001b[0mA\u001b[0m\u001b[0;34m\u001b[0m\u001b[0;34m\u001b[0m\u001b[0m\n\u001b[0m",
      "\u001b[0;31mValueError\u001b[0m: matmul: Input operand 1 has a mismatch in its core dimension 0, with gufunc signature (n?,k),(k,m?)->(n?,m?) (size 3 is different from 2)"
     ]
    }
   ],
   "source": [
    "A@A "
   ]
  },
  {
   "cell_type": "markdown",
   "id": "91b6af34",
   "metadata": {},
   "source": [
    "On the other hand $AB$, $BC$, $CA$, $CB$, $CC$ can be performed:"
   ]
  },
  {
   "cell_type": "code",
   "execution_count": 6,
   "id": "c4b8ebe7",
   "metadata": {},
   "outputs": [
    {
     "data": {
      "text/plain": [
       "array([[ 1, 10, 14],\n",
       "       [ 4, 12, 14],\n",
       "       [ 3, 16, 21]])"
      ]
     },
     "execution_count": 6,
     "metadata": {},
     "output_type": "execute_result"
    }
   ],
   "source": [
    "A@B"
   ]
  },
  {
   "cell_type": "code",
   "execution_count": 7,
   "id": "66ac0e0e",
   "metadata": {},
   "outputs": [
    {
     "data": {
      "text/plain": [
       "array([[ 9,  4, 17],\n",
       "       [ 4,  1,  9]])"
      ]
     },
     "execution_count": 7,
     "metadata": {},
     "output_type": "execute_result"
    }
   ],
   "source": [
    "B@C"
   ]
  },
  {
   "cell_type": "code",
   "execution_count": 8,
   "id": "f89cadaf",
   "metadata": {},
   "outputs": [
    {
     "data": {
      "text/plain": [
       "array([[ 7,  0,  9],\n",
       "       [ 0, 10,  0],\n",
       "       [ 2,  0,  4]])"
      ]
     },
     "execution_count": 8,
     "metadata": {},
     "output_type": "execute_result"
    }
   ],
   "source": [
    "C@A"
   ]
  },
  {
   "cell_type": "code",
   "execution_count": 7,
   "id": "55259bf2",
   "metadata": {},
   "outputs": [
    {
     "data": {
      "text/plain": [
       "array([[ 7,  0,  9],\n",
       "       [ 0, 10,  0],\n",
       "       [ 2,  0,  4]])"
      ]
     },
     "execution_count": 7,
     "metadata": {},
     "output_type": "execute_result"
    }
   ],
   "source": [
    "C@C"
   ]
  },
  {
   "cell_type": "markdown",
   "id": "7285d335",
   "metadata": {},
   "source": [
    "2. Find two matrices $A$ and $B$ such that the products $AB$ and $BA$ are defined but $AB \\neq BA$.\n",
    "\n",
    "__Solution:__"
   ]
  },
  {
   "cell_type": "code",
   "execution_count": 9,
   "id": "de992a1e",
   "metadata": {},
   "outputs": [
    {
     "name": "stdout",
     "output_type": "stream",
     "text": [
      "AB = \n",
      " [[ 58  64]\n",
      " [139 154]]\n",
      "\n",
      "BA = \n",
      " [[ 39  54  69]\n",
      " [ 49  68  87]\n",
      " [ 59  82 105]]\n"
     ]
    }
   ],
   "source": [
    "A = np.array([[1, 2, 3], [4, 5, 6]])\n",
    "B = np.array([[7, 8], [9, 10], [11, 12]])\n",
    "\n",
    "AB = A@B\n",
    "BA = B@A\n",
    "\n",
    "print('AB = \\n', AB)\n",
    "\n",
    "print('\\nBA = \\n', BA)"
   ]
  },
  {
   "cell_type": "markdown",
   "id": "06a26612",
   "metadata": {},
   "source": [
    "3.  Given $A= \\begin{bmatrix}\n",
    "1 & 2 \\\\ 1& 2 \\end{bmatrix}$, find a nonzero matrix  $C$ for which $AC= \\begin{bmatrix}\n",
    "0 & 0 \\\\ 0 & 0\n",
    "\\end{bmatrix}$.\n",
    "\n",
    "__Solution__\n",
    "\n",
    "There are infinitely many matrices such that $AC = 0$. We can set $C = \\begin{bmatrix}\n",
    "c_1 & C_2 \\\\ C_3 & C_4 \\end{bmatrix}$ and solve $AC=0$ for C. For example one solution is $C = \\begin{bmatrix}\n",
    "-2 & 1 \\\\ 1 & 0.5 \\end{bmatrix}$"
   ]
  },
  {
   "cell_type": "code",
   "execution_count": 10,
   "id": "b916f06e",
   "metadata": {},
   "outputs": [
    {
     "data": {
      "text/plain": [
       "array([[0., 0.],\n",
       "       [0., 0.]])"
      ]
     },
     "execution_count": 10,
     "metadata": {},
     "output_type": "execute_result"
    }
   ],
   "source": [
    "A = np.array([[1,2], [1,2]])\n",
    "\n",
    "C = np.array([[-2,1], [1, -0.5]]) \n",
    "\n",
    "\n",
    "A@C"
   ]
  },
  {
   "cell_type": "markdown",
   "id": "42923d61",
   "metadata": {},
   "source": [
    "## 2.2 Transpose, Inverse and Trace of matrices"
   ]
  },
  {
   "cell_type": "markdown",
   "id": "1b70c210",
   "metadata": {},
   "source": [
    "1. Suppose $A= \\begin{bmatrix}\n",
    "1 & 2 \\\\\n",
    "0 & -1 \\\\\n",
    "3 & 0\n",
    "\\end{bmatrix}$\n",
    "\n",
    "    (a) Compute $A^T$.\n",
    "    \n",
    "    (b) Is $AA^T$ invertible? \n",
    "    \n",
    "    (c) Is $A^TA$ invertible?\n",
    "    \n",
    "\n",
    "__Solution:__"
   ]
  },
  {
   "cell_type": "code",
   "execution_count": 11,
   "id": "3e66c38b",
   "metadata": {},
   "outputs": [
    {
     "data": {
      "text/plain": [
       "array([[ 1,  0,  3],\n",
       "       [ 2, -1,  0]])"
      ]
     },
     "execution_count": 11,
     "metadata": {},
     "output_type": "execute_result"
    }
   ],
   "source": [
    "# part(a)\n",
    "\n",
    "A = np.array([[1,2], [0,-1], [3,0]])\n",
    "\n",
    "# compute transpose of A\n",
    "A_T = np.transpose(A)\n",
    "\n",
    "A_T"
   ]
  },
  {
   "cell_type": "markdown",
   "id": "3983d669",
   "metadata": {},
   "source": [
    "(b) \n",
    "\n",
    "__Solution 1__ Obviously a $3\\times 2$ matrix has at most two linearly independent columns. It can be shown that $AA^T$ has the same amount of linearly independent columns. Thus $AA^T$ as a $3\\times 3$ matrix, does not have three linearly independent columns and therefore, is not invirtible by invirtible matrix theorem.\n",
    "\n",
    "__Solution 2__ Lets check and see if $AA^T$ row equivalent to identity matrix $I_3$"
   ]
  },
  {
   "cell_type": "code",
   "execution_count": 12,
   "id": "7ee23e15",
   "metadata": {},
   "outputs": [
    {
     "data": {
      "text/plain": [
       "array([[ 5, -2,  3],\n",
       "       [-2,  1,  0],\n",
       "       [ 3,  0,  9]])"
      ]
     },
     "execution_count": 12,
     "metadata": {},
     "output_type": "execute_result"
    }
   ],
   "source": [
    "# part(b)\n",
    "\n",
    "B = A @ A_T\n",
    "B"
   ]
  },
  {
   "cell_type": "markdown",
   "id": "b5169548",
   "metadata": {},
   "source": [
    " We form the augmented matrix $[AA^T\\ |\\ I_3]$ and use row operations to check if it is invertible: "
   ]
  },
  {
   "cell_type": "code",
   "execution_count": 13,
   "id": "3e4575a4",
   "metadata": {},
   "outputs": [
    {
     "data": {
      "text/plain": [
       "array([[ 5., -2.,  3.,  1.,  0.,  0.],\n",
       "       [-2.,  1.,  0.,  0.,  1.,  0.],\n",
       "       [ 3.,  0.,  9.,  0.,  0.,  1.]])"
      ]
     },
     "execution_count": 13,
     "metadata": {},
     "output_type": "execute_result"
    }
   ],
   "source": [
    "# 3x3 Identity matrix \n",
    "I3 = np.eye(3)\n",
    "\n",
    "# Augmented matrix [AA^T, I_3]\n",
    "M = np.concatenate((B, I3), axis=1)\n",
    "M"
   ]
  },
  {
   "cell_type": "markdown",
   "id": "c4d5823c",
   "metadata": {},
   "source": [
    "We can now use the following row operations to check if $B$ is row equivalent to identity matrix "
   ]
  },
  {
   "cell_type": "code",
   "execution_count": 14,
   "id": "7ab8843b",
   "metadata": {},
   "outputs": [],
   "source": [
    "# Swap two rows\n",
    "\n",
    "def swap(matrix, row1, row2):\n",
    "    \n",
    "    copy_matrix=np.copy(matrix).astype('float64') \n",
    "  \n",
    "    copy_matrix[row1,:] = matrix[row2,:]\n",
    "    copy_matrix[row2,:] = matrix[row1,:]\n",
    "    \n",
    "    return copy_matrix\n",
    "\n",
    "\n",
    "# Multiple all entries in a row by a nonzero number\n",
    "\n",
    "\n",
    "def scale(matrix, row, scalar):\n",
    "    copy_matrix=np.copy(matrix).astype('float64') \n",
    "    copy_matrix[row,:] = scalar*matrix[row,:]  \n",
    "    return copy_matrix\n",
    "\n",
    "# Replacing row1 by the sum of itself and a multiple of row2 \n",
    "\n",
    "def replace(matrix, row1, row2, scalar):\n",
    "    copy_matrix=np.copy(matrix).astype('float64')\n",
    "    copy_matrix[row1] = matrix[row1]+ scalar * matrix[row2] \n",
    "    return copy_matrix"
   ]
  },
  {
   "cell_type": "code",
   "execution_count": 15,
   "id": "4bd4a87b",
   "metadata": {},
   "outputs": [
    {
     "data": {
      "text/plain": [
       "array([[-2.,  1.,  0.,  0.,  1.,  0.],\n",
       "       [ 5., -2.,  3.,  1.,  0.,  0.],\n",
       "       [ 3.,  0.,  9.,  0.,  0.,  1.]])"
      ]
     },
     "execution_count": 15,
     "metadata": {},
     "output_type": "execute_result"
    }
   ],
   "source": [
    "M1 = swap(M, 0, 1)\n",
    "M1"
   ]
  },
  {
   "cell_type": "code",
   "execution_count": 16,
   "id": "a165d534",
   "metadata": {},
   "outputs": [
    {
     "data": {
      "text/plain": [
       "array([[ 1. , -0.5, -0. , -0. , -0.5, -0. ],\n",
       "       [ 5. , -2. ,  3. ,  1. ,  0. ,  0. ],\n",
       "       [ 3. ,  0. ,  9. ,  0. ,  0. ,  1. ]])"
      ]
     },
     "execution_count": 16,
     "metadata": {},
     "output_type": "execute_result"
    }
   ],
   "source": [
    "M2 = scale(M1, 0, -1/2)\n",
    "M2"
   ]
  },
  {
   "cell_type": "code",
   "execution_count": 17,
   "id": "81971716",
   "metadata": {},
   "outputs": [
    {
     "data": {
      "text/plain": [
       "array([[ 1. , -0.5, -0. , -0. , -0.5, -0. ],\n",
       "       [ 0. ,  0.5,  3. ,  1. ,  2.5,  0. ],\n",
       "       [ 3. ,  0. ,  9. ,  0. ,  0. ,  1. ]])"
      ]
     },
     "execution_count": 17,
     "metadata": {},
     "output_type": "execute_result"
    }
   ],
   "source": [
    "M3 = replace(M2, 1, 0, -5)\n",
    "M3"
   ]
  },
  {
   "cell_type": "code",
   "execution_count": 18,
   "id": "f897e3be",
   "metadata": {},
   "outputs": [
    {
     "data": {
      "text/plain": [
       "array([[ 1. , -0.5, -0. , -0. , -0.5, -0. ],\n",
       "       [ 0. ,  0.5,  3. ,  1. ,  2.5,  0. ],\n",
       "       [ 0. ,  1.5,  9. ,  0. ,  1.5,  1. ]])"
      ]
     },
     "execution_count": 18,
     "metadata": {},
     "output_type": "execute_result"
    }
   ],
   "source": [
    "M4 = replace(M3, 2, 0, -3)\n",
    "M4"
   ]
  },
  {
   "cell_type": "code",
   "execution_count": 19,
   "id": "020b63cb",
   "metadata": {},
   "outputs": [
    {
     "data": {
      "text/plain": [
       "array([[ 1. , -0.5, -0. , -0. , -0.5, -0. ],\n",
       "       [ 0. ,  1. ,  6. ,  2. ,  5. ,  0. ],\n",
       "       [ 0. ,  1.5,  9. ,  0. ,  1.5,  1. ]])"
      ]
     },
     "execution_count": 19,
     "metadata": {},
     "output_type": "execute_result"
    }
   ],
   "source": [
    "M5 = scale(M4, 1, 2)\n",
    "M5"
   ]
  },
  {
   "cell_type": "code",
   "execution_count": 20,
   "id": "a45688f4",
   "metadata": {},
   "outputs": [
    {
     "data": {
      "text/plain": [
       "array([[ 1. , -0.5, -0. , -0. , -0.5, -0. ],\n",
       "       [ 0. ,  1. ,  6. ,  2. ,  5. ,  0. ],\n",
       "       [ 0. ,  0. ,  0. , -3. , -6. ,  1. ]])"
      ]
     },
     "execution_count": 20,
     "metadata": {},
     "output_type": "execute_result"
    }
   ],
   "source": [
    "M6 = replace(M5, 2, 1, -1.5)\n",
    "M6"
   ]
  },
  {
   "cell_type": "markdown",
   "id": "b69aa3fe",
   "metadata": {},
   "source": [
    "From this we can see that it is impossible to get an identity matrix on the left side and, thus, $AA^T$ is not invirtibe.\n",
    "\n",
    "(C): \n",
    "\n",
    "Let's compute $A^TA$"
   ]
  },
  {
   "cell_type": "code",
   "execution_count": 24,
   "id": "da9a9b60",
   "metadata": {},
   "outputs": [
    {
     "data": {
      "text/plain": [
       "array([[10,  2],\n",
       "       [ 2,  5]])"
      ]
     },
     "execution_count": 24,
     "metadata": {},
     "output_type": "execute_result"
    }
   ],
   "source": [
    "C = A_T @ A\n",
    "C"
   ]
  },
  {
   "cell_type": "markdown",
   "id": "d0ec7d8b",
   "metadata": {},
   "source": [
    "The determinant of $C$ is $50 - 4 = 46$, not zero, and therefore, $C$ is invertible."
   ]
  },
  {
   "cell_type": "markdown",
   "id": "6ac1608d",
   "metadata": {},
   "source": [
    "2. The trace is invariant under cyclic permutations, i.e., for three matrices we have $Tr(ABC) = Tr(BCA) = Tr(CAB)$, where $A$ is an $n\\times p$ matrix, $B$ is a $p\\times m$ matrix, and $C$ is an $m \\times n$ matrix. \n",
    "\n",
    "Using Example 9, generate three matrices $A$, $B$, and $C$ such that the product $ABC$ makes sense, and verify that:\n",
    "\n",
    "$$Tr(ABC) = Tr(BCA) = Tr(CAB)$$\n",
    "\n",
    "\n",
    "__Solution__"
   ]
  },
  {
   "cell_type": "code",
   "execution_count": 21,
   "id": "42d20047",
   "metadata": {},
   "outputs": [
    {
     "name": "stdout",
     "output_type": "stream",
     "text": [
      "ABC = \n",
      " \n",
      "  [[0.82236106 0.20460274 0.5796988  0.58873788 0.42181421]\n",
      " [0.56279345 0.1465404  0.40952237 0.39494344 0.28369911]\n",
      " [1.3829235  0.29059356 0.86984786 1.05541697 0.75016112]\n",
      " [1.36186643 0.31175002 0.90683238 1.00807812 0.71921338]\n",
      " [1.14570643 0.26657129 0.7713465  0.84281257 0.60177285]]\n",
      "\n",
      " BCA = \n",
      " \n",
      "  [[1.27748662 0.62507562 2.19470772]\n",
      " [0.79295844 0.38404842 1.5199229 ]\n",
      " [1.05323959 0.51591191 1.78706525]]\n",
      "\n",
      " CAB = \n",
      " \n",
      "  [[1.77778664 1.76183804]\n",
      " [1.76055928 1.67081365]]\n",
      "\n",
      " Tr(ABC) =  3.4486002897305266\n",
      "\n",
      " Tr(BCA) =  3.4486002897305266\n",
      "\n",
      " Tr(CAB) =  3.4486002897305266\n"
     ]
    }
   ],
   "source": [
    "# generate a 5x3 matrix\n",
    "A = np.random.rand(5, 3)\n",
    "\n",
    "# generate a 3x2 matrix\n",
    "B = np.random.rand(3, 2)\n",
    "\n",
    "\n",
    "# generate a 2x5 matrix\n",
    "C = np.random.rand(2, 5)\n",
    "\n",
    "# find ABC\n",
    "ABC = A @ B @ C\n",
    "\n",
    "print('ABC = \\n \\n ', ABC)\n",
    "\n",
    "# find BCA\n",
    "\n",
    "BCA = B @ C @ A\n",
    "\n",
    "print('\\n BCA = \\n \\n ', BCA)\n",
    "\n",
    "# find CAB\n",
    "\n",
    "CAB = C @ A @ B\n",
    "\n",
    "print('\\n CAB = \\n \\n ', CAB)\n",
    "\n",
    "#trace of ABC\n",
    "\n",
    "Tr_ABC = np.trace(ABC)\n",
    "print('\\n Tr(ABC) = ', Tr_ABC)\n",
    "\n",
    "Tr_BCA = np.trace(BCA)\n",
    "print('\\n Tr(BCA) = ', Tr_BCA)\n",
    "\n",
    "Tr_CAB = np.trace(CAB)\n",
    "print('\\n Tr(CAB) = ', Tr_CAB)"
   ]
  },
  {
   "cell_type": "markdown",
   "id": "ffb7456b",
   "metadata": {},
   "source": [
    "## 2.1 Determinant"
   ]
  },
  {
   "cell_type": "markdown",
   "id": "bb95dc13",
   "metadata": {},
   "source": [
    "1. Let $A$ be an $n\\times n$ matrix such that $A^2 = I_n$. Show that $det(A) = \\pm 1$.\n",
    "\n",
    "__Solution:__\n",
    "\n",
    "By Theorem 4, part (2), $\\text{det}(AA) = \\text{det}(A) \\cdot \\text{det}(A) = \\text{det}(A)^{2}$. Theorem 1, we have $\\text{det}(I_n) = 1$. Therefore, \n",
    "\n",
    "$$\n",
    "\\text{det}(A)^{2} = 1\n",
    "$$\n",
    "\n",
    "Which means\n",
    "\n",
    "$$\n",
    "\\text{det}(A) = \\pm 1\n",
    "$$"
   ]
  },
  {
   "cell_type": "markdown",
   "id": "b9f671bb",
   "metadata": {},
   "source": [
    "2. Find the determinant of $A = \\begin{bmatrix} 1 & 1 & 2 \\\\ 2 & 0 & 3 \\\\ 5 & -3 & 8 \\end{bmatrix}$ using the row reduction method. Is $A$ invertible?\n",
    "\n",
    "__Solution:__\n",
    "\n"
   ]
  },
  {
   "cell_type": "code",
   "execution_count": 22,
   "id": "0df7464d",
   "metadata": {},
   "outputs": [],
   "source": [
    "A = np.array([[1,1,2], [2,0,3], [5,-3,8]])\n",
    "\n",
    "# Elementry row operations:\n",
    "\n",
    "# Swap two rows\n",
    "\n",
    "def swap(matrix, row1, row2):\n",
    "    \n",
    "    copy_matrix=np.copy(matrix).astype('float64') \n",
    "  \n",
    "    copy_matrix[row1,:] = matrix[row2,:]\n",
    "    copy_matrix[row2,:] = matrix[row1,:]\n",
    "    \n",
    "    return copy_matrix\n",
    "\n",
    "\n",
    "# Multiple all entries in a row by a nonzero number\n",
    "\n",
    "\n",
    "def scale(matrix, row, scalar):\n",
    "    copy_matrix=np.copy(matrix).astype('float64') \n",
    "    copy_matrix[row,:] = scalar*matrix[row,:]  \n",
    "    return copy_matrix\n",
    "\n",
    "# Replacing a row1 by the sum of itself and a multiple of row2 \n",
    "\n",
    "def replace(matrix, row1, row2, scalar):\n",
    "    copy_matrix=np.copy(matrix).astype('float64')\n",
    "    copy_matrix[row1] = matrix[row1]+ scalar * matrix[row2] \n",
    "    return copy_matrix"
   ]
  },
  {
   "cell_type": "code",
   "execution_count": 23,
   "id": "654d901e",
   "metadata": {},
   "outputs": [
    {
     "data": {
      "text/plain": [
       "array([[ 1,  1,  2],\n",
       "       [ 2,  0,  3],\n",
       "       [ 5, -3,  8]])"
      ]
     },
     "execution_count": 23,
     "metadata": {},
     "output_type": "execute_result"
    }
   ],
   "source": [
    "A"
   ]
  },
  {
   "cell_type": "code",
   "execution_count": 24,
   "id": "4a6fb998",
   "metadata": {},
   "outputs": [
    {
     "data": {
      "text/plain": [
       "array([[ 1.,  1.,  2.],\n",
       "       [ 0., -2., -1.],\n",
       "       [ 5., -3.,  8.]])"
      ]
     },
     "execution_count": 24,
     "metadata": {},
     "output_type": "execute_result"
    }
   ],
   "source": [
    "A1 = replace(A, 1, 0, -2)\n",
    "A1"
   ]
  },
  {
   "cell_type": "code",
   "execution_count": 25,
   "id": "13a5a9af",
   "metadata": {},
   "outputs": [
    {
     "data": {
      "text/plain": [
       "array([[ 1.,  1.,  2.],\n",
       "       [ 0., -2., -1.],\n",
       "       [ 0., -8., -2.]])"
      ]
     },
     "execution_count": 25,
     "metadata": {},
     "output_type": "execute_result"
    }
   ],
   "source": [
    "A2 = replace(A1, 2, 0, -5)\n",
    "A2"
   ]
  },
  {
   "cell_type": "code",
   "execution_count": 26,
   "id": "847485db",
   "metadata": {},
   "outputs": [
    {
     "data": {
      "text/plain": [
       "array([[ 1.,  1.,  2.],\n",
       "       [ 0., -2., -1.],\n",
       "       [ 0.,  0.,  2.]])"
      ]
     },
     "execution_count": 26,
     "metadata": {},
     "output_type": "execute_result"
    }
   ],
   "source": [
    "A3 = replace(A2, 2, 1, -4)\n",
    "A3"
   ]
  },
  {
   "cell_type": "markdown",
   "id": "295c0de5",
   "metadata": {},
   "source": [
    "$A_3$ is already an uppertriangular matrix and we have \n",
    "\n",
    "$$\\text{det}(A_3) = -4$$\n",
    "\n",
    "Since we havent used any swap operations we get:\n",
    "\n",
    "$$\\text{det}(A) = \\text{det}(A_3) = -4$$"
   ]
  },
  {
   "cell_type": "markdown",
   "id": "5a21f2b5",
   "metadata": {},
   "source": [
    "3. Use determinants to decide if the set $\\left\\lbrace \\begin{bmatrix} 1 \\\\ 2 \\\\ 3 \\end{bmatrix}, \\begin{bmatrix} 4 \\\\ 5 \\\\ 6 \\end{bmatrix}, \\begin{bmatrix} 7 \\\\ 8 \\\\ 9 \\end{bmatrix} \\right\\rbrace$ is linearly independent.\n",
    "\n",
    "__Solution:__\n",
    "\n",
    "A matrix A is invertible if and only if $\\text{det}(A)\\neq 0$ (Theorem 3). By the invertible matrix theorem, we know that A is invertible if and only if the columns of A are linearly independent."
   ]
  },
  {
   "cell_type": "code",
   "execution_count": 31,
   "id": "9627a0cc",
   "metadata": {},
   "outputs": [
    {
     "name": "stdout",
     "output_type": "stream",
     "text": [
      "det(A) =  0\n"
     ]
    }
   ],
   "source": [
    "# matrix A\n",
    "A = np.array([[1,4, 7], [2,5,8], [3,6,9]])\n",
    "\n",
    "\n",
    "# Compute a 2x2 determinant\n",
    "def det2(matrix):\n",
    "    \n",
    "    if matrix.shape == (2, 2):\n",
    "        return matrix[0,0] * matrix[1,1] - matrix[0,1] * matrix[1,0]\n",
    "    else:\n",
    "        print(\"Please enter a 2x2 matrix\")\n",
    "\n",
    "# Computes the determinant of an nxn matrix.\n",
    "def det(matrix):\n",
    "    n = matrix.shape[0]\n",
    "    if n == 1:\n",
    "        return matrix[0, 0]\n",
    "    elif n == 2:\n",
    "        return matrix[0, 0] * matrix[1, 1] - matrix[0, 1] * matrix[1, 0]\n",
    "    else:\n",
    "        det = 0\n",
    "        for j in range(n):\n",
    "            submatrix = np.delete( (np.delete(matrix, 0 , 0)), j ,1)   \n",
    "            det += (-1) ** (0 + j) * matrix[0, j] * det2(submatrix)\n",
    "        return det\n",
    "    \n",
    "print('det(A) = ', det(A))    "
   ]
  },
  {
   "cell_type": "markdown",
   "id": "4d23d2e7",
   "metadata": {},
   "source": [
    "Therefore,  $\\left\\lbrace \\begin{bmatrix} 1 \\\\ 2 \\\\ 3 \\end{bmatrix}, \\begin{bmatrix} 4 \\\\ 5 \\\\ 6 \\end{bmatrix}, \\begin{bmatrix} 7 \\\\ 8 \\\\ 9 \\end{bmatrix} \\right\\rbrace$ is not linearly independent.\n",
    "\n",
    "\n"
   ]
  },
  {
   "cell_type": "markdown",
   "id": "d8dfaae7",
   "metadata": {},
   "source": [
    "4. Suppose $A$, $B$, $P$ are $n\\times n$ matrices, $P$ is invertible, and $r$ is a real number. Mark True or False:\n",
    "\n",
    "   a. $det(A+B) = det(A) + det(B)$.\n",
    "   \n",
    "   b. $det(rA) = r \\cdot det(A)$.\n",
    "   \n",
    "   c. $det(PAP^{-1}) = det(A)$.\n",
    "   \n",
    "__Solution__   \n",
    "\n",
    "\n",
    "a. False. For example, consider matrices:\n",
    "\n",
    "$$A = \\begin{bmatrix} 1 & 0 \\\\ 0 & 2 \\end{bmatrix} \\quad \\text{and} \\quad B = \\begin{bmatrix} 1 & 0 \\\\ 0 & 3 \\end{bmatrix} \n",
    "$$.\n",
    "\n",
    "\n",
    "Clearly, $\\text{det}(A) = 2$, $\\text{det}(B) = 3$, and $\\text{det}(A+B) = 10$.\n",
    "\n",
    "b. False. For example, let $A = \\begin{bmatrix} 1 & 0 \\\\ 0 & 2 \\end{bmatrix}$ and $r = 2$. Then, $\\text{det}(2A) = 8$, whereas $2\\text{det}(A) = 4$.\n",
    "\n",
    "c. True. Using the invertibility of $P$ and the properties of determinant, we have\n",
    "\n",
    "$$\n",
    "\\text{det}(PAP^{-1}) = \\text{det}(P) \\cdot \\text{det}(A \\cdot P^{-1}) = \\text{det}(A \\cdot P^{-1}) \\cdot \\text{det}(P) = \\text{det}(A \\cdot P^{-1} \\cdot P) = \\text{det}(A)\n",
    "$$"
   ]
  },
  {
   "cell_type": "markdown",
   "id": "5517e972",
   "metadata": {},
   "source": [
    "5. Determine if the following points are coplanar (i.e., they lie on the same plane):\n",
    "\n",
    "   $$\\begin{bmatrix} 1 \\\\ 0 \\\\ 2 \\end{bmatrix}, \\begin{bmatrix} 4 \\\\ 3 \\\\ 5 \\end{bmatrix}, \\begin{bmatrix} 3 \\\\ 0 \\\\ 6 \\end{bmatrix}$$\n",
    "   \n",
    "__Solution:__\n",
    "\n"
   ]
  },
  {
   "cell_type": "code",
   "execution_count": 32,
   "id": "368bd1e7",
   "metadata": {},
   "outputs": [
    {
     "data": {
      "text/plain": [
       "array([[1, 4, 3],\n",
       "       [0, 3, 0],\n",
       "       [2, 5, 6]])"
      ]
     },
     "execution_count": 32,
     "metadata": {},
     "output_type": "execute_result"
    }
   ],
   "source": [
    "A = np.array([[1,4,3], [0,3,0], [2,5,6]])\n",
    "A"
   ]
  },
  {
   "cell_type": "code",
   "execution_count": 33,
   "id": "b7acc9c0",
   "metadata": {},
   "outputs": [
    {
     "name": "stdout",
     "output_type": "stream",
     "text": [
      "det(A) =  0\n"
     ]
    }
   ],
   "source": [
    "print('det(A) = ', det(A))"
   ]
  },
  {
   "cell_type": "markdown",
   "id": "74574a64",
   "metadata": {},
   "source": [
    "So the aforementioned points are coplanar. "
   ]
  }
 ],
 "metadata": {
  "kernelspec": {
   "display_name": "Python 3",
   "language": "python",
   "name": "python3"
  },
  "language_info": {
   "codemirror_mode": {
    "name": "ipython",
    "version": 3
   },
   "file_extension": ".py",
   "mimetype": "text/x-python",
   "name": "python",
   "nbconvert_exporter": "python",
   "pygments_lexer": "ipython3",
   "version": "3.8.5"
  }
 },
 "nbformat": 4,
 "nbformat_minor": 5
}
