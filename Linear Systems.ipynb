{
 "cells": [
  {
   "cell_type": "code",
   "execution_count": 1,
   "metadata": {},
   "outputs": [],
   "source": [
    "import numpy as np"
   ]
  },
  {
   "cell_type": "markdown",
   "metadata": {},
   "source": [
    "# 2. Matrices and Determinants"
   ]
  },
  {
   "cell_type": "markdown",
   "metadata": {},
   "source": [
    "## 2.1 Matrix Algebra\n",
    "\n",
    "This section focuses on matrix algebra and its properties. We will also explore how operations involving matrices are connected to linear systems."
   ]
  },
  {
   "cell_type": "markdown",
   "metadata": {},
   "source": [
    "### Matrices"
   ]
  },
  {
   "cell_type": "markdown",
   "metadata": {},
   "source": [
    "Consider matrix $A$, which is an $m \\times n$ matrix with $m$ rows and $n$ columns:\n",
    "\n",
    "$$\n",
    "A = \\begin{bmatrix} a_{11} &  a_{12} &\\dots & a_{1n}\\\\ a_{21} &  a_{22} & \\dots & a_{2n}\\\\ \\vdots& \\vdots& \\vdots  \\\\  a_{m1}& a_{m2} &\\dots &  a_{mn}\\\\\n",
    "\\end{bmatrix}\n",
    "$$\n",
    "\n",
    "The entry in the $i$th row and $j$th column is referred to as the __$(i,j)$-entry__ of matrix $A$. Entries with the same row and column index ($a_{i,i}$ for any $i$) are called __diagonal entries__ of $A$. The $i$th column of $A$, denoted as $a_i$, represents a vector in $\\mathbb{R}^m$. We can represent matrix $A$ in a compact form by its columns:\n",
    "\n",
    "$$\n",
    "A= \\begin{bmatrix} a_{1} &  a_{2} &\\dots & a_{n}\\\\ \\end{bmatrix},\n",
    "$$\n",
    "\n",
    "or by its entries:\n",
    "\n",
    "$$A= (a_{i,j})$$\n",
    "\n",
    "A matrix whose entries are all zero is called a __zero matrix__, denoted by $0$. The size of a zero matrix is usually clear from the context. \n",
    "\n",
    "An $n \\times n$ matrix is called: \n",
    "\n",
    "1. the __identity matrix__, denoted by $I_n$, if it has 1 on the diagonal and 0 everywhere else. \n",
    "2.  a __diagonal matrix__ if it has all nondiagonal entries equal to zero. Identity matrices are diagonal.\n",
    "3. an __upper triangular matrix__ if it has all entries below the diagonal equal to zero.\n",
    "4. a _lower triangular matrix_ if it has all entries above the diagonal equal to zero.\n",
    "5.  a_triangular matrix_ if it is either upper triangular or lower triangular.\n",
    "\n"
   ]
  },
  {
   "cell_type": "markdown",
   "metadata": {},
   "source": [
    "```{admonition} Example 1\n",
    "\n",
    "Let \n",
    "\n",
    "$$\n",
    "A = \\begin{bmatrix} 0 & 2 & -1\\\\ 2 & 3 & 1 \\end{bmatrix}.\n",
    "$$\n",
    "\n",
    "As we have seen before, we use NumPy arrays to represent A. Note that each list in the array represent a row of A.\n",
    "\n",
    "```"
   ]
  },
  {
   "cell_type": "code",
   "execution_count": 2,
   "metadata": {},
   "outputs": [
    {
     "name": "stdout",
     "output_type": "stream",
     "text": [
      "A =\n",
      " [[ 0  2 -1]\n",
      " [ 2  3  1]]\n"
     ]
    }
   ],
   "source": [
    "import numpy as np\n",
    "\n",
    "A = np.array([[0, 2, -1],[2, 3, 1]])\n",
    "print('A =\\n', A)\n"
   ]
  },
  {
   "cell_type": "markdown",
   "metadata": {},
   "source": [
    "$A$ is a $2 \\times 3$ matrix. The following cell shows how to find the size of $A$:"
   ]
  },
  {
   "cell_type": "code",
   "execution_count": 3,
   "metadata": {},
   "outputs": [
    {
     "name": "stdout",
     "output_type": "stream",
     "text": [
      "A has  2 rows, and 3 columns\n"
     ]
    }
   ],
   "source": [
    "#Size of A\n",
    "\n",
    "print('A has ', A.shape[0],  'rows, and', A.shape[1],  'columns')"
   ]
  },
  {
   "cell_type": "markdown",
   "metadata": {},
   "source": [
    "We can also print rows and columns of $A$:"
   ]
  },
  {
   "cell_type": "code",
   "execution_count": 4,
   "metadata": {},
   "outputs": [
    {
     "name": "stdout",
     "output_type": "stream",
     "text": [
      "The first row of A is  [ 0  2 -1]\n",
      "******************************\n",
      "\n",
      " The second row of A is  [2 3 1]\n",
      "******************************\n",
      "\n",
      " The first column of A is  [0 2]\n",
      "******************************\n",
      "\n",
      " The second column of A is  [2 3]\n",
      "******************************\n",
      "\n",
      " The third column of A is  [-1  1]\n"
     ]
    }
   ],
   "source": [
    "print('The first row of A is ', A[0,:])\n",
    "\n",
    "print(30*'*')\n",
    "\n",
    "print('\\n The second row of A is ', A[1,:])\n",
    "\n",
    "print(30*'*')\n",
    "\n",
    "print('\\n The first column of A is ', A[:,0])\n",
    "\n",
    "print(30*'*')\n",
    "\n",
    "print('\\n The second column of A is ', A[:,1])\n",
    "\n",
    "print(30*'*')\n",
    "\n",
    "print('\\n The third column of A is ', A[:,2])\n",
    "\n"
   ]
  },
  {
   "cell_type": "markdown",
   "metadata": {},
   "source": [
    "The following cell shows how to generate an identity matrix of an arbitary size:"
   ]
  },
  {
   "cell_type": "code",
   "execution_count": 5,
   "metadata": {},
   "outputs": [
    {
     "name": "stdout",
     "output_type": "stream",
     "text": [
      "I_3 = \n",
      " \n",
      " [[1. 0. 0.]\n",
      " [0. 1. 0.]\n",
      " [0. 0. 1.]]\n",
      "\n",
      " I_4 = \n",
      " \n",
      " [[1. 0. 0. 0.]\n",
      " [0. 1. 0. 0.]\n",
      " [0. 0. 1. 0.]\n",
      " [0. 0. 0. 1.]]\n",
      "\n",
      " I_5 = \n",
      " \n",
      " [[1. 0. 0. 0. 0.]\n",
      " [0. 1. 0. 0. 0.]\n",
      " [0. 0. 1. 0. 0.]\n",
      " [0. 0. 0. 1. 0.]\n",
      " [0. 0. 0. 0. 1.]]\n"
     ]
    }
   ],
   "source": [
    "# 3x3 identity matrix\n",
    "I_3 = np.eye(3)\n",
    "\n",
    "print('I_3 = \\n \\n', I_3)\n",
    "\n",
    "# 4x4 identity matrix I_4\n",
    "I_4 = np.eye(4)\n",
    "\n",
    "print('\\n I_4 = \\n \\n', I_4)\n",
    "\n",
    "# 5x5 identity matrix I_5\n",
    "I_5 = np.eye(5)\n",
    "\n",
    "print('\\n I_5 = \\n \\n', I_5)"
   ]
  },
  {
   "cell_type": "markdown",
   "metadata": {},
   "source": [
    "Let's have more examples:"
   ]
  },
  {
   "cell_type": "code",
   "execution_count": 6,
   "metadata": {},
   "outputs": [
    {
     "name": "stdout",
     "output_type": "stream",
     "text": [
      "B =\n",
      " [[1 2 3]\n",
      " [4 5 6]]\n",
      "\n",
      " B has  2 rows, and 3 columns\n",
      "\n",
      " The second column of B is  [2 5]\n",
      "******************************\n",
      "\n",
      " C = \n",
      " [[ 0  2]\n",
      " [ 2  3]\n",
      " [ 5 -2]]\n",
      "\n",
      " C has  3 rows, and 2 columns\n",
      "\n",
      " The 1 -th column of C is  [1 4]\n",
      "\n",
      " The 2 -th column of C is  [2 5]\n"
     ]
    }
   ],
   "source": [
    "B = np.array([[1, 2, 3],[4, 5, 6]])\n",
    "print('B =\\n', B)\n",
    "\n",
    "\n",
    "#Size of B\n",
    "\n",
    "print('\\n B has ', B.shape[0],  'rows, and', B.shape[1],  'columns')\n",
    "\n",
    "# the second column of B\n",
    "\n",
    "print('\\n The second column of B is ', B[:,1])\n",
    "\n",
    "print(30*'*')\n",
    "\n",
    "C = np.array([[0, 2] ,[2, 3],[5, -2]])\n",
    "print('\\n C = \\n', C)\n",
    "\n",
    "\n",
    "#Size of C\n",
    "\n",
    "print('\\n C has ', C.shape[0],  'rows, and', C.shape[1],  'columns')\n",
    "\n",
    "\n",
    "# print the columns of C\n",
    "\n",
    "for i in range(C.shape[1]):\n",
    "    print('\\n The', i+1, '-th column of C is ', B[:,i])\n",
    "\n"
   ]
  },
  {
   "cell_type": "markdown",
   "metadata": {},
   "source": [
    "### Basic Algebraic Operations"
   ]
  },
  {
   "cell_type": "markdown",
   "metadata": {},
   "source": [
    "The arithmetic operations defined for vectors can be extended to matrices:\n",
    "\n",
    "1. Two matrices $A$ and $B$ are equal if they have the same size and entries.\n",
    "\n",
    "\n",
    "\n",
    "2. The __sum__ of matrices is defined for matrices of the same size: \n",
    "\n",
    "let $A = (a_{ij})$ and $B = (b_{ij})$ be two $m \\times n$ matrices. Then $A+B$ is an $m \\times n$ matrix whose entries are the sums of the corresponding entries of $A$ and $B$:\n",
    "\n",
    "$$ A+B = (a_{ij} + b_{ij}).$$\n",
    "\n",
    "\n",
    "\n",
    "3. The __scalar product__ $cA$ for a scalar $c \\in \\mathbb{R}$ and a matrix $A$ is a matrix of the same size as $A$ whose entries are $c$ times the entries of $A$:\n",
    "\n",
    "$$ cA = (ca_{ij}) $$\n",
    "\n",
    "\n"
   ]
  },
  {
   "cell_type": "markdown",
   "metadata": {},
   "source": [
    "`````{admonition} Theorem 1  (properties of sum and scalar product)\n",
    ":class: tip \n",
    "    \n",
    "Let $A$, $B$, and $C$ have the same size, and let $c$ and $d$ be real numbers.\n",
    "\n",
    "1. $A+B = B+A$\n",
    "2. $(A+B)+C = A+(B+C)$\n",
    "3. $A+ 0 = A$\n",
    "4. $c(A+B) =  cA + cB$\n",
    "5. $(c+d)A = cA + dA$\n",
    "6. $c(dA)=(cd)A$\n",
    "\n",
    "\n",
    "`````\n"
   ]
  },
  {
   "cell_type": "markdown",
   "metadata": {},
   "source": [
    "```{admonition} Example 2: \n",
    "\n",
    "Consider the matrices in Example 1. Compute the following:\n",
    "\n",
    "1. $3A-B$\n",
    "\n",
    "2. $A+C$\n",
    "\n",
    "```\n",
    "\n",
    "__Solution:__"
   ]
  },
  {
   "cell_type": "code",
   "execution_count": 7,
   "metadata": {},
   "outputs": [
    {
     "data": {
      "text/plain": [
       "array([[-1,  4, -6],\n",
       "       [ 2,  4, -3]])"
      ]
     },
     "execution_count": 7,
     "metadata": {},
     "output_type": "execute_result"
    }
   ],
   "source": [
    "#1\n",
    "\n",
    "3*A-B"
   ]
  },
  {
   "cell_type": "markdown",
   "metadata": {},
   "source": [
    "$A+C$ is not defined because $A$ and $C$ are not of the same size:"
   ]
  },
  {
   "cell_type": "code",
   "execution_count": 8,
   "metadata": {},
   "outputs": [
    {
     "ename": "ValueError",
     "evalue": "operands could not be broadcast together with shapes (2,3) (3,2) ",
     "output_type": "error",
     "traceback": [
      "\u001b[1;31m---------------------------------------------------------------------------\u001b[0m",
      "\u001b[1;31mValueError\u001b[0m                                Traceback (most recent call last)",
      "Cell \u001b[1;32mIn[8], line 2\u001b[0m\n\u001b[0;32m      1\u001b[0m \u001b[38;5;66;03m#2.\u001b[39;00m\n\u001b[1;32m----> 2\u001b[0m A \u001b[38;5;241m+\u001b[39m C\n",
      "\u001b[1;31mValueError\u001b[0m: operands could not be broadcast together with shapes (2,3) (3,2) "
     ]
    }
   ],
   "source": [
    "#2.\n",
    "A + C"
   ]
  },
  {
   "cell_type": "markdown",
   "metadata": {},
   "source": [
    "### Matrix Product"
   ]
  },
  {
   "cell_type": "markdown",
   "metadata": {},
   "source": [
    "\n",
    "Let $A$ be an $m \\times n$ and $B$ be an $n \\times p$ matrix. The product AB is an $m\\times p$ matrix whose columns are $Ab_1, Ab_2, \\dots, Ab_p$:\n",
    "\n",
    "$$\n",
    "AB= \\begin{bmatrix} Ab_{1} &  Ab_{2} &\\dots & Ab_{n}\\\\ \\end{bmatrix}.\n",
    "$$\n",
    "\n",
    "We can also descibe the matrix product by the entries: the ($ij$)-entry of $AB$ is the product of the $i$th-row of $A$ and the $j$th column of $B$ in the following way:\n",
    "\n",
    "$$\n",
    "a_ib_j = \\begin{bmatrix} a_{i1} &  a_{i2} &\\dots & a_{in}\\\\ \\end{bmatrix} \\begin{bmatrix} b_{1j} &  b_{2j} &\\dots & a_{nj}\\\\ \\end{bmatrix} = a_{i1}b_{j1} + a_{i2}b_{2j} + \\dots + a_{in}b_{nj} = \\Sigma^{n}_{k=1}a_{ik}b_{kj}\n",
    "$$\n",
    "\n",
    "\n",
    "The product $BA$ is not defined if $p\\neq m$ (the _neighboring dimensions_\n",
    "do not match).\n"
   ]
  },
  {
   "cell_type": "markdown",
   "metadata": {},
   "source": [
    "```{admonition} Example 3\n",
    "\n",
    "Let \n",
    "\n",
    "$$\n",
    "\n",
    "A = \\begin{bmatrix} 1 & 2 & 3 \\\\ 4\n",
    "\n",
    "& 5 & 6 \\end{bmatrix}$ and $B = \\begin{bmatrix} 1 & 2 \\\\ 3 & 4 \\\\ 5 & 6\\\\ \\end{bmatrix}\n",
    "$$. \n",
    "\n",
    "Compute $AB$ and $BA$.\n",
    "\n",
    "\n",
    "```\n",
    "\n",
    "\n",
    "__Solution:__ \n",
    "\n",
    "$A$ is a $2 \\times 3$ and B is a $3 \\times 2$ matrix; so the product is defined. In Python we use the sympol `@` to compute the matrix product"
   ]
  },
  {
   "cell_type": "code",
   "execution_count": 9,
   "metadata": {},
   "outputs": [
    {
     "name": "stdout",
     "output_type": "stream",
     "text": [
      "[[22 28]\n",
      " [49 64]]\n"
     ]
    }
   ],
   "source": [
    "#A\n",
    "A = np.array([[1,2,3],[4,5,6]])\n",
    "\n",
    "#B\n",
    "B = np.array([[1,2],[3,4],[5,6]])\n",
    "\n",
    "#Compute the matrix product\n",
    "AB = A @ B\n",
    "\n",
    "print(AB)"
   ]
  },
  {
   "cell_type": "markdown",
   "metadata": {},
   "source": [
    "Now let's compute $BA$:"
   ]
  },
  {
   "cell_type": "code",
   "execution_count": 10,
   "metadata": {},
   "outputs": [
    {
     "name": "stdout",
     "output_type": "stream",
     "text": [
      "[[ 9 12 15]\n",
      " [19 26 33]\n",
      " [29 40 51]]\n"
     ]
    }
   ],
   "source": [
    "#Compute the product BA\n",
    "BA = B @ A\n",
    "\n",
    "print(BA)"
   ]
  },
  {
   "cell_type": "markdown",
   "metadata": {},
   "source": [
    "```{admonition} Example 4 \n",
    "\n",
    "Let \n",
    "\n",
    "$$\n",
    "C = \\begin{bmatrix} 1 & 2 & 3 & 4 \\\\ 4 & 5 & 6 & 7 \\end{bmatrix}.\n",
    "$$\n",
    "\n",
    "The matrix product $AC$ is not defined because the number of columns in matrix $A$ does not match the number of rows in matrix $C$. If we proceed with computing $AC$ we will get: \n",
    "\n",
    "```"
   ]
  },
  {
   "cell_type": "code",
   "execution_count": 11,
   "metadata": {},
   "outputs": [
    {
     "ename": "ValueError",
     "evalue": "matmul: Input operand 1 has a mismatch in its core dimension 0, with gufunc signature (n?,k),(k,m?)->(n?,m?) (size 2 is different from 3)",
     "output_type": "error",
     "traceback": [
      "\u001b[1;31m---------------------------------------------------------------------------\u001b[0m",
      "\u001b[1;31mValueError\u001b[0m                                Traceback (most recent call last)",
      "Cell \u001b[1;32mIn[11], line 4\u001b[0m\n\u001b[0;32m      1\u001b[0m C \u001b[38;5;241m=\u001b[39m np\u001b[38;5;241m.\u001b[39marray([[\u001b[38;5;241m1\u001b[39m, \u001b[38;5;241m2\u001b[39m, \u001b[38;5;241m3\u001b[39m, \u001b[38;5;241m4\u001b[39m], [\u001b[38;5;241m4\u001b[39m, \u001b[38;5;241m5\u001b[39m, \u001b[38;5;241m6\u001b[39m, \u001b[38;5;241m7\u001b[39m]])\n\u001b[0;32m      3\u001b[0m \u001b[38;5;66;03m# Compute AC\u001b[39;00m\n\u001b[1;32m----> 4\u001b[0m AC \u001b[38;5;241m=\u001b[39m A \u001b[38;5;241m@\u001b[39m C\n\u001b[0;32m      6\u001b[0m \u001b[38;5;28mprint\u001b[39m(AC)\n",
      "\u001b[1;31mValueError\u001b[0m: matmul: Input operand 1 has a mismatch in its core dimension 0, with gufunc signature (n?,k),(k,m?)->(n?,m?) (size 2 is different from 3)"
     ]
    }
   ],
   "source": [
    "C = np.array([[1, 2, 3, 4], [4, 5, 6, 7]])\n",
    "\n",
    "# Compute AC\n",
    "AC = A @ C\n",
    "\n",
    "print(AC)\n"
   ]
  },
  {
   "cell_type": "markdown",
   "metadata": {},
   "source": [
    "__Power of Square Matrices__\n",
    "\n",
    "We can raise a square matrix $A$ to the power of a natural number using matrix multiplication. The matrix power is a fundamental idea in several linear algebra applications such as the long-term behavior of disceret dynamical systems. \n",
    "\n",
    "```{admonition} Example 5\n",
    "\n",
    "Let $M = BA$ where $A$ and $B$ are matrices in Example 3. Compute $M^{4}$.\n",
    "```"
   ]
  },
  {
   "cell_type": "code",
   "execution_count": 12,
   "metadata": {},
   "outputs": [
    {
     "name": "stdout",
     "output_type": "stream",
     "text": [
      "C^4 =\n",
      "  [[ 5447976  7470048  9492120]\n",
      " [11879096 16288144 20697192]\n",
      " [18310216 25106240 31902264]]\n"
     ]
    }
   ],
   "source": [
    "#C\n",
    "M = BA\n",
    "#Compute C^4\n",
    "M4 = M @ M @ M @ M\n",
    "\n",
    "print('C^4 =\\n ', M4 )"
   ]
  },
  {
   "cell_type": "markdown",
   "metadata": {},
   "source": [
    "Interestingly, computing the power of diagonal matrices is relatively straightforward.\n",
    "\n",
    "```{admonition} Example 6:\n",
    "\n",
    "Let's consider the matrix $A = \\begin{bmatrix} 2 & 0\\\\ 0 & 5 \\end{bmatrix}$. We can observe the pattern for computing powers of $A$:\n",
    "\n",
    "- $A^2 = \\begin{bmatrix} 2^2 & 0\\\\ 0 & 5^2 \\end{bmatrix} = \\begin{bmatrix} 4 & 0\\\\ 0 & 25 \\end{bmatrix}$\n",
    "\n",
    "- $A^3 = \\begin{bmatrix} 2^3 & 0\\\\ 0 & 5^3 \\end{bmatrix} = \\begin{bmatrix} 8 & 0\\\\ 0 & 125 \\end{bmatrix}$\n",
    "\n",
    "- $A^4 = \\begin{bmatrix} 2^4 & 0\\\\ 0 & 5^4 \\end{bmatrix} = \\begin{bmatrix} 16 & 0\\\\ 0 & 625 \\end{bmatrix}$\n",
    "\n",
    "We can observe that $A^k$ is a diagonal matrix of the same size with the diagonal elements being obtained by raising the corresponding diagonal elements of $A$ to the power of $k$.\n",
    "\n",
    "```"
   ]
  },
  {
   "cell_type": "code",
   "execution_count": 13,
   "metadata": {},
   "outputs": [
    {
     "data": {
      "text/plain": [
       "array([[ 4,  0],\n",
       "       [ 0, 25]])"
      ]
     },
     "execution_count": 13,
     "metadata": {},
     "output_type": "execute_result"
    }
   ],
   "source": [
    "A = np.array([[2,0],[0,5]])\n",
    "\n",
    "A2 = A @ A\n",
    "A2"
   ]
  },
  {
   "cell_type": "code",
   "execution_count": 14,
   "metadata": {},
   "outputs": [
    {
     "data": {
      "text/plain": [
       "array([[  8,   0],\n",
       "       [  0, 125]])"
      ]
     },
     "execution_count": 14,
     "metadata": {},
     "output_type": "execute_result"
    }
   ],
   "source": [
    "A3 = A2 @ A\n",
    "A3"
   ]
  },
  {
   "cell_type": "markdown",
   "metadata": {},
   "source": [
    "`````{admonition} Theorem 2 (Properties of matrix product)\n",
    "\n",
    ":class: tip\n",
    "\n",
    "Let $A$ be an $m\\times n$ matrix, and let $B$ and $C$ be matrices of the same size for which the following sum and product operations are defined:\n",
    "\n",
    "1. $A(BC) = (AB)C$\n",
    "\n",
    "2. $A(B+C) = AB + AC$\n",
    "\n",
    "3. $(B+C)A = BA + CA$\n",
    "\n",
    "4. $r(AB) = (rA)B = A(rB)$ for any scalar $r\\in \\mathbb{R}$.\n",
    "\n",
    "5. $I_mA = AI_n = A$\n",
    "\n",
    "Recall that $I_n$ is the $n \\times n$ identity matrix.\n",
    "`````\n"
   ]
  },
  {
   "cell_type": "markdown",
   "metadata": {},
   "source": [
    "### Numerical Note"
   ]
  },
  {
   "cell_type": "markdown",
   "metadata": {},
   "source": [
    "Numpy provides two other methods (built-in functions) to compute the matrix product: `numpy.dot` and `numpy.matmul`. \n",
    "\n",
    "They are both used to compute the product of two arrays (e.g., vectors, matrices, and even higher dimensional).\n",
    "\n",
    "(1). If $A$ and $B$ are vectors (1-D arrays), they both perform dot product of vectors (which we will define in section 6) \n",
    "\n",
    "(2).  If $A$ and $B$ are non-vector matrices (2-D arrays), they both perform matrix multiplication, but using `numpy.matmul(A,B)` or `A @ B` is preferred.\n",
    "\n",
    "(3) For scalar $r\\in \\mathbb{R}$ `numpy.dot(r,B)` is scalar product `r*B`. But `numpy.malmal(r,B)` and `r @ B` are not defined\n"
   ]
  },
  {
   "cell_type": "markdown",
   "metadata": {},
   "source": [
    "```{admonition} Example 7\n",
    "\n",
    "Let A, B, and C be the matrices defined in Example 3. Let's explore the differences between the above operations:\n",
    "```"
   ]
  },
  {
   "cell_type": "code",
   "execution_count": 15,
   "metadata": {},
   "outputs": [
    {
     "name": "stdout",
     "output_type": "stream",
     "text": [
      "\n",
      " A@B = \n",
      " [[22 28]\n",
      " [49 64]]\n",
      "**********\n",
      "\n",
      " np.dot(A,B) = \n",
      " [[22 28]\n",
      " [49 64]]\n",
      "**********\n",
      "\n",
      " np.matmul(A,B) = \n",
      " [[22 28]\n",
      " [49 64]]\n"
     ]
    }
   ],
   "source": [
    "import numpy as np\n",
    "\n",
    "#A\n",
    "A = np.array([[1,2,3],[4,5,6]])\n",
    "\n",
    "#B\n",
    "B = np.array([[1,2],[3,4],[5,6]])\n",
    "\n",
    "\n",
    "# for matrices (2D-arrays) of compatible size all methods return matrix product\n",
    "\n",
    "print('\\n A@B = \\n', A@B)\n",
    "\n",
    "print(10*'*')\n",
    "\n",
    "print('\\n np.dot(A,B) = \\n', np.dot(A,B))\n",
    "\n",
    "print(10*'*')\n",
    "\n",
    "print('\\n np.matmul(A,B) = \\n', np.matmul(A,B))"
   ]
  },
  {
   "cell_type": "code",
   "execution_count": 16,
   "metadata": {},
   "outputs": [
    {
     "name": "stdout",
     "output_type": "stream",
     "text": [
      "\n",
      " np.dot(C,D) = \n",
      " 32\n",
      "**********\n",
      "\n",
      " np.matmul(C,D) = \n",
      " 32\n"
     ]
    }
   ],
   "source": [
    "# for vectors (1D arrays) dot and matmul return the dot product\n",
    "C = [1,2,3]\n",
    "D = [4,5,6]\n",
    "\n",
    "print('\\n np.dot(C,D) = \\n', np.dot(C,D))\n",
    "\n",
    "print(10*'*')\n",
    "\n",
    "print('\\n np.matmul(C,D) = \\n', np.matmul(C,D))"
   ]
  },
  {
   "cell_type": "code",
   "execution_count": 17,
   "metadata": {},
   "outputs": [
    {
     "ename": "TypeError",
     "evalue": "unsupported operand type(s) for @: 'list' and 'list'",
     "output_type": "error",
     "traceback": [
      "\u001b[1;31m---------------------------------------------------------------------------\u001b[0m",
      "\u001b[1;31mTypeError\u001b[0m                                 Traceback (most recent call last)",
      "Cell \u001b[1;32mIn[17], line 3\u001b[0m\n\u001b[0;32m      1\u001b[0m \u001b[38;5;66;03m# C@D is not defined for vectors\u001b[39;00m\n\u001b[1;32m----> 3\u001b[0m \u001b[38;5;28mprint\u001b[39m(\u001b[38;5;124m'\u001b[39m\u001b[38;5;130;01m\\n\u001b[39;00m\u001b[38;5;124m A@B = \u001b[39m\u001b[38;5;130;01m\\n\u001b[39;00m\u001b[38;5;124m'\u001b[39m, C \u001b[38;5;241m@\u001b[39m D)\n",
      "\u001b[1;31mTypeError\u001b[0m: unsupported operand type(s) for @: 'list' and 'list'"
     ]
    }
   ],
   "source": [
    "# C@D is not defined for vectors\n",
    "\n",
    "print('\\n A@B = \\n', C @ D)"
   ]
  },
  {
   "cell_type": "code",
   "execution_count": 18,
   "metadata": {},
   "outputs": [
    {
     "name": "stdout",
     "output_type": "stream",
     "text": [
      "\n",
      " np.matmul(2,B) = \n",
      " [[ 2  4  6]\n",
      " [ 8 10 12]]\n"
     ]
    }
   ],
   "source": [
    "# If one argument is a real number, dot returns the scalar product\n",
    "print('\\n np.matmul(2,B) = \\n', np.dot(A,2)) "
   ]
  },
  {
   "cell_type": "code",
   "execution_count": 19,
   "metadata": {},
   "outputs": [
    {
     "ename": "ValueError",
     "evalue": "matmul: Input operand 0 does not have enough dimensions (has 0, gufunc core with signature (n?,k),(k,m?)->(n?,m?) requires 1)",
     "output_type": "error",
     "traceback": [
      "\u001b[1;31m---------------------------------------------------------------------------\u001b[0m",
      "\u001b[1;31mValueError\u001b[0m                                Traceback (most recent call last)",
      "Cell \u001b[1;32mIn[19], line 2\u001b[0m\n\u001b[0;32m      1\u001b[0m \u001b[38;5;66;03m# If one argument is a real number  @ and matmul are not defined \u001b[39;00m\n\u001b[1;32m----> 2\u001b[0m \u001b[38;5;241m2\u001b[39m \u001b[38;5;241m@\u001b[39m B\n",
      "\u001b[1;31mValueError\u001b[0m: matmul: Input operand 0 does not have enough dimensions (has 0, gufunc core with signature (n?,k),(k,m?)->(n?,m?) requires 1)"
     ]
    }
   ],
   "source": [
    "# If one argument is a real number  @ and matmul are not defined \n",
    "2 @ B"
   ]
  },
  {
   "cell_type": "code",
   "execution_count": 20,
   "metadata": {},
   "outputs": [
    {
     "ename": "ValueError",
     "evalue": "matmul: Input operand 0 does not have enough dimensions (has 0, gufunc core with signature (n?,k),(k,m?)->(n?,m?) requires 1)",
     "output_type": "error",
     "traceback": [
      "\u001b[1;31m---------------------------------------------------------------------------\u001b[0m",
      "\u001b[1;31mValueError\u001b[0m                                Traceback (most recent call last)",
      "Cell \u001b[1;32mIn[20], line 1\u001b[0m\n\u001b[1;32m----> 1\u001b[0m np\u001b[38;5;241m.\u001b[39mmatmul (\u001b[38;5;241m2\u001b[39m,B)\n",
      "\u001b[1;31mValueError\u001b[0m: matmul: Input operand 0 does not have enough dimensions (has 0, gufunc core with signature (n?,k),(k,m?)->(n?,m?) requires 1)"
     ]
    }
   ],
   "source": [
    "np.matmul (2,B)"
   ]
  },
  {
   "cell_type": "markdown",
   "metadata": {},
   "source": [
    "```{admonition} Exercises\n",
    "\n",
    "1. Which pair of the following matrices can be multiplied? Compute their matrix product.\n",
    "\n",
    "$$\n",
    "A = \\begin{bmatrix}\n",
    "1 & 3 \\\\\n",
    "4 & -2 \\\\\n",
    "3 & 2\n",
    "\\end{bmatrix}\n",
    "$$\n",
    "\n",
    "$$\n",
    "B = \\begin{bmatrix}\n",
    "1 & 4 & 5\\\\\n",
    "0 & 2  & 3\n",
    "\\end{bmatrix}\n",
    "$$ \n",
    "\n",
    "\n",
    "$$\n",
    "C = \\begin{bmatrix}\n",
    "1 & 3 & 0\\\\\n",
    "2 & -1  & 3 \\\\\n",
    "0 & 1 & 1\n",
    "\\end{bmatrix}\n",
    "$$\n",
    "\n",
    "\n",
    "2. Find two matrices $A$ and $B$ such that the products $AB$ and $BA$ are defined but $AB \\neq BA$.\n",
    "\n",
    "\n",
    "3.  Given \n",
    "\n",
    "$$\n",
    "A= \\begin{bmatrix}\n",
    "1 & 2 \\\\ 1& 2 \\end{bmatrix}$, find a nonzero matrix  $C$ for which $AC= \\begin{bmatrix}\n",
    "0 & 0 \\\\ 0 & 0\n",
    "\\end{bmatrix}.\n",
    "$$\n",
    "```\n"
   ]
  },
  {
   "cell_type": "markdown",
   "metadata": {},
   "source": [
    "## 2.2 Transpose, Inverse and Trace of matrices\n",
    "\n",
    "In this section, we will continue studying the basic operators on the set of matrices, focusing on the transpose, inverse, and trace of a square matrix.\n"
   ]
  },
  {
   "cell_type": "markdown",
   "metadata": {},
   "source": [
    "### Transpose of a matrix"
   ]
  },
  {
   "cell_type": "markdown",
   "metadata": {},
   "source": [
    "Given an $m\\times n$ matrix $A$, the transpose of $A$ is the $n\\times m$ matrix denoted by $A^T$, whose columns are the corresponding rows of $A$.\n",
    "\n",
    "```{admonition} Example 1\n",
    "\n",
    "If \n",
    "\n",
    "$$\n",
    "M = \\begin{bmatrix} 1 & 2 \\\\ 3 & 4 \\\\ 5 & 6 \\end{bmatrix},\n",
    "$$\n",
    "\n",
    "then \n",
    "\n",
    "$$\n",
    "M^T = \\begin{bmatrix} 1 & 3 & 5 \\\\ 2 & 4 & 6 \\end{bmatrix}.\n",
    "$$\n",
    "\n",
    "```\n",
    "\n",
    "In Python we can either use`narray.T` or `narray.transpose()` to find the transpose of a matrix."
   ]
  },
  {
   "cell_type": "code",
   "execution_count": 21,
   "metadata": {},
   "outputs": [
    {
     "name": "stdout",
     "output_type": "stream",
     "text": [
      "M =  \n",
      " [[1 2]\n",
      " [3 4]\n",
      " [5 6]] \n",
      "\n",
      " M_T =  \n",
      " [[1 3 5]\n",
      " [2 4 6]]\n"
     ]
    }
   ],
   "source": [
    "import numpy as np\n",
    "\n",
    "M = np.array([[1,2],[3, 4],[5,6]])\n",
    "\n",
    "#Compute the the transpose of M\n",
    "M_T = M.T\n",
    "\n",
    "print(\"M = \", '\\n', M, '\\n\\n', \"M_T = \",'\\n', M_T)"
   ]
  },
  {
   "cell_type": "code",
   "execution_count": 22,
   "metadata": {},
   "outputs": [
    {
     "name": "stdout",
     "output_type": "stream",
     "text": [
      "M =  \n",
      " [[1 2]\n",
      " [3 4]\n",
      " [5 6]] \n",
      "\n",
      " M_T =  \n",
      " [[1 3 5]\n",
      " [2 4 6]]\n"
     ]
    }
   ],
   "source": [
    "#Compute the the transpose of M\n",
    "M_transpose = M.transpose()\n",
    "\n",
    "print(\"M = \", '\\n', M, '\\n\\n', \"M_T = \",'\\n', M_transpose)"
   ]
  },
  {
   "cell_type": "markdown",
   "metadata": {},
   "source": [
    "Note that `transpose` and `T` both have different effect on a list and a list of lists:   "
   ]
  },
  {
   "cell_type": "code",
   "execution_count": 23,
   "metadata": {},
   "outputs": [
    {
     "data": {
      "text/plain": [
       "array([[1],\n",
       "       [2],\n",
       "       [3]])"
      ]
     },
     "execution_count": 23,
     "metadata": {},
     "output_type": "execute_result"
    }
   ],
   "source": [
    "# transpose of a list of lists\n",
    "\n",
    "np.array([[1,2,3]]).transpose()"
   ]
  },
  {
   "cell_type": "code",
   "execution_count": 24,
   "metadata": {},
   "outputs": [
    {
     "data": {
      "text/plain": [
       "array([1, 2, 3])"
      ]
     },
     "execution_count": 24,
     "metadata": {},
     "output_type": "execute_result"
    }
   ],
   "source": [
    "# does not effect 1D array\n",
    "np.array([1,2,3]).transpose()"
   ]
  },
  {
   "cell_type": "markdown",
   "metadata": {},
   "source": [
    "### Inverse of a square matrix"
   ]
  },
  {
   "cell_type": "markdown",
   "metadata": {},
   "source": [
    "\n",
    "An $n\\times n$ matrix $A$ is called invertible if there exists an $n\\times n$ matrix $B$ such that $AB = BA = I_n$. In this case, $B$ is referred to as the inverse of $A$, denoted as $A^{-1}$. It is important to note that not all matrices are invertible.\n"
   ]
  },
  {
   "cell_type": "markdown",
   "metadata": {},
   "source": [
    "`````{admonition} Theorem 3\n",
    ":class: tip\n",
    "\n",
    "Let $A= \\begin{bmatrix} a & b \\\\ c & d\\\\ \\end{bmatrix}$. If $ad-bc \\neq 0$, then $A$ is invertible, and its inverse is given by:\n",
    "\n",
    "$$\n",
    "A^{-1}= \\frac{1}{ad-bc}\\begin{bmatrix} d & -b \\\\ -c & a\\\\ \\end{bmatrix}\n",
    "$$\n",
    "\n",
    "$ad-bc$ is called the __determinant__ of matrix A. The determinant plays a crucial role in determining the invertibility of a square matrix. If the determinant is zero, i.e., $ad-bc = 0$, then matrix A is not invertible. Determinants of matrices will be discussed in the next section, where we will explore their properties and computation methods.\n",
    "\n",
    "`````\n"
   ]
  },
  {
   "cell_type": "markdown",
   "metadata": {},
   "source": [
    "```{admonition} Example 2\n",
    "\n",
    "1. Find the inverse of $M= \\begin{bmatrix} 1 & 2 \\\\ 3 & 4\\\\ \\end{bmatrix}$.\n",
    "2. Find the inverse of $N= \\begin{bmatrix} 1 & 2 \\\\ 2 & 4\\\\ \\end{bmatrix}$.\n",
    "```\n",
    "\n",
    "\n",
    "__Solution:__\n",
    "\n",
    "Let's write a Python code that computes the inverse of a $2\\times 2$ matrix:"
   ]
  },
  {
   "cell_type": "code",
   "execution_count": 25,
   "metadata": {},
   "outputs": [],
   "source": [
    "M = np.array([[1, 2], [3, 4]])\n",
    "N = np.array([[1, 2], [2, 4]])\n",
    "\n",
    "# Compute the inverse\n",
    "def inverse_matrix(matrix):\n",
    "    a, b = matrix[0]\n",
    "    c, d = matrix[1]\n",
    "    \n",
    "    det = a * d - b * c\n",
    "\n",
    "    if det == 0:\n",
    "        print(matrix, \"is not invertible\")\n",
    "    else:\n",
    "        D = 1 / det    \n",
    "        inverse = np.zeros((2, 2))\n",
    "        inverse[0, 0] = D * d\n",
    "        inverse[0, 1] = -D * b\n",
    "        inverse[1, 0] = -D * c\n",
    "        inverse[1, 1] = D * a\n",
    "\n",
    "        return(inverse)"
   ]
  },
  {
   "cell_type": "code",
   "execution_count": 26,
   "metadata": {},
   "outputs": [
    {
     "data": {
      "text/plain": [
       "array([[-2. ,  1. ],\n",
       "       [ 1.5, -0.5]])"
      ]
     },
     "execution_count": 26,
     "metadata": {},
     "output_type": "execute_result"
    }
   ],
   "source": [
    "inverse_matrix(M)"
   ]
  },
  {
   "cell_type": "code",
   "execution_count": 27,
   "metadata": {},
   "outputs": [
    {
     "name": "stdout",
     "output_type": "stream",
     "text": [
      "[[1 2]\n",
      " [2 4]] is not invertible\n"
     ]
    }
   ],
   "source": [
    "inverse_matrix(N)"
   ]
  },
  {
   "cell_type": "markdown",
   "metadata": {},
   "source": [
    "`````{admonition} Theorem 4 (properties of the inverse matrix)\n",
    ":class: tip\n",
    "\n",
    "Let $A$ and $B$ be two invertible $n\\times n$ matrices.\n",
    "\n",
    "1. $(A^{-1})^{-1} = A$\n",
    "2. $(AB)^{-1} = B^{-1}A^{-1}$\n",
    "3. $(A^{T})^{-1} = (A^{-1})^{T}$\n",
    "\n",
    "`````"
   ]
  },
  {
   "cell_type": "markdown",
   "metadata": {},
   "source": [
    "`````{admonition} Theorem 5 (computing the inverse of a square matrix)\n",
    ":class: tip\n",
    "\n",
    "An $n\\times n$ matrix $A$ is invertible if and only if it is row equivalent to the identity matrix $I_n$. \n",
    "`````"
   ]
  },
  {
   "cell_type": "markdown",
   "metadata": {},
   "source": [
    "\n",
    "We can use this theorem to find the inverse of a matrix using the row reduction method: set up the augmented matrix $[A|I_n]$ and perform row operations until the left side of the augmented matrix becomes the identity matrix $I_n$. If this is achieved, then the right side of the augmented matrix will be the inverse of $A$. Otherwise, if the left side does not become $I_n$, then the matrix $A$ is not invertible.\n"
   ]
  },
  {
   "cell_type": "markdown",
   "metadata": {},
   "source": [
    "```{admonition} Example 3\n",
    "\n",
    "\n",
    "Find the inverse of $M= \\begin{bmatrix} 0 & 1 & 2\\\\ 1 & 0 & 3\\\\ 4 & -3 & 8 \\end{bmatrix}$.\n",
    "```\n"
   ]
  },
  {
   "cell_type": "markdown",
   "metadata": {},
   "source": [
    "__Solution__ Lets set up the augmented matrix and find its RREF:\n",
    "\n",
    "\n",
    "$$\n",
    "[M|I_3]= \\begin{bmatrix} 0 & 1 & 2 && 1 & 0 & 0\\\\ 1 & 0 & 3 &&  0 & 0 & 1 \\\\ 4 & -3 & 8 && 0 & 0 & 1\\end{bmatrix}\n",
    "$$"
   ]
  },
  {
   "cell_type": "code",
   "execution_count": 28,
   "metadata": {},
   "outputs": [
    {
     "data": {
      "text/plain": [
       "array([[ 0,  1,  2],\n",
       "       [ 1,  0,  3],\n",
       "       [ 4, -3,  8]])"
      ]
     },
     "execution_count": 28,
     "metadata": {},
     "output_type": "execute_result"
    }
   ],
   "source": [
    "# matrix M\n",
    "\n",
    "M = np.array([[0,1,2], [1,0,3], [4, -3, 8]])\n",
    "M"
   ]
  },
  {
   "cell_type": "code",
   "execution_count": 29,
   "metadata": {},
   "outputs": [
    {
     "data": {
      "text/plain": [
       "array([[1., 0., 0.],\n",
       "       [0., 1., 0.],\n",
       "       [0., 0., 1.]])"
      ]
     },
     "execution_count": 29,
     "metadata": {},
     "output_type": "execute_result"
    }
   ],
   "source": [
    "# identity matrix I_3\n",
    "\n",
    "I3 = np.eye(3)\n",
    "I3"
   ]
  },
  {
   "cell_type": "code",
   "execution_count": 30,
   "metadata": {},
   "outputs": [
    {
     "data": {
      "text/plain": [
       "array([[ 0.,  1.,  2.,  1.,  0.,  0.],\n",
       "       [ 1.,  0.,  3.,  0.,  1.,  0.],\n",
       "       [ 4., -3.,  8.,  0.,  0.,  1.]])"
      ]
     },
     "execution_count": 30,
     "metadata": {},
     "output_type": "execute_result"
    }
   ],
   "source": [
    "# Augmented matrix [A,I_3]\n",
    "\n",
    "A = np.concatenate((M, I3), axis = 1)\n",
    "A"
   ]
  },
  {
   "cell_type": "markdown",
   "metadata": {},
   "source": [
    "Now lets call row operations"
   ]
  },
  {
   "cell_type": "code",
   "execution_count": 31,
   "metadata": {},
   "outputs": [],
   "source": [
    "# Elementry row operations:\n",
    "\n",
    "# Swap two rows\n",
    "\n",
    "def swap(matrix, row1, row2):\n",
    "    \n",
    "    copy_matrix=np.copy(matrix).astype('float64') \n",
    "  \n",
    "    copy_matrix[row1,:] = matrix[row2,:]\n",
    "    copy_matrix[row2,:] = matrix[row1,:]\n",
    "    \n",
    "    return copy_matrix\n",
    "\n",
    "\n",
    "# Multiple all entries in a row by a nonzero number\n",
    "\n",
    "\n",
    "def scale(matrix, row, scalar):\n",
    "    copy_matrix=np.copy(matrix).astype('float64') \n",
    "    copy_matrix[row,:] = scalar*matrix[row,:]  \n",
    "    return copy_matrix\n",
    "\n",
    "# Replacing a row by the sum of itself and a multiple of another \n",
    "\n",
    "def replace(matrix, row1, row2, scalar):\n",
    "    copy_matrix=np.copy(matrix).astype('float64')\n",
    "    copy_matrix[row1] = matrix[row1]+ scalar * matrix[row2] \n",
    "    return copy_matrix"
   ]
  },
  {
   "cell_type": "code",
   "execution_count": 32,
   "metadata": {},
   "outputs": [
    {
     "data": {
      "text/plain": [
       "array([[ 1.,  0.,  3.,  0.,  1.,  0.],\n",
       "       [ 0.,  1.,  2.,  1.,  0.,  0.],\n",
       "       [ 4., -3.,  8.,  0.,  0.,  1.]])"
      ]
     },
     "execution_count": 32,
     "metadata": {},
     "output_type": "execute_result"
    }
   ],
   "source": [
    "A_1 = swap(A, 0, 1)\n",
    "A_1"
   ]
  },
  {
   "cell_type": "code",
   "execution_count": 33,
   "metadata": {},
   "outputs": [
    {
     "data": {
      "text/plain": [
       "array([[ 1.,  0.,  3.,  0.,  1.,  0.],\n",
       "       [ 0.,  1.,  2.,  1.,  0.,  0.],\n",
       "       [ 0., -3., -4.,  0., -4.,  1.]])"
      ]
     },
     "execution_count": 33,
     "metadata": {},
     "output_type": "execute_result"
    }
   ],
   "source": [
    "A_2 = replace(A_1, 2, 0, -4)\n",
    "A_2"
   ]
  },
  {
   "cell_type": "code",
   "execution_count": 34,
   "metadata": {},
   "outputs": [
    {
     "data": {
      "text/plain": [
       "array([[ 1.,  0.,  3.,  0.,  1.,  0.],\n",
       "       [ 0.,  1.,  2.,  1.,  0.,  0.],\n",
       "       [ 0.,  0.,  2.,  3., -4.,  1.]])"
      ]
     },
     "execution_count": 34,
     "metadata": {},
     "output_type": "execute_result"
    }
   ],
   "source": [
    "A_3 = replace(A_2, 2, 1, 3)\n",
    "A_3"
   ]
  },
  {
   "cell_type": "code",
   "execution_count": 35,
   "metadata": {},
   "outputs": [
    {
     "data": {
      "text/plain": [
       "array([[ 1. ,  0. ,  3. ,  0. ,  1. ,  0. ],\n",
       "       [ 0. ,  1. ,  2. ,  1. ,  0. ,  0. ],\n",
       "       [ 0. ,  0. ,  1. ,  1.5, -2. ,  0.5]])"
      ]
     },
     "execution_count": 35,
     "metadata": {},
     "output_type": "execute_result"
    }
   ],
   "source": [
    "A_4 = scale(A_3, 2, 1/2)\n",
    "A_4"
   ]
  },
  {
   "cell_type": "code",
   "execution_count": 36,
   "metadata": {},
   "outputs": [
    {
     "data": {
      "text/plain": [
       "array([[ 1. ,  0. ,  3. ,  0. ,  1. ,  0. ],\n",
       "       [ 0. ,  1. ,  0. , -2. ,  4. , -1. ],\n",
       "       [ 0. ,  0. ,  1. ,  1.5, -2. ,  0.5]])"
      ]
     },
     "execution_count": 36,
     "metadata": {},
     "output_type": "execute_result"
    }
   ],
   "source": [
    "A_5 = replace(A_4, 1, 2, -2)\n",
    "A_5"
   ]
  },
  {
   "cell_type": "code",
   "execution_count": 37,
   "metadata": {},
   "outputs": [
    {
     "data": {
      "text/plain": [
       "array([[ 1. ,  0. ,  0. , -4.5,  7. , -1.5],\n",
       "       [ 0. ,  1. ,  0. , -2. ,  4. , -1. ],\n",
       "       [ 0. ,  0. ,  1. ,  1.5, -2. ,  0.5]])"
      ]
     },
     "execution_count": 37,
     "metadata": {},
     "output_type": "execute_result"
    }
   ],
   "source": [
    "A_6 = replace(A_5, 0, 2, -3)\n",
    "A_6"
   ]
  },
  {
   "cell_type": "markdown",
   "metadata": {},
   "source": [
    "We can see that the resulting matrix is in the form $[I_3, B]$. Thus, $B= \\begin{bmatrix} -4.5 & 7 & -1.5\\\\ -2 &  4 & -1 \\\\ 1.5 & -2 & 0.5 \\\\ \\end{bmatrix}$ is the inverse of $M$."
   ]
  },
  {
   "cell_type": "markdown",
   "metadata": {},
   "source": [
    "__Remark__ We can also use an `np.linalg.inv()` function, from NumPy linear algebra submodule, to find an inverse of a matrix: "
   ]
  },
  {
   "cell_type": "code",
   "execution_count": 38,
   "metadata": {},
   "outputs": [
    {
     "data": {
      "text/plain": [
       "array([[-4.5,  7. , -1.5],\n",
       "       [-2. ,  4. , -1. ],\n",
       "       [ 1.5, -2. ,  0.5]])"
      ]
     },
     "execution_count": 38,
     "metadata": {},
     "output_type": "execute_result"
    }
   ],
   "source": [
    "np.linalg.inv(M)"
   ]
  },
  {
   "cell_type": "markdown",
   "metadata": {},
   "source": [
    "`````{admonition} Theorem 6 (The Invertible Matrix Theorem)\n",
    ":class: tip\n",
    "\n",
    "Let $A$ be an $n\\times n$ matrix. The following statements are equivalent:\n",
    "\n",
    "1. $A$ is an invertible matrix.\n",
    "2. $A$ is row equivalent to $I_n$.\n",
    "3. The equation $A\\vec{x}=0$ has only the trivial solution ($\\vec{x} = \\mathbf{0}$).\n",
    "4. The columns of $A$ form a linearly independent set.\n",
    "5. The equation $A\\vec{x}=\\vec{b}$ has a unique solution ($\\vec{x} = A^{-1}\\vec{b}$).\n",
    "6. The columns of $A$ span $\\mathbb{R}^n$.\n",
    "\n",
    "`````"
   ]
  },
  {
   "cell_type": "markdown",
   "metadata": {},
   "source": [
    "```{admonition} Example 4\n",
    "Find the solution set of the following linear systems:\n",
    "\n",
    "1. $M\\vec{x}=0$, where $M$ is the matrix from Example 7.\n",
    "\n",
    "2. $M\\vec{x}=\\vec{b}$, where $M$ is the matrix from Example 7 and $\\vec{b}=\\begin{bmatrix} 1 \\\\ 2 \\\\ 3 \\end{bmatrix}$.\n",
    "\n",
    "```"
   ]
  },
  {
   "cell_type": "markdown",
   "metadata": {},
   "source": [
    "__Solution:__ \n",
    "\n",
    "1. Since $M$ is invertible, by the Invertible Matrix Theorem part (3), the only solution to $M\\vec{x}=0$ is the zero vector $\\vec{x}=\\mathbf{0}$.\n",
    "\n",
    "\n",
    "\n",
    "2. By IMT part (5), the only solution to $M\\vec{x}=\\vec{b}$ is $\\vec{x}=M^{-1}\\vec{b}$. In Example 7, we computed the inverse of $M$:\n",
    "\n",
    "$A^{-1} = \\begin{bmatrix} -4.5 & 7 & -1.5 \\\\ -2 & 4 & -1 \\\\ 1.5 & -2 & 0.5 \\end{bmatrix}$\n",
    "\n",
    "In the following cell, we use $B$ to represent $A^{-1}$ to simplify notation:"
   ]
  },
  {
   "cell_type": "code",
   "execution_count": 39,
   "metadata": {},
   "outputs": [
    {
     "data": {
      "text/plain": [
       "array([[ 5.],\n",
       "       [ 3.],\n",
       "       [-1.]])"
      ]
     },
     "execution_count": 39,
     "metadata": {},
     "output_type": "execute_result"
    }
   ],
   "source": [
    "B = np.array([[-4.5, 7, -1.5], [-2, 4, -1], [1.5, -2, 0.5]])\n",
    "\n",
    "b = np.array ([[1], [2], [3]])\n",
    "\n",
    "#compute Bb\n",
    "\n",
    "x = B @ b\n",
    "x"
   ]
  },
  {
   "cell_type": "code",
   "execution_count": 40,
   "metadata": {},
   "outputs": [
    {
     "data": {
      "text/plain": [
       "array([[1.],\n",
       "       [2.],\n",
       "       [3.]])"
      ]
     },
     "execution_count": 40,
     "metadata": {},
     "output_type": "execute_result"
    }
   ],
   "source": [
    "M = np.array([[0,1,2], [1,0,3], [4,-3,8]])\n",
    "\n",
    "#compute Mx\n",
    "\n",
    "Mx= M @ x\n",
    "Mx"
   ]
  },
  {
   "cell_type": "markdown",
   "metadata": {},
   "source": [
    "which is $\\vec{b}$."
   ]
  },
  {
   "cell_type": "markdown",
   "metadata": {},
   "source": [
    "### Trace of Square Matrices"
   ]
  },
  {
   "cell_type": "markdown",
   "metadata": {},
   "source": [
    "The trace of an $n\\times n$ matrix $A$, denoted by $Tr(A)$ or $tr(A)$, is defined as the sum of the elements on its main diagonal:\n",
    "\n",
    "$$\n",
    "Tr(A) = a_{11} + a_{22} + \\dots + a_{nn} = \\sum^{n}_{i=1} a_{ii}\n",
    "$$"
   ]
  },
  {
   "cell_type": "markdown",
   "metadata": {},
   "source": [
    "`````{admonition} Theorem 7 (properties of the trace)\n",
    "\n",
    ":class: tip\n",
    "\n",
    "Let $A$ and $B$ be two $n\\times n$ matrices, and $c \\in \\mathbb{R}$. Then we have the following:\n",
    "\n",
    "1. __Trace of sum:__ $Tr(A + B) = Tr(A) + Tr(B)$\n",
    "\n",
    "2. __Trace of scalar product:__ $Tr(cA) = c \\cdot Tr(A)$\n",
    "\n",
    "3. __Trace of identity matrix:__ $Tr(I_n) = n$\n",
    "\n",
    "4. __Trace of product:__ $Tr(AB) = Tr(BA)$\n",
    "    \n",
    "`````"
   ]
  },
  {
   "cell_type": "markdown",
   "metadata": {},
   "source": [
    "The trace can also be seen as a function from the set of $n\\times n$ matrices to real numbers. It can be shown that there is only one function that satisfies the above conditions.\n",
    "\n",
    "```{admonition} Example 5\n",
    "\n",
    "Let \n",
    "\n",
    "$$\n",
    "M = \\begin{bmatrix} 0 & 1 & 2\\\\ 1 & 0 & 3\\\\ 4 & -3 & 8 \\end{bmatrix}.\n",
    "$$ \n",
    "\n",
    "Then:\n",
    "\n",
    "$$\n",
    "Tr(M) = 0 + 0 + 8 = 8.\n",
    "$$\n",
    "\n",
    "```\n",
    "\n",
    "For large matrices, we can use `numpy.trace()` to compute the trace. The following code generates a random $5\\times 5$ matrix and computes its trace:"
   ]
  },
  {
   "cell_type": "code",
   "execution_count": 41,
   "metadata": {},
   "outputs": [
    {
     "name": "stdout",
     "output_type": "stream",
     "text": [
      "[[0.34123286 0.3788517  0.62749816 0.49779428 0.85625537]\n",
      " [0.49841636 0.64059001 0.97192421 0.82065731 0.73171872]\n",
      " [0.93029465 0.82685801 0.34255562 0.22621385 0.40893711]\n",
      " [0.20730845 0.35221413 0.95709886 0.62781555 0.49836643]\n",
      " [0.75311689 0.22947177 0.40015054 0.20169886 0.86231891]]\n",
      "\n",
      " Tr(A) =  2.814512956289748\n"
     ]
    }
   ],
   "source": [
    "# generate a 5x5 matrix\n",
    "A = np.random.rand(5, 5)\n",
    "print(A)\n",
    "\n",
    "\n",
    "#compute the trace\n",
    "Tr_A = np.trace(A)\n",
    "print('\\n Tr(A) = ', Tr_A)"
   ]
  },
  {
   "cell_type": "markdown",
   "metadata": {},
   "source": [
    "```{admonition} Exercises\n",
    "\n",
    "1. Suppose \n",
    "\n",
    "$$\n",
    "A= \\begin{bmatrix}\n",
    "1 & 2 \\\\\n",
    "0 & -1 \\\\\n",
    "3 & 0\n",
    "\\end{bmatrix}.\n",
    "$$\n",
    "\n",
    "    (a) Compute $A^T$.\n",
    "    \n",
    "    (b) Is $AA^T$ invertible? \n",
    "    \n",
    "    (c) Is $A^TA$ invertible?\n",
    "    \n",
    "    \n",
    "\n",
    "2. The trace is invariant under cyclic permutations, i.e., for three matrices we have $Tr(ABC) = Tr(BCA) = Tr(CAB)$, where $A$ is an $n\\times p$ matrix, $B$ is a $p\\times m$ matrix, and $C$ is an $m \\times n$ matrix. Using Example 9, generate three matrices $A$, $B$, and $C$ such that the product $ABC$ makes sense, and verify that:\n",
    "\n",
    "$$\n",
    "Tr(ABC) = Tr(BCA) = Tr(CAB).\n",
    "$$\n",
    "    \n",
    "    \n",
    "```"
   ]
  },
  {
   "cell_type": "markdown",
   "metadata": {},
   "source": [
    "## 2.3 Determinant\n",
    "\n",
    "This section introduces the determinant of matrices and explores some of their properties, applications, and computation methods. The determinant of a square matrix is a useful concept in linear algebra and have many theoretical and practical roles, including:\n",
    "\n",
    "1. Determining the invertibility of a matrix.\n",
    "2. Determining the linear dependency of a set of vectors.\n",
    "3. Computing the area of parallelograms or the volume of parallelepipeds.\n",
    "4. Solving linear systems (Cramer's rule).\n",
    "5. Finding the inverse of an invertible matrix.\n",
    "\n",
    "Note that applications (4) and (5) are based on Cramer's rule, which is a theoretical tool but not an efficient computational method. We won't discuss Cramer's rule."
   ]
  },
  {
   "cell_type": "markdown",
   "metadata": {},
   "source": [
    "### Cofactor expansion"
   ]
  },
  {
   "cell_type": "markdown",
   "metadata": {},
   "source": [
    "In the previous section, we defined the determinant of a $2\\times 2$ matrix as $det(A) = ad-bc$, where $A = \\begin{bmatrix} a & b \\\\ c & d \\end{bmatrix}$. To extend this definition to larger matrices, we follow a recursive approach. For example, to find the determinant of a $3\\times 3$ matrix, we can use $2\\times 2$ determinants.\n",
    "\n",
    "Let $A = \\begin{bmatrix} a_{11} & a_{12} & a_{13} \\\\ a_{21} & a_{22} & a_{23} \\\\ a_{31} & a_{32} & a_{33} \\end{bmatrix}$ be a general $3\\times 3$ matrix. For any entry $a_{ij}$, let $A_{ij}$ denote a $2\\times 2$ submatrix of $A$ defined by removing the row and column of $A$ that contain $a_{ij}$. For example, $A_{12} = \\begin{bmatrix} a_{21} & a_{23} \\\\ a_{31} & a_{33} \\end{bmatrix}$ and $A_{23} = \\begin{bmatrix} a_{11} & a_{13} \\\\ a_{31} & a_{33} \\end{bmatrix}$.\n",
    "\n"
   ]
  },
  {
   "cell_type": "markdown",
   "metadata": {},
   "source": [
    "```{admonition} Example 1\n",
    "\n",
    "Write a Python code that prints all submatrices of \n",
    "\n",
    "$$\n",
    "M = \\begin{bmatrix} 1 & 2 & 3\\\\ 4 & 5 & 6\\\\ 7 & 8 & 9 \\end{bmatrix}.\n",
    "$$\n",
    "\n",
    "```\n",
    "\n",
    "__Solution:__"
   ]
  },
  {
   "cell_type": "code",
   "execution_count": 44,
   "metadata": {},
   "outputs": [
    {
     "data": {
      "text/plain": [
       "array([[1, 2, 3],\n",
       "       [4, 5, 6],\n",
       "       [7, 8, 9]])"
      ]
     },
     "execution_count": 44,
     "metadata": {},
     "output_type": "execute_result"
    }
   ],
   "source": [
    "M = np.array([[1,2,3],[4,5,6],[7,8,9]])\n",
    "M"
   ]
  },
  {
   "cell_type": "code",
   "execution_count": 45,
   "metadata": {},
   "outputs": [
    {
     "name": "stdout",
     "output_type": "stream",
     "text": [
      " \n",
      " M( 0 0 ) = \n",
      " \n",
      " [[5 6]\n",
      " [8 9]]\n",
      "******************************\n",
      " \n",
      " M( 1 0 ) = \n",
      " \n",
      " [[2 3]\n",
      " [8 9]]\n",
      "******************************\n",
      " \n",
      " M( 2 0 ) = \n",
      " \n",
      " [[2 3]\n",
      " [5 6]]\n",
      "******************************\n",
      " \n",
      " M( 0 1 ) = \n",
      " \n",
      " [[4 6]\n",
      " [7 9]]\n",
      "******************************\n",
      " \n",
      " M( 1 1 ) = \n",
      " \n",
      " [[1 3]\n",
      " [7 9]]\n",
      "******************************\n",
      " \n",
      " M( 2 1 ) = \n",
      " \n",
      " [[1 3]\n",
      " [4 6]]\n",
      "******************************\n",
      " \n",
      " M( 0 2 ) = \n",
      " \n",
      " [[4 5]\n",
      " [7 8]]\n",
      "******************************\n",
      " \n",
      " M( 1 2 ) = \n",
      " \n",
      " [[1 2]\n",
      " [7 8]]\n",
      "******************************\n",
      " \n",
      " M( 2 2 ) = \n",
      " \n",
      " [[1 2]\n",
      " [4 5]]\n",
      "******************************\n"
     ]
    }
   ],
   "source": [
    "for j in range (3):\n",
    "    for i in range (3):\n",
    "        submatrix = np.delete( (np.delete(M, i , 0)), j ,1)\n",
    "        print (' \\n M(',i,j, ') = \\n \\n', submatrix) \n",
    "        print(30*\"*\")"
   ]
  },
  {
   "cell_type": "markdown",
   "metadata": {},
   "source": [
    "The determinant of $A$, expanded over the first row, is defined as:\n",
    "\n",
    "$$ det(A) = \\sum_{k=1}^{3} (-1)^{1+k} a_{1k}|A_{1k}| = a_{11}|A_{11}| - a_{12}|A_{12}| + a_{13}|A_{13}|$$\n",
    "\n",
    "Here $|A_{ij}|$ represents the determinant of the $A_{ij}$. Note that choosing a different row or column would give the same value. For example, using the second row:\n",
    "\n",
    "$$ det(A) = \\sum_{k=1}^{3} (-1)^{2+k} a_{2k}|A_{2k}| = -a_{21}|A_{21}| + a_{22}|A_{22}| - a_{23}|A_{23}|$$\n",
    "\n",
    "Similarly, using the second column:\n",
    "\n",
    "$$ det(A) = \\sum_{k=1}^{3} (-1)^{k+2} a_{k2}|A_{k2}| = -a_{12}|A_{12}| + a_{22}|A_{22}| - a_{32}|A_{32}|$$\n",
    "\n"
   ]
  },
  {
   "cell_type": "markdown",
   "metadata": {},
   "source": [
    "```{admonition} Example 2\n",
    "\n",
    "Compute the determinent of \n",
    "\n",
    "$$\n",
    "M= \\begin{bmatrix} 0 & 1 & 2\\\\ 1 & 0 & 3\\\\ 4 & -3 & 8 \\end{bmatrix}.\n",
    "$$\n",
    "\n",
    "```\n",
    "__Solution:__\n",
    "    \n",
    "Lets write a Python code that computes the determinant of a $3\\times 3$ matrix:"
   ]
  },
  {
   "cell_type": "code",
   "execution_count": 48,
   "metadata": {},
   "outputs": [],
   "source": [
    "M = np.array([[0,1,2],[1,0,3],[4,-3,8]])\n"
   ]
  },
  {
   "cell_type": "code",
   "execution_count": 49,
   "metadata": {},
   "outputs": [],
   "source": [
    "# Computes a 2x2 determinant\n",
    "def det2(matrix):\n",
    "    \n",
    "    if matrix.shape == (2, 2):\n",
    "        return matrix[0,0] * matrix[1,1] - matrix[0,1] * matrix[1,0]\n",
    "    else:\n",
    "        print(\"Please enter a 2x2 matrix\")\n",
    "\n",
    "# Computes the 3x3 determinat over a given row\n",
    "\n",
    "def det3(matrix, row):\n",
    "    if matrix.shape == (3, 3) and row in range(3):\n",
    "        det = 0\n",
    "        for j in range(3):\n",
    "            submatrix = np.delete( (np.delete(matrix, row , 0)), j ,1)   \n",
    "            det += (-1) ** (row + j) * matrix[row, j] * det2(submatrix)\n",
    "        return det\n",
    "    else:\n",
    "        print(\"The input matrix is not 3x3 or the row is not chosen in the right range\")"
   ]
  },
  {
   "cell_type": "code",
   "execution_count": 50,
   "metadata": {},
   "outputs": [
    {
     "data": {
      "text/plain": [
       "-2"
      ]
     },
     "execution_count": 50,
     "metadata": {},
     "output_type": "execute_result"
    }
   ],
   "source": [
    "det3(M,0)"
   ]
  },
  {
   "cell_type": "markdown",
   "metadata": {},
   "source": [
    "We can observe that selecting a different row does not affect the value of the determinant:"
   ]
  },
  {
   "cell_type": "code",
   "execution_count": 51,
   "metadata": {},
   "outputs": [
    {
     "data": {
      "text/plain": [
       "-2"
      ]
     },
     "execution_count": 51,
     "metadata": {},
     "output_type": "execute_result"
    }
   ],
   "source": [
    "det3(M,2)"
   ]
  },
  {
   "cell_type": "markdown",
   "metadata": {},
   "source": [
    "The determinant of an $n\\times n$ matrix A can be defined the same way recursievely:\n",
    "\n",
    "$$\n",
    "det(A) = \\sum^{n}_{i=1} (-1)^{1+i} a_{1i} det(A_{1i})\n",
    "$$ \n",
    "\n",
    "This formula is called __a cofactor expansion across the first row__ of $A$. \n",
    "\n",
    "Let's write a Python code that computes the determinant of a square matrix of an arbitary size:"
   ]
  },
  {
   "cell_type": "code",
   "execution_count": 53,
   "metadata": {},
   "outputs": [],
   "source": [
    "# Computes the determinant of an nxn matrix.\n",
    "\n",
    "def det(matrix):\n",
    "    n = matrix.shape[0]\n",
    "    if n == 1:\n",
    "        return matrix[0, 0]\n",
    "    elif n == 2:\n",
    "        return matrix[0, 0] * matrix[1, 1] - matrix[0, 1] * matrix[1, 0]\n",
    "    else:\n",
    "        det = 0\n",
    "        for j in range(n):\n",
    "            submatrix = np.delete( (np.delete(matrix, 0 , 0)), j ,1)   \n",
    "            det += (-1) ** (0 + j) * matrix[0, j] * det2(submatrix)\n",
    "        return det"
   ]
  },
  {
   "cell_type": "code",
   "execution_count": 54,
   "metadata": {},
   "outputs": [
    {
     "data": {
      "text/plain": [
       "-2"
      ]
     },
     "execution_count": 54,
     "metadata": {},
     "output_type": "execute_result"
    }
   ],
   "source": [
    "# determinant of matrix M\n",
    "det(M)"
   ]
  },
  {
   "cell_type": "markdown",
   "metadata": {},
   "source": [
    "Let's discuss the properties of determinants:\n",
    "\n",
    "If $A = \\begin{bmatrix} a & 0 \\\\ c & d \\end{bmatrix}$, then $det(A) = ad$. We can generalize this observation using induction:\n",
    "\n",
    "`````{admonition} Theorem 8\n",
    ":class: tip\n",
    "The determinant of a triangular matrix is the product of its diagonal entries.\n",
    "\n",
    "`````\n",
    "\n",
    "Next, we will explore the impact of row operations on determinants.\n",
    "\n",
    "`````{admonition} Theorem 9\n",
    ":class: tip\n",
    "\n",
    "1. If a multiple of one row of matrix $A$ is added to another row to produce matrix $B$, then $det(A) = det(B)$.\n",
    "\n",
    "2. If two rows are interchanged to produce matrix $B$, then $det(A) = -det(B)$.\n",
    "\n",
    "3. If one row is multiplied by a scalar $k$ to produce matrix $B$, then $det(A) = k \\cdot det(B)$.\n",
    "\n",
    "Consequently, if a square matrix $A$ is reduced to $U$ using only row replacements and $r$ row swaps, then\n",
    "\n",
    "$$\n",
    "det(A) = (-1)^r \\cdot det(U)\n",
    "$$\n",
    "\n",
    "`````\n",
    "\n",
    "\n",
    "By combining __Theorem 8__ and __Theorem 9__, we can compute determinants effectively.\n",
    "\n",
    "```{admonition} Example 3\n",
    "\n",
    "Compute \n",
    "\n",
    "$$\n",
    "det \\begin{bmatrix} 0 & 1 & 2\\\\ 1 & 0 & 3\\\\ 4 & -3 & 8 \\end{bmatrix}.\n",
    "$$\n",
    "```\n",
    "__Solution:__\n",
    "\n",
    "We first convert the matrix to its row echelon form (REF) and then use Theorem 1 to find the determinant."
   ]
  },
  {
   "cell_type": "code",
   "execution_count": 55,
   "metadata": {},
   "outputs": [],
   "source": [
    "M = np.array([[0,1,2],[1,0,3],[4,-3,8]])\n",
    "\n",
    "# Elementry row operations:\n",
    "\n",
    "# Swap two rows\n",
    "\n",
    "def swap(matrix, row1, row2):\n",
    "    \n",
    "    copy_matrix=np.copy(matrix).astype('float64') \n",
    "  \n",
    "    copy_matrix[row1,:] = matrix[row2,:]\n",
    "    copy_matrix[row2,:] = matrix[row1,:]\n",
    "    \n",
    "    return copy_matrix\n",
    "\n",
    "\n",
    "# Multiple all entries in a row by a nonzero number\n",
    "\n",
    "\n",
    "def scale(matrix, row, scalar):\n",
    "    copy_matrix=np.copy(matrix).astype('float64') \n",
    "    copy_matrix[row,:] = scalar*matrix[row,:]  \n",
    "    return copy_matrix\n",
    "\n",
    "# Replacing a row by the sum of itself and a multiple of another \n",
    "\n",
    "def replace(matrix, row1, row2, scalar):\n",
    "    copy_matrix=np.copy(matrix).astype('float64')\n",
    "    copy_matrix[row1] = matrix[row1]+ scalar * matrix[row2] \n",
    "    return copy_matrix"
   ]
  },
  {
   "cell_type": "code",
   "execution_count": 56,
   "metadata": {},
   "outputs": [
    {
     "data": {
      "text/plain": [
       "array([[ 1.,  0.,  3.],\n",
       "       [ 0.,  1.,  2.],\n",
       "       [ 4., -3.,  8.]])"
      ]
     },
     "execution_count": 56,
     "metadata": {},
     "output_type": "execute_result"
    }
   ],
   "source": [
    "M1 = swap(M, 0, 1)\n",
    "M1"
   ]
  },
  {
   "cell_type": "code",
   "execution_count": 57,
   "metadata": {},
   "outputs": [
    {
     "data": {
      "text/plain": [
       "array([[ 1.,  0.,  3.],\n",
       "       [ 0.,  1.,  2.],\n",
       "       [ 0., -3., -4.]])"
      ]
     },
     "execution_count": 57,
     "metadata": {},
     "output_type": "execute_result"
    }
   ],
   "source": [
    "M2 = replace(M1, 2, 0, -4)\n",
    "M2"
   ]
  },
  {
   "cell_type": "code",
   "execution_count": 58,
   "metadata": {},
   "outputs": [
    {
     "data": {
      "text/plain": [
       "array([[1., 0., 3.],\n",
       "       [0., 1., 2.],\n",
       "       [0., 0., 2.]])"
      ]
     },
     "execution_count": 58,
     "metadata": {},
     "output_type": "execute_result"
    }
   ],
   "source": [
    "M3 = replace(M2, 2, 1, 3)\n",
    "M3"
   ]
  },
  {
   "cell_type": "markdown",
   "metadata": {},
   "source": [
    "Since we used only one row swap, we have:\n",
    "\n",
    "$$\n",
    "\\text{det}(M) = - \\text{det}(M_3)\n",
    "$$\n",
    "\n",
    "Using Theorem 9, we have:\n",
    "\n",
    "$$\n",
    "\\text{det}(M) = - \\text{det}(M_3) = -2\n",
    "$$\n",
    "\n",
    "As mentioned in the introduction, the determinant can be used to check the invertibility of matrices.\n",
    "\n",
    "`````{admonition} Theorem 10 (Determinants and Invertibility)\n",
    ":class: tip\n",
    "\n",
    "A square matrix $A$ is invertible if and only if $\\text{det}(A) \\neq 0$.\n",
    "`````\n",
    "\n",
    "\n",
    "`````{admonition} Theorem 11\n",
    "\n",
    ":class: tip\n",
    "\n",
    "Let $A$ and $B$ be two square matrices of the same size. Then:\n",
    "\n",
    "1. $\\text{det}(A^T) = \\text{det}(A)$.\n",
    "\n",
    "2. $\\text{det}(AB) = \\text{det}(A) \\cdot \\text{det}(B)$.\n",
    "\n",
    "3. If $A$ is invertible, then $\\text{det}(A)^{-1} = \\frac{1}{\\text{det}(A)}$.\n",
    "\n",
    "`````\n",
    "\n",
    "\n",
    "```{admonition} Example 4\n",
    "\n",
    "Compute \n",
    "\n",
    "$$\n",
    "\\text{det}(B^4),\n",
    "$$\n",
    "\n",
    "where \n",
    "\n",
    "$$\n",
    "B = \\begin{bmatrix} 1 & 1 & 2\\\\ 2 & 0 & 3\\\\ 5 & -3 & 8 \\end{bmatrix}.\n",
    "$$\n",
    "```\n",
    "__Solution:__ Using Theorem 11 part 2, it's easy to see that \n",
    "    \n",
    "    \n",
    "$$\n",
    "\\text{det}(B^4) = (\\text{det}(B))^4.\n",
    "$$"
   ]
  },
  {
   "cell_type": "code",
   "execution_count": 60,
   "metadata": {},
   "outputs": [
    {
     "data": {
      "text/plain": [
       "256"
      ]
     },
     "execution_count": 60,
     "metadata": {},
     "output_type": "execute_result"
    }
   ],
   "source": [
    "B = np.array([[1,1,2],[2,0,3],[5,-3,8]])\n",
    "\n",
    "#compute det(B)\n",
    "det(B)\n",
    "\n",
    "#using Theorem 4 to compute det(B)^4\n",
    "\n",
    "det(B) ** 4\n"
   ]
  },
  {
   "cell_type": "markdown",
   "metadata": {},
   "source": [
    "### Determinants as Area or Volume"
   ]
  },
  {
   "cell_type": "markdown",
   "metadata": {},
   "source": [
    "\n",
    "`````{admonition} Theorem 12\n",
    ":class: tip\n",
    "\n",
    "1. If $A$ is a $2 \\times 2$ matrix, then $|\\text{det}(A)|$ is the area of the parallelogram determined by the columns of $A$.\n",
    "\n",
    "2. If $A$ is a $3 \\times 3$ matrix, then $|\\text{det}(A)|$ is the volume of the parallelepiped determined by the columns of $A$.\n",
    "\n",
    "`````\n",
    "In particular, three points $\\vec{u}, \\vec{v}, \\vec{w}$ in $\\mathbb{R}^3$ are coplanar ( i.e., they lie on the same plane) if and only if $\\text{det}([\\vec{u}, \\vec{v}, \\vec{w}]) = 0$.\n",
    "\n",
    "The theorem is obviously true for diagonal matrices.\n",
    "\n",
    "```{admonition} Example 5\n",
    "\n",
    "1. Let \n",
    "\n",
    "$$\n",
    "A = \\begin{bmatrix} 3 & 0 \\\\ 0 & -2 \\end{bmatrix}.\n",
    "$$\n",
    "\n",
    "The area of the parallelogram determined by \n",
    "\n",
    "$$\n",
    "\\begin{bmatrix} a \\\\ 0 \\end{bmatrix}$ and $\\begin{bmatrix} 0 \\\\ d \\end{bmatrix} \n",
    "$$\n",
    "\n",
    "is $|-6| = 6.\n",
    "\n",
    "```"
   ]
  },
  {
   "cell_type": "code",
   "execution_count": 61,
   "metadata": {},
   "outputs": [
    {
     "data": {
      "image/png": "[encoded data removed]",
      "text/plain": [
       "<Figure size 640x480 with 1 Axes>"
      ]
     },
     "metadata": {},
     "output_type": "display_data"
    }
   ],
   "source": [
    "import matplotlib.pyplot as plt\n",
    "\n",
    "# Define x and y values for the lines\n",
    "x = range(0, 4)\n",
    "y1 = [ 0 for k in x]\n",
    "y2 = [ 2 for k in x]\n",
    "y = range(0, 3)\n",
    "x1 = [3 for k in y]\n",
    "x2 = [0 for k in y]\n",
    "\n",
    "# Plot the lines on the same plane\n",
    "plt.plot(x, y1, 'b')\n",
    "plt.plot(x, y2, 'b')\n",
    "plt.plot(x1, y, 'r')\n",
    "plt.plot(x2, y, 'r')\n",
    "\n",
    "# Add labels to the graph\n",
    "plt.xlabel('x')\n",
    "plt.ylabel('y')\n",
    "plt.grid()\n",
    "\n",
    "# Show the graph\n",
    "plt.show()"
   ]
  },
  {
   "cell_type": "markdown",
   "metadata": {},
   "source": [
    "```{admonition} Example 6\n",
    "\n",
    "Determine if the following points are coplaner.\n",
    "\n",
    "$$\n",
    "\\begin{bmatrix} 1 \\\\ 0  \\\\2 \\end{bmatrix},  \n",
    "\\begin{bmatrix} 4 \\\\ 3  \\\\5 \\end{bmatrix}, \\begin{bmatrix} 3 \\\\ 4 \\\\6 \\end{bmatrix}\n",
    "$$ \n",
    "\n",
    "```\n",
    "__Solution:__\n",
    "\n",
    "To determine if the above points are coplanar, we check whether or not $det \\left(\\ \\begin{bmatrix} 1 & 0 & 2 \\\\ 4 & 3 & 5 \\\\ 3 & 4 & 6 \\end{bmatrix}\\ \\right) = 0$:"
   ]
  },
  {
   "cell_type": "code",
   "execution_count": 62,
   "metadata": {},
   "outputs": [
    {
     "data": {
      "text/plain": [
       "12"
      ]
     },
     "execution_count": 62,
     "metadata": {},
     "output_type": "execute_result"
    }
   ],
   "source": [
    "A = np.array([[1,0,2],[4,3,5],[3,4,6]])\n",
    "\n",
    "det(A)"
   ]
  },
  {
   "cell_type": "markdown",
   "metadata": {},
   "source": [
    "Since $det(A)\\neq 0$, the mentioned points are not coplanar. In fact they form a parrallelopiped of volume 12. "
   ]
  },
  {
   "cell_type": "markdown",
   "metadata": {},
   "source": [
    "### Numerical Note\n",
    "\n",
    "\n",
    "\n",
    "In this section, we discussed two different ways to compute the determinant of a square matrix: cofactor expansion and row operations.  \n",
    "\n",
    "While cofactor expansion is a straightforward approach, it becomes computationally impossible for large matrices. In fact, cofactor expansion requires $n!$ multiplications for an $n \\times n$ matrix. If a computer can perform a trillion multiplications per second, computing the determinant of a $25 \\times 25$ matrix would take approximately $500 \\times 500$ years!\n",
    "\n",
    "On the other hand, evaluating the determinant of an $n \\times n$ matrix using row operations involves about $\\frac{2n^3}{3}$ arithmetic operations. Using this method, the determinant of a $25 \\times 25$ matrix can be computed in a fraction of a second on most microcomputers.\n",
    " "
   ]
  },
  {
   "cell_type": "markdown",
   "metadata": {},
   "source": [
    "```{admonition} Exercises\n",
    "\n",
    "1. Let $A$ be an $n\\times n$ matrix such that $A^2 = I_n$. Show that $det(A) = \\pm 1$.\n",
    "\n",
    "2. Find the determinant of \n",
    "\n",
    "$$\n",
    "A = \\begin{bmatrix} 1 & 1 & 2 \\\\ 2 & 0 & 3 \\\\ 5 & -3 & 8 \\end{bmatrix}\n",
    "$$ \n",
    "\n",
    "using the row reduction method.\n",
    "\n",
    "3. Use determinants to decide if the set \n",
    "\n",
    "$$\n",
    "\\left\\lbrace \\begin{bmatrix} 1 \\\\ 2 \\\\ 3 \\end{bmatrix}, \\begin{bmatrix} 4 \\\\ 5 \\\\ 6 \\end{bmatrix}, \\begin{bmatrix} 7 \\\\ 8 \\\\ 9 \\end{bmatrix} \\right\\rbrace\n",
    "$$\n",
    "\n",
    "is linearly independent.\n",
    "\n",
    "4. Suppose $A$, $B$, $P$ are $n\\times n$ matrices, $P$ is invertible, and $r$ is a real number. Mark True or False:\n",
    "\n",
    "   a. $det(A+B) = det(A) + det(B)$.\n",
    "   \n",
    "   b. $det(rA) = r \\cdot det(A)$.\n",
    "   \n",
    "   c. $det(PAP^{-1}) = det(A)$.\n",
    "\n",
    "5. Determine if the following points are coplanar (i.e., they lie on the same plane):\n",
    "\n",
    "$$\n",
    "\\begin{bmatrix} 1 \\\\ 0 \\\\ 2 \\end{bmatrix}, \\begin{bmatrix} 4 \\\\ 3 \\\\ 5 \\end{bmatrix}, \\begin{bmatrix} 3 \\\\ 0 \\\\ 6 \\end{bmatrix}\n",
    "$$\n",
    "\n",
    "```"
   ]
  }
 ],
 "metadata": {
  "kernelspec": {
   "display_name": "Python 3",
   "language": "python",
   "name": "python3"
  },
  "language_info": {
   "codemirror_mode": {
    "name": "ipython",
    "version": 3
   },
   "file_extension": ".py",
   "mimetype": "text/x-python",
   "name": "python",
   "nbconvert_exporter": "python",
   "pygments_lexer": "ipython3",
   "version": "3.8.8"
  }
 },
 "nbformat": 4,
 "nbformat_minor": 4
}
