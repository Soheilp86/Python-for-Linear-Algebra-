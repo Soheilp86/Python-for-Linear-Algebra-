{
 "cells": [
  {
   "cell_type": "markdown",
   "id": "bb971197",
   "metadata": {},
   "source": [
    "# 4.1 Eigenvalues and Eigenvectors"
   ]
  },
  {
   "cell_type": "markdown",
   "id": "d927a479",
   "metadata": {},
   "source": [
    "1. If $\\vec{v}$ is an eigenvector of $A$ corresponding to $\\lambda$, show that $\\lambda^3$ is an eigenvalue of $A^3$.\n",
    "\n",
    "\n",
    "__Solution:__\n",
    "\n",
    "\n",
    "$$\n",
    "A^3\\vec{v} = A^{2}A\\vec{v} = A^2 \\lambda\\vec{v} = \\lambda A^2 \\vec{v} = \\lambda A A\\vec{v} = \\lambda A \\lambda \\vec{v} = \\lambda^2 A \\vec{v} = \\lambda^{3} \\vec{v}\n",
    "$$\n",
    "\n"
   ]
  },
  {
   "cell_type": "markdown",
   "id": "f76308ef",
   "metadata": {},
   "source": [
    "2. If A is an $n\\times n$ matrix and $2$ is an eigenvalue of $A$, show that $4$ is an eigenvalue of $2A$.\n",
    "\n",
    "__Solution:__\n",
    "\n",
    "Let $\\vec{v}$ be an eigenvector of $A$ corresponding to $\\lambda = 2$. We have:\n",
    "\n",
    "$$\n",
    "(2A)\\vec{v} =  2 A\\vec{v} = 2 (2\\vec{v}) = 4 \\vec{v}\n",
    "$$"
   ]
  },
  {
   "cell_type": "markdown",
   "id": "4f1d61fe",
   "metadata": {},
   "source": [
    "3. If $A$ is an invertible matrix with eigenvalue $\\lambda$ show that $A^{-1}$ has eigenvalue $1/\\lambda.$ \n",
    "    \n",
    "    \n",
    "__Solution:__\n",
    "\n",
    "Let $\\vec{v}$ be an eigenvector of $A$ corresponding to $\\lambda$. We have \n",
    "\n",
    "$$\n",
    "A\\vec{v} = \\lambda \\vec{v} \\iff A^{-1} (A\\vec{v}) = A^{-1} (\\lambda\\vec{v}) \\iff \\vec{v} = \\lambda A^{-1} \\vec{v} \\iff A^{-1} \\vec{v} = \\frac{1}{\\lambda}\\vec{v}. \n",
    "$$\n",
    "\n"
   ]
  },
  {
   "cell_type": "markdown",
   "id": "c29cc305",
   "metadata": {},
   "source": [
    "4.  Let $A = \\begin{bmatrix} 1 & 3 & 3\\\\ -3 & -5 &-3\\\\ 3 & 3 & 1 \\end{bmatrix}$. \n",
    "\n",
    "    a. Find the eigenvalues of $A$ and their multiplicities.\n",
    "    \n",
    "    b. For each eigenvalue in part (a) find the corresponding eigenspace. \n",
    "    \n",
    "    c. Find the dimension of each eigenspace in part (b) by finding a basis for it. How this result is related to your answer to part (a)?   \n",
    "\n",
    "\n",
    "\n",
    "\n",
    "__Solution:__"
   ]
  },
  {
   "cell_type": "code",
   "execution_count": 1,
   "id": "8f5a4496",
   "metadata": {},
   "outputs": [
    {
     "data": {
      "text/plain": [
       "array([ 1., -2., -2.])"
      ]
     },
     "execution_count": 1,
     "metadata": {},
     "output_type": "execute_result"
    }
   ],
   "source": [
    "import numpy as np\n",
    "\n",
    "#(a)\n",
    "\n",
    "A = np.array([[1,3,3], [-3, -5, -3], [3,3,1]])\n",
    "\n",
    "#eigenvalues of A\n",
    "np.linalg.eigvals(A)"
   ]
  },
  {
   "cell_type": "markdown",
   "id": "394c5dc9",
   "metadata": {},
   "source": [
    "(b)\n",
    "\n",
    "$$\n",
    "E_{1}= Null(\\begin{bmatrix}\n",
    "    1-1 & 3 & 3\\\\\n",
    "    -3 & -5-1 &-3\\\\\n",
    "    3 & 3 & 1-1\n",
    "\\end{bmatrix})\n",
    "$$\n",
    "\n",
    "and \n",
    "\n",
    "$$\n",
    "E_{-2}= Null(\\begin{bmatrix}\n",
    "    1 +2 & 3 & 3\\\\\n",
    "    -3 & -5+2 &-3\\\\\n",
    "    3 & 3 & 1+2\n",
    "\\end{bmatrix})\n",
    "$$\n",
    "\n",
    "(c)\n",
    "A basis for $E_1: \\left\\{ \\ \\begin{bmatrix} 1\\\\-1\\\\1 \\end{bmatrix}\\ \\right\\}$. The dimension of $E_1$ is then $1$.\n",
    "    \n",
    " \n",
    " \n",
    "\n",
    "\n",
    "A basis for $E_{-2}: \\left\\{\\ \\begin{bmatrix} -1\\\\ 1 \\\\ 0 \\end{bmatrix}, \\begin{bmatrix} -1 \\\\ 0\\\\ 1 \\end{bmatrix}\\ \\right\\}$\n",
    "    \n",
    "The dimension of $E_{-2}$ is then $2$.\n",
    "\n",
    "\n",
    "The multiplicity of $\\lambda = 1$ is equal to the dimension of $E_{1}$.\n",
    "The multiplicity of $\\lambda = -2$ is equal to the dimension of $E_{-2}$.\n",
    "\n",
    "In general the multiplicity of an eigenvalue $\\lambda$ is not equal to the dimension of its eigenspace $E_{\\lambda}$. However, when it does we say the matrix is diagonalizable. We will learn more about this in the next section."
   ]
  },
  {
   "cell_type": "markdown",
   "id": "77139ce8",
   "metadata": {},
   "source": [
    "# 4.2 Diagonalization"
   ]
  },
  {
   "cell_type": "markdown",
   "id": "23607d9c",
   "metadata": {},
   "source": [
    "1. Suppose\n",
    "$\n",
    "M = \\begin{bmatrix} 2 & 4 & 3 \\\\ -4 & -6 & -3 \\\\ 3 & 3 & 1 \\end{bmatrix}.\n",
    "$\n",
    "\n",
    "    a. Is M diagonalizable? If yes find a diagonalization for it.\n",
    "    \n",
    "    b. Use this diagonalization to compute $M^100$\n",
    "\n",
    "\n",
    "\n",
    "__Solution:__\n",
    "\n",
    "(a)"
   ]
  },
  {
   "cell_type": "code",
   "execution_count": 13,
   "id": "cafdec8f",
   "metadata": {},
   "outputs": [
    {
     "name": "stdout",
     "output_type": "stream",
     "text": [
      "eigenvalues =  [-5. -2.  4.]\n"
     ]
    }
   ],
   "source": [
    "M = np.array([[2,4,3], [-4,-6,3], [3,3,1]])\n",
    "# find evalues and evectors\n",
    "evalues, evectors = np.linalg.eig(M)\n",
    "\n",
    "print(\"eigenvalues = \",  evalues)"
   ]
  },
  {
   "cell_type": "markdown",
   "id": "a34b8b04",
   "metadata": {},
   "source": [
    "Since we have three distinct eigenvalues, $M$ is diagonalizable. "
   ]
  },
  {
   "cell_type": "code",
   "execution_count": 14,
   "id": "7a5433a2",
   "metadata": {},
   "outputs": [
    {
     "data": {
      "text/plain": [
       "array([[ 2.,  4.,  3.],\n",
       "       [-4., -6.,  3.],\n",
       "       [ 3.,  3.,  1.]])"
      ]
     },
     "execution_count": 14,
     "metadata": {},
     "output_type": "execute_result"
    }
   ],
   "source": [
    "lambda_1 = evalues[0]\n",
    "lambda_2 = evalues[1]\n",
    "lambda_3 = evalues[2]\n",
    "\n",
    "# finding the diagonal matrix D\n",
    "D = np.array([[lambda_1, 0, 0], [0, lambda_2, 0], [0, 0, lambda_3]]) \n",
    "\n",
    "# finding the invirtible matrix P\n",
    "P = evectors\n",
    "\n",
    "# finding the inverse of matrix P\n",
    "\n",
    "Q = np.linalg.inv(P)\n",
    "\n",
    "#sanity check: A = PDQ\n",
    "\n",
    "P @ D @ Q"
   ]
  },
  {
   "cell_type": "markdown",
   "id": "5e662967",
   "metadata": {},
   "source": [
    "(b): Note that\n",
    "\n",
    "$$\n",
    "A^{100} = P D^{100} Q\n",
    "$$"
   ]
  },
  {
   "cell_type": "code",
   "execution_count": 15,
   "id": "a53ac03c",
   "metadata": {},
   "outputs": [
    {
     "name": "stdout",
     "output_type": "stream",
     "text": [
      "[[7.88860905e+69 0.00000000e+00 0.00000000e+00]\n",
      " [0.00000000e+00 1.26765060e+30 0.00000000e+00]\n",
      " [0.00000000e+00 0.00000000e+00 1.60693804e+60]]\n"
     ]
    },
    {
     "data": {
      "text/plain": [
       "array([[-4.38256058e+69, -4.38256058e+69,  4.38256059e+69],\n",
       "       [ 9.64163329e+69,  9.64163329e+69, -9.64163329e+69],\n",
       "       [-2.62953635e+69, -2.62953635e+69,  2.62953635e+69]])"
      ]
     },
     "execution_count": 15,
     "metadata": {},
     "output_type": "execute_result"
    }
   ],
   "source": [
    "# finding D^10\n",
    "\n",
    "## digonal entries to the power of 10 (rounded it up to the closest intiger)\n",
    "a1 = np.rint(pow(evalues[0], 100))\n",
    "a2 = np.rint(pow(evalues[1], 100))\n",
    "a3 = np.rint(pow(evalues[2], 100))\n",
    "\n",
    "# computing D to the power of 10\n",
    "D100 = np.array([[ a1, 0, 0], [0, a2, 0], [0, 0, a3]]) \n",
    "\n",
    "print(D100)\n",
    "\n",
    "A100 = P @ D100 @ Q\n",
    "\n",
    "A100"
   ]
  },
  {
   "cell_type": "markdown",
   "id": "5a97fe9f",
   "metadata": {},
   "source": [
    "2. Suppose $C=\\begin{bmatrix}\n",
    "3 & 0 & 1 & 0 & 0\\\\\n",
    "0 & 3 & 0 & 0 & 0\\\\\n",
    "0 & 0 & 3 & 0 & 0\\\\\n",
    "0 & 0 & 3 & 2 & 0\\\\\n",
    "0 & 0 & 0 & 0 & 2\n",
    "\\end{bmatrix}$. Is $C$ diagonalizable?\n",
    "\n",
    "\n",
    "\n",
    "__Solution:__\n",
    "\n",
    "\n",
    "No. The eigenvalues of $C$ are 3 with multiplicity 3 and 2 with multiplicity 2. We show C is not diagonalizable by looking for the dimension of $E_3 = Nul(C-3I).$"
   ]
  },
  {
   "cell_type": "code",
   "execution_count": 17,
   "id": "6c8968a8",
   "metadata": {},
   "outputs": [
    {
     "name": "stdout",
     "output_type": "stream",
     "text": [
      "eigenvalues =  [3. 3. 2. 3. 2.]\n"
     ]
    },
    {
     "data": {
      "text/plain": [
       "array([[ 0.,  0.,  1.,  0.,  0.],\n",
       "       [ 0.,  0.,  0.,  0.,  0.],\n",
       "       [ 0.,  0.,  0.,  0.,  0.],\n",
       "       [ 0.,  0.,  3., -1.,  0.],\n",
       "       [ 0.,  0.,  0.,  0., -1.]])"
      ]
     },
     "execution_count": 17,
     "metadata": {},
     "output_type": "execute_result"
    }
   ],
   "source": [
    "C = np.array([[3,0,1, 0, 0], [0,3,0,0,0], [0,0,3,0,0], [0,0,3,2,0], [0,0,0,0,2]])\n",
    "\n",
    "# find eigenvalues and eigenvectors\n",
    "evalues, evectors = np.linalg.eig(C)\n",
    "\n",
    "print('eigenvalues = ',evalues)\n",
    "\n",
    "#identity matrix\n",
    "I = np.eye(5)\n",
    "\n",
    "# constructing C-3I\n",
    "C - 3*I"
   ]
  },
  {
   "cell_type": "markdown",
   "id": "870bbc4c",
   "metadata": {},
   "source": [
    "From this we can see that the number of non-pivot columns in $E_3$ is 2 which is not equal to 3. Thus $C$ is not diagonalizable."
   ]
  },
  {
   "cell_type": "markdown",
   "id": "07f5d896",
   "metadata": {},
   "source": [
    "3. Let $A$ be a $5\\times 5$ matrix, with two eigenvalues. One eigenspace is three-dimensional, the other is two dimensional. Is $A$ diagonalizable?\n",
    "\n",
    "\n",
    "\n",
    "\n",
    "__Solution:__\n",
    "\n",
    "Yes, since we have $5$ linearly independent eigenvectors of $A.$\n",
    "\n"
   ]
  },
  {
   "cell_type": "markdown",
   "id": "6a1b991d",
   "metadata": {},
   "source": [
    "4. Compute $A^{200}$ where $A = \\begin{bmatrix} 4 & -3\\\\ 2 & -1 \\end{bmatrix}$. \n",
    "\n",
    "\n",
    "__Solution:__\n",
    "\n",
    "We can easily check that $A$ has two distinct eigenvalues and therefore diagonalizable. Let's find a diagonalization for it."
   ]
  },
  {
   "cell_type": "code",
   "execution_count": 20,
   "id": "3bdb48fe",
   "metadata": {},
   "outputs": [
    {
     "data": {
      "text/plain": [
       "array([[1., 2.],\n",
       "       [4., 3.]])"
      ]
     },
     "execution_count": 20,
     "metadata": {},
     "output_type": "execute_result"
    }
   ],
   "source": [
    "A = np.array([[1,2], [4,3]])\n",
    "\n",
    "# find evalues and evectors\n",
    "evalues, evectors = np.linalg.eig(A)\n",
    "\n",
    "lambda_1 = evalues[0]\n",
    "lambda_2 = evalues[1]\n",
    "\n",
    "# finding the diagonal matrix D\n",
    "D = np.array([[lambda_1, 0], [0, lambda_2]]) \n",
    "\n",
    "# finding the invirtible matrix P\n",
    "P = evectors\n",
    "\n",
    "# finding the inverse of matrix P\n",
    "\n",
    "Q = np.linalg.inv(P)\n",
    "\n",
    "#sanity check: A = PDQ\n",
    "\n",
    "P @ D @ Q"
   ]
  },
  {
   "cell_type": "code",
   "execution_count": 22,
   "id": "42bbc766",
   "metadata": {},
   "outputs": [
    {
     "data": {
      "text/plain": [
       "array([[2.07433843e+139, 2.07433843e+139],\n",
       "       [4.14867685e+139, 4.14867685e+139]])"
      ]
     },
     "execution_count": 22,
     "metadata": {},
     "output_type": "execute_result"
    }
   ],
   "source": [
    "# finding D^200\n",
    "\n",
    "a1 = np.rint(pow(evalues[0], 200))\n",
    "a2 = np.rint(pow(evalues[1], 200))\n",
    "\n",
    "# computing D to the power of 20\n",
    "D200 = np.array([[ a1, 0], [0, a2]]) \n",
    "\n",
    "# computing A to the power of 20\n",
    "\n",
    "A200 = P @ D200 @ Q\n",
    "\n",
    "A200"
   ]
  },
  {
   "cell_type": "markdown",
   "id": "d97b3d44",
   "metadata": {},
   "source": [
    "# 4.3 Discrete Dynamical Systems "
   ]
  },
  {
   "cell_type": "markdown",
   "id": "940d5771",
   "metadata": {},
   "source": [
    "1. Let $A$ be a $2\\times 2$ matrix with eigenvalues $5$ and $\\frac{1}{5}$ and corresponding eigenvectors $\\begin{bmatrix} 1 \\\\ 1 \\end{bmatrix}$ and $\\begin{bmatrix} -1 \\\\ 1 \\end{bmatrix}$. Let $\\vec{x}_k$ be a solution of $\\vec{x}_{k+1} = A \\vec{x}_{k}$, $\\vec{x}_0 = \\begin{bmatrix} 9 \\\\ 1 \\end{bmatrix}$ .\n",
    "\n",
    "a. Compute $\\vec{x}_1 = A\\vec{x}_0$\n",
    "\n",
    "b. Find a formula for $\\vec{x}_k$ involving $k$ and the eigenvectors of $A$.\n",
    "\n",
    "c. Describe what happens when $k\\to \\infty$. \n",
    "\n",
    "\n",
    "__Solution:__\n",
    "\n"
   ]
  },
  {
   "cell_type": "code",
   "execution_count": 23,
   "id": "3d42d51c",
   "metadata": {},
   "outputs": [
    {
     "data": {
      "text/plain": [
       "array([ 8, 10])"
      ]
     },
     "execution_count": 23,
     "metadata": {},
     "output_type": "execute_result"
    }
   ],
   "source": [
    "#(a)\n",
    "\n",
    "# intial vector\n",
    "x_0 = np.array([9,1])\n",
    "\n",
    "# matrix A\n",
    "A = np.array([[1,-1],[1,1]])\n",
    "\n",
    "#x_1\n",
    "x_1 = A @ x_0\n",
    "x_1"
   ]
  },
  {
   "cell_type": "markdown",
   "id": "549b6072",
   "metadata": {},
   "source": [
    "(b)\n",
    "\n",
    "Assume \n",
    "\n",
    "$$\n",
    "\\vec{x_0} = d_1 \\vec{v_1} + d_2 \\vec{v_2} \\quad \\text{for some } d_1, d_2 \\quad (*)\n",
    "$$\n",
    "\n",
    "Then \n",
    "\n",
    "$$\n",
    "\\vec{x_k} = d_1 (\\lambda_1)^{k} \\vec{v_1} + d_2 (\\lambda_2)^{k}\\vec{v_2}\n",
    "$$"
   ]
  },
  {
   "cell_type": "code",
   "execution_count": 24,
   "id": "b4a0a8b9",
   "metadata": {},
   "outputs": [
    {
     "name": "stdout",
     "output_type": "stream",
     "text": [
      "d1 =  5.0  and d2 =  -4.0\n"
     ]
    }
   ],
   "source": [
    "# a matrix whose columns are eigenvectors\n",
    "P = np.array([[1,-1], [1,1]])\n",
    "\n",
    "#solving (*) for coeeficients d1 and d2\n",
    "\n",
    "D = np.linalg.solve(P, x_0)\n",
    "\n",
    "print('d1 = ', D[0], ' and d2 = ',D[1] )"
   ]
  },
  {
   "cell_type": "markdown",
   "id": "53545024",
   "metadata": {},
   "source": [
    "Therefore, we have \n",
    "\n",
    "$$\n",
    "\\vec{x_k} = 5 (5)^{k} \\begin{bmatrix} 1 \\\\ 1 \\end{bmatrix} -4 (\\frac{1}{5})^{k}\\vec{v_2} \\begin{bmatrix} -1 \\\\ 1 \\end{bmatrix}\n",
    "$$\n",
    "\n",
    "\n",
    "(C) \n",
    "\n",
    "$$\n",
    "x_{k+1} \\approx 5 (5)^{k+1}\\begin{bmatrix} 1 \\\\ 1 \\end{bmatrix}\n",
    "$$"
   ]
  },
  {
   "cell_type": "code",
   "execution_count": null,
   "id": "eff2954a",
   "metadata": {},
   "outputs": [],
   "source": []
  }
 ],
 "metadata": {
  "kernelspec": {
   "display_name": "Python 3",
   "language": "python",
   "name": "python3"
  },
  "language_info": {
   "codemirror_mode": {
    "name": "ipython",
    "version": 3
   },
   "file_extension": ".py",
   "mimetype": "text/x-python",
   "name": "python",
   "nbconvert_exporter": "python",
   "pygments_lexer": "ipython3",
   "version": "3.8.5"
  }
 },
 "nbformat": 4,
 "nbformat_minor": 5
}
